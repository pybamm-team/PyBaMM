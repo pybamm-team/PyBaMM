{
 "cells": [
  {
   "cell_type": "code",
   "execution_count": 1,
   "metadata": {},
   "outputs": [],
   "source": [
    "import pybamm\n",
    "import matplotlib.pyplot as plt\n",
    "\n",
    "model=pybamm.lithium_ion.MSMR({\"number of MSMR reactions\": (\"6\",\"4\")})\n"
   ]
  },
  {
   "cell_type": "code",
   "execution_count": 2,
   "metadata": {},
   "outputs": [
    {
     "name": "stdout",
     "output_type": "stream",
     "text": [
      "negative electrode:\n",
      "X_n_0 = 0.43336, U0_n_0 = 0.08843, w_n_0 = 0.08611, a_n_0 = 0.5 j0_ref_n_0 = 2.7\n",
      "X_n_1 = 0.23963, U0_n_1 = 0.12799, w_n_1 = 0.08009, a_n_1 = 0.5 j0_ref_n_1 = 2.7\n",
      "X_n_2 = 0.15018, U0_n_2 = 0.14331, w_n_2 = 0.72469, a_n_2 = 0.5 j0_ref_n_2 = 2.7\n",
      "X_n_3 = 0.05462, U0_n_3 = 0.16984, w_n_3 = 2.53277, a_n_3 = 0.5 j0_ref_n_3 = 2.7\n",
      "X_n_4 = 0.06744, U0_n_4 = 0.21446, w_n_4 = 0.0947, a_n_4 = 0.5 j0_ref_n_4 = 2.7\n",
      "X_n_5 = 0.05476, U0_n_5 = 0.36325, w_n_5 = 5.97354, a_n_5 = 0.5 j0_ref_n_5 = 2.7\n",
      "positive electrode:\n",
      "X_p_0 = 0.13442, U0_p_0 = 3.62274, w_p_0 = 0.9671, a_p_0 = 0.5 j0_ref_p_0 = 5\n",
      "X_p_1 = 0.3246, U0_p_1 = 3.72645, w_p_1 = 1.39712, a_p_1 = 0.5 j0_ref_p_1 = 5\n",
      "X_p_2 = 0.21118, U0_p_2 = 3.90575, w_p_2 = 3.505, a_p_2 = 0.5 j0_ref_p_2 = 5\n",
      "X_p_3 = 0.3298, U0_p_3 = 4.22955, w_p_3 = 5.52757, a_p_3 = 1 j0_ref_p_3 = 1000000.0\n"
     ]
    }
   ],
   "source": [
    "parameter_values = model.default_parameter_values\n",
    "\n",
    "# Loop over domains\n",
    "for domain in [\"negative\", \"positive\"]:\n",
    "    print(f\"{domain} electrode:\")\n",
    "    d = domain[0]\n",
    "    # Loop over reactions\n",
    "    N = int(parameter_values[\"Number of reactions in \" + domain + \" electrode\"])\n",
    "    for i in range(N):\n",
    "        print(\n",
    "            f\"X_{d}_{i} = {parameter_values[f'X_{d}_{i}']}, \"\n",
    "            f\"U0_{d}_{i} = {parameter_values[f'U0_{d}_{i}']}, \"\n",
    "            f\"w_{d}_{i} = {parameter_values[f'w_{d}_{i}']}, \"\n",
    "            f\"a_{d}_{i} = {parameter_values[f'a_{d}_{i}']} \"\n",
    "            f\"j0_ref_{d}_{i} = {parameter_values[f'j0_ref_{d}_{i}']}\"\n",
    "        )"
   ]
  }
 ],
 "metadata": {
  "kernelspec": {
   "display_name": "pumpkin",
   "language": "python",
   "name": "python3"
  },
  "language_info": {
   "codemirror_mode": {
    "name": "ipython",
    "version": 3
   },
   "file_extension": ".py",
   "mimetype": "text/x-python",
   "name": "python",
   "nbconvert_exporter": "python",
   "pygments_lexer": "ipython3",
   "version": "3.11.9"
  }
 },
 "nbformat": 4,
 "nbformat_minor": 2
}
