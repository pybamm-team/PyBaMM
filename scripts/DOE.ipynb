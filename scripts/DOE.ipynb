{
 "cells": [
  {
   "cell_type": "code",
   "execution_count": 41,
   "metadata": {},
   "outputs": [],
   "source": [
    "import pyDOE\n",
    "from pyDOE import *\n",
    "import pandas as pd\n",
    "\n",
    "Design=lhs(2,samples=50,criterion='center')\n"
   ]
  },
  {
   "cell_type": "code",
   "execution_count": 18,
   "metadata": {},
   "outputs": [
    {
     "data": {
      "text/plain": [
       "0.805"
      ]
     },
     "execution_count": 18,
     "metadata": {},
     "output_type": "execute_result"
    }
   ],
   "source": [
    "import numpy as np\n",
    "\n",
    "np.shape(Design)\n",
    "\n",
    "Design[49,0]"
   ]
  },
  {
   "cell_type": "code",
   "execution_count": 19,
   "metadata": {},
   "outputs": [
    {
     "name": "stdout",
     "output_type": "stream",
     "text": [
      "0\n",
      "1\n"
     ]
    }
   ],
   "source": [
    "for j in range(2):\n",
    "    print(j)"
   ]
  },
  {
   "cell_type": "code",
   "execution_count": 42,
   "metadata": {},
   "outputs": [],
   "source": [
    "max_discharge_C_rate=3\n",
    "max_charge_C_rate=1.5\n",
    "\n",
    "charge_current=[]\n",
    "discharge_current=[]\n",
    "\n",
    "\n",
    "for i in range(50):\n",
    "    cc= max_charge_C_rate*Design[i,0]\n",
    "    dc=max_discharge_C_rate*Design[i,1]\n",
    "    charge_current.append(cc)\n",
    "    discharge_current.append(dc)\n",
    "        \n",
    "\n",
    "        \n"
   ]
  },
  {
   "cell_type": "code",
   "execution_count": 32,
   "metadata": {},
   "outputs": [],
   "source": [
    "temperature1=0*np.ones(50)\n",
    "temperature2=10*np.ones(50)\n",
    "temperature3=25*np.ones(50)\n",
    "temperature4=45*np.ones(50)\n",
    "starting_SOC1=95*np.ones(50)\n",
    "ending_SOC1=10*np.ones(50)\n",
    "starting_SOC2=60*np.ones(50)\n",
    "ending_SOC2=35*np.ones(50)\n",
    "starting_SOC3=35*np.ones(50)\n",
    "ending_SOC3=10*np.ones(50)\n",
    "starting_SOC4=95*np.ones(50)\n",
    "ending_SOC4=65*np.ones(50)"
   ]
  },
  {
   "cell_type": "code",
   "execution_count": 43,
   "metadata": {},
   "outputs": [
    {
     "data": {
      "text/plain": [
       "(50,)"
      ]
     },
     "execution_count": 43,
     "metadata": {},
     "output_type": "execute_result"
    }
   ],
   "source": [
    "np.shape(discharge_current)"
   ]
  },
  {
   "cell_type": "code",
   "execution_count": 37,
   "metadata": {},
   "outputs": [],
   "source": [
    "def create_dataframe(charge_current, discharge_current, temperature, starting_SOC, ending_SOC):\n",
    "    df = pd.DataFrame({'Charge Current': charge_current,\n",
    "                       'Discharge Current': discharge_current,\n",
    "                       'Temperature': temperature,\n",
    "                       'Starting SOC': starting_SOC,\n",
    "                       'Ending SOC': ending_SOC})\n",
    "    return df"
   ]
  },
  {
   "cell_type": "code",
   "execution_count": 44,
   "metadata": {},
   "outputs": [],
   "source": [
    "# Create dataframes for each combination of temperature and SOC\n",
    "df1 = create_dataframe(charge_current, discharge_current, temperature1, starting_SOC1, ending_SOC1)\n",
    "df2 = create_dataframe(charge_current, discharge_current, temperature2, starting_SOC1, ending_SOC1)\n",
    "df3 = create_dataframe(charge_current, discharge_current, temperature3, starting_SOC1, ending_SOC1)\n",
    "df4 = create_dataframe(charge_current, discharge_current, temperature4, starting_SOC1, ending_SOC1)\n",
    "df5 = create_dataframe(charge_current, discharge_current, temperature1, starting_SOC2, ending_SOC2)\n",
    "df6 = create_dataframe(charge_current, discharge_current, temperature2, starting_SOC2, ending_SOC2)\n",
    "df7 = create_dataframe(charge_current, discharge_current, temperature3, starting_SOC2, ending_SOC2)\n",
    "df8 = create_dataframe(charge_current, discharge_current, temperature4, starting_SOC2, ending_SOC2)\n",
    "df9 = create_dataframe(charge_current, discharge_current, temperature1, starting_SOC3, ending_SOC3)\n",
    "df10 = create_dataframe(charge_current, discharge_current, temperature2, starting_SOC3, ending_SOC3)\n",
    "df11 = create_dataframe(charge_current, discharge_current, temperature3, starting_SOC3, ending_SOC3)\n",
    "df12 = create_dataframe(charge_current, discharge_current, temperature4, starting_SOC3, ending_SOC3)\n",
    "df13 = create_dataframe(charge_current, discharge_current, temperature1, starting_SOC4, ending_SOC4)\n",
    "df14 = create_dataframe(charge_current, discharge_current, temperature2, starting_SOC4, ending_SOC4)\n",
    "df15 = create_dataframe(charge_current, discharge_current, temperature3, starting_SOC4, ending_SOC4)\n",
    "df16 = create_dataframe(charge_current, discharge_current, temperature4, starting_SOC4, ending_SOC4)\n",
    "\n",
    "# Concatenate all dataframes into one\n",
    "complete_dataset = pd.concat([df1, df2, df3, df4, df5, df6, df7, df8, df9, df10, df11, df12, df13, df14, df15, df16], ignore_index=True)\n"
   ]
  },
  {
   "cell_type": "code",
   "execution_count": 45,
   "metadata": {},
   "outputs": [],
   "source": [
    "complete_dataset.to_csv('DOE.csv',index=False)"
   ]
  },
  {
   "cell_type": "code",
   "execution_count": 20,
   "metadata": {},
   "outputs": [
    {
     "name": "stdout",
     "output_type": "stream",
     "text": [
      "[[1. 2. 3. 1.]]\n"
     ]
    }
   ],
   "source": []
  },
  {
   "cell_type": "code",
   "execution_count": 18,
   "metadata": {},
   "outputs": [
    {
     "data": {
      "text/plain": [
       "array([[1., 1., 1., 1.],\n",
       "       [2., 2., 2., 2.],\n",
       "       [3., 3., 3., 3.],\n",
       "       [1., 1., 1., 1.]])"
      ]
     },
     "execution_count": 18,
     "metadata": {},
     "output_type": "execute_result"
    }
   ],
   "source": []
  },
  {
   "cell_type": "code",
   "execution_count": null,
   "metadata": {},
   "outputs": [],
   "source": []
  }
 ],
 "metadata": {
  "kernelspec": {
   "display_name": "pumpkin",
   "language": "python",
   "name": "python3"
  },
  "language_info": {
   "codemirror_mode": {
    "name": "ipython",
    "version": 3
   },
   "file_extension": ".py",
   "mimetype": "text/x-python",
   "name": "python",
   "nbconvert_exporter": "python",
   "pygments_lexer": "ipython3",
   "version": "3.11.9"
  }
 },
 "nbformat": 4,
 "nbformat_minor": 2
}
