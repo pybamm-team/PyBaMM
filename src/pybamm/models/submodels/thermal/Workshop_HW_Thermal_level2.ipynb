{
 "cells": [
  {
   "cell_type": "code",
   "execution_count": 1,
   "metadata": {},
   "outputs": [],
   "source": [
    "import pybamm"
   ]
  },
  {
   "cell_type": "code",
   "execution_count": 2,
   "metadata": {},
   "outputs": [
    {
     "name": "stdout",
     "output_type": "stream",
     "text": [
      "<pybamm.models.submodels.thermal.isothermal.Isothermal object at 0x000001CA4863E610>\n"
     ]
    }
   ],
   "source": [
    "model = pybamm.lithium_ion.SPM(build=False)\n",
    "print(model.submodels[\"thermal\"])"
   ]
  },
  {
   "cell_type": "code",
   "execution_count": 3,
   "metadata": {},
   "outputs": [],
   "source": [
    "class MyThermalModel (pybamm.models.submodels.thermal.BaseThermal):\n",
    "    def __init__(self, param, options=None, x_average=False):\n",
    "        super().__init__(param, options=options, x_average=x_average)\n",
    "\n",
    "    def get_fundamental_variables(self):\n",
    "        T_cylinder = pybamm.Variable(\"Cylinder temperature\", domain = \"full cell\")\n",
    "        T = pybamm.boundary_value(T_cylinder,'left')\n",
    "        T_x_av = pybamm.PrimaryBroadcast(T, [\"current collector\"])\n",
    "        T_dict = {\n",
    "            \"negative current collector\": T_x_av,\n",
    "            \"positive current collector\": T_x_av,\n",
    "            \"x-averaged cell\": T_x_av,\n",
    "            \"volume-averaged cell\": T,\n",
    "        }\n",
    "        for domain in [\"negative electrode\", \"separator\", \"positive electrode\"]:\n",
    "            T_dict[domain] = pybamm.PrimaryBroadcast(T_x_av, domain)\n",
    "\n",
    "        variables = self._get_standard_fundamental_variables(T_dict)\n",
    "        #variables = []\n",
    "\n",
    "        # define parameters\n",
    "        R = pybamm.Parameter(\"Cell radius [m]\")\n",
    "        k = pybamm.Parameter(\"Heat conductivity [W/m2-K]\")\n",
    "        h = pybamm.Parameter(\"Convection heat transfer coefficient [W/m2-K]\")\n",
    "        T0 = pybamm.Parameter(\"Initial temperature [K]\")\n",
    "        Height = pybamm.Parameter(\"Cell height [m]\")\n",
    "        Tamb = pybamm.Parameter(\"Ambient temperature [K]\")\n",
    "        m = pybamm.Parameter(\"mass [kg]\")\n",
    "        Cp = pybamm.Parameter(\"Heat Capacity of the cell [J.K-1]\")\n",
    "        \n",
    "        \n",
    "        # update variables\n",
    "        variables[R.name] = R\n",
    "        variables [k.name] = k\n",
    "        variables[h.name] = h\n",
    "        variables[Cp.name] = Cp\n",
    "        variables[T0.name] = T0\n",
    "        variables[Height.name] = Height\n",
    "        variables[Tamb.name] = Tamb\n",
    "        variables[m.name] = m\n",
    "        variables[T_cylinder.name] = T_cylinder\n",
    "            \n",
    "        return variables\n",
    "\n",
    "            \n",
    "    def get_coupled_variables(self,variables):\n",
    "        variables.update(self._get_standard_coupled_variables(variables))\n",
    "\n",
    "        #std_vars = self._get_standard_coupled_variables(variables)\n",
    "        # Remove conflicting keys if they exist\n",
    "        #for key in [\"Throughput capacity [A.h]\"]:\n",
    "            #if key in std_vars:\n",
    "                #del std_vars[key]\n",
    "        #variables.update(std_vars)\n",
    "\n",
    "        T = variables[\"Cylinder temperature\"]\n",
    "        #T=variables[\"Volume-averaged cell temperature [K]\"]\n",
    "        R = variables[\"Cell radius [m]\"]\n",
    "        k = variables[\"Heat conductivity [W/m2-K]\"]\n",
    "        h = variables[\"Convection heat transfer coefficient [W/m2-K]\"]\n",
    "        Height = variables[\"Cell height [m]\"]\n",
    "        Tamb = variables[\"Ambient temperature [K]\"]\n",
    "        m = variables[\"mass [kg]\"]\n",
    "\n",
    "        # derived parameters\n",
    "        T_s = pybamm.surf(T)\n",
    "        A = 2 * 3.14 * R * Height\n",
    "        V = 3.14 * (R**2) * Height\n",
    "        ro = m/V \n",
    "        Q_cool=h*(T-Tamb)\n",
    "\n",
    "        variables.update({\n",
    "            \"Cooling [W]\": Q_cool,\n",
    "            \"Area [m^2]\": A,\n",
    "            \"Volume [m^3]\": V,\n",
    "            \"density [kg/m^3]\": ro\n",
    "        })\n",
    "\n",
    "        return variables\n",
    "\n",
    "    def set_rhs(self,variables):\n",
    "\n",
    "        T = variables[\"Cylinder temperature\"]\n",
    "        Cp = variables[\"Heat Capacity of the cell [J.K-1]\"]\n",
    "        ro = variables[\"density [kg/m^3]\"]\n",
    "        k = variables[\"Heat conductivity [W/m2-K]\"]\n",
    "        V = variables[\"Volume [m^3]\"]\n",
    "        Q_heat=variables[\"Total heating [W]\"]\n",
    "\n",
    "        dTdt = (1/(ro * Cp))*pybamm.div(k*pybamm.grad(T)) + Q_heat / (V * ro * Cp)\n",
    "        self.rhs = {T: dTdt}\n",
    "\n",
    "    def set_initial_conditions(self,variables):\n",
    "        T0 = variables[\"Initial temperature [K]\"]\n",
    "        T=variables[\"Cylinder temperature\"]\n",
    "        self.initial_conditions={T: T0}  \n",
    "\n",
    "    def  set_boundary_conditions(self,variables):\n",
    "        T=variables[\"Cylinder temperature\"]\n",
    "        Q_cool=variables[\"Cooling [W]\"]\n",
    "        k = variables[\"Heat conductivity [W/m2-K]\"]\n",
    "        \n",
    "        # boundary conditions\n",
    "        lbc = pybamm.Scalar(0)\n",
    "        rbc = - Q_cool / k\n",
    "        self.boundary_conditions = {T: {\"left\": (lbc, \"Neumann\"), \"right\": (rbc, \"Neumann\")}}\n",
    "\n",
    "    def output_variables(self,variables):   \n",
    "        T=variables[\"Cylinder temperature\"]\n",
    "        T_s = pybamm.surf(T)\n",
    "        Q_heat=variables[\"Total heating [W]\"]\n",
    "        \n",
    "        # define output variables\n",
    "        self.variables = {\n",
    "            \"Time [s]\": pybamm.t,\n",
    "            \"Heat generation [W]\": Q_heat,\n",
    "            \"Surface temperature [K]\": T_s,\n",
    "            \"Cell Temperature [K]\":T,\n",
    "        }  "
   ]
  },
  {
   "cell_type": "code",
   "execution_count": 4,
   "metadata": {},
   "outputs": [
    {
     "ename": "ModelError",
     "evalue": "Cannot process parameters for empty model",
     "output_type": "error",
     "traceback": [
      "\u001b[1;31m---------------------------------------------------------------------------\u001b[0m",
      "\u001b[1;31mModelError\u001b[0m                                Traceback (most recent call last)",
      "Cell \u001b[1;32mIn[4], line 45\u001b[0m\n\u001b[0;32m     42\u001b[0m spatial_methods \u001b[38;5;241m=\u001b[39m {\u001b[38;5;124m\"\u001b[39m\u001b[38;5;124mfull cell\u001b[39m\u001b[38;5;124m\"\u001b[39m: pybamm\u001b[38;5;241m.\u001b[39mFiniteVolume()}\n\u001b[0;32m     43\u001b[0m disc \u001b[38;5;241m=\u001b[39m pybamm\u001b[38;5;241m.\u001b[39mDiscretisation(mesh, spatial_methods)\n\u001b[1;32m---> 45\u001b[0m \u001b[43mparam\u001b[49m\u001b[38;5;241;43m.\u001b[39;49m\u001b[43mprocess_model\u001b[49m\u001b[43m(\u001b[49m\u001b[43msubmodel\u001b[49m\u001b[43m)\u001b[49m\n\u001b[0;32m     46\u001b[0m disc\u001b[38;5;241m.\u001b[39mprocess_model(submodel)\n",
      "File \u001b[1;32mC:\\UM\\Project\\PyBaMM\\src\\pybamm\\parameters\\parameter_values.py:479\u001b[0m, in \u001b[0;36mParameterValues.process_model\u001b[1;34m(self, unprocessed_model, inplace)\u001b[0m\n\u001b[0;32m    472\u001b[0m     model \u001b[38;5;241m=\u001b[39m unprocessed_model\u001b[38;5;241m.\u001b[39mnew_copy()\n\u001b[0;32m    474\u001b[0m \u001b[38;5;28;01mif\u001b[39;00m (\n\u001b[0;32m    475\u001b[0m     \u001b[38;5;28mlen\u001b[39m(unprocessed_model\u001b[38;5;241m.\u001b[39mrhs) \u001b[38;5;241m==\u001b[39m \u001b[38;5;241m0\u001b[39m\n\u001b[0;32m    476\u001b[0m     \u001b[38;5;129;01mand\u001b[39;00m \u001b[38;5;28mlen\u001b[39m(unprocessed_model\u001b[38;5;241m.\u001b[39malgebraic) \u001b[38;5;241m==\u001b[39m \u001b[38;5;241m0\u001b[39m\n\u001b[0;32m    477\u001b[0m     \u001b[38;5;129;01mand\u001b[39;00m \u001b[38;5;28mlen\u001b[39m(unprocessed_model\u001b[38;5;241m.\u001b[39mvariables) \u001b[38;5;241m==\u001b[39m \u001b[38;5;241m0\u001b[39m\n\u001b[0;32m    478\u001b[0m ):\n\u001b[1;32m--> 479\u001b[0m     \u001b[38;5;28;01mraise\u001b[39;00m pybamm\u001b[38;5;241m.\u001b[39mModelError(\u001b[38;5;124m\"\u001b[39m\u001b[38;5;124mCannot process parameters for empty model\u001b[39m\u001b[38;5;124m\"\u001b[39m)\n\u001b[0;32m    481\u001b[0m new_rhs \u001b[38;5;241m=\u001b[39m {}\n\u001b[0;32m    482\u001b[0m \u001b[38;5;28;01mfor\u001b[39;00m variable, equation \u001b[38;5;129;01min\u001b[39;00m unprocessed_model\u001b[38;5;241m.\u001b[39mrhs\u001b[38;5;241m.\u001b[39mitems():\n",
      "\u001b[1;31mModelError\u001b[0m: Cannot process parameters for empty model"
     ]
    }
   ],
   "source": [
    "param1=model.default_parameter_values\n",
    "\n",
    "param2 = pybamm.ParameterValues({\"Heat conductivity [W/m2-K]\": 0.2,\n",
    "\"Convection heat transfer coefficient [W/m2-K]\": 40, \n",
    "\"Initial temperature [K]\": 300, \"Cell height [m]\": 0.07, \n",
    "\"Cell radius [m]\": 0.01, \"Ambient temperature [K]\": 300, \n",
    "\"Heat Capacity of the cell\": 1200, \"mass [kg]\":0.07})\n",
    "\n",
    "submodel=MyThermalModel(model.param)\n",
    "model.submodels[\"thermal\"] = MyThermalModel(model.param)\n",
    "model.build_model()\n",
    "\n",
    "\n",
    "geometry1 = model.default_geometry\n",
    "submesh_types1 = model.default_submesh_types\n",
    "var_pts1 = model.default_var_pts\n",
    "\n",
    "R = pybamm.Parameter(\"Cell radius [m]\")\n",
    "# define geometry\n",
    "r_cell = pybamm.SpatialVariable(\n",
    "    \"r_cell\", domain=[\"full cell\"], coord_sys=\"cylindrical\"\n",
    ")\n",
    "geometry2 = {\n",
    "    \"full cell\": {r_cell: {\"min\": pybamm.Scalar(0), \"max\": R}}\n",
    "}\n",
    "\n",
    "geometry = {**geometry1, **geometry2}\n",
    "# mesh and discretise\n",
    "submesh_types2 = {\"full cell\": pybamm.Uniform1DSubMesh}\n",
    "submesh_types = {**submesh_types1, **submesh_types2}\n",
    "var_pts2 = {r_cell: 50}\n",
    "\n",
    "var_pts = {**var_pts1,**var_pts2}\n",
    "\n",
    "param1.update(param2,check_already_exists = False)\n",
    "param = param1\n",
    "\n",
    "\n",
    "param.process_geometry(geometry)\n",
    "\n",
    "mesh=pybamm.Mesh(geometry, submesh_types, var_pts)\n",
    "spatial_methods = {\"full cell\": pybamm.FiniteVolume()}\n",
    "disc = pybamm.Discretisation(mesh, spatial_methods)\n",
    "\n",
    "param.process_model(submodel)\n",
    "disc.process_model(submodel)"
   ]
  },
  {
   "cell_type": "code",
   "execution_count": null,
   "metadata": {},
   "outputs": [],
   "source": [
    "solver=pybamm.ScipySolver()\n",
    "t_eval=np.linspace(0, 7200, 100)\n",
    "solution= solver.solve(model, t_eval)"
   ]
  },
  {
   "cell_type": "code",
   "execution_count": null,
   "metadata": {},
   "outputs": [],
   "source": [
    "solution.plot([\"Surface temperature [K]\", \"Heat generation [W]\", \"Cell Temperature [K]\"])"
   ]
  },
  {
   "cell_type": "code",
   "execution_count": null,
   "metadata": {},
   "outputs": [
    {
     "data": {
      "text/plain": [
       "'25.1.1'"
      ]
     },
     "execution_count": 7,
     "metadata": {},
     "output_type": "execute_result"
    }
   ],
   "source": [
    "pybamm.__version__"
   ]
  }
 ],
 "metadata": {
  "kernelspec": {
   "display_name": "Pybamm",
   "language": "python",
   "name": "python3"
  },
  "language_info": {
   "codemirror_mode": {
    "name": "ipython",
    "version": 3
   },
   "file_extension": ".py",
   "mimetype": "text/x-python",
   "name": "python",
   "nbconvert_exporter": "python",
   "pygments_lexer": "ipython3",
   "version": "3.9.21"
  }
 },
 "nbformat": 4,
 "nbformat_minor": 2
}
