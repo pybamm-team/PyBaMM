{
 "cells": [
  {
   "cell_type": "code",
   "execution_count": null,
   "metadata": {},
   "outputs": [],
   "source": [
    "from pybamm import log"
   ]
  },
  {
   "cell_type": "code",
   "execution_count": null,
   "metadata": {},
   "outputs": [],
   "source": [
    "def fitted_OCP(sto):\n",
    "    _eps = 1e-7\n",
    "    # params\n",
    "    G0 = -11585.509766  # G0 is the pure substance gibbs free energy\n",
    "    Omega0 = 308.636963\n",
    "    Omega1 = -4289.105469\n",
    "    Omega2 = -1111.883301\n",
    "    Omega3 = 311.136017\n",
    "    Omega4 = -676.903748\n",
    "    Omega5 = 417.801514\n",
    "    Omega6 = -0.125706\n",
    "    Omega7 = -325.484680\n",
    "    Omega8 = -850.650757\n",
    "    Omegas = [Omega0, Omega1, Omega2, Omega3, Omega4, Omega5, Omega6, Omega7, Omega8]\n",
    "    # phase boundary 0\n",
    "    x_alpha_0 = 0.2741227746009827\n",
    "    x_beta_0 = 0.4215588569641113\n",
    "    mu_coex_0 = -11590.1123046875000000\n",
    "    is_outside_miscibility_gap_0 = (sto < x_alpha_0) + (sto > x_beta_0)\n",
    "    # phase boundary 1\n",
    "    x_alpha_1 = 0.5523682236671448\n",
    "    x_beta_1 = 0.8850542902946472\n",
    "    mu_coex_1 = -8505.2587890625000000\n",
    "    is_outside_miscibility_gap_1 = (sto < x_alpha_1) + (sto > x_beta_1)\n",
    "    # whether is outside all gap\n",
    "    is_outside_miscibility_gaps = (\n",
    "        is_outside_miscibility_gap_0 * is_outside_miscibility_gap_1\n",
    "    )\n",
    "    mu_outside = G0 + 8.314 * 320.0000 * log((sto + _eps) / (1 - sto + _eps))\n",
    "    t = 1 - 2 * sto  # Transform x to (1 - 2x) for legendre expansion\n",
    "    Pn_values = legendre_poly_recurrence(t, len(Omegas) - 1)\n",
    "    Pn_derivatives_values = legendre_derivative_poly_recurrence(\n",
    "        t, len(Omegas) - 1\n",
    "    )  # Compute Legendre polynomials up to degree len(coeffs) - 1\n",
    "    for i in range(0, len(Omegas)):\n",
    "        mu_outside = (\n",
    "            mu_outside\n",
    "            - 2 * sto * (1 - sto) * (Omegas[i] * Pn_derivatives_values[i])\n",
    "            + (1 - 2 * sto) * (Omegas[i] * Pn_values[i])\n",
    "        )\n",
    "    mu_e = is_outside_miscibility_gaps * mu_outside + (\n",
    "        1 - is_outside_miscibility_gaps\n",
    "    ) * (\n",
    "        (1 - is_outside_miscibility_gap_0) * mu_coex_0\n",
    "        + (1 - is_outside_miscibility_gap_1) * mu_coex_1\n",
    "    )\n",
    "    return -mu_e / 96485.0"
   ]
  },
  {
   "cell_type": "code",
   "execution_count": null,
   "metadata": {},
   "outputs": [],
   "source": [
    "def legendre_poly_recurrence(x, n):\n",
    "    \"\"\"\n",
    "    Compute the Legendre polynomials up to degree n\n",
    "    using the Bonnet's recursion formula (i+1)P_(i+1)(x) = (2i+1)xP_i(x) - iP_(i-1)(x)\n",
    "    and return all n functions in a list\n",
    "    \"\"\"\n",
    "    # P = [torch.ones_like(x), x]  # P_0(x) = 1, P_1(x) = x\n",
    "    P = [1.0, x]  # P_0(x) = 1, P_1(x) = x\n",
    "    for i in range(1, n):\n",
    "        P_i_plus_one = ((2 * i + 1) * x * P[i] - i * P[i - 1]) / (i + 1)\n",
    "        P.append(P_i_plus_one)\n",
    "    return P"
   ]
  },
  {
   "cell_type": "code",
   "execution_count": null,
   "metadata": {},
   "outputs": [],
   "source": [
    "def legendre_derivative_poly_recurrence(x, n):\n",
    "    \"\"\"\n",
    "    Compute the Legendre polynomials derivatives up to degree n\n",
    "    using (x^2-1)/n P'n(x) = xP_n(x) - P_(n-1)(x),\n",
    "    and return all n functions in a list\n",
    "    \"\"\"\n",
    "    Pn_values = legendre_poly_recurrence(x, n)\n",
    "    Pn_derivatives = [0.0]\n",
    "    for i in range(1, n + 1):\n",
    "        Pn_derivative_next = (x * Pn_values[i] - Pn_values[i - 1]) / ((x**2 - 1) / i)\n",
    "        Pn_derivatives.append(Pn_derivative_next)\n",
    "    return Pn_derivatives"
   ]
  }
 ],
 "metadata": {
  "language_info": {
   "name": "python"
  }
 },
 "nbformat": 4,
 "nbformat_minor": 2
}
