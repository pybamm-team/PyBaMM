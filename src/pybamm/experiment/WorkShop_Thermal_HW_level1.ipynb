{
 "cells": [
  {
   "cell_type": "code",
   "execution_count": 1,
   "metadata": {},
   "outputs": [],
   "source": [
    "# import library\n",
    "import pybamm\n",
    "import numpy as np"
   ]
  },
  {
   "cell_type": "code",
   "execution_count": 4,
   "metadata": {},
   "outputs": [],
   "source": [
    "# define class\n",
    "class MyThermal(pybamm.BaseModel):\n",
    "    def __init__(self):\n",
    "        super().__init__()\n",
    "\n",
    "        # define variable (i.e. concentration in two electrodes)\n",
    "        T = pybamm.Variable(\"Cell temperature\", domain=\"full cell\")\n",
    "\n",
    "        # define parameters\n",
    "        Heat_gen = pybamm.Parameter(\"Heat generation [W]\")\n",
    "        R = pybamm.Parameter(\"Cell radius [m]\")\n",
    "        k = pybamm.Parameter(\"Heat conductivity [W/m2-K]\")\n",
    "        h = pybamm.Parameter(\"Convection heat transfer coefficient [W/m2-K]\")\n",
    "        T0 = pybamm.Parameter(\"Intial temperature [K]\")\n",
    "        Height = pybamm.Parameter(\"Cell height [m]\")\n",
    "        A = (\n",
    "            2\n",
    "            * 3.14\n",
    "            * pybamm.Parameter(\"Cell radius [m]\")\n",
    "            * pybamm.Parameter(\"Cell height [m]\")\n",
    "        )\n",
    "        V = (\n",
    "            3.14\n",
    "            * (pybamm.Parameter(\"Cell radius [m]\") ** 2)\n",
    "            * pybamm.Parameter(\"Cell height [m]\")\n",
    "        )\n",
    "        Tamb = pybamm.Parameter(\"Ambient temperature [K]\")\n",
    "        m = pybamm.Parameter(\"mass [kg]\")\n",
    "        ro = (\n",
    "            m / V\n",
    "        )  # pybamm.Parameter(\"mass [kg]\")/ (3.14 * (pybamm.Parameter(\"Cell radius [m]\")**2) * pybamm.Parameter(\"Cell height [m]\"))\n",
    "        Cp = pybamm.Parameter(\"Heat Capacity of the cell\")\n",
    "\n",
    "        # governing equations\n",
    "        dTdt = (1 / (ro * Cp)) * pybamm.div(k * pybamm.grad(T)) + Heat_gen / (\n",
    "            V * ro * Cp\n",
    "        )\n",
    "        self.rhs = {T: dTdt}\n",
    "\n",
    "        # define intermediate variables and OCP function parameters\n",
    "        T_s = pybamm.surf(T)\n",
    "\n",
    "        # boundary conditions\n",
    "        lbc = pybamm.Scalar(0)\n",
    "        rbc = -h * (T_s - Tamb) / k\n",
    "        self.boundary_conditions = {\n",
    "            T: {\"left\": (lbc, \"Neumann\"), \"right\": (rbc, \"Neumann\")}\n",
    "        }\n",
    "\n",
    "        # initial condtions\n",
    "        self.initial_conditions = {T: T0}\n",
    "\n",
    "        T_s = pybamm.surf(T)\n",
    "        # define output variables\n",
    "        self.variables = {\n",
    "            \"Time [s]\": pybamm.t,\n",
    "            \"Heat generation [W]\": Heat_gen,\n",
    "            \"Surface temperature [K]\": T_s,\n",
    "        }"
   ]
  },
  {
   "cell_type": "code",
   "execution_count": 6,
   "metadata": {},
   "outputs": [
    {
     "data": {
      "text/plain": [
       "<__main__.MyThermal at 0x1b0a1d26100>"
      ]
     },
     "execution_count": 6,
     "metadata": {},
     "output_type": "execute_result"
    }
   ],
   "source": [
    "model = MyThermal()\n",
    "\n",
    "R = pybamm.Parameter(\"Cell radius [m]\")\n",
    "# define geometry\n",
    "r = pybamm.SpatialVariable(\"r\", domain=[\"full cell\"], coord_sys=\"cylindrical\")\n",
    "geometry = {\"full cell\": {r: {\"min\": pybamm.Scalar(0), \"max\": R}}}\n",
    "# mesh and discretise\n",
    "submesh_types = {\"full cell\": pybamm.Uniform1DSubMesh}\n",
    "var_pts = {r: 50}\n",
    "\n",
    "param = pybamm.ParameterValues(\n",
    "    {\n",
    "        \"Heat generation [W]\": 2,\n",
    "        \"Heat conductivity [W/m2-K]\": 0.2,\n",
    "        \"Convection heat transfer coefficient [W/m2-K]\": 40,\n",
    "        \"Intial temperature [K]\": 300,\n",
    "        \"Cell height [m]\": 0.07,\n",
    "        \"Cell radius [m]\": 0.01,\n",
    "        \"Ambient temperature [K]\": 300,\n",
    "        \"Heat Capacity of the cell\": 1200,\n",
    "        \"mass [kg]\": 0.07,\n",
    "    }\n",
    ")\n",
    "\n",
    "param.process_geometry(geometry)\n",
    "\n",
    "mesh = pybamm.Mesh(geometry, submesh_types, var_pts)\n",
    "spatial_methods = {\"full cell\": pybamm.FiniteVolume()}\n",
    "disc = pybamm.Discretisation(mesh, spatial_methods)\n",
    "\n",
    "param.process_model(model)\n",
    "disc.process_model(model)"
   ]
  },
  {
   "cell_type": "code",
   "execution_count": 7,
   "metadata": {},
   "outputs": [],
   "source": [
    "solver = pybamm.ScipySolver()\n",
    "t_eval = np.linspace(0, 7200, 100)\n",
    "solution = solver.solve(model, t_eval)"
   ]
  },
  {
   "cell_type": "code",
   "execution_count": 8,
   "metadata": {},
   "outputs": [
    {
     "data": {
      "application/vnd.jupyter.widget-view+json": {
       "model_id": "ee7f24df490d43b883a01f3e68c8ef20",
       "version_major": 2,
       "version_minor": 0
      },
      "text/plain": [
       "interactive(children=(FloatSlider(value=0.0, description='t', max=2.0, step=0.02), Output()), _dom_classes=('w…"
      ]
     },
     "metadata": {},
     "output_type": "display_data"
    },
    {
     "data": {
      "text/plain": [
       "<pybamm.plotting.quick_plot.QuickPlot at 0x1b0a1c7c580>"
      ]
     },
     "execution_count": 8,
     "metadata": {},
     "output_type": "execute_result"
    }
   ],
   "source": [
    "solution.plot([\"Surface temperature [K]\", \"Heat generation [W]\", \"Cell temperature\"])"
   ]
  }
 ],
 "metadata": {
  "kernelspec": {
   "display_name": "Pybamm",
   "language": "python",
   "name": "python3"
  },
  "language_info": {
   "codemirror_mode": {
    "name": "ipython",
    "version": 3
   },
   "file_extension": ".py",
   "mimetype": "text/x-python",
   "name": "python",
   "nbconvert_exporter": "python",
   "pygments_lexer": "ipython3",
   "version": "3.9.21"
  }
 },
 "nbformat": 4,
 "nbformat_minor": 2
}
