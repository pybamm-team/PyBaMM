{
 "cells": [
  {
   "cell_type": "code",
   "execution_count": 1,
   "metadata": {},
   "outputs": [],
   "source": [
    "# import library\n",
    "import pybamm\n",
    "import numpy as np\n",
    "from pybamm.input.parameters.lithium_ion import Chen2020"
   ]
  },
  {
   "cell_type": "code",
   "execution_count": 2,
   "metadata": {},
   "outputs": [],
   "source": [
    "# define class\n",
    "class MySPMe (pybamm.BaseModel):\n",
    "    def __init__(self):\n",
    "        super().__init__()\n",
    "        electrodes= [\"negative\",\"positive\"] #two electrodes\n",
    "\n",
    "        # define variable (i.e. concentration in two electrodes)\n",
    "        c_i=[pybamm.Variable(f\"{e.capitalize()} particle concentration\", domain=f\"{e} particle\") for e in electrodes]\n",
    "        \n",
    "        # define parameters\n",
    "        I = pybamm.Parameter(\"Current function [A]\")\n",
    "        D_i = [pybamm.Parameter(f\"{e.capitalize()} electrode diffusivity\") for e in electrodes]\n",
    "        R_i = [pybamm.Parameter(f\"{e.capitalize()} particle radius\") for e in electrodes]\n",
    "        c0_i = [pybamm.Parameter(f\"Initial concentration in {e} electrode\") for e in electrodes]\n",
    "        delta_i = [pybamm.Parameter(f\"{e.capitalize()} electrode thickness\") for e in electrodes]\n",
    "        A = pybamm.Parameter(\"Electrode width\")*pybamm.Parameter(\"Electrode height\")\n",
    "        epsilon_i = [pybamm.Parameter(f\"{e.capitalize()} electrode active material volume fraction\") for e in electrodes]\n",
    "        T = pybamm.Parameter(\"Ambient temperature\")\n",
    "        c_e = pybamm.Parameter(\"Initial concentration in electrolyte\")\n",
    "        k_i = [pybamm.Parameter(f\"{e.capitalize()} electrode reaction rate\") for e in electrodes]\n",
    "        c_i_max = [pybamm.Parameter(f\"Maximum concentration in {e} electrode\") for e in electrodes]\n",
    "        U_i = [pybamm.FunctionParameter(f\"{e.capitalize()} electrode OCP [V]\", {\"stoichiometry\": c_i[i]/c_i_max[i]}) for (i,e) in enumerate(electrodes)]\n",
    "\n",
    "        # Constants\n",
    "        F = pybamm.constants.F\n",
    "        R = pybamm.constants.R\n",
    "\n",
    "        # derive variables\n",
    "        a_i = [3*epsilon_i[i]/R_i[i] for i in [0,1]]\n",
    "        j_i = [I / a_i[0] / delta_i[0] / F / A, -I / a_i[0] / delta_i[0] / F / A]\n",
    "\n",
    "        # governing equations\n",
    "        N_i = [-D_i[i]*pybamm.grad(c_i[i]) for i in [0,1]]\n",
    "        dcdt_i = [-pybamm.div(N_i[i]) for i in [0,1]]\n",
    "        self.rhs = {c_i[i]: dcdt_i[i] for i in [0,1]}\n",
    "\n",
    "        # boundary conditions\n",
    "        lbc = pybamm.Scalar(0)\n",
    "        rbc = [-j_i[i] / D_i[i] for i in [0,1]]\n",
    "        self.boundary_conditions = {c_i[i]: {\"left\": (lbc, \"Neumann\"), \"right\": (rbc[i], \"Neumann\")} for i in [0,1]}\n",
    "\n",
    "\n",
    "        # initial condtions\n",
    "        self.initial_conditions = {c_i[i]: c0_i[i] for i in [0,1]}\n",
    "\n",
    "        # define intermediate variables and OCP function parameters\n",
    "        c_i_s = [pybamm.surf(c_i[i]) for i in [0, 1]]\n",
    "        x_i_s = [c_i_s[i] / c_i_max[i] for i in [0, 1]]\n",
    "        i_0_i = [k_i[i] * F * (pybamm.sqrt(c_e) * pybamm.sqrt(c_i_s[i]) * pybamm.sqrt(c_i_max[i] - c_i_s[i])) for i in [0, 1]]\n",
    "        eta_i = [2 * R * T / F * pybamm.arcsinh(j_i[i] * F / (2 * i_0_i[i])) for i in [0, 1]]\n",
    "\n",
    "        # define output variables\n",
    "        [U_n_plus_eta, U_p_plus_eta] = [pybamm.surf(U_i[i]) + eta_i[i] for i in [0, 1]]\n",
    "        V = U_p_plus_eta - U_n_plus_eta\n",
    "        self.variables = {\n",
    "            \"Time [s]\": pybamm.t,\n",
    "            \"Voltage [V]\": V,\n",
    "            \"Current [A]\": I,\n",
    "            \"Negative particle concentration\": c_i[0],\n",
    "            \"Positive particle concentration\": c_i[1],\n",
    "            \"Negative particle surface concentration\": c_i_s[0],\n",
    "            \"Positive particle surface concentration\": c_i_s[1],\n",
    "        }"
   ]
  },
  {
   "cell_type": "code",
   "execution_count": 3,
   "metadata": {},
   "outputs": [],
   "source": [
    "\n",
    "model=MySPMe()\n",
    "electrodes= [\"negative\",\"positive\"] #two electrodes\n",
    "r_i = [pybamm.SpatialVariable(\"r\", domain=[f\"{e} partical\"], coord_sys=\"spherical polar\") for e in electrodes]\n",
    "R_i = [pybamm.Parameter(f\"{e.capitalize()} particle radius\") for e in electrodes]\n",
    "geometry = {f\"{e} particle\": {r_i[i]: {\"min\": pybamm.Scalar(0), \"max\": R_i[i]}} for (i,e) in enumerate(electrodes)}\n",
    "domains = [f\"{e} particle\" for e in electrodes]\n",
    "submesh_type = {d: pybamm.Uniform1DSubMesh for d in domains}\n",
    "var_pts = {r: 20 for r in r_i}\n",
    "\n",
    "param = pybamm.ParameterValues({\"Positive electrode diffusivity\": 3.9*10**-14, \n",
    "\"Negative electrode diffusivity\": 3.9*10**-14,\"Positive particle radius\": 10*10**(-6) ,\n",
    "\"Negative particle radius\": 10*10**(-6),\"Initial concentration in positive electrode\": 2.5*10**4, \n",
    "\"Initial concentration in negative electrode\": 2.5*10**4,\"Positive electrode thickness\": 10*10**(-7),\n",
    "\"Negative electrode thickness\": 10*10**(-7),\"Electrode width\": 10**10**(-3),\"Electrode height\": 10**10**(-3),\n",
    "\"Positive electrode active material volume fraction\": 0.7,\"Negative electrode active material volume fraction\": 0.75, \n",
    "\"Ambient temperature\": 297, \"Initial concentration in electrolyte\": 2.5*10**4, \"Positive electrode reaction rate\": 2*10**-3,\n",
    "\"Negative electrode reaction rate\": 2*10**-3,\"Maximum concentration in positive electrode\":10*10**4,\n",
    "\"Maximum concentration in negative electrode\":10*10**4,\"Current function [A]\":3,\"Positive electrode OCP [V]\":Chen2020.nmc_LGM50_ocp_Chen2020,\"Negative electrode OCP [V]\":Chen2020.graphite_LGM50_ocp_Chen2020})\n",
    "\n",
    "param.process_geometry(geometry)\n",
    "\n",
    "\n",
    "\n",
    "mesh=pybamm.Mesh(geometry, submesh_type, var_pts)\n",
    "spatial_methods = {d: pybamm.FiniteVolume() for d in domains}\n",
    "disc=pybamm.Discretisation(mesh, spatial_methods)\n",
    "\n",
    "\n",
    "\n",
    "\n",
    "param.process_model(model)\n",
    "disc.process_model(model)\n",
    "\n",
    "solver=pybamm.ScipySolver()\n",
    "t_eval=np.linspace(0, 360, 100)"
   ]
  },
  {
   "cell_type": "code",
   "execution_count": 4,
   "metadata": {},
   "outputs": [],
   "source": [
    "solution= solver.solve(model, t_eval)"
   ]
  },
  {
   "cell_type": "code",
   "execution_count": 5,
   "metadata": {},
   "outputs": [
    {
     "data": {
      "application/vnd.jupyter.widget-view+json": {
       "model_id": "1dff187995f743afac14caa475e24d69",
       "version_major": 2,
       "version_minor": 0
      },
      "text/plain": [
       "interactive(children=(FloatSlider(value=0.0, description='t', max=360.0, step=3.6), Output()), _dom_classes=('…"
      ]
     },
     "metadata": {},
     "output_type": "display_data"
    },
    {
     "data": {
      "text/plain": [
       "<pybamm.plotting.quick_plot.QuickPlot at 0x20701ff31c0>"
      ]
     },
     "execution_count": 5,
     "metadata": {},
     "output_type": "execute_result"
    }
   ],
   "source": [
    "solution.plot([\"Voltage [V]\", \"Current [A]\",\"Negative particle concentration\",\n",
    "\"Positive particle concentration\",\"Negative particle surface concentration\",\n",
    "\"Positive particle surface concentration\"])"
   ]
  }
 ],
 "metadata": {
  "kernelspec": {
   "display_name": "Pybamm",
   "language": "python",
   "name": "python3"
  },
  "language_info": {
   "codemirror_mode": {
    "name": "ipython",
    "version": 3
   },
   "file_extension": ".py",
   "mimetype": "text/x-python",
   "name": "python",
   "nbconvert_exporter": "python",
   "pygments_lexer": "ipython3",
   "version": "3.9.21"
  }
 },
 "nbformat": 4,
 "nbformat_minor": 2
}
