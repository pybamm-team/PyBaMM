{
 "cells": [
  {
   "attachments": {},
   "cell_type": "markdown",
   "id": "saved-crown",
   "metadata": {},
   "source": [
    "# Customizing QuickPlot"
   ]
  },
  {
   "attachments": {},
   "cell_type": "markdown",
   "id": "adjacent-internship",
   "metadata": {},
   "source": [
    "This notebook shows how to customize PyBaMM's `QuickPlot`, using matplotlib's [style sheets and rcParams](https://matplotlib.org/stable/tutorials/introductory/customizing.html)"
   ]
  },
  {
   "attachments": {},
   "cell_type": "markdown",
   "id": "rocky-function",
   "metadata": {},
   "source": [
    "First we define and solve the models"
   ]
  },
  {
   "cell_type": "code",
   "execution_count": null,
   "id": "spare-craft",
   "metadata": {},
   "outputs": [],
   "source": [
    "%pip install \"pybamm[plot,cite]\" -q    # install PyBaMM if it is not installed\n",
    "import pybamm\n",
    "\n",
    "models = [pybamm.lithium_ion.SPM(), pybamm.lithium_ion.SPMe(), pybamm.lithium_ion.DFN()]\n",
    "sims = []\n",
    "for model in models:\n",
    "    sim = pybamm.Simulation(model)\n",
    "    sim.solve([0, 3600])\n",
    "    sims.append(sim)"
   ]
  },
  {
   "attachments": {},
   "cell_type": "markdown",
   "id": "nutritional-scratch",
   "metadata": {},
   "source": [
    "Call the default plots"
   ]
  },
  {
   "cell_type": "code",
   "execution_count": null,
   "id": "healthy-fluid",
   "metadata": {},
   "outputs": [],
   "source": [
    "pybamm.dynamic_plot(sims)"
   ]
  },
  {
   "attachments": {},
   "cell_type": "markdown",
   "id": "basic-mentor",
   "metadata": {},
   "source": [
    "## Using style sheets"
   ]
  },
  {
   "attachments": {},
   "cell_type": "markdown",
   "id": "mysterious-pantyhose",
   "metadata": {},
   "source": [
    "The easiest way to customize style is to use one of matplotlib's available style sheets"
   ]
  },
  {
   "cell_type": "code",
   "execution_count": null,
   "id": "sunset-planet",
   "metadata": {},
   "outputs": [],
   "source": [
    "import matplotlib.pyplot as plt\n",
    "\n",
    "plt.style.available"
   ]
  },
  {
   "attachments": {},
   "cell_type": "markdown",
   "id": "headed-royalty",
   "metadata": {},
   "source": [
    "For example we can use the ggplot style from R. In this case, the title fonts are quite large, so we reduce the number of words in a title before a line break"
   ]
  },
  {
   "cell_type": "code",
   "execution_count": null,
   "id": "behavioral-tyler",
   "metadata": {},
   "outputs": [],
   "source": [
    "plt.style.use(\"ggplot\")\n",
    "pybamm.settings.max_words_in_line = 3\n",
    "pybamm.dynamic_plot(sims)"
   ]
  },
  {
   "attachments": {},
   "cell_type": "markdown",
   "id": "annoying-limitation",
   "metadata": {},
   "source": [
    "Another good set of style sheets for scientific plots is available by pip installing the [SciencePlots](https://github.com/garrettj403/SciencePlots) package"
   ]
  },
  {
   "attachments": {},
   "cell_type": "markdown",
   "id": "valuable-baptist",
   "metadata": {},
   "source": [
    "## Further customization using rcParams"
   ]
  },
  {
   "attachments": {},
   "cell_type": "markdown",
   "id": "atlantic-building",
   "metadata": {},
   "source": [
    "Sometimes we want further customization of a style, without needing to edit the style sheets. For example, we can update the font sizes and plot again.\n",
    "\n",
    "To change the line colors, we use `cycler`"
   ]
  },
  {
   "cell_type": "code",
   "execution_count": null,
   "id": "excited-circuit",
   "metadata": {},
   "outputs": [],
   "source": [
    "import matplotlib as mpl\n",
    "from cycler import cycler\n",
    "\n",
    "mpl.rcParams[\"axes.labelsize\"] = 12\n",
    "mpl.rcParams[\"axes.titlesize\"] = 12\n",
    "mpl.rcParams[\"xtick.labelsize\"] = 12\n",
    "mpl.rcParams[\"ytick.labelsize\"] = 12\n",
    "mpl.rcParams[\"legend.fontsize\"] = 12\n",
    "mpl.rcParams[\"axes.prop_cycle\"] = cycler(\"color\", [\"k\", \"g\", \"c\"])\n",
    "pybamm.dynamic_plot(sims)"
   ]
  },
  {
   "attachments": {},
   "cell_type": "markdown",
   "id": "recreational-complexity",
   "metadata": {},
   "source": [
    "## Very fine customization"
   ]
  },
  {
   "attachments": {},
   "cell_type": "markdown",
   "id": "german-possibility",
   "metadata": {},
   "source": [
    "Some customization of the `QuickPlot` object is possible by passing arguments - see the [docs](https://docs.pybamm.org/en/latest/source/api/plotting/quick_plot.html) for details\n",
    "\n",
    "We can also further control the plot by calling `plot.fig` after the figure has been created, and editing the matplotlib objects. For example, here we move the titles to the ylabel, and move the legend."
   ]
  },
  {
   "cell_type": "code",
   "execution_count": null,
   "id": "specific-dictionary",
   "metadata": {},
   "outputs": [],
   "source": [
    "pybamm.settings.max_words_in_line = 4\n",
    "\n",
    "plot = pybamm.QuickPlot(sims, figsize=(14, 7))\n",
    "plot.plot(0.5)  # time in hours\n",
    "\n",
    "# Move title to ylabel\n",
    "for ax in plot.fig.axes:\n",
    "    title = ax.get_title()\n",
    "    ax.set_title(\"\")\n",
    "    ax.set_ylabel(title)\n",
    "\n",
    "# Remove old legend and add a new one in the bottom\n",
    "leg = plot.fig.get_children()[-1]\n",
    "leg.set_visible(False)\n",
    "plot.fig.legend(plot.labels, loc=\"lower center\", ncol=len(plot.labels), fontsize=11)\n",
    "\n",
    "# Adjust layout\n",
    "plot.gridspec.tight_layout(plot.fig, rect=[0, 0.04, 1, 1])"
   ]
  },
  {
   "attachments": {},
   "cell_type": "markdown",
   "id": "approved-gibraltar",
   "metadata": {},
   "source": [
    "The figure can then be saved using `plot.fig.savefig`"
   ]
  },
  {
   "attachments": {},
   "cell_type": "markdown",
   "id": "needed-structure",
   "metadata": {},
   "source": [
    "## References\n",
    "\n",
    "The relevant papers for this notebook are:"
   ]
  },
  {
   "cell_type": "code",
   "execution_count": null,
   "id": "refined-space",
   "metadata": {},
   "outputs": [],
   "source": [
    "pybamm.print_citations()"
   ]
  }
 ],
 "metadata": {
  "kernelspec": {
   "language": "python"
  },
  "language_info": {
   "codemirror_mode": {
    "name": "ipython",
    "version": 3
   },
   "file_extension": ".py",
   "mimetype": "text/x-python",
   "name": "python",
   "nbconvert_exporter": "python",
   "pygments_lexer": "ipython3"
  },
  "toc": {
   "base_numbering": 1,
   "nav_menu": {},
   "number_sections": true,
   "sideBar": true,
   "skip_h1_title": false,
   "title_cell": "Table of Contents",
   "title_sidebar": "Contents",
   "toc_cell": false,
   "toc_position": {},
   "toc_section_display": true,
   "toc_window_display": true
  },
  "vscode": {
   "interpreter": {
    "hash": "1a781583db2df3c2e87436f6d22cce842c2e50a5670da93a3bd820b97dc43011"
   }
  }
 },
 "nbformat": 4,
 "nbformat_minor": 5
}
