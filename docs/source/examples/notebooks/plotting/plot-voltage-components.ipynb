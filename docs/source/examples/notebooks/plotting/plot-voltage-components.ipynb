{
 "cells": [
  {
   "attachments": {},
   "cell_type": "markdown",
   "metadata": {},
   "source": [
    "# Plot voltage components"
   ]
  },
  {
   "attachments": {},
   "cell_type": "markdown",
   "metadata": {},
   "source": [
    "In a 1D model, the voltage of a cell is given by the difference in solid-phase potentials at the two edges of the domain\n",
    "\n",
    "$$\n",
    "V = \\left.\\phi_\\mathrm{s,p}\\right\\rvert_{x=L}\n",
    "    - \\left.\\phi_\\mathrm{s,n}\\right\\rvert_{x=0}\n",
    "$$\n",
    "\n",
    "We can decompose this voltage into constituent components by adding and subtracting terms and regrouping:\n",
    "\n",
    "$$\n",
    "\\begin{align*}\n",
    "V =& \\left(\\left.\\phi_\\mathrm{s,p}\\right\\rvert_{x=L} - \\bar{\\phi}_\\mathrm{s,p}\\right)\n",
    "&\\quad&\\text{Positive solid phase ohmic losses} \n",
    "\\\\\n",
    "&- \\left(\\left.\\phi_\\mathrm{s,n}\\right\\rvert_{x=L} - \\bar{\\phi}_\\mathrm{s,n}\\right) \n",
    "&&\\text{Negative solid phase ohmic losses} \n",
    "\\\\\n",
    "&+ \\bar{\\eta}_\\mathrm{p}\n",
    "&&\\text{Positive reaction overpotential} \n",
    "\\\\\n",
    "&- \\bar{\\eta}_\\mathrm{n}\n",
    "&&\\text{Negative reaction overpotential} \n",
    "\\\\\n",
    "&+ \\left(\\bar{\\phi}_\\mathrm{e,p}-\\bar{\\phi}_\\mathrm{e,n}\\right)\n",
    "&&\\text{Electrolyte overpotential}\n",
    "\\\\\n",
    "&+ \\left(\\overline{U(c_\\mathrm{p}^\\mathrm{surf})}-U(\\bar{c}_\\mathrm{p})\\right)\n",
    "&&\\text{Positive particle overpotential}\n",
    "\\\\\n",
    "&- \\left(\\overline{U(c_\\mathrm{n}^\\mathrm{surf})}-U(\\bar{c}_\\mathrm{n})\\right)\n",
    "&&\\text{Negative particle overpotential}\n",
    "\\\\\n",
    "&+ U(\\bar{c}_\\mathrm{p})\n",
    "&&\\text{Positive bulk open-circuit potential}\n",
    "\\\\\n",
    "&- U(\\bar{c}_\\mathrm{n})\n",
    "&&\\text{Negative bulk open-circuit potential}\n",
    "\\end{align*}\n",
    "$$\n",
    "\n",
    "where \n",
    "\n",
    "$$\n",
    "\\eta = \\phi_\\mathrm{s} - \\phi_\\mathrm{e} - U(c^\\mathrm{surf})\n",
    "$$\n",
    "\n",
    "and $\\bar{\\cdot}$ represents the average value of the variable over its subdomain."
   ]
  },
  {
   "attachments": {},
   "cell_type": "markdown",
   "metadata": {},
   "source": [
    "To demonstrate this, we solve a standard DFN model with the Chen2020 parameter set and plot the various potentials"
   ]
  },
  {
   "cell_type": "code",
   "execution_count": null,
   "metadata": {},
   "outputs": [],
   "source": [
    "%pip install \"pybamm[plot,cite]\" -q    # install PyBaMM if it is not installed\n",
    "import pybamm\n",
    "\n",
    "model = pybamm.lithium_ion.DFN()\n",
    "\n",
    "experiment = pybamm.Experiment([\"Discharge at 1C until 2.5 V\"])\n",
    "\n",
    "sim = pybamm.Simulation(\n",
    "    model, experiment=experiment, parameter_values=pybamm.ParameterValues(\"Chen2020\")\n",
    ")\n",
    "sol = sim.solve()\n",
    "\n",
    "sol.plot(\n",
    "    [\n",
    "        \"Negative electrode bulk open-circuit potential [V]\",\n",
    "        \"Positive electrode bulk open-circuit potential [V]\",\n",
    "        \"Negative particle concentration overpotential [V]\",\n",
    "        \"Positive particle concentration overpotential [V]\",\n",
    "        \"X-averaged negative electrode reaction overpotential [V]\",\n",
    "        \"X-averaged positive electrode reaction overpotential [V]\",\n",
    "        \"X-averaged concentration overpotential [V]\",\n",
    "        \"X-averaged electrolyte ohmic losses [V]\",\n",
    "        \"X-averaged negative electrode ohmic losses [V]\",\n",
    "        \"X-averaged positive electrode ohmic losses [V]\",\n",
    "    ],\n",
    ")"
   ]
  },
  {
   "attachments": {},
   "cell_type": "markdown",
   "metadata": {},
   "source": [
    "A more useful visualization is given by the `plot_voltage_components` function, which can either plot all the individual voltage components"
   ]
  },
  {
   "cell_type": "code",
   "execution_count": null,
   "metadata": {},
   "outputs": [],
   "source": [
    "sol.plot_voltage_components(split_by_electrode=True)"
   ]
  },
  {
   "attachments": {},
   "cell_type": "markdown",
   "metadata": {},
   "source": [
    "or group positive and negative together"
   ]
  },
  {
   "cell_type": "code",
   "execution_count": null,
   "metadata": {},
   "outputs": [],
   "source": [
    "sol.plot_voltage_components()"
   ]
  },
  {
   "attachments": {},
   "cell_type": "markdown",
   "metadata": {},
   "source": [
    "Note that this function further splits the electrolyte overpotential into the contribution from the electrolyte gradient and the contribution from ohmic losses"
   ]
  },
  {
   "cell_type": "markdown",
   "metadata": {},
   "source": [
    "## References\n",
    "\n",
    "The relevant papers for this notebook are:"
   ]
  },
  {
   "cell_type": "code",
   "execution_count": null,
   "metadata": {},
   "outputs": [],
   "source": [
    "pybamm.print_citations()"
   ]
  }
 ],
 "metadata": {
  "kernelspec": {
   "display_name": "pybamm",
   "language": "python",
   "name": "python3"
  },
  "language_info": {
   "codemirror_mode": {
    "name": "ipython",
    "version": 3
   },
   "file_extension": ".py",
   "mimetype": "text/x-python",
   "name": "python",
   "nbconvert_exporter": "python",
   "pygments_lexer": "ipython3",
   "version": "3.9.16"
  },
  "vscode": {
   "interpreter": {
    "hash": "187972e187ab8dfbecfab9e8e194ae6d08262b2d51a54fa40644e3ddb6b5f74c"
   }
  }
 },
 "nbformat": 4,
 "nbformat_minor": 2
}
