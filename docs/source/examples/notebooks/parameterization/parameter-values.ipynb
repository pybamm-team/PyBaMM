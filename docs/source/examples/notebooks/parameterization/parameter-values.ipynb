{
 "cells": [
  {
   "attachments": {},
   "cell_type": "markdown",
   "metadata": {},
   "source": [
    "# Parameter Values\n",
    "\n",
    "In this notebook, we explain how parameter values are set for a model. Information on creating new parameter sets is provided in our [online documentation](https://docs.pybamm.org/en/latest/source/api/parameters/parameter_sets.html#adding-parameter-sets)"
   ]
  },
  {
   "cell_type": "markdown",
   "metadata": {},
   "source": [
    "## Setting up parameter values"
   ]
  },
  {
   "cell_type": "code",
   "execution_count": 1,
   "metadata": {},
   "outputs": [
    {
     "name": "stdout",
     "output_type": "stream",
     "text": [
      "Note: you may need to restart the kernel to use updated packages.\n"
     ]
    }
   ],
   "source": [
    "%pip install \"pybamm[plot,cite]\" -q    # install PyBaMM if it is not installed\n",
    "import pybamm\n",
    "import numpy as np\n",
    "import os\n",
    "import matplotlib.pyplot as plt\n",
    "\n",
    "os.chdir(pybamm.__path__[0] + \"/..\")"
   ]
  },
  {
   "cell_type": "markdown",
   "metadata": {},
   "source": [
    "In `pybamm`, the object that sets parameter values for a model is the [`ParameterValues`](https://docs.pybamm.org/en/latest/source/api/parameters/parameter_values.html) class, which extends `dict`. This takes the values of the parameters as input, which can be either a dictionary,"
   ]
  },
  {
   "cell_type": "code",
   "execution_count": 2,
   "metadata": {},
   "outputs": [
    {
     "name": "stdout",
     "output_type": "stream",
     "text": [
      "parameter values are {'Boltzmann constant [J.K-1]': 1.380649e-23,\n",
      " 'Electron charge [C]': 1.602176634e-19,\n",
      " 'Faraday constant [C.mol-1]': 96485.33212,\n",
      " 'Ideal gas constant [J.K-1.mol-1]': 8.314462618,\n",
      " 'a': 1,\n",
      " 'b': 2,\n",
      " 'c': 3}\n"
     ]
    }
   ],
   "source": [
    "param_dict = {\"a\": 1, \"b\": 2, \"c\": 3}\n",
    "parameter_values = pybamm.ParameterValues(param_dict)\n",
    "print(f\"parameter values are {parameter_values}\")"
   ]
  },
  {
   "cell_type": "markdown",
   "metadata": {},
   "source": [
    "or using one of the pre-set chemistries"
   ]
  },
  {
   "cell_type": "code",
   "execution_count": 3,
   "metadata": {},
   "outputs": [
    {
     "name": "stdout",
     "output_type": "stream",
     "text": [
      "Negative current collector thickness is 2.5e-05 m\n"
     ]
    }
   ],
   "source": [
    "chem_parameter_values = pybamm.ParameterValues(\"Marquis2019\")\n",
    "print(\n",
    "    \"Negative current collector thickness is {} m\".format(\n",
    "        chem_parameter_values[\"Negative current collector thickness [m]\"]\n",
    "    )\n",
    ")"
   ]
  },
  {
   "cell_type": "markdown",
   "metadata": {},
   "source": [
    "We can alter the values of parameters by updating the dictionary, by using the `update` method or by using the `[]` operator."
   ]
  },
  {
   "cell_type": "code",
   "execution_count": 4,
   "metadata": {},
   "outputs": [
    {
     "name": "stdout",
     "output_type": "stream",
     "text": [
      "parameter values are {'Boltzmann constant [J.K-1]': 1.380649e-23,\n",
      " 'Electron charge [C]': 1.602176634e-19,\n",
      " 'Faraday constant [C.mol-1]': 96485.33212,\n",
      " 'Ideal gas constant [J.K-1.mol-1]': 8.314462618,\n",
      " 'a': 2,\n",
      " 'b': 3,\n",
      " 'c': 4}\n"
     ]
    }
   ],
   "source": [
    "parameter_values[\"a\"] = 2\n",
    "parameter_values.update({\"b\": 3, \"c\": 4})\n",
    "print(f\"parameter values are {parameter_values}\")"
   ]
  },
  {
   "cell_type": "markdown",
   "metadata": {},
   "source": [
    "Parameter values can either be numerical values, python functions or PyBaMM expressions. We can input functions into the parameter value like so (note we bypass the check that the parameter already exists):\n"
   ]
  },
  {
   "cell_type": "code",
   "execution_count": 5,
   "metadata": {},
   "outputs": [
    {
     "name": "stdout",
     "output_type": "stream",
     "text": [
      "parameter values are {'Boltzmann constant [J.K-1]': 1.380649e-23,\n",
      " 'Electron charge [C]': 1.602176634e-19,\n",
      " 'Faraday constant [C.mol-1]': 96485.33212,\n",
      " 'Ideal gas constant [J.K-1.mol-1]': 8.314462618,\n",
      " 'a': 2,\n",
      " 'b': 3,\n",
      " 'c': 4,\n",
      " 'cube function': <function cubed at 0x75528531c4c0>}\n"
     ]
    }
   ],
   "source": [
    "def cubed(x):\n",
    "    return x**3\n",
    "\n",
    "\n",
    "parameter_values.update({\"cube function\": cubed}, check_already_exists=False)\n",
    "print(f\"parameter values are {parameter_values}\")"
   ]
  },
  {
   "cell_type": "markdown",
   "metadata": {},
   "source": [
    "We can also use a PyBaMM expression to set the parameter value, allowing us to set parameters based on other parameters: "
   ]
  },
  {
   "cell_type": "code",
   "execution_count": 6,
   "metadata": {},
   "outputs": [],
   "source": [
    "parameter_values.update({\"a\": pybamm.Parameter(\"b\") + pybamm.Parameter(\"c\")})"
   ]
  },
  {
   "cell_type": "markdown",
   "metadata": {},
   "source": [
    "## Setting parameters for a PyBaMM model"
   ]
  },
  {
   "cell_type": "markdown",
   "metadata": {},
   "source": [
    "We represent parameters in models using the classes [`Parameter`](https://docs.pybamm.org/en/latest/source/api/expression_tree/parameter.html) and [`FunctionParameter`](https://docs.pybamm.org/en/latest/source/api/expression_tree/parameter.html#pybamm.FunctionParameter). These cannot be evaluated directly,"
   ]
  },
  {
   "cell_type": "code",
   "execution_count": 7,
   "metadata": {
    "tags": [
     "raises-exception"
    ]
   },
   "outputs": [
    {
     "name": "stdout",
     "output_type": "stream",
     "text": [
      "method self.evaluate() not implemented for symbol a of type <class 'pybamm.expression_tree.parameter.Parameter'>\n"
     ]
    }
   ],
   "source": [
    "a = pybamm.Parameter(\"a\")\n",
    "b = pybamm.Parameter(\"b\")\n",
    "c = pybamm.Parameter(\"c\")\n",
    "func = pybamm.FunctionParameter(\"cube function\", {\"a\": a})\n",
    "\n",
    "expr = a + b * c\n",
    "try:\n",
    "    expr.evaluate()\n",
    "except NotImplementedError as e:\n",
    "    print(e)"
   ]
  },
  {
   "cell_type": "markdown",
   "metadata": {},
   "source": [
    "However, the `ParameterValues` class can walk through an expression, changing an `Parameter` objects it sees to the appropriate `Scalar` and any `FunctionParameter` object to the appropriate `Function`, and the resulting expression can be evaluated"
   ]
  },
  {
   "cell_type": "code",
   "execution_count": 8,
   "metadata": {},
   "outputs": [
    {
     "name": "stdout",
     "output_type": "stream",
     "text": [
      "19.0 = 19.0\n"
     ]
    }
   ],
   "source": [
    "expr_eval = parameter_values.process_symbol(expr)\n",
    "print(f\"{expr_eval} = {expr_eval.evaluate()}\")"
   ]
  },
  {
   "cell_type": "code",
   "execution_count": 9,
   "metadata": {},
   "outputs": [
    {
     "name": "stdout",
     "output_type": "stream",
     "text": [
      "343.0 = 343.0\n"
     ]
    }
   ],
   "source": [
    "func_eval = parameter_values.process_symbol(func)\n",
    "print(f\"{func_eval} = {func_eval.evaluate()}\")"
   ]
  },
  {
   "cell_type": "markdown",
   "metadata": {},
   "source": [
    "If a parameter needs to be changed often (for example, for convergence studies or parameter estimation), the `InputParameter` class should be used. This is not fixed by parameter values, and its value can be set on evaluation (or on solve):"
   ]
  },
  {
   "cell_type": "code",
   "execution_count": 10,
   "metadata": {},
   "outputs": [
    {
     "name": "stdout",
     "output_type": "stream",
     "text": [
      "with d = 3, 2.0 + d = 5.0\n",
      "with d = 5, 2.0 + d = 7.0\n"
     ]
    }
   ],
   "source": [
    "d = pybamm.InputParameter(\"d\")\n",
    "expr = 2 + d\n",
    "expr_eval = parameter_values.process_symbol(expr)\n",
    "print(\"with d = {}, {} = {}\".format(3, expr_eval, expr_eval.evaluate(inputs={\"d\": 3})))\n",
    "print(\"with d = {}, {} = {}\".format(5, expr_eval, expr_eval.evaluate(inputs={\"d\": 5})))"
   ]
  },
  {
   "cell_type": "markdown",
   "metadata": {},
   "source": [
    "## Solving a model"
   ]
  },
  {
   "attachments": {},
   "cell_type": "markdown",
   "metadata": {},
   "source": [
    "The code below shows the entire workflow of:\n",
    "\n",
    "1. Proposing a toy model\n",
    "2. Discretising and solving it first with one set of parameters,\n",
    "3. then updating the parameters and solving again\n",
    "\n",
    "The toy model used is:\n",
    "$$\\frac{\\mathrm{d} u}{\\mathrm{d} t} = -a u$$\n",
    "\n",
    "with initial conditions $u(0) = b$. The model is first solved with $a = 3, b = 2$, then with $a = -1, b = 2$"
   ]
  },
  {
   "cell_type": "code",
   "execution_count": 11,
   "metadata": {},
   "outputs": [
    {
     "data": {
      "image/png": "[encoded data removed]",
      "text/plain": [
       "<Figure size 1300x400 with 2 Axes>"
      ]
     },
     "metadata": {},
     "output_type": "display_data"
    }
   ],
   "source": [
    "# Create model\n",
    "model = pybamm.BaseModel()\n",
    "u = pybamm.Variable(\"u\")\n",
    "a = pybamm.Parameter(\"a\")\n",
    "b = pybamm.Parameter(\"b\")\n",
    "model.rhs = {u: -a * u}\n",
    "model.initial_conditions = {u: b}\n",
    "model.variables = {\"u\": u, \"a\": a, \"b\": b}\n",
    "\n",
    "# Set parameters, with a as an input ########################\n",
    "parameter_values = pybamm.ParameterValues({\"a\": \"[input]\", \"b\": 2})\n",
    "parameter_values.process_model(model)\n",
    "#############################################################\n",
    "\n",
    "# Discretise using default discretisation\n",
    "disc = pybamm.Discretisation()\n",
    "disc.process_model(model)\n",
    "\n",
    "# Solve\n",
    "t_eval = np.linspace(0, 2, 30)\n",
    "ode_solver = pybamm.ScipySolver()\n",
    "solution = ode_solver.solve(model, t_eval, inputs={\"a\": 3})\n",
    "\n",
    "# Post-process, so that u1 can be called at any time t (using interpolation)\n",
    "t_sol1 = solution.t\n",
    "u1 = solution[\"u\"]\n",
    "\n",
    "# Solve again with different inputs ###############################\n",
    "solution = ode_solver.solve(model, t_eval, inputs={\"a\": -1})\n",
    "t_sol2 = solution.t\n",
    "u2 = solution[\"u\"]\n",
    "###################################################################\n",
    "\n",
    "# Plot\n",
    "t_fine = np.linspace(0, t_eval[-1], 1000)\n",
    "\n",
    "fig, (ax1, ax2) = plt.subplots(1, 2, figsize=(13, 4))\n",
    "ax1.plot(t_fine, 2 * np.exp(-3 * t_fine), t_sol1, u1(t_sol1), \"o\")\n",
    "ax1.set_xlabel(\"t\")\n",
    "ax1.legend([\"2 * exp(-3 * t)\", \"u1\"], loc=\"best\")\n",
    "ax1.set_title(\"a = 3, b = 2\")\n",
    "\n",
    "ax2.plot(t_fine, 2 * np.exp(t_fine), t_sol2, u2(t_sol2), \"o\")\n",
    "ax2.set_xlabel(\"t\")\n",
    "ax2.legend([\"2 * exp(t)\", \"u2\"], loc=\"best\")\n",
    "ax2.set_title(\"a = -1, b = 2\")\n",
    "\n",
    "\n",
    "plt.tight_layout()\n",
    "plt.show()"
   ]
  },
  {
   "cell_type": "code",
   "execution_count": 12,
   "metadata": {},
   "outputs": [
    {
     "data": {
      "text/plain": [
       "{Variable(-0x7fabcf6f713434a8, u, children=[], domains={}): Multiplication(0x26349e0ba31c22ee, *, children=['-a', 'y[0:1]'], domains={})}"
      ]
     },
     "execution_count": 12,
     "metadata": {},
     "output_type": "execute_result"
    }
   ],
   "source": [
    "model.rhs"
   ]
  },
  {
   "attachments": {},
   "cell_type": "markdown",
   "metadata": {},
   "source": [
    "## Printing parameter values\n",
    "\n",
    "Since parameters objects must be processed by the `ParameterValues` class before they can be evaluated, it can be difficult to quickly check the value of a parameter that is a combination of other parameters. You can print all of the parameters (including combinations) in a model by using the `print_parameters` function."
   ]
  },
  {
   "cell_type": "code",
   "execution_count": 13,
   "metadata": {},
   "outputs": [
    {
     "name": "stdout",
     "output_type": "stream",
     "text": [
      "a: 4.0\n",
      "b: 3.0\n",
      "a + b: 7.0\n",
      "a * b: 12.0\n"
     ]
    }
   ],
   "source": [
    "a = pybamm.Parameter(\"a\")\n",
    "b = pybamm.Parameter(\"b\")\n",
    "parameter_values = pybamm.ParameterValues({\"a\": 4, \"b\": 3})\n",
    "parameters = {\"a\": a, \"b\": b, \"a + b\": a + b, \"a * b\": a * b}\n",
    "param_eval = parameter_values.print_parameters(parameters)\n",
    "for name, value in param_eval.items():\n",
    "    print(f\"{name}: {value}\")"
   ]
  },
  {
   "cell_type": "markdown",
   "metadata": {},
   "source": [
    "If you provide an output file to `print_parameters`, the parameters will be printed to that output file."
   ]
  },
  {
   "cell_type": "markdown",
   "metadata": {},
   "source": [
    "## References\n",
    "\n",
    "The relevant papers for this notebook are:"
   ]
  },
  {
   "cell_type": "code",
   "execution_count": 14,
   "metadata": {},
   "outputs": [
    {
     "name": "stdout",
     "output_type": "stream",
     "text": [
      "[1] Joel A. E. Andersson, Joris Gillis, Greg Horn, James B. Rawlings, and Moritz Diehl. CasADi – A software framework for nonlinear optimization and optimal control. Mathematical Programming Computation, 11(1):1–36, 2019. doi:10.1007/s12532-018-0139-4.\n",
      "[2] Charles R. Harris, K. Jarrod Millman, Stéfan J. van der Walt, Ralf Gommers, Pauli Virtanen, David Cournapeau, Eric Wieser, Julian Taylor, Sebastian Berg, Nathaniel J. Smith, and others. Array programming with NumPy. Nature, 585(7825):357–362, 2020. doi:10.1038/s41586-020-2649-2.\n",
      "[3] Scott G. Marquis, Valentin Sulzer, Robert Timms, Colin P. Please, and S. Jon Chapman. An asymptotic derivation of a single particle model with electrolyte. Journal of The Electrochemical Society, 166(15):A3693–A3706, 2019. doi:10.1149/2.0341915jes.\n",
      "[4] Valentin Sulzer, Scott G. Marquis, Robert Timms, Martin Robinson, and S. Jon Chapman. Python Battery Mathematical Modelling (PyBaMM). Journal of Open Research Software, 9(1):14, 2021. doi:10.5334/jors.309.\n",
      "[5] Pauli Virtanen, Ralf Gommers, Travis E. Oliphant, Matt Haberland, Tyler Reddy, David Cournapeau, Evgeni Burovski, Pearu Peterson, Warren Weckesser, Jonathan Bright, and others. SciPy 1.0: fundamental algorithms for scientific computing in Python. Nature Methods, 17(3):261–272, 2020. doi:10.1038/s41592-019-0686-2.\n",
      "\n"
     ]
    }
   ],
   "source": [
    "pybamm.print_citations()"
   ]
  }
 ],
 "metadata": {
  "kernelspec": {
   "display_name": "env",
   "language": "python",
   "name": "python3"
  },
  "language_info": {
   "codemirror_mode": {
    "name": "ipython",
    "version": 3
   },
   "file_extension": ".py",
   "mimetype": "text/x-python",
   "name": "python",
   "nbconvert_exporter": "python",
   "pygments_lexer": "ipython3",
   "version": "3.10.12"
  },
  "toc": {
   "base_numbering": 1,
   "nav_menu": {},
   "number_sections": true,
   "sideBar": true,
   "skip_h1_title": false,
   "title_cell": "Table of Contents",
   "title_sidebar": "Contents",
   "toc_cell": false,
   "toc_position": {},
   "toc_section_display": true,
   "toc_window_display": true
  }
 },
 "nbformat": 4,
 "nbformat_minor": 2
}
