{
 "cells": [
  {
   "cell_type": "markdown",
   "metadata": {},
   "source": [
    "# Using Battery Parameter eXchange (BPX) files\n",
    "\n",
    "In this notebook we how to import parameters defined using the [BPX standard](https://github.com/FaradayInstitution/BPX)."
   ]
  },
  {
   "cell_type": "code",
   "execution_count": 1,
   "metadata": {
    "ExecuteTime": {
     "end_time": "2024-12-19T18:22:40.513862Z",
     "start_time": "2024-12-19T18:22:18.616009Z"
    }
   },
   "outputs": [],
   "source": [
    "# %pip install \"pybamm[plot,cite]\" -q    # install PyBaMM if it is not installed\n",
    "import pybamm\n",
    "import matplotlib.pyplot as plt\n",
    "import numpy as np"
   ]
  },
  {
   "cell_type": "markdown",
   "metadata": {},
   "source": [
    "First we load an example BPX file from the [pybamm-data](https://github.com/pybamm-team/pybamm-data/releases) repository using the `DataLoader` class. For more information on the `DataLoader` class, see the [pybamm_data](../pybamm_data.ipynb) notebook."
   ]
  },
  {
   "cell_type": "code",
   "execution_count": 2,
   "metadata": {
    "ExecuteTime": {
     "end_time": "2024-12-19T18:22:40.524616Z",
     "start_time": "2024-12-19T18:22:40.521702Z"
    }
   },
   "outputs": [],
   "source": [
    "path_to_bpx_file = pybamm.DataLoader().get_data(\"nmc_pouch_cell_BPX.json\")"
   ]
  },
  {
   "cell_type": "markdown",
   "metadata": {},
   "source": [
    "We can create a `ParameterValues` object from a BPX file using the `create_from_bpx` method. We pass in the path to the BPX file."
   ]
  },
  {
   "cell_type": "code",
   "execution_count": 3,
   "metadata": {
    "ExecuteTime": {
     "end_time": "2024-12-19T18:22:41.087693Z",
     "start_time": "2024-12-19T18:22:40.560303Z"
    }
   },
   "outputs": [
    {
     "ename": "FileNotFoundError",
     "evalue": "[Errno 2] No such file or directory: '/var/folders/3l/n9yvdjyj2xq9_73p6hqkm9500000gn/T/__pycache__'",
     "output_type": "error",
     "traceback": [
      "\u001b[0;31m---------------------------------------------------------------------------\u001b[0m",
      "\u001b[0;31mFileNotFoundError\u001b[0m                         Traceback (most recent call last)",
      "Cell \u001b[0;32mIn[3], line 1\u001b[0m\n\u001b[0;32m----> 1\u001b[0m parameter_values \u001b[38;5;241m=\u001b[39m \u001b[43mpybamm\u001b[49m\u001b[38;5;241;43m.\u001b[39;49m\u001b[43mParameterValues\u001b[49m\u001b[38;5;241;43m.\u001b[39;49m\u001b[43mcreate_from_bpx\u001b[49m\u001b[43m(\u001b[49m\u001b[43mpath_to_bpx_file\u001b[49m\u001b[43m)\u001b[49m\n",
      "File \u001b[0;32m~/Projects/PyBaMM_fork/src/pybamm/parameters/parameter_values.py:162\u001b[0m, in \u001b[0;36mParameterValues.create_from_bpx\u001b[0;34m(filename, target_soc)\u001b[0m\n\u001b[1;32m    146\u001b[0m \u001b[38;5;250m\u001b[39m\u001b[38;5;124;03m\"\"\"\u001b[39;00m\n\u001b[1;32m    147\u001b[0m \u001b[38;5;124;03mParameters\u001b[39;00m\n\u001b[1;32m    148\u001b[0m \u001b[38;5;124;03m----------\u001b[39;00m\n\u001b[0;32m   (...)\u001b[0m\n\u001b[1;32m    158\u001b[0m \n\u001b[1;32m    159\u001b[0m \u001b[38;5;124;03m\"\"\"\u001b[39;00m\n\u001b[1;32m    160\u001b[0m \u001b[38;5;28;01mfrom\u001b[39;00m \u001b[38;5;21;01mbpx\u001b[39;00m \u001b[38;5;28;01mimport\u001b[39;00m parse_bpx_file\n\u001b[0;32m--> 162\u001b[0m bpx \u001b[38;5;241m=\u001b[39m \u001b[43mparse_bpx_file\u001b[49m\u001b[43m(\u001b[49m\u001b[43mfilename\u001b[49m\u001b[43m)\u001b[49m\n\u001b[1;32m    163\u001b[0m \u001b[38;5;28;01mreturn\u001b[39;00m ParameterValues\u001b[38;5;241m.\u001b[39m_create_from_bpx(bpx, target_soc)\n",
      "File \u001b[0;32m~/Projects/PyBaMM_fork/.venv/lib/python3.12/site-packages/bpx/parsers.py:57\u001b[0m, in \u001b[0;36mparse_bpx_file\u001b[0;34m(filename, v_tol)\u001b[0m\n\u001b[1;32m     54\u001b[0m     \u001b[38;5;28;01mwith\u001b[39;00m Path(filename)\u001b[38;5;241m.\u001b[39mopen(encoding\u001b[38;5;241m=\u001b[39m\u001b[38;5;124m\"\u001b[39m\u001b[38;5;124mutf-8\u001b[39m\u001b[38;5;124m\"\u001b[39m) \u001b[38;5;28;01mas\u001b[39;00m f:\n\u001b[1;32m     55\u001b[0m         bpx \u001b[38;5;241m=\u001b[39m json\u001b[38;5;241m.\u001b[39mloads(f\u001b[38;5;241m.\u001b[39mread())\n\u001b[0;32m---> 57\u001b[0m \u001b[38;5;28;01mreturn\u001b[39;00m \u001b[43mparse_bpx_obj\u001b[49m\u001b[43m(\u001b[49m\u001b[43mbpx\u001b[49m\u001b[43m,\u001b[49m\u001b[43m \u001b[49m\u001b[43mv_tol\u001b[49m\u001b[43m)\u001b[49m\n",
      "File \u001b[0;32m~/Projects/PyBaMM_fork/.venv/lib/python3.12/site-packages/bpx/parsers.py:29\u001b[0m, in \u001b[0;36mparse_bpx_obj\u001b[0;34m(bpx, v_tol)\u001b[0m\n\u001b[1;32m     25\u001b[0m     \u001b[38;5;28;01mraise\u001b[39;00m \u001b[38;5;167;01mValueError\u001b[39;00m(error_msg)\n\u001b[1;32m     27\u001b[0m BPX\u001b[38;5;241m.\u001b[39mSettings\u001b[38;5;241m.\u001b[39mtolerances[\u001b[38;5;124m\"\u001b[39m\u001b[38;5;124mVoltage [V]\u001b[39m\u001b[38;5;124m\"\u001b[39m] \u001b[38;5;241m=\u001b[39m v_tol\n\u001b[0;32m---> 29\u001b[0m \u001b[38;5;28;01mreturn\u001b[39;00m \u001b[43mBPX\u001b[49m\u001b[38;5;241;43m.\u001b[39;49m\u001b[43mmodel_validate\u001b[49m\u001b[43m(\u001b[49m\u001b[43mbpx\u001b[49m\u001b[43m)\u001b[49m\n",
      "    \u001b[0;31m[... skipping hidden 1 frame]\u001b[0m\n",
      "File \u001b[0;32m~/Projects/PyBaMM_fork/.venv/lib/python3.12/site-packages/pydantic/_internal/_decorators_v1.py:171\u001b[0m, in \u001b[0;36mmake_v1_generic_root_validator.<locals>._wrapper2\u001b[0;34m(fields_tuple, _)\u001b[0m\n\u001b[1;32m    169\u001b[0m             model_extra[k] \u001b[38;5;241m=\u001b[39m model_dict_new\u001b[38;5;241m.\u001b[39mpop(k)\n\u001b[1;32m    170\u001b[0m \u001b[38;5;28;01melse\u001b[39;00m:\n\u001b[0;32m--> 171\u001b[0m     model_dict_new \u001b[38;5;241m=\u001b[39m \u001b[43mvalidator\u001b[49m\u001b[43m(\u001b[49m\u001b[43mmodel_dict\u001b[49m\u001b[43m)\u001b[49m\n\u001b[1;32m    172\u001b[0m \u001b[38;5;28;01mreturn\u001b[39;00m model_dict_new, model_extra, fields_set\n",
      "File \u001b[0;32m~/Projects/PyBaMM_fork/.venv/lib/python3.12/site-packages/bpx/validators.py:15\u001b[0m, in \u001b[0;36mcheck_sto_limits\u001b[0;34m(cls, values)\u001b[0m\n\u001b[1;32m      7\u001b[0m \u001b[38;5;250m\u001b[39m\u001b[38;5;124;03m\"\"\"\u001b[39;00m\n\u001b[1;32m      8\u001b[0m \u001b[38;5;124;03mValidates that the STO limits subbed into the OCPs give the correct voltage limits.\u001b[39;00m\n\u001b[1;32m      9\u001b[0m \u001b[38;5;124;03mWorks if both OCPs are defined as functions.\u001b[39;00m\n\u001b[1;32m     10\u001b[0m \u001b[38;5;124;03mBlended electrodes are not supported.\u001b[39;00m\n\u001b[1;32m     11\u001b[0m \u001b[38;5;124;03mThis is a reusable validator to be used for both DFN/SPMe and SPM parameter sets.\u001b[39;00m\n\u001b[1;32m     12\u001b[0m \u001b[38;5;124;03m\"\"\"\u001b[39;00m\n\u001b[1;32m     14\u001b[0m \u001b[38;5;28;01mtry\u001b[39;00m:\n\u001b[0;32m---> 15\u001b[0m     ocp_n \u001b[38;5;241m=\u001b[39m \u001b[43mvalues\u001b[49m\u001b[38;5;241;43m.\u001b[39;49m\u001b[43mget\u001b[49m\u001b[43m(\u001b[49m\u001b[38;5;124;43m\"\u001b[39;49m\u001b[38;5;124;43mnegative_electrode\u001b[39;49m\u001b[38;5;124;43m\"\u001b[39;49m\u001b[43m)\u001b[49m\u001b[38;5;241;43m.\u001b[39;49m\u001b[43mocp\u001b[49m\u001b[38;5;241;43m.\u001b[39;49m\u001b[43mto_python_function\u001b[49m\u001b[43m(\u001b[49m\u001b[43m)\u001b[49m\n\u001b[1;32m     16\u001b[0m     ocp_p \u001b[38;5;241m=\u001b[39m values\u001b[38;5;241m.\u001b[39mget(\u001b[38;5;124m\"\u001b[39m\u001b[38;5;124mpositive_electrode\u001b[39m\u001b[38;5;124m\"\u001b[39m)\u001b[38;5;241m.\u001b[39mocp\u001b[38;5;241m.\u001b[39mto_python_function()\n\u001b[1;32m     17\u001b[0m \u001b[38;5;28;01mexcept\u001b[39;00m \u001b[38;5;167;01mAttributeError\u001b[39;00m:\n\u001b[1;32m     18\u001b[0m     \u001b[38;5;66;03m# OCPs defined as interpolated tables or one of the electrodes is blended; do nothing\u001b[39;00m\n",
      "File \u001b[0;32m~/Projects/PyBaMM_fork/.venv/lib/python3.12/site-packages/bpx/function.py:108\u001b[0m, in \u001b[0;36mFunction.to_python_function\u001b[0;34m(self, preamble)\u001b[0m\n\u001b[1;32m    106\u001b[0m         cached_path \u001b[38;5;241m=\u001b[39m cached_file\u001b[38;5;241m.\u001b[39mparent\n\u001b[1;32m    107\u001b[0m         cached_file\u001b[38;5;241m.\u001b[39munlink(missing_ok\u001b[38;5;241m=\u001b[39m\u001b[38;5;28;01mTrue\u001b[39;00m)\n\u001b[0;32m--> 108\u001b[0m         \u001b[38;5;28;01mif\u001b[39;00m \u001b[38;5;129;01mnot\u001b[39;00m \u001b[38;5;28;43many\u001b[39;49m\u001b[43m(\u001b[49m\u001b[43mcached_path\u001b[49m\u001b[38;5;241;43m.\u001b[39;49m\u001b[43miterdir\u001b[49m\u001b[43m(\u001b[49m\u001b[43m)\u001b[49m\u001b[43m)\u001b[49m:\n\u001b[1;32m    109\u001b[0m             cached_path\u001b[38;5;241m.\u001b[39mrmdir()\n\u001b[1;32m    111\u001b[0m \u001b[38;5;66;03m# return the new function object\u001b[39;00m\n",
      "File \u001b[0;32m~/anaconda3/lib/python3.12/pathlib.py:1056\u001b[0m, in \u001b[0;36mPath.iterdir\u001b[0;34m(self)\u001b[0m\n\u001b[1;32m   1050\u001b[0m \u001b[38;5;28;01mdef\u001b[39;00m \u001b[38;5;21miterdir\u001b[39m(\u001b[38;5;28mself\u001b[39m):\n\u001b[1;32m   1051\u001b[0m \u001b[38;5;250m    \u001b[39m\u001b[38;5;124;03m\"\"\"Yield path objects of the directory contents.\u001b[39;00m\n\u001b[1;32m   1052\u001b[0m \n\u001b[1;32m   1053\u001b[0m \u001b[38;5;124;03m    The children are yielded in arbitrary order, and the\u001b[39;00m\n\u001b[1;32m   1054\u001b[0m \u001b[38;5;124;03m    special entries '.' and '..' are not included.\u001b[39;00m\n\u001b[1;32m   1055\u001b[0m \u001b[38;5;124;03m    \"\"\"\u001b[39;00m\n\u001b[0;32m-> 1056\u001b[0m     \u001b[38;5;28;01mfor\u001b[39;00m name \u001b[38;5;129;01min\u001b[39;00m \u001b[43mos\u001b[49m\u001b[38;5;241;43m.\u001b[39;49m\u001b[43mlistdir\u001b[49m\u001b[43m(\u001b[49m\u001b[38;5;28;43mself\u001b[39;49m\u001b[43m)\u001b[49m:\n\u001b[1;32m   1057\u001b[0m         \u001b[38;5;28;01myield\u001b[39;00m \u001b[38;5;28mself\u001b[39m\u001b[38;5;241m.\u001b[39m_make_child_relpath(name)\n",
      "\u001b[0;31mFileNotFoundError\u001b[0m: [Errno 2] No such file or directory: '/var/folders/3l/n9yvdjyj2xq9_73p6hqkm9500000gn/T/__pycache__'"
     ]
    }
   ],
   "source": [
    "parameter_values = pybamm.ParameterValues.create_from_bpx(path_to_bpx_file)"
   ]
  },
  {
   "cell_type": "markdown",
   "metadata": {},
   "source": [
    "Alternatively, we can create a `ParameterValues` object from a BPX JSON object as `pybamm.ParameterValues.create_from_bpx_obj(bpx_obj)`\n"
   ]
  },
  {
   "cell_type": "markdown",
   "metadata": {},
   "source": [
    "We can take a look at the parameter values we have loaded, and interact with them like any other `ParameterValues` object. For example, we can search for parameters containing the text \"Negative electrode\"."
   ]
  },
  {
   "cell_type": "code",
   "execution_count": null,
   "metadata": {},
   "outputs": [],
   "source": [
    "parameter_values.search(\"Negative electrode\")"
   ]
  },
  {
   "cell_type": "markdown",
   "metadata": {},
   "source": [
    "Next we load a model and create a simulation, passing in our parameter values."
   ]
  },
  {
   "cell_type": "code",
   "execution_count": null,
   "metadata": {},
   "outputs": [],
   "source": [
    "model = pybamm.lithium_ion.DFN()\n",
    "sim = pybamm.Simulation(model, parameter_values=parameter_values)"
   ]
  },
  {
   "cell_type": "markdown",
   "metadata": {},
   "source": [
    "Finally, we can solve the model and plot the results."
   ]
  },
  {
   "cell_type": "code",
   "execution_count": null,
   "metadata": {},
   "outputs": [],
   "source": [
    "# solve for 1 hour\n",
    "sim.solve([0, 3600])\n",
    "_ = sim.plot()"
   ]
  },
  {
   "cell_type": "markdown",
   "metadata": {},
   "source": [
    "We can also plot the parameters some of the parameters we loaded. Here we will plot the electrolyte conductivity and diffusivity, as well as the particle diffusivity, exchange-current density and open-circuit potential for the positive and negative electrodes over their respective stoichiometry ranges."
   ]
  },
  {
   "cell_type": "code",
   "execution_count": null,
   "metadata": {},
   "outputs": [],
   "source": [
    "# define stoichiometry ranges\n",
    "xLi_n_max = parameter_values[\"Negative electrode maximum stoichiometry\"]\n",
    "xLi_n_min = parameter_values[\"Negative electrode minimum stoichiometry\"]\n",
    "xLi_n = pybamm.linspace(xLi_n_min, xLi_n_max, 200)\n",
    "xLi_p_max = parameter_values[\"Positive electrode maximum stoichiometry\"]\n",
    "xLi_p_min = parameter_values[\"Positive electrode minimum stoichiometry\"]\n",
    "xLi_p = pybamm.linspace(xLi_p_min, xLi_p_max, 200)\n",
    "\n",
    "# define concentration ranges\n",
    "c_n_max = parameter_values[\"Maximum concentration in negative electrode [mol.m-3]\"]\n",
    "c_p_max = parameter_values[\"Maximum concentration in positive electrode [mol.m-3]\"]\n",
    "c_n = xLi_n * c_n_max\n",
    "c_p = xLi_p * c_p_max\n",
    "c_e = pybamm.linspace(0, 2000, 200)\n",
    "\n",
    "c_e_ref = parameter_values[\"Initial concentration in electrolyte [mol.m-3]\"]\n",
    "T = parameter_values[\"Reference temperature [K]\"]\n",
    "\n",
    "# create figure\n",
    "fig, ax = plt.subplots(4, 2, figsize=(16, 12))\n",
    "\n",
    "ax[0, 0].plot(\n",
    "    c_e.entries,\n",
    "    parameter_values.evaluate(\n",
    "        parameter_values[\"Electrolyte conductivity [S.m-1]\"](c_e, T)\n",
    "    ),\n",
    ")\n",
    "ax[0, 0].set(xlabel=\"$c_e$ [mol/m3]\", ylabel=\"$\\kappa$ [S.m-1]\")\n",
    "ax[0, 1].plot(\n",
    "    c_e.entries,\n",
    "    parameter_values.evaluate(\n",
    "        parameter_values[\"Electrolyte diffusivity [m2.s-1]\"](c_e, T)\n",
    "    ),\n",
    ")\n",
    "ax[0, 1].set(xlabel=\"$c_e$ [mol/m3]\", ylabel=\"$D_e$ [S.m-1]\")\n",
    "ax[1, 0].plot(\n",
    "    xLi_n.entries,\n",
    "    parameter_values.evaluate(\n",
    "        parameter_values[\"Negative electrode diffusivity [m2.s-1]\"](xLi_n, T)\n",
    "    )\n",
    "    * np.ones_like(xLi_n.entries),\n",
    ")\n",
    "ax[1, 0].set(xlabel=\"sto [-]\", ylabel=\"$D_n$ [S.m-1]\")\n",
    "ax[1, 1].plot(\n",
    "    xLi_p.entries,\n",
    "    parameter_values.evaluate(\n",
    "        parameter_values[\"Positive electrode diffusivity [m2.s-1]\"](xLi_p, T)\n",
    "    )\n",
    "    * np.ones_like(xLi_p.entries),\n",
    ")\n",
    "ax[1, 1].set(xlabel=\"sto [-]\", ylabel=\"$D_n$ [S.m-1]\")\n",
    "ax[2, 0].plot(\n",
    "    xLi_n.entries,\n",
    "    parameter_values.evaluate(\n",
    "        parameter_values[\"Negative electrode exchange-current density [A.m-2]\"](\n",
    "            c_e_ref, c_n, c_n_max, T\n",
    "        )\n",
    "    ),\n",
    ")\n",
    "ax[2, 0].set(xlabel=\"sto [-]\", ylabel=\"$j_n$ [A.m-2]\")\n",
    "ax[2, 1].plot(\n",
    "    xLi_p.entries,\n",
    "    parameter_values.evaluate(\n",
    "        parameter_values[\"Positive electrode exchange-current density [A.m-2]\"](\n",
    "            c_e_ref, c_p, c_p_max, T\n",
    "        )\n",
    "    ),\n",
    ")\n",
    "ax[2, 1].set(xlabel=\"sto [-]\", ylabel=\"$j_p$ [A.m-2]\")\n",
    "ax[3, 0].plot(\n",
    "    xLi_n.entries, parameter_values[\"Negative electrode OCP [V]\"](xLi_n).entries\n",
    ")\n",
    "ax[3, 0].set(xlabel=\"sto [-]\", ylabel=\"$U_n$ [V]\")\n",
    "ax[3, 1].plot(\n",
    "    xLi_p.entries, parameter_values[\"Positive electrode OCP [V]\"](xLi_p).entries\n",
    ")\n",
    "ax[3, 1].set(xlabel=\"sto [-]\", ylabel=\"$U_p$ [V]\")\n",
    "\n",
    "plt.tight_layout()\n",
    "plt.show()"
   ]
  },
  {
   "cell_type": "markdown",
   "metadata": {},
   "source": [
    "## References\n",
    "\n",
    "The relevant papers for this notebook are:"
   ]
  },
  {
   "cell_type": "code",
   "execution_count": null,
   "metadata": {},
   "outputs": [],
   "source": [
    "pybamm.print_citations()"
   ]
  }
 ],
 "metadata": {
  "kernelspec": {
   "display_name": "env",
   "language": "python",
   "name": "python3"
  },
  "language_info": {
   "codemirror_mode": {
    "name": "ipython",
    "version": 3
   },
   "file_extension": ".py",
   "mimetype": "text/x-python",
   "name": "python",
   "nbconvert_exporter": "python",
   "pygments_lexer": "ipython3",
   "version": "3.11.5"
  }
 },
 "nbformat": 4,
 "nbformat_minor": 2
}
