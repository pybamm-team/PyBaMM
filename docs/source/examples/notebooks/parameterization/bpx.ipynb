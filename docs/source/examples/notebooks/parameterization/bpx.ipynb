{
 "cells": [
  {
   "cell_type": "markdown",
   "metadata": {},
   "source": [
    "# Using Battery Parameter eXchange (BPX) files\n",
    "\n",
    "In this notebook we how to import parameters defined using the [BPX standard](https://github.com/FaradayInstitution/BPX)."
   ]
  },
  {
   "cell_type": "code",
   "execution_count": null,
   "metadata": {},
   "outputs": [],
   "source": [
    "%pip install \"pybamm[plot,cite]\" -q    # install PyBaMM if it is not installed\n",
    "import pybamm\n",
    "import matplotlib.pyplot as plt\n",
    "import numpy as np"
   ]
  },
  {
   "cell_type": "markdown",
   "metadata": {},
   "source": [
    "First we load an example BPX file from the [pybamm-data](https://github.com/pybamm-team/pybamm-data/releases) repository using the `DataLoader` class. For more information on the `DataLoader` class, see the [pybamm_data](../pybamm_data.ipynb) notebook."
   ]
  },
  {
   "cell_type": "code",
   "execution_count": null,
   "metadata": {},
   "outputs": [],
   "source": [
    "path_to_bpx_file = pybamm.DataLoader().get_data(\"nmc_pouch_cell_BPX.json\")"
   ]
  },
  {
   "cell_type": "markdown",
   "metadata": {},
   "source": [
    "We can create a `ParameterValues` object from a BPX file using the `create_from_bpx` method. We pass in the path to the BPX file."
   ]
  },
  {
   "cell_type": "code",
   "execution_count": null,
   "metadata": {},
   "outputs": [],
   "source": [
    "parameter_values = pybamm.ParameterValues.create_from_bpx(path_to_bpx_file)"
   ]
  },
  {
   "cell_type": "markdown",
   "metadata": {},
   "source": [
    "Alternatively, we can create a `ParameterValues` object from a BPX JSON object as `pybamm.ParameterValues.create_from_bpx_obj(bpx_obj)`\n"
   ]
  },
  {
   "cell_type": "markdown",
   "metadata": {},
   "source": [
    "We can take a look at the parameter values we have loaded, and interact with them like any other `ParameterValues` object. For example, we can search for parameters containing the text \"Negative electrode\"."
   ]
  },
  {
   "cell_type": "code",
   "execution_count": null,
   "metadata": {},
   "outputs": [],
   "source": [
    "parameter_values.search(\"Negative electrode\")"
   ]
  },
  {
   "cell_type": "markdown",
   "metadata": {},
   "source": [
    "Next we load a model and create a simulation, passing in our parameter values."
   ]
  },
  {
   "cell_type": "code",
   "execution_count": null,
   "metadata": {},
   "outputs": [],
   "source": [
    "model = pybamm.lithium_ion.DFN()\n",
    "sim = pybamm.Simulation(model, parameter_values=parameter_values)"
   ]
  },
  {
   "cell_type": "markdown",
   "metadata": {},
   "source": [
    "Finally, we can solve the model and plot the results."
   ]
  },
  {
   "cell_type": "code",
   "execution_count": null,
   "metadata": {},
   "outputs": [],
   "source": [
    "# solve for 1 hour\n",
    "sim.solve([0, 3600])\n",
    "_ = sim.plot()"
   ]
  },
  {
   "cell_type": "markdown",
   "metadata": {},
   "source": [
    "We can also plot the parameters some of the parameters we loaded. Here we will plot the electrolyte conductivity and diffusivity, as well as the particle diffusivity, exchange-current density and open-circuit potential for the positive and negative electrodes over their respective stoichiometry ranges."
   ]
  },
  {
   "cell_type": "code",
   "execution_count": null,
   "metadata": {},
   "outputs": [],
   "source": [
    "# define stoichiometry ranges\n",
    "xLi_n_max = parameter_values[\"Negative electrode maximum stoichiometry\"]\n",
    "xLi_n_min = parameter_values[\"Negative electrode minimum stoichiometry\"]\n",
    "xLi_n = pybamm.linspace(xLi_n_min, xLi_n_max, 200)\n",
    "xLi_p_max = parameter_values[\"Positive electrode maximum stoichiometry\"]\n",
    "xLi_p_min = parameter_values[\"Positive electrode minimum stoichiometry\"]\n",
    "xLi_p = pybamm.linspace(xLi_p_min, xLi_p_max, 200)\n",
    "\n",
    "# define concentration ranges\n",
    "c_n_max = parameter_values[\"Maximum concentration in negative electrode [mol.m-3]\"]\n",
    "c_p_max = parameter_values[\"Maximum concentration in positive electrode [mol.m-3]\"]\n",
    "c_n = xLi_n * c_n_max\n",
    "c_p = xLi_p * c_p_max\n",
    "c_e = pybamm.linspace(0, 2000, 200)\n",
    "\n",
    "c_e_ref = parameter_values[\"Initial concentration in electrolyte [mol.m-3]\"]\n",
    "T = parameter_values[\"Reference temperature [K]\"]\n",
    "\n",
    "# create figure\n",
    "fig, ax = plt.subplots(4, 2, figsize=(16, 12))\n",
    "\n",
    "ax[0, 0].plot(\n",
    "    c_e.entries,\n",
    "    parameter_values.evaluate(\n",
    "        parameter_values[\"Electrolyte conductivity [S.m-1]\"](c_e, T)\n",
    "    ),\n",
    ")\n",
    "ax[0, 0].set(xlabel=\"$c_e$ [mol/m3]\", ylabel=\"$\\kappa$ [S.m-1]\")\n",
    "ax[0, 1].plot(\n",
    "    c_e.entries,\n",
    "    parameter_values.evaluate(\n",
    "        parameter_values[\"Electrolyte diffusivity [m2.s-1]\"](c_e, T)\n",
    "    ),\n",
    ")\n",
    "ax[0, 1].set(xlabel=\"$c_e$ [mol/m3]\", ylabel=\"$D_e$ [S.m-1]\")\n",
    "ax[1, 0].plot(\n",
    "    xLi_n.entries,\n",
    "    parameter_values.evaluate(\n",
    "        parameter_values[\"Negative electrode diffusivity [m2.s-1]\"](xLi_n, T)\n",
    "    )\n",
    "    * np.ones_like(xLi_n.entries),\n",
    ")\n",
    "ax[1, 0].set(xlabel=\"sto [-]\", ylabel=\"$D_n$ [S.m-1]\")\n",
    "ax[1, 1].plot(\n",
    "    xLi_p.entries,\n",
    "    parameter_values.evaluate(\n",
    "        parameter_values[\"Positive electrode diffusivity [m2.s-1]\"](xLi_p, T)\n",
    "    )\n",
    "    * np.ones_like(xLi_p.entries),\n",
    ")\n",
    "ax[1, 1].set(xlabel=\"sto [-]\", ylabel=\"$D_n$ [S.m-1]\")\n",
    "ax[2, 0].plot(\n",
    "    xLi_n.entries,\n",
    "    parameter_values.evaluate(\n",
    "        parameter_values[\"Negative electrode exchange-current density [A.m-2]\"](\n",
    "            c_e_ref, c_n, c_n_max, T\n",
    "        )\n",
    "    ),\n",
    ")\n",
    "ax[2, 0].set(xlabel=\"sto [-]\", ylabel=\"$j_n$ [A.m-2]\")\n",
    "ax[2, 1].plot(\n",
    "    xLi_p.entries,\n",
    "    parameter_values.evaluate(\n",
    "        parameter_values[\"Positive electrode exchange-current density [A.m-2]\"](\n",
    "            c_e_ref, c_p, c_p_max, T\n",
    "        )\n",
    "    ),\n",
    ")\n",
    "ax[2, 1].set(xlabel=\"sto [-]\", ylabel=\"$j_p$ [A.m-2]\")\n",
    "ax[3, 0].plot(\n",
    "    xLi_n.entries, parameter_values[\"Negative electrode OCP [V]\"](xLi_n).entries\n",
    ")\n",
    "ax[3, 0].set(xlabel=\"sto [-]\", ylabel=\"$U_n$ [V]\")\n",
    "ax[3, 1].plot(\n",
    "    xLi_p.entries, parameter_values[\"Positive electrode OCP [V]\"](xLi_p).entries\n",
    ")\n",
    "ax[3, 1].set(xlabel=\"sto [-]\", ylabel=\"$U_p$ [V]\")\n",
    "\n",
    "plt.tight_layout()\n",
    "plt.show()"
   ]
  },
  {
   "cell_type": "markdown",
   "metadata": {},
   "source": [
    "## References\n",
    "\n",
    "The relevant papers for this notebook are:"
   ]
  },
  {
   "cell_type": "code",
   "execution_count": null,
   "metadata": {},
   "outputs": [],
   "source": [
    "pybamm.print_citations()"
   ]
  }
 ],
 "metadata": {
  "kernelspec": {
   "language": "python"
  },
  "language_info": {
   "codemirror_mode": {
    "name": "ipython",
    "version": 3
   },
   "file_extension": ".py",
   "mimetype": "text/x-python",
   "name": "python",
   "nbconvert_exporter": "python",
   "pygments_lexer": "ipython3"
  }
 },
 "nbformat": 4,
 "nbformat_minor": 2
}
