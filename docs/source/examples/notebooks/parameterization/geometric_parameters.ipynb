{
 "cells": [
  {
   "cell_type": "code",
   "execution_count": 14,
   "metadata": {},
   "outputs": [],
   "source": [
    "%matplotlib inline"
   ]
  },
  {
   "cell_type": "markdown",
   "metadata": {},
   "source": [
    "# Optimizing geometric parameters"
   ]
  },
  {
   "cell_type": "markdown",
   "metadata": {},
   "source": [
    "The pybamm.InputParameter is a powerful feature that enables efficient model reuse. It allows you to run multiple simulations with different parameter values without rebuilding the model, which significantly reduces computational overhead. However, it is not compatible with the standard meshes and finite volume code available in pybamm. This notebook shows how to use an alternative mesh implemented to allow for the use of pybamm.InputParameter. Unfortunately, this mesh is not compatible with the standard pybamm models, so custom models must be implemented for use. This limitation may be removed in future versions of pybamm."
   ]
  },
  {
   "cell_type": "code",
   "execution_count": 15,
   "metadata": {},
   "outputs": [],
   "source": [
    "import pybamm\n",
    "import numpy as np\n",
    "import matplotlib.pyplot as plt\n",
    "\n",
    "domain_left = \"left domain\"\n",
    "domain_right = \"right domain\""
   ]
  },
  {
   "cell_type": "markdown",
   "metadata": {},
   "source": [
    "## The model\n",
    "\n",
    "The model we will use is a one dimensional model of diffusion in cartesian coordinates. The model has two domains (left and right) with different diffusion coefficients, $D_l$ and $D_r$, and lengths. It is parameterized by the x coordinate of the left, right, and middle points, denoted $L_{min}$, $L_{mid}$, and $L_{max}$."
   ]
  },
  {
   "cell_type": "code",
   "execution_count": 63,
   "metadata": {},
   "outputs": [],
   "source": [
    "phi_left = pybamm.Variable(\"phi_left\", domain=domain_left)\n",
    "x_left = pybamm.SpatialVariable(\"x\", domain=domain_left, coord_sys=\"cartesian\")\n",
    "\n",
    "phi_right = pybamm.Variable(\"phi_right\", domain=domain_right)\n",
    "x_right = pybamm.SpatialVariable(\"x\", domain=domain_right, coord_sys=\"cartesian\")\n",
    "\n",
    "\n",
    "class TwoTankModel(pybamm.BaseModel):\n",
    "    def __init__(self):\n",
    "        super().__init__()\n",
    "        x = pybamm.concatenation(x_left, x_right)\n",
    "        D_left = pybamm.Parameter(\"D_l\")\n",
    "        D_right = pybamm.Parameter(\"D_r\")\n",
    "\n",
    "        left_flux = -D_left * pybamm.grad(phi_left)\n",
    "        right_flux = -D_right * pybamm.grad(phi_right)\n",
    "        flux = pybamm.concatenation(left_flux, right_flux)\n",
    "        source_left = pybamm.PrimaryBroadcast(pybamm.Scalar(10), domain_left)\n",
    "        source_right = pybamm.PrimaryBroadcast(pybamm.Scalar(0), domain_right)\n",
    "        source = pybamm.concatenation(source_left, source_right)\n",
    "\n",
    "        self.rhs = {\n",
    "            phi_left: -pybamm.div(left_flux) + source_left,\n",
    "            phi_right: -pybamm.div(right_flux) + source_right,\n",
    "        }\n",
    "        self.initial_conditions = {phi_left: 0, phi_right: 0}\n",
    "        self.boundary_conditions = {\n",
    "            phi_left: {\n",
    "                \"left\": (pybamm.Scalar(0), \"Dirichlet\"),\n",
    "                \"right\": (\n",
    "                    (D_right / D_left)\n",
    "                    * pybamm.boundary_gradient(phi_right, side=\"left\"),\n",
    "                    \"Neumann\",\n",
    "                ),\n",
    "            },\n",
    "            phi_right: {\n",
    "                \"left\": (pybamm.boundary_value(phi_left, side=\"right\"), \"Dirichlet\"),\n",
    "                \"right\": (pybamm.Scalar(0), \"Dirichlet\"),\n",
    "            },\n",
    "        }\n",
    "        phi = pybamm.concatenation(phi_left, phi_right)\n",
    "        my_grad_phi = pybamm.grad(phi)\n",
    "        self.variables = {\n",
    "            \"my_grad_phi\": my_grad_phi,\n",
    "            \"phi_left\": phi_left,\n",
    "            \"phi_right\": phi_right,\n",
    "            \"phi\": phi,\n",
    "            \"source_left\": source_left,\n",
    "            \"source_right\": source_right,\n",
    "            \"source\": source,\n",
    "        }\n",
    "\n",
    "        # define geometry\n",
    "        grad_phi_left = pybamm.grad(phi_left)\n",
    "        grad_phi_right = pybamm.grad(phi_right)\n",
    "        self.variables.update(\n",
    "            {\n",
    "                \"x\": x,\n",
    "                \"grad_phi_left\": grad_phi_left,\n",
    "                \"grad_phi_right\": grad_phi_right,\n",
    "                \"left_flux\": left_flux,\n",
    "                \"right_flux\": right_flux,\n",
    "                \"flux\": flux,\n",
    "            }\n",
    "        )"
   ]
  },
  {
   "cell_type": "markdown",
   "metadata": {},
   "source": [
    "## Non-symbolic mesh\n",
    "\n",
    "We begin by showing how this process would work without using the symbolic mesh. We will use the default mesh, which is a uniform mesh with 50 points. We put the code in a function to show difference in time needed to change the parameters later on."
   ]
  },
  {
   "cell_type": "code",
   "execution_count": 64,
   "metadata": {},
   "outputs": [
    {
     "data": {
      "text/plain": [
       "<matplotlib.legend.Legend at 0x33dec79b0>"
      ]
     },
     "execution_count": 64,
     "metadata": {},
     "output_type": "execute_result"
    },
    {
     "data": {
      "image/png": "[encoded data removed]",
      "text/plain": [
       "<Figure size 640x480 with 1 Axes>"
      ]
     },
     "metadata": {},
     "output_type": "display_data"
    }
   ],
   "source": [
    "fig, ax = plt.subplots()\n",
    "\n",
    "T = 10\n",
    "\n",
    "## Uniform mesh\n",
    "model = TwoTankModel()\n",
    "submesh_types = {\n",
    "    \"left domain\": pybamm.Uniform1DSubMesh,\n",
    "    \"right domain\": pybamm.Uniform1DSubMesh,\n",
    "}\n",
    "var_pts = {x_left: 20, x_right: 20}\n",
    "param = pybamm.ParameterValues({\"D_l\": 2, \"D_r\": 6})\n",
    "param.process_model(model)\n",
    "# solve\n",
    "t = np.linspace(0, T, 100)\n",
    "spatial_methods = {\n",
    "    \"left domain\": pybamm.FiniteVolume(),\n",
    "    \"right domain\": pybamm.FiniteVolume(),\n",
    "}\n",
    "\n",
    "\n",
    "def solve_model_with_uniform_mesh(L_min, L_mid, L_max):\n",
    "    geometry = {\n",
    "        \"left domain\": {\n",
    "            x_left: {\"min\": pybamm.Scalar(L_min), \"max\": pybamm.Scalar(L_mid)}\n",
    "        },\n",
    "        \"right domain\": {\n",
    "            x_right: {\"min\": pybamm.Scalar(L_mid), \"max\": pybamm.Scalar(L_max)}\n",
    "        },\n",
    "    }\n",
    "    # mesh and discretise\n",
    "    param.process_geometry(geometry)\n",
    "    mesh = pybamm.Mesh(geometry, submesh_types, var_pts)\n",
    "\n",
    "    disc = pybamm.Discretisation(mesh, spatial_methods)\n",
    "    built_model = disc.process_model(model, inplace=False)\n",
    "    solver = pybamm.CasadiSolver()\n",
    "    solution = solver.solve(built_model, t)\n",
    "    return solution\n",
    "\n",
    "\n",
    "solution = solve_model_with_uniform_mesh(1, 3, 6)\n",
    "ax.plot(solution[\"x\"](t=T), solution[\"phi\"](t=T), label=\"Uniform mesh\")\n",
    "ax.set_xlabel(\"x [m]\")\n",
    "ax.set_ylabel(r\"$\\phi$\")\n",
    "ax.legend()"
   ]
  },
  {
   "cell_type": "markdown",
   "metadata": {},
   "source": [
    "## Symbolic mesh\n",
    "\n",
    "We now show how to use the symbolic mesh to optimize the geometric parameters. The only difference in the two codes is that we must use the pybamm.SymbolicUniform1DSubMesh as the submesh type."
   ]
  },
  {
   "cell_type": "code",
   "execution_count": 65,
   "metadata": {},
   "outputs": [
    {
     "data": {
      "text/plain": [
       "<matplotlib.legend.Legend at 0x33dec6db0>"
      ]
     },
     "execution_count": 65,
     "metadata": {},
     "output_type": "execute_result"
    },
    {
     "data": {
      "image/png": "[encoded data removed]",
      "text/plain": [
       "<Figure size 640x480 with 1 Axes>"
      ]
     },
     "metadata": {},
     "output_type": "display_data"
    }
   ],
   "source": [
    "# this is here so that both are shown in the plot\n",
    "fig, ax = plt.subplots()\n",
    "ax.plot(solution[\"x\"](t=T), solution[\"phi\"](t=T), label=\"Uniform mesh\")\n",
    "ax.set_xlabel(\"x [m]\")\n",
    "ax.set_ylabel(r\"$\\phi$\")\n",
    "ax.legend()\n",
    "\n",
    "T = 10\n",
    "model_symbolic = TwoTankModel()\n",
    "L_min = pybamm.InputParameter(\"L_min\")\n",
    "L_mid = pybamm.InputParameter(\"L_mid\")\n",
    "L_max = pybamm.InputParameter(\"L_max\")\n",
    "geometry_symbolic = {\n",
    "    \"left domain\": {x_left: {\"min\": L_min, \"max\": L_mid}},\n",
    "    \"right domain\": {x_right: {\"min\": L_mid, \"max\": L_max}},\n",
    "}\n",
    "\n",
    "\n",
    "# mesh and discretise\n",
    "submesh_types = {\n",
    "    \"left domain\": pybamm.SymbolicUniform1DSubMesh,\n",
    "    \"right domain\": pybamm.SymbolicUniform1DSubMesh,\n",
    "}\n",
    "var_pts = {x_left: 20, x_right: 20}\n",
    "\n",
    "param = pybamm.ParameterValues({\"D_l\": 2, \"D_r\": 6})\n",
    "param.process_model(model_symbolic)\n",
    "param.process_geometry(geometry_symbolic)\n",
    "\n",
    "mesh = pybamm.Mesh(geometry_symbolic, submesh_types, var_pts)\n",
    "\n",
    "spatial_methods = {\n",
    "    \"left domain\": pybamm.FiniteVolume(),\n",
    "    \"right domain\": pybamm.FiniteVolume(),\n",
    "}\n",
    "disc = pybamm.Discretisation(mesh, spatial_methods)\n",
    "disc.process_model(model_symbolic)\n",
    "\n",
    "# solve\n",
    "solver = pybamm.CasadiSolver()\n",
    "\n",
    "t = np.linspace(0, T, 100)\n",
    "\n",
    "\n",
    "def solve_model_with_symbolic_mesh(L_min, L_mid, L_max):\n",
    "    solution = solver.solve(\n",
    "        model_symbolic, t, inputs={\"L_min\": L_min, \"L_mid\": L_mid, \"L_max\": L_max}\n",
    "    )\n",
    "    return solution\n",
    "\n",
    "\n",
    "solution = solve_model_with_symbolic_mesh(1, 3, 6)\n",
    "ax.plot(solution[\"x\"](t=T), solution[\"phi\"](t=T), label=\"Symbolic mesh\", linestyle=\"--\")\n",
    "ax.legend()"
   ]
  },
  {
   "cell_type": "markdown",
   "metadata": {},
   "source": [
    "# Showing the difference in time needed to change the parameters\n",
    "\n",
    "Finally, we show the difference in time needed to change the parameters. Using the symbolic mesh results in a ~10x speedup due to the omission of the model build and discretisation steps. While this speedup is relatively small for one iteration, it becomes significant when iterating over many parameter values such as in large parameter sweeps or optimization problems."
   ]
  },
  {
   "cell_type": "code",
   "execution_count": 66,
   "metadata": {},
   "outputs": [
    {
     "name": "stdout",
     "output_type": "stream",
     "text": [
      "Time for uniform mesh: 0.9784301669569686 seconds\n",
      "Time for symbolic mesh: 0.08917787508107722 seconds\n",
      "Ratio: 10.97166944230748\n"
     ]
    }
   ],
   "source": [
    "import timeit\n",
    "\n",
    "time_uniform = timeit.timeit(lambda: solve_model_with_uniform_mesh(1, 3, 5), number=100)\n",
    "time_symbolic = timeit.timeit(\n",
    "    lambda: solve_model_with_symbolic_mesh(1, 3, 5), number=100\n",
    ")\n",
    "print(f\"Time for uniform mesh: {time_uniform} seconds\")\n",
    "print(f\"Time for symbolic mesh: {time_symbolic} seconds\")\n",
    "print(f\"Ratio: {time_uniform / time_symbolic}\")"
   ]
  }
 ],
 "metadata": {
  "kernelspec": {
   "display_name": "sila",
   "language": "python",
   "name": "python3"
  },
  "language_info": {
   "codemirror_mode": {
    "name": "ipython",
    "version": 3
   },
   "file_extension": ".py",
   "mimetype": "text/x-python",
   "name": "python",
   "nbconvert_exporter": "python",
   "pygments_lexer": "ipython3",
   "version": "3.12.7"
  }
 },
 "nbformat": 4,
 "nbformat_minor": 2
}
