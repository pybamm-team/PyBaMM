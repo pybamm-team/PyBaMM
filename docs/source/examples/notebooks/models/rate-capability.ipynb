{
 "cells": [
  {
   "cell_type": "markdown",
   "metadata": {},
   "source": [
    "# Generate rate capability plots"
   ]
  },
  {
   "cell_type": "markdown",
   "metadata": {},
   "source": [
    "In this notebook we use PyBaMM to generate rate capability plots and Ragone plots. Rate capability plots show discharge capacity at different C-rates. Similarly, multiplying the discharge current and capacity by the average discharge voltage we can obtain Ragon plots (that is energy vs power).\n",
    "\n",
    "First we need to import pybamm and the other necessary packages."
   ]
  },
  {
   "cell_type": "code",
   "execution_count": null,
   "metadata": {},
   "outputs": [],
   "source": [
    "import pybamm\n",
    "import numpy as np\n",
    "import matplotlib.pyplot as plt"
   ]
  },
  {
   "cell_type": "markdown",
   "metadata": {},
   "source": [
    "In this example we use the SPMe model with the default settings, but we could change it to other models, parameters, geometries... For example, you generate rate capability plots using the DFN model in [this script](https://github.com/pybamm-team/PyBaMM/blob/develop/examples/scripts/rate_capability.py). "
   ]
  },
  {
   "cell_type": "code",
   "execution_count": null,
   "metadata": {},
   "outputs": [],
   "source": [
    "model = pybamm.lithium_ion.SPMe()"
   ]
  },
  {
   "cell_type": "markdown",
   "metadata": {},
   "source": [
    "We now cycle a loop of different C-rates and run full discharge simulations for each C-rate. For each simulation we register the final discharge capacity, the applied current and the average discharge voltage. We can then generate the rate capability and the Ragone plots."
   ]
  },
  {
   "cell_type": "code",
   "execution_count": null,
   "metadata": {},
   "outputs": [],
   "source": [
    "C_rates = np.linspace(0.05, 5, 20)\n",
    "capacities = np.zeros_like(C_rates)\n",
    "currents = np.zeros_like(C_rates)\n",
    "voltage_av = np.zeros_like(C_rates)\n",
    "\n",
    "for i, C_rate in enumerate(C_rates):\n",
    "    experiment = pybamm.Experiment(\n",
    "        [f\"Discharge at {C_rate:.4f}C until 3.2V\"], period=f\"{10 / C_rate:.4f} seconds\"\n",
    "    )\n",
    "    sim = pybamm.Simulation(\n",
    "        model, experiment=experiment, solver=pybamm.CasadiSolver(dt_max=120)\n",
    "    )\n",
    "    sim.solve()\n",
    "\n",
    "    time = sim.solution[\"Time [s]\"].entries\n",
    "    capacity = sim.solution[\"Discharge capacity [A.h]\"]\n",
    "    current = sim.solution[\"Current [A]\"]\n",
    "    voltage = sim.solution[\"Voltage [V]\"]\n",
    "\n",
    "    capacities[i] = capacity(time[-1])\n",
    "    currents[i] = current(time[-1])\n",
    "    voltage_av[i] = np.mean(voltage(time))\n",
    "\n",
    "plt.figure(1)\n",
    "plt.scatter(C_rates, capacities)\n",
    "plt.xlabel(\"C-rate\")\n",
    "plt.ylabel(\"Capacity [Ah]\")\n",
    "\n",
    "plt.figure(2)\n",
    "plt.scatter(currents * voltage_av, capacities * voltage_av)\n",
    "plt.xlabel(\"Power [W]\")\n",
    "plt.ylabel(\"Energy [Wh]\")\n",
    "\n",
    "plt.show()"
   ]
  },
  {
   "cell_type": "markdown",
   "metadata": {},
   "source": [
    "## References\n",
    "\n",
    "The relevant papers for this notebook are:"
   ]
  },
  {
   "cell_type": "code",
   "execution_count": null,
   "metadata": {},
   "outputs": [],
   "source": [
    "pybamm.print_citations()"
   ]
  }
 ],
 "metadata": {
  "file_extension": ".py",
  "kernelspec": {
   "display_name": "Python 3 (ipykernel)",
   "language": "python",
   "name": "python3"
  },
  "language_info": {
   "codemirror_mode": {
    "name": "ipython",
    "version": 3
   },
   "file_extension": ".py",
   "mimetype": "text/x-python",
   "name": "python",
   "nbconvert_exporter": "python",
   "pygments_lexer": "ipython3",
   "version": "3.9.0"
  },
  "mimetype": "text/x-python",
  "name": "python",
  "npconvert_exporter": "python",
  "pygments_lexer": "ipython3",
  "version": 3
 },
 "nbformat": 4,
 "nbformat_minor": 2
}
