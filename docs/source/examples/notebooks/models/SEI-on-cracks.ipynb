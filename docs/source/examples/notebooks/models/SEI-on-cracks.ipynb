{
 "cells": [
  {
   "cell_type": "markdown",
   "id": "0",
   "metadata": {},
   "source": [
    "# Modelling SEI growth on particle cracks\n",
    "\n",
    "This notebook provides a short demonsration of how the SEI and particle mechanics submodels can be combined to simulate SEI growth on particle cracks."
   ]
  },
  {
   "cell_type": "code",
   "execution_count": null,
   "id": "1",
   "metadata": {},
   "outputs": [],
   "source": [
    "%pip install \"pybamm[plot,cite]\" -q    # install PyBaMM if it is not installed\n",
    "import pybamm\n",
    "import matplotlib.pyplot as plt"
   ]
  },
  {
   "cell_type": "markdown",
   "id": "2",
   "metadata": {},
   "source": [
    "Define two models. In model1, the only degradation mechanism is solvent-diffusion limited SEI growth. model2 includes the same SEI growth mechanism but also includes particle cracking and SEI growth on the cracks. The SEI model is run twice: once on the initial surface and once on the cracks. The equations for SEI on cracks are reported by O'Kane et al. [9] To ensure a fair experiment, particle swelling is enabled in both models."
   ]
  },
  {
   "cell_type": "code",
   "execution_count": null,
   "id": "3",
   "metadata": {},
   "outputs": [],
   "source": [
    "model1 = pybamm.lithium_ion.DFN(\n",
    "    {\"SEI\": \"solvent-diffusion limited\", \"particle mechanics\": \"swelling only\"}\n",
    ")\n",
    "model2 = pybamm.lithium_ion.DFN(\n",
    "    {\n",
    "        \"particle mechanics\": \"swelling and cracking\",\n",
    "        \"SEI\": \"solvent-diffusion limited\",\n",
    "        \"SEI on cracks\": \"true\",\n",
    "    }\n",
    ")"
   ]
  },
  {
   "cell_type": "markdown",
   "id": "4",
   "metadata": {},
   "source": [
    "Depending on the parameter set being used, the particle cracking model can require a large number of mesh points inside the particles to be numerically stable."
   ]
  },
  {
   "cell_type": "code",
   "execution_count": null,
   "id": "5",
   "metadata": {},
   "outputs": [],
   "source": [
    "param = pybamm.ParameterValues(\"OKane2022\")\n",
    "var_pts = {\n",
    "    \"x_n\": 20,  # negative electrode\n",
    "    \"x_s\": 20,  # separator\n",
    "    \"x_p\": 20,  # positive electrode\n",
    "    \"r_n\": 26,  # negative particle\n",
    "    \"r_p\": 26,  # positive particle\n",
    "}"
   ]
  },
  {
   "cell_type": "markdown",
   "id": "6",
   "metadata": {},
   "source": [
    "Solve the models with and without cracking. The steps before the 1C discharge make the model more numerically stable so fewer mesh points are required."
   ]
  },
  {
   "cell_type": "code",
   "execution_count": null,
   "id": "7",
   "metadata": {},
   "outputs": [],
   "source": [
    "exp = pybamm.Experiment(\n",
    "    [\"Hold at 4.2 V until C/100\", \"Rest for 1 hour\", \"Discharge at 1C until 2.5 V\"]\n",
    ")\n",
    "sim1 = pybamm.Simulation(\n",
    "    model1, parameter_values=param, experiment=exp, var_pts=var_pts\n",
    ")\n",
    "sol1 = sim1.solve(calc_esoh=False)\n",
    "sim2 = pybamm.Simulation(\n",
    "    model2, parameter_values=param, experiment=exp, var_pts=var_pts\n",
    ")\n",
    "sol2 = sim2.solve(calc_esoh=False)"
   ]
  },
  {
   "cell_type": "code",
   "execution_count": null,
   "id": "8",
   "metadata": {},
   "outputs": [],
   "source": [
    "t1 = sol1[\"Time [s]\"].entries\n",
    "V1 = sol1[\"Voltage [V]\"].entries\n",
    "SEI1 = sol1[\"Loss of lithium to negative SEI [mol]\"].entries\n",
    "lithium_neg1 = sol1[\"Total lithium in negative electrode [mol]\"].entries\n",
    "lithium_pos1 = sol1[\"Total lithium in positive electrode [mol]\"].entries\n",
    "t2 = sol2[\"Time [s]\"].entries\n",
    "V2 = sol2[\"Voltage [V]\"].entries\n",
    "SEI2 = (\n",
    "    sol2[\"Loss of lithium to negative SEI [mol]\"].entries\n",
    "    + sol2[\"Loss of lithium to negative SEI on cracks [mol]\"].entries\n",
    ")\n",
    "lithium_neg2 = sol2[\"Total lithium in negative electrode [mol]\"].entries\n",
    "lithium_pos2 = sol2[\"Total lithium in positive electrode [mol]\"].entries"
   ]
  },
  {
   "cell_type": "code",
   "execution_count": null,
   "id": "9",
   "metadata": {},
   "outputs": [],
   "source": [
    "fig, (ax1, ax2) = plt.subplots(1, 2, figsize=(18, 4))\n",
    "ax1.plot(t1, V1, label=\"without cracking\")\n",
    "ax1.plot(t2, V2, label=\"with cracking\", linestyle=\"dashed\")\n",
    "ax1.set_xlabel(\"Time [s]\")\n",
    "ax1.set_ylabel(\"Voltage [V]\")\n",
    "ax1.legend()\n",
    "ax2.plot(t1, SEI1, label=\"without cracking\")\n",
    "ax2.plot(t2, SEI2, label=\"with cracking\", linestyle=\"dashed\")\n",
    "ax2.set_xlabel(\"Time [s]\")\n",
    "ax2.set_ylabel(\"Loss of lithium to SEI [mol]\")\n",
    "ax2.legend()\n",
    "plt.show()"
   ]
  },
  {
   "cell_type": "markdown",
   "id": "10",
   "metadata": {},
   "source": [
    "The SEI on cracks consumes far more capacity than the SEI on the initial surface, in agreement with the literature. Finally, check lithium is conserved:"
   ]
  },
  {
   "cell_type": "code",
   "execution_count": null,
   "id": "11",
   "metadata": {},
   "outputs": [],
   "source": [
    "fig, ax = plt.subplots()\n",
    "ax.plot(t2, lithium_neg2 + lithium_pos2)\n",
    "ax.plot(t2, lithium_neg2[0] + lithium_pos2[0] - SEI2, linestyle=\"dashed\")\n",
    "ax.set_xlabel(\"Time [s]\")\n",
    "ax.set_ylabel(\"Total lithium in electrodes [mol]\")\n",
    "plt.show()"
   ]
  },
  {
   "cell_type": "code",
   "execution_count": null,
   "id": "12",
   "metadata": {},
   "outputs": [],
   "source": [
    "pybamm.print_citations()"
   ]
  }
 ],
 "metadata": {
  "kernelspec": {
   "display_name": "Python 3 (ipykernel)",
   "language": "python",
   "name": "python3"
  },
  "language_info": {
   "codemirror_mode": {
    "name": "ipython",
    "version": 3
   },
   "file_extension": ".py",
   "mimetype": "text/x-python",
   "name": "python",
   "nbconvert_exporter": "python",
   "pygments_lexer": "ipython3",
   "version": "3.12.3"
  },
  "vscode": {
   "interpreter": {
    "hash": "187972e187ab8dfbecfab9e8e194ae6d08262b2d51a54fa40644e3ddb6b5f74c"
   }
  }
 },
 "nbformat": 4,
 "nbformat_minor": 5
}
