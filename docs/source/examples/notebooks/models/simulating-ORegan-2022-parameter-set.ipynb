{
 "cells": [
  {
   "cell_type": "markdown",
   "id": "global-street",
   "metadata": {},
   "source": [
    "# Run simulations with O'Regan 2022 parameter set (LG M50)\n",
    "\n",
    "In this notebook we show an example on how to run the DFN model with the O'Regan 2022 parameter set for the LG M50 cell. Because of the concentration dependent diffusion coefficient, we need to customise the mesh so the simulations converge."
   ]
  },
  {
   "cell_type": "code",
   "execution_count": null,
   "id": "unavailable-communication",
   "metadata": {},
   "outputs": [],
   "source": [
    "%pip install \"pybamm[plot,cite]\" -q    # install PyBaMM if it is not installed\n",
    "import pybamm"
   ]
  },
  {
   "cell_type": "markdown",
   "id": "prompt-scottish",
   "metadata": {},
   "source": [
    "We first initialise the model and define the parameter set and the solver:"
   ]
  },
  {
   "cell_type": "code",
   "execution_count": null,
   "id": "domestic-naples",
   "metadata": {},
   "outputs": [],
   "source": [
    "# DFN + lumped thermal\n",
    "options = {\"thermal\": \"lumped\", \"dimensionality\": 0, \"cell geometry\": \"arbitrary\"}\n",
    "model = pybamm.lithium_ion.DFN(options=options)\n",
    "\n",
    "# O'Regan 2022 parameter set\n",
    "param = pybamm.ParameterValues(\"ORegan2022\")\n",
    "\n",
    "# Choose CasADI fast (we do a short discharge so there are no events, if events are needed choose \"fast with events\")\n",
    "solver = pybamm.CasadiSolver(mode=\"fast\")"
   ]
  },
  {
   "cell_type": "markdown",
   "id": "occasional-skill",
   "metadata": {},
   "source": [
    "Now we define the new mesh. Because the particle diffusivity depends on concentration and get drop very abruptly, we set a fine mesh (40 points in each particle). Additionally, given that the larger gradients occur towards the particle surface, we choose an exponential mesh weighted towards the `right` (i.e. the particle surface). This generates a non-uniform mesh with a finer grid towards the particle surface and a coarser grid towards the particle centre."
   ]
  },
  {
   "cell_type": "code",
   "execution_count": null,
   "id": "vocal-action",
   "metadata": {},
   "outputs": [],
   "source": [
    "var_pts = {\"x_n\": 30, \"x_s\": 30, \"x_p\": 30, \"r_n\": 40, \"r_p\": 40}\n",
    "\n",
    "submesh_types = model.default_submesh_types\n",
    "submesh_types[\"negative particle\"] = pybamm.MeshGenerator(\n",
    "    pybamm.Exponential1DSubMesh, submesh_params={\"side\": \"right\"}\n",
    ")\n",
    "submesh_types[\"positive particle\"] = pybamm.MeshGenerator(\n",
    "    pybamm.Exponential1DSubMesh, submesh_params={\"side\": \"right\"}\n",
    ")\n",
    "\n",
    "# Define the simulation\n",
    "sim = pybamm.Simulation(\n",
    "    model,\n",
    "    parameter_values=param,\n",
    "    C_rate=1,\n",
    "    solver=solver,\n",
    "    var_pts=var_pts,\n",
    "    submesh_types=submesh_types,\n",
    ")"
   ]
  },
  {
   "cell_type": "markdown",
   "id": "equipped-agenda",
   "metadata": {},
   "source": [
    "Finally, we can solve the simulation and plot the results. Note that because the nonlinear diffusion and the fine mesh, if we want to solve for longer time, such as full discharge or other experiments, the simulations might take a few minutes to run."
   ]
  },
  {
   "cell_type": "code",
   "execution_count": null,
   "id": "shaped-membrane",
   "metadata": {},
   "outputs": [],
   "source": [
    "sim.solve(\n",
    "    [0, 10]\n",
    ")  # solving time kept short for testing purposes, feel free to extend it\n",
    "sim.plot()"
   ]
  },
  {
   "cell_type": "code",
   "execution_count": null,
   "id": "lined-illustration",
   "metadata": {},
   "outputs": [],
   "source": [
    "pybamm.print_citations()"
   ]
  }
 ],
 "metadata": {
  "kernelspec": {
   "language": "python"
  },
  "language_info": {
   "codemirror_mode": {
    "name": "ipython",
    "version": 3
   },
   "file_extension": ".py",
   "mimetype": "text/x-python",
   "name": "python",
   "nbconvert_exporter": "python",
   "pygments_lexer": "ipython3"
  },
  "toc": {
   "base_numbering": 1,
   "nav_menu": {},
   "number_sections": true,
   "sideBar": true,
   "skip_h1_title": false,
   "title_cell": "Table of Contents",
   "title_sidebar": "Contents",
   "toc_cell": false,
   "toc_position": {},
   "toc_section_display": true,
   "toc_window_display": true
  },
  "vscode": {
   "interpreter": {
    "hash": "bca2b99bfac80e18288b793d52fa0653ab9b5fe5d22e7b211c44eb982a41c00c"
   }
  }
 },
 "nbformat": 4,
 "nbformat_minor": 5
}
