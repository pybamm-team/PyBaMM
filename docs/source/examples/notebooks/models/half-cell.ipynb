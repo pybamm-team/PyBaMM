{
 "cells": [
  {
   "cell_type": "markdown",
   "id": "0",
   "metadata": {},
   "source": [
    "# Half-cell models in PyBaMM\n",
    "\n",
    "PyBaMM supports both negative and positive half-cells. In both cases, the working electrode is considered to be the positive electrode and lithium metal the negative electrode. The difference is solely down to the material the positive electrode is made of. This notebook demonstrates how to simulate half-cells made of a range of materials."
   ]
  },
  {
   "cell_type": "code",
   "execution_count": null,
   "id": "1",
   "metadata": {},
   "outputs": [],
   "source": [
    "%pip install pybamm -q  # install PyBaMM if it is not installed\n",
    "import pybamm\n",
    "import matplotlib.pyplot as plt"
   ]
  },
  {
   "cell_type": "markdown",
   "id": "2",
   "metadata": {},
   "source": [
    "First, we introduce a random seed to ensure reproducibility of the results before running the simulation:"
   ]
  },
  {
   "cell_type": "code",
   "execution_count": null,
   "id": "3",
   "metadata": {},
   "outputs": [],
   "source": [
    "import numpy as np\n",
    "\n",
    "np.random.seed(42)"
   ]
  },
  {
   "cell_type": "markdown",
   "id": "4",
   "metadata": {},
   "source": [
    "To simulate a half-cell, pass `{\"working electrode\": \"positive\"}` to the options dictionary. This deletes the negative electrode and replaces it with lithium metal, which has a fixed open-circuit voltage of zero. First, we load the NMC-based positive half-cell studied by Xu _et al._ [12]"
   ]
  },
  {
   "cell_type": "code",
   "execution_count": null,
   "id": "5",
   "metadata": {},
   "outputs": [],
   "source": [
    "model = pybamm.lithium_ion.DFN({\"working electrode\": \"positive\"})\n",
    "param_nmc = pybamm.ParameterValues(\"Xu2019\")"
   ]
  },
  {
   "cell_type": "markdown",
   "id": "6",
   "metadata": {},
   "source": [
    "Start by simulating a pseudo-OCV cycle:"
   ]
  },
  {
   "cell_type": "code",
   "execution_count": null,
   "id": "7",
   "metadata": {},
   "outputs": [],
   "source": [
    "exp_slow = pybamm.Experiment(\n",
    "    [\"Discharge at C/25 until 3.5 V\", \"Charge at C/25 until 4.2 V\"]\n",
    ")\n",
    "sim1 = pybamm.Simulation(model, parameter_values=param_nmc, experiment=exp_slow)\n",
    "sol1 = sim1.solve()\n",
    "t = sol1[\"Time [s]\"].entries\n",
    "V = sol1[\"Voltage [V]\"].entries\n",
    "plt.figure()\n",
    "plt.plot(t, V)\n",
    "plt.xlabel(\"Time [s]\")\n",
    "plt.ylabel(\"Voltage [V]\")\n",
    "plt.show()"
   ]
  },
  {
   "cell_type": "markdown",
   "id": "8",
   "metadata": {},
   "source": [
    "The charge and discharge curves are the same, as expected. This is not the case for faster cycles:"
   ]
  },
  {
   "cell_type": "code",
   "execution_count": null,
   "id": "9",
   "metadata": {},
   "outputs": [],
   "source": [
    "exp_fast = pybamm.Experiment(\n",
    "    [\"Discharge at 1C until 3.5 V\", \"Charge at 1C until 4.2 V\"]\n",
    ")\n",
    "sim2 = pybamm.Simulation(model, parameter_values=param_nmc, experiment=exp_fast)\n",
    "sol2 = sim2.solve()\n",
    "t = sol2[\"Time [s]\"].entries\n",
    "V = sol2[\"Voltage [V]\"].entries\n",
    "plt.figure()\n",
    "plt.plot(t, V)\n",
    "plt.xlabel(\"Time [s]\")\n",
    "plt.ylabel(\"Voltage [V]\")\n",
    "plt.show()"
   ]
  },
  {
   "cell_type": "markdown",
   "id": "10",
   "metadata": {},
   "source": [
    "Next, load a negative half-cell with a graphite-silicon composite as the positive electrode. This is the negative half of the full cell studied by O'Kane _et al._ [9] and therefore supports all the degradation mechanisms included in that paper. Just like in the [coupled degradation notebook](https://docs.pybamm.org/en/latest/source/examples/notebooks/models/coupled-degradation.html), use the options dictionary to switch the mechanisms on and off. Unlike for a full cell, the `SEI` option applies to the lithium metal electrode as well as the positive electrode. To set different options for each, use a 2-tuple. The `SEI on cracks` and `lithium plating` options do not work on the lithium metal electrode."
   ]
  },
  {
   "cell_type": "code",
   "execution_count": null,
   "id": "11",
   "metadata": {},
   "outputs": [],
   "source": [
    "model_with_degradation = pybamm.lithium_ion.DFN(\n",
    "    {\n",
    "        \"working electrode\": \"positive\",\n",
    "        \"SEI\": \"reaction limited\",  # SEI on both electrodes\n",
    "        \"SEI porosity change\": \"true\",\n",
    "        \"particle mechanics\": \"swelling and cracking\",\n",
    "        \"SEI on cracks\": \"true\",\n",
    "        \"lithium plating\": \"partially reversible\",\n",
    "        \"lithium plating porosity change\": \"true\",  # alias for \"SEI porosity change\"\n",
    "    }\n",
    ")\n",
    "param_GrSi = pybamm.ParameterValues(\"OKane2022_graphite_SiOx_halfcell\")\n",
    "param_GrSi.update({\"SEI reaction exchange current density [A.m-2]\": 1.5e-07})\n",
    "var_pts = {\"x_n\": 1, \"x_s\": 5, \"x_p\": 7, \"r_n\": 1, \"r_p\": 30}\n",
    "exp_degradation = pybamm.Experiment(\n",
    "    [\"Charge at 0.3C until 1.5 V\", \"Discharge at 0.3C until 0.005 V\"]\n",
    ")\n",
    "sim3 = pybamm.Simulation(\n",
    "    model_with_degradation,\n",
    "    parameter_values=param_GrSi,\n",
    "    experiment=exp_degradation,\n",
    "    var_pts=var_pts,\n",
    ")\n",
    "sol3 = sim3.solve()\n",
    "t = sol3[\"Time [s]\"].entries\n",
    "V = sol3[\"Voltage [V]\"].entries\n",
    "plt.figure()\n",
    "plt.plot(t, V)\n",
    "plt.xlabel(\"Time [s]\")\n",
    "plt.ylabel(\"Voltage [V]\")\n",
    "plt.show()"
   ]
  },
  {
   "cell_type": "markdown",
   "id": "12",
   "metadata": {},
   "source": [
    "In order to get SEI growth to work on both electrodes, we had to add domains to the names of the degradation variables. Bear this in mind when writing your code."
   ]
  },
  {
   "cell_type": "code",
   "execution_count": null,
   "id": "13",
   "metadata": {},
   "outputs": [],
   "source": [
    "Q_SEI_n = sol3[\"Loss of capacity to negative SEI [A.h]\"].entries\n",
    "Q_SEI_p = sol3[\"Loss of capacity to positive SEI [A.h]\"].entries\n",
    "Q_SEI_cr = sol3[\"Loss of capacity to positive SEI on cracks [A.h]\"].entries\n",
    "Q_pl = sol3[\"Loss of capacity to positive lithium plating [A.h]\"].entries\n",
    "plt.figure()\n",
    "plt.plot(t, Q_SEI_n, label=\"Negative SEI\")\n",
    "plt.plot(t, Q_SEI_p, label=\"Positive SEI\")\n",
    "plt.plot(t, Q_SEI_cr, label=\"SEI on cracks\")\n",
    "plt.plot(t, Q_pl, label=\"Lithium plating\")\n",
    "plt.xlabel(\"Time [s]\")\n",
    "plt.ylabel(\"Loss of lithium inventory [A.h]\")\n",
    "plt.legend()\n",
    "plt.show()"
   ]
  },
  {
   "cell_type": "markdown",
   "id": "14",
   "metadata": {},
   "source": [
    "The SEI growth is slow compared to the reversible component of the lithium plating. What happens if the SEI growth rate is increased?"
   ]
  },
  {
   "cell_type": "code",
   "execution_count": null,
   "id": "15",
   "metadata": {},
   "outputs": [],
   "source": [
    "param_GrSi.update({\"SEI reaction exchange current density [A.m-2]\": 6e-07})\n",
    "sim4 = pybamm.Simulation(\n",
    "    model_with_degradation,\n",
    "    parameter_values=param_GrSi,\n",
    "    experiment=exp_degradation,\n",
    "    var_pts=var_pts,\n",
    ")\n",
    "sol4 = sim4.solve()\n",
    "t = sol4[\"Time [s]\"].entries\n",
    "V = sol4[\"Voltage [V]\"].entries\n",
    "plt.figure()\n",
    "plt.plot(t, V)\n",
    "plt.xlabel(\"Time [s]\")\n",
    "plt.ylabel(\"Voltage [V]\")\n",
    "plt.show()"
   ]
  },
  {
   "cell_type": "code",
   "execution_count": null,
   "id": "16",
   "metadata": {},
   "outputs": [],
   "source": [
    "Q_SEI_n = sol4[\"Loss of capacity to negative SEI [A.h]\"].entries\n",
    "Q_SEI_p = sol4[\"Loss of capacity to positive SEI [A.h]\"].entries\n",
    "Q_SEI_cr = sol4[\"Loss of capacity to positive SEI on cracks [A.h]\"].entries\n",
    "Q_pl = sol4[\"Loss of capacity to positive lithium plating [A.h]\"].entries\n",
    "plt.figure()\n",
    "plt.plot(t, Q_SEI_n, label=\"Negative SEI\")\n",
    "plt.plot(t, Q_SEI_p, label=\"Positive SEI\")\n",
    "plt.plot(t, Q_SEI_cr, label=\"SEI on cracks\")\n",
    "plt.plot(t, Q_pl, label=\"Lithium plating\")\n",
    "plt.xlabel(\"Time [s]\")\n",
    "plt.ylabel(\"Loss of lithium inventory [A.h]\")\n",
    "plt.legend()\n",
    "plt.show()"
   ]
  },
  {
   "cell_type": "markdown",
   "id": "17",
   "metadata": {},
   "source": [
    "The additional SEI increases the cell resistance, preventing the graphite-silicon composite from being fully lithiated, so there is less plating than before."
   ]
  },
  {
   "cell_type": "code",
   "execution_count": null,
   "id": "18",
   "metadata": {},
   "outputs": [],
   "source": [
    "pybamm.print_citations()"
   ]
  },
  {
   "cell_type": "code",
   "execution_count": null,
   "id": "19",
   "metadata": {},
   "outputs": [],
   "source": []
  }
 ],
 "metadata": {
  "kernelspec": {
   "display_name": "venv",
   "language": "python",
   "name": "python3"
  },
  "language_info": {
   "codemirror_mode": {
    "name": "ipython",
    "version": 3
   },
   "file_extension": ".py",
   "mimetype": "text/x-python",
   "name": "python",
   "nbconvert_exporter": "python",
   "pygments_lexer": "ipython3",
   "version": "3.11.6"
  }
 },
 "nbformat": 4,
 "nbformat_minor": 5
}
