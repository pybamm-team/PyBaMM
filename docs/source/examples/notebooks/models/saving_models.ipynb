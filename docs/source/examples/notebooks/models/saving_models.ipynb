{
 "cells": [
  {
   "cell_type": "markdown",
   "metadata": {},
   "source": [
    "# Saving PyBaMM models to file"
   ]
  },
  {
   "cell_type": "markdown",
   "metadata": {},
   "source": [
    "Models which are discretised (i.e. ready to solve/ previously solved, see [this notebook](https://github.com/pybamm-team/PyBaMM/blob/develop/docs/source/examples/notebooks/spatial_methods/finite-volumes.ipynb) for more information on the pybamm.Discretisation class) can be serialised and saved to a JSON file, ready to be read in again either in PyBaMM, or a different modelling library. \n",
    "\n",
    "In the example below, we build a basic DFN model, and then save the model out to `sim_model_example.json`, which should have appear in the 'models' directory."
   ]
  },
  {
   "cell_type": "code",
   "execution_count": null,
   "metadata": {},
   "outputs": [],
   "source": [
    "%pip install pybamm -q    # install PyBaMM if it is not installed\n",
    "import pybamm\n",
    "\n",
    "# do the example\n",
    "dfn_model = pybamm.lithium_ion.DFN()\n",
    "dfn_sim = pybamm.Simulation(dfn_model)\n",
    "# discretise and build the model\n",
    "dfn_sim.build()\n",
    "\n",
    "dfn_sim.save_model(\"sim_model_example\")"
   ]
  },
  {
   "cell_type": "markdown",
   "metadata": {},
   "source": [
    "This model file can then be read in and solved by choosing a solver, and running as below."
   ]
  },
  {
   "cell_type": "code",
   "execution_count": null,
   "metadata": {},
   "outputs": [],
   "source": [
    "# Recreate the pybamm model from the JSON file\n",
    "new_dfn_model = pybamm.load_model(\"sim_model_example.json\")\n",
    "\n",
    "sim_reloaded = pybamm.Simulation(new_dfn_model)\n",
    "sim_reloaded.solve([0, 3600])"
   ]
  },
  {
   "cell_type": "markdown",
   "metadata": {},
   "source": [
    "It would be nice to plot the results of the two models, to confirm that they are producing the same result.\n",
    "\n",
    "However, notice that running the code below generates an error stating that the model variables were not provided during the reading in of the model."
   ]
  },
  {
   "cell_type": "code",
   "execution_count": null,
   "metadata": {
    "tags": [
     "raises-exception"
    ]
   },
   "outputs": [],
   "source": [
    "dfn_models = [dfn_model, new_dfn_model]\n",
    "sims = []\n",
    "for model in dfn_models:\n",
    "    plot_sim = pybamm.Simulation(model)\n",
    "    plot_sim.solve([0, 3600])\n",
    "    sims.append(plot_sim)\n",
    "\n",
    "pybamm.dynamic_plot(sims, time_unit=\"seconds\")"
   ]
  },
  {
   "cell_type": "markdown",
   "metadata": {},
   "source": [
    "To be able to plot the results from a serialised model, the mesh and model variables need to be saved alongside the model itself.\n",
    "\n",
    "To do this, set the `variables` option to `True` when saving the model as in the example below; notice how the models will now plot nicely."
   ]
  },
  {
   "cell_type": "code",
   "execution_count": null,
   "metadata": {},
   "outputs": [],
   "source": [
    "# using the first simulation, save a new file which includes a list of the model variables\n",
    "dfn_sim.save_model(\"sim_model_variables\", variables=True)\n",
    "\n",
    "# read the model back in\n",
    "model_with_vars = pybamm.load_model(\"sim_model_variables.json\")\n",
    "\n",
    "# plot the pre- and post-serialisation models together to prove they behave the same\n",
    "models = [dfn_model, model_with_vars]\n",
    "sims = []\n",
    "for model in models:\n",
    "    sim = pybamm.Simulation(model)\n",
    "    sim.solve([0, 3600])\n",
    "    sims.append(sim)\n",
    "\n",
    "pybamm.dynamic_plot(sims, time_unit=\"seconds\")"
   ]
  },
  {
   "cell_type": "markdown",
   "metadata": {},
   "source": [
    "## Saving from Model\n",
    "\n",
    "Alternatively, the model can be saved directly from the Model class.\n",
    "\n",
    "Note that at the moment, only models derived from the BaseBatteryModel class can be serialised; those built from scratch using pybamm.BaseModel() are currently unsupported.\n",
    "\n",
    "First set up the model, as explained in detail for the [SPM](https://github.com/pybamm-team/PyBaMM/blob/develop/docs/source/examples/notebooks/models/SPM.ipynb)."
   ]
  },
  {
   "cell_type": "code",
   "execution_count": null,
   "metadata": {},
   "outputs": [],
   "source": [
    "# create the model\n",
    "spm_model = pybamm.lithium_ion.SPM()\n",
    "\n",
    "# set up and discretise ready to solve\n",
    "geometry = spm_model.default_geometry\n",
    "param = spm_model.default_parameter_values\n",
    "param.process_model(spm_model)\n",
    "param.process_geometry(geometry)\n",
    "mesh = pybamm.Mesh(geometry, spm_model.default_submesh_types, spm_model.default_var_pts)\n",
    "disc = pybamm.Discretisation(mesh, spm_model.default_spatial_methods)\n",
    "disc.process_model(spm_model)"
   ]
  },
  {
   "cell_type": "markdown",
   "metadata": {},
   "source": [
    "Then save the model. Note that in this case the model variables and the mesh must be provided directly."
   ]
  },
  {
   "cell_type": "code",
   "execution_count": null,
   "metadata": {},
   "outputs": [],
   "source": [
    "# Serialise the spm_model, providing the varaibles and the mesh\n",
    "spm_model.save_model(\"example_model\", variables=spm_model.variables, mesh=mesh)"
   ]
  },
  {
   "cell_type": "markdown",
   "metadata": {},
   "source": [
    "Now you can read the model back in, solve and plot."
   ]
  },
  {
   "cell_type": "code",
   "execution_count": null,
   "metadata": {},
   "outputs": [],
   "source": [
    "# read back in\n",
    "new_spm_model = pybamm.load_model(\"example_model.json\")\n",
    "\n",
    "# select a solver and solve\n",
    "new_spm_solver = new_spm_model.default_solver\n",
    "new_spm_solution = new_spm_solver.solve(new_spm_model, [0, 3600])\n",
    "\n",
    "# plot the solution\n",
    "new_spm_solution.plot()"
   ]
  },
  {
   "cell_type": "markdown",
   "metadata": {},
   "source": [
    "## Making edits to a serialised model\n",
    "\n",
    "As mentioned at the begining of this notebook, only models which have already been discretised can be serialised and readh back in. This means that after serialisation, the model *cannot be edited*, as the non-discretised elements of the model such as the original rhs are not saved.\n",
    "\n",
    "If you are likely to want to save a model and then edit it in the future, you may wish to use the `Simulation.save()` functionality to pickle your simulation, as described in [tutorial 6](https://github.com/pybamm-team/PyBaMM/blob/develop/docs/source/examples/notebooks/getting_started/tutorial-6-managing-simulation-outputs.ipynb)."
   ]
  },
  {
   "cell_type": "markdown",
   "metadata": {},
   "source": [
    "Before finishing we will remove the data files we saved so that we leave the directory as we found it"
   ]
  },
  {
   "cell_type": "code",
   "execution_count": null,
   "metadata": {},
   "outputs": [],
   "source": [
    "import os\n",
    "\n",
    "os.remove(\"example_model.json\")\n",
    "os.remove(\"sim_model_example.json\")\n",
    "os.remove(\"sim_model_variables.json\")"
   ]
  },
  {
   "cell_type": "markdown",
   "metadata": {},
   "source": [
    "## References\n",
    "\n",
    "The relevant papers for this notebook are:"
   ]
  },
  {
   "cell_type": "code",
   "execution_count": null,
   "metadata": {},
   "outputs": [],
   "source": [
    "pybamm.print_citations()"
   ]
  },
  {
   "cell_type": "code",
   "execution_count": null,
   "metadata": {},
   "outputs": [],
   "source": []
  }
 ],
 "metadata": {
  "kernelspec": {
   "display_name": "Python 3 (ipykernel)",
   "language": "python",
   "name": "python3"
  },
  "language_info": {
   "codemirror_mode": {
    "name": "ipython",
    "version": 3
   },
   "file_extension": ".py",
   "mimetype": "text/x-python",
   "name": "python",
   "nbconvert_exporter": "python",
   "pygments_lexer": "ipython3",
   "version": "3.12.3"
  }
 },
 "nbformat": 4,
 "nbformat_minor": 4
}
