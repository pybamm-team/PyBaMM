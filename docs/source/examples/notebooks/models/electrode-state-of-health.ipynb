{
 "cells": [
  {
   "cell_type": "markdown",
   "metadata": {},
   "source": [
    "# Electrode State of Health"
   ]
  },
  {
   "cell_type": "markdown",
   "metadata": {},
   "source": [
    "This notebook demonstrates some utilities to work with electrode State of Health (also sometimes called electrode stoichiometry), using the algorithm from Mohtat et al [1]\n",
    "\n",
    "[1] Mohtat, P., Lee, S., Siegel, J. B., & Stefanopoulou, A. G. (2019). Towards better estimability of electrode-specific state of health: Decoding the cell expansion. Journal of Power Sources, 427, 101-111."
   ]
  },
  {
   "cell_type": "code",
   "execution_count": null,
   "metadata": {},
   "outputs": [],
   "source": [
    "import pybamm\n",
    "import matplotlib.pyplot as plt\n",
    "import numpy as np"
   ]
  },
  {
   "cell_type": "markdown",
   "metadata": {},
   "source": [
    "## Create and solve model"
   ]
  },
  {
   "cell_type": "code",
   "execution_count": null,
   "metadata": {},
   "outputs": [],
   "source": [
    "spm = pybamm.lithium_ion.SPM()\n",
    "experiment = pybamm.Experiment(\n",
    "    [\n",
    "        \"Charge at 1C until 4.2V\",\n",
    "        \"Hold at 4.2V until C/50\",\n",
    "        \"Discharge at 1C until 2.8V\",\n",
    "        \"Hold at 2.8V until C/50\",\n",
    "    ]\n",
    ")\n",
    "parameter_values = pybamm.ParameterValues(\"Mohtat2020\")\n",
    "\n",
    "sim = pybamm.Simulation(spm, experiment=experiment, parameter_values=parameter_values)\n",
    "spm_sol = sim.solve()\n",
    "spm_sol.plot(\n",
    "    [\n",
    "        \"Voltage [V]\",\n",
    "        \"Current [A]\",\n",
    "        \"Negative electrode stoichiometry\",\n",
    "        \"Positive electrode stoichiometry\",\n",
    "    ]\n",
    ")"
   ]
  },
  {
   "cell_type": "markdown",
   "metadata": {},
   "source": [
    "## Solve for electrode SOH variables"
   ]
  },
  {
   "cell_type": "markdown",
   "metadata": {},
   "source": [
    "Given a total amount of cyclable lithium capacity, $Q_{Li}$, electrode capacities, $Q_n$ and $Q_p$, and voltage limits, $V_{min}$ and $V_{max}$, we can solve for the min and max electrode SOCs, $x_0$, $x_{100}$, $y_0$, and $y_{100}$,  and the cell capacity, $C$, using the algorithm adapted from Mohtat et al [1].\n",
    "First, we find $x_{100}$ and $y_{100}$ using\n",
    "\n",
    "$$\n",
    "Q_{Li} = y_{100}Q_p + x_{100}Q_n,\n",
    "\\\\\n",
    "V_{max} = U_p(y_{100}) - U_n(x_{100}).\n",
    "$$\n",
    "\n",
    "Note that Mohtat et al use $n_{Li} = \\frac{3600 Q_{Li}}{F}$ instead.\n",
    "Then, we find $Q$ using\n",
    "\n",
    "$$\n",
    "V_{min} = U_p(y_{0}) - U_n(x_{0})\n",
    "= U_p\\left(y_{100} + \\frac{Q}{Q_p}\\right) - U_n\\left(x_{100} - \\frac{Q}{Q_n}\\right)\n",
    "$$\n",
    "\n",
    "Finally, $x_0$ and $y_0$ are simply defined as\n",
    "\n",
    "$$\n",
    "x_0 = x_{100} - \\frac{Q}{Q_n},\n",
    "\\\\\n",
    "y_0 = y_{100} + \\frac{Q}{Q_p}.\n",
    "$$\n",
    "\n",
    "We implement this in PyBaMM as an algebraic model."
   ]
  },
  {
   "cell_type": "code",
   "execution_count": null,
   "metadata": {},
   "outputs": [],
   "source": [
    "param = pybamm.LithiumIonParameters()\n",
    "\n",
    "Vmin = 2.8\n",
    "Vmax = 4.2\n",
    "Q_n = parameter_values.evaluate(param.n.Q_init)\n",
    "Q_p = parameter_values.evaluate(param.p.Q_init)\n",
    "Q_Li = parameter_values.evaluate(param.Q_Li_particles_init)\n",
    "\n",
    "U_n = param.n.prim.U\n",
    "U_p = param.p.prim.U\n",
    "T_ref = param.T_ref"
   ]
  },
  {
   "cell_type": "code",
   "execution_count": null,
   "metadata": {},
   "outputs": [],
   "source": [
    "# First we solve for x_100 and y_100\n",
    "\n",
    "model = pybamm.BaseModel()\n",
    "\n",
    "x_100 = pybamm.Variable(\"x_100\")\n",
    "y_100 = (Q_Li - x_100 * Q_n) / Q_p\n",
    "\n",
    "y_100_min = 1e-10\n",
    "\n",
    "x_100_upper_limit = (Q_Li - y_100_min * Q_p) / Q_n\n",
    "\n",
    "model.algebraic = {x_100: U_p(y_100, T_ref) - U_n(x_100, T_ref) - Vmax}\n",
    "\n",
    "model.initial_conditions = {x_100: x_100_upper_limit}\n",
    "\n",
    "model.variables = {\"x_100\": x_100, \"y_100\": y_100}\n",
    "\n",
    "sim = pybamm.Simulation(model, parameter_values=parameter_values)\n",
    "sol = sim.solve([0])\n",
    "\n",
    "x_100 = sol[\"x_100\"].data[0]\n",
    "y_100 = sol[\"y_100\"].data[0]\n",
    "\n",
    "for var in [\"x_100\", \"y_100\"]:\n",
    "    print(var, \":\", sol[var].data[0])\n",
    "\n",
    "# Based on the calculated values for x_100 and y_100 we solve for x_0\n",
    "model = pybamm.BaseModel()\n",
    "\n",
    "x_0 = pybamm.Variable(\"x_0\")\n",
    "Q = Q_n * (x_100 - x_0)\n",
    "y_0 = y_100 + Q / Q_p\n",
    "\n",
    "model.algebraic = {x_0: U_p(y_0, T_ref) - U_n(x_0, T_ref) - Vmin}\n",
    "model.initial_conditions = {x_0: 0.1}\n",
    "\n",
    "model.variables = {\n",
    "    \"Q\": Q,\n",
    "    \"x_0\": x_0,\n",
    "    \"y_0\": y_0,\n",
    "}\n",
    "\n",
    "sim = pybamm.Simulation(model, parameter_values=parameter_values)\n",
    "sol = sim.solve([0])\n",
    "\n",
    "\n",
    "for var in [\"Q\", \"x_0\", \"y_0\"]:\n",
    "    print(var, \":\", sol[var].data[0])"
   ]
  },
  {
   "cell_type": "markdown",
   "metadata": {},
   "source": [
    "This is implemented in PyBaMM as the `ElectrodeSOHSolver` class"
   ]
  },
  {
   "cell_type": "code",
   "execution_count": null,
   "metadata": {},
   "outputs": [],
   "source": [
    "esoh_solver = pybamm.lithium_ion.ElectrodeSOHSolver(parameter_values, param)\n",
    "\n",
    "inputs = {\"V_min\": Vmin, \"V_max\": Vmax, \"Q_n\": Q_n, \"Q_p\": Q_p, \"Q_Li\": Q_Li}\n",
    "\n",
    "esoh_sol = esoh_solver.solve(inputs)\n",
    "\n",
    "for var in [\"x_100\", \"y_100\", \"Q\", \"x_0\", \"y_0\"]:\n",
    "    print(var, \":\", esoh_sol[var])"
   ]
  },
  {
   "cell_type": "markdown",
   "metadata": {},
   "source": [
    "## Check against simulations"
   ]
  },
  {
   "cell_type": "markdown",
   "metadata": {},
   "source": [
    "Plotting the SPM simulations against the eSOH calculations validates the min/max stoichiometry calculations"
   ]
  },
  {
   "cell_type": "code",
   "execution_count": null,
   "metadata": {},
   "outputs": [],
   "source": [
    "t = spm_sol[\"Time [h]\"].data\n",
    "x_spm = spm_sol[\"Negative electrode stoichiometry\"].data\n",
    "y_spm = spm_sol[\"Positive electrode stoichiometry\"].data\n",
    "\n",
    "x_0 = esoh_sol[\"x_0\"].data * np.ones_like(t)\n",
    "y_0 = esoh_sol[\"y_0\"].data * np.ones_like(t)\n",
    "x_100 = esoh_sol[\"x_100\"].data * np.ones_like(t)\n",
    "y_100 = esoh_sol[\"y_100\"].data * np.ones_like(t)\n",
    "\n",
    "fig, axes = plt.subplots(1, 2)\n",
    "\n",
    "axes[0].plot(t, x_spm, \"b\")\n",
    "axes[0].plot(t, x_0, \"k:\")\n",
    "axes[0].plot(t, x_100, \"k:\")\n",
    "axes[0].set_ylabel(\"x\")\n",
    "\n",
    "axes[1].plot(t, y_spm, \"r\")\n",
    "axes[1].plot(t, y_0, \"k:\")\n",
    "axes[1].plot(t, y_100, \"k:\")\n",
    "axes[1].set_ylabel(\"y\")\n",
    "\n",
    "for k in range(2):\n",
    "    axes[k].set_xlim([t[0], t[-1]])\n",
    "    axes[k].set_ylim([0, 1])\n",
    "    axes[k].set_xlabel(\"Time [h]\")\n",
    "\n",
    "fig.tight_layout()"
   ]
  },
  {
   "cell_type": "markdown",
   "metadata": {},
   "source": [
    "## How does electrode SOH depend on cyclable lithium"
   ]
  },
  {
   "cell_type": "markdown",
   "metadata": {},
   "source": [
    "We can do a parameter sweep for the amount of cyclable lithium to see how it affects the electrode SOH parameters and cell capacity"
   ]
  },
  {
   "cell_type": "code",
   "execution_count": null,
   "metadata": {},
   "outputs": [],
   "source": [
    "all_parameter_sets = [\n",
    "    k\n",
    "    for k, v in pybamm.parameter_sets.items()\n",
    "    if v[\"chemistry\"] == \"lithium_ion\"\n",
    "    and k\n",
    "    not in [\n",
    "        \"Xu2019\",\n",
    "        \"Chen2020_composite\",\n",
    "        \"Ecker2015_graphite_halfcell\",\n",
    "        \"OKane2022_graphite_SiOx_halfcell\",\n",
    "    ]\n",
    "]\n",
    "\n",
    "\n",
    "def solve_esoh_sweep_QLi(parameter_set, param):\n",
    "    parameter_values = pybamm.ParameterValues(parameter_set)\n",
    "\n",
    "    # Vmin = parameter_values[\"Lower voltage cut-off [V]\"]\n",
    "    # Vmax = parameter_values[\"Upper voltage cut-off [V]\"]\n",
    "    Vmin = parameter_values[\"Open-circuit voltage at 0% SOC [V]\"]\n",
    "    Vmax = parameter_values[\"Open-circuit voltage at 100% SOC [V]\"]\n",
    "\n",
    "    Q_n = parameter_values.evaluate(param.n.Q_init)\n",
    "    Q_p = parameter_values.evaluate(param.p.Q_init)\n",
    "\n",
    "    Q = parameter_values.evaluate(param.Q / param.n_electrodes_parallel)\n",
    "    esoh_solver = pybamm.lithium_ion.ElectrodeSOHSolver(\n",
    "        parameter_values, param, known_value=\"cell capacity\"\n",
    "    )\n",
    "    inputs = {\"V_max\": Vmax, \"V_min\": Vmin, \"Q\": Q, \"Q_n\": Q_n, \"Q_p\": Q_p}\n",
    "    sol_init_Q = esoh_solver.solve(inputs)\n",
    "\n",
    "    Q_Li_init = parameter_values.evaluate(param.Q_Li_particles_init)\n",
    "    esoh_solver = pybamm.lithium_ion.ElectrodeSOHSolver(parameter_values, param)\n",
    "    inputs = {\"V_max\": Vmax, \"V_min\": Vmin, \"Q_Li\": Q_Li_init, \"Q_n\": Q_n, \"Q_p\": Q_p}\n",
    "    sol_init_QLi = esoh_solver.solve(inputs)\n",
    "\n",
    "    Q_Li_sweep = np.linspace(1e-6, Q_n + Q_p)\n",
    "    sweep = {}\n",
    "    variables = [\"Q_Li\", \"x_0\", \"x_100\", \"y_0\", \"y_100\", \"Q\"]\n",
    "    for var in variables:\n",
    "        sweep[var] = []\n",
    "\n",
    "    for Q_Li in Q_Li_sweep:\n",
    "        inputs[\"Q_Li\"] = Q_Li\n",
    "        try:\n",
    "            sol = esoh_solver.solve(inputs)\n",
    "            for var in variables:\n",
    "                sweep[var].append(sol[var])\n",
    "        except (ValueError, pybamm.SolverError):\n",
    "            pass\n",
    "\n",
    "    return sweep, sol_init_QLi, sol_init_Q\n",
    "\n",
    "\n",
    "for parameter_set in [\"Chen2020\"]:\n",
    "    sweep, sol_init_QLi, sol_init_Q = solve_esoh_sweep_QLi(parameter_set, param)"
   ]
  },
  {
   "cell_type": "code",
   "execution_count": null,
   "metadata": {},
   "outputs": [],
   "source": [
    "def plot_sweep(sweep, sol_init, sol_init_Q, parameter_set):\n",
    "    fig, axes = plt.subplots(1, 3, figsize=(10, 3))\n",
    "    parameter_values = pybamm.ParameterValues(parameter_set)\n",
    "    parameter_values.evaluate(param.n.Q_init)\n",
    "    parameter_values.evaluate(param.p.Q_init)\n",
    "    # Plot min/max stoichimetric limits, including the value with the given Q_Li\n",
    "    for i, ks in enumerate([[\"x_0\", \"x_100\"], [\"y_0\", \"y_100\"], [\"Q\"]]):\n",
    "        ax = axes.flat[i]\n",
    "        for j, k in enumerate(ks):\n",
    "            if i == 0 and j == 0:\n",
    "                label1 = \"Stoichiometric envelope\"\n",
    "                label2 = \"Calculation from cyclable lithium\"\n",
    "                label3 = \"Calculation from cell capacity\"\n",
    "            else:\n",
    "                label1 = label2 = label3 = None\n",
    "            ax.plot(sweep[\"Q_Li\"], sweep[k], \"b-\", label=label1)\n",
    "            ax.axhline(sol_init_QLi[k], c=\"k\", linestyle=\"--\", label=label2)\n",
    "            ax.axhline(sol_init_Q[k], c=\"r\", linestyle=\"--\", label=label3)\n",
    "        ax.set_xlabel(\"Cyclable lithium [A.h]\")\n",
    "        ax.set_ylabel(ks[0][0])\n",
    "        ax.set_xlim([np.min(sweep[\"Q_Li\"]), np.max(sweep[\"Q_Li\"])])\n",
    "        ax.axvline(sol_init_QLi[\"Q_Li\"], c=\"k\", linestyle=\"--\")\n",
    "        ax.axvline(sol_init_Q[\"Q_Li\"], c=\"r\", linestyle=\"--\")\n",
    "        # Plot capacities of electrodes\n",
    "        # ax.axvline(Qn,c=\"b\",linestyle=\"--\")\n",
    "        # ax.axvline(Qp,c=\"r\",linestyle=\"--\")\n",
    "    axes[-1].set_ylabel(\"Cell capacity [A.h]\")\n",
    "\n",
    "    # Plot initial values of stoichometries\n",
    "    parameter_values.evaluate(param.n.prim.sto_init_av)\n",
    "    parameter_values.evaluate(param.p.prim.sto_init_av)\n",
    "    # axes[0].axhline(sto_n_init,c=\"g\",linestyle=\"--\")\n",
    "    # axes[1].axhline(sto_p_init,c=\"g\",linestyle=\"--\")\n",
    "\n",
    "    axes[1].set_title(parameter_set)\n",
    "    fig.legend(loc=\"center left\", bbox_to_anchor=(1.01, 0.5))\n",
    "    fig.tight_layout()\n",
    "    return fig, axes\n",
    "\n",
    "\n",
    "plot_sweep(sweep, sol_init_QLi, sol_init_Q, \"Chen2020\");"
   ]
  },
  {
   "cell_type": "code",
   "execution_count": null,
   "metadata": {},
   "outputs": [],
   "source": [
    "# Skip the MSMR example parameter set since we need to set up the ESOH solver differently\n",
    "all_parameter_sets.remove(\"MSMR_Example\")\n",
    "# Loop over all parameter sets and solve the ESOH problem\n",
    "for parameter_set in all_parameter_sets:\n",
    "    print(parameter_set)\n",
    "    try:\n",
    "        sweep, sol_init_QLi, sol_init_Q = solve_esoh_sweep_QLi(parameter_set, param)\n",
    "        fig, axes = plot_sweep(sweep, sol_init_QLi, sol_init_Q, parameter_set)\n",
    "    except ValueError:\n",
    "        pass"
   ]
  },
  {
   "cell_type": "markdown",
   "metadata": {},
   "source": [
    "## References\n",
    "\n",
    "The relevant papers for this notebook are:"
   ]
  },
  {
   "cell_type": "code",
   "execution_count": null,
   "metadata": {},
   "outputs": [],
   "source": [
    "pybamm.print_citations()"
   ]
  }
 ],
 "metadata": {
  "kernelspec": {
   "display_name": "dev",
   "language": "python",
   "name": "python3"
  },
  "language_info": {
   "codemirror_mode": {
    "name": "ipython",
    "version": 3
   },
   "file_extension": ".py",
   "mimetype": "text/x-python",
   "name": "python",
   "nbconvert_exporter": "python",
   "pygments_lexer": "ipython3",
   "version": "3.8.10"
  },
  "toc": {
   "base_numbering": 1,
   "nav_menu": {},
   "number_sections": true,
   "sideBar": true,
   "skip_h1_title": false,
   "title_cell": "Table of Contents",
   "title_sidebar": "Contents",
   "toc_cell": false,
   "toc_position": {},
   "toc_section_display": true,
   "toc_window_display": true
  },
  "vscode": {
   "interpreter": {
    "hash": "bca2b99bfac80e18288b793d52fa0653ab9b5fe5d22e7b211c44eb982a41c00c"
   }
  }
 },
 "nbformat": 4,
 "nbformat_minor": 4
}
