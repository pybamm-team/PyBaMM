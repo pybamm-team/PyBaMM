{
 "cells": [
  {
   "cell_type": "markdown",
   "metadata": {},
   "source": [
    "# Solving the heat equation in PyBaMM\n",
    "\n",
    "In this notebook we create and solve a model for unsteady heat diffusion in 1D, with a spatially dependent heat source term. The notebook is adapted from example 4.1.2 on pg.16 of the online notes found [here](https://faculty.uca.edu/darrigo/Students/M4315/Fall%202005/sep-var.pdf). \n",
    "\n",
    "We consider the heat equation \n",
    "\n",
    "$$T_{t} = kT_{xx} + Q(x), \\quad 0 < x < L, \\quad t > 0,$$\n",
    "\n",
    "along with the boundary and initial conditions, \n",
    "\n",
    "$$u(0, t)=0, \\quad u(L, t)=0, \\quad u(x, 0)=2x-x^2,$$\n",
    "\n",
    "and heat source term \n",
    "\n",
    "$$ Q(x)=1-|x-1|.$$\n",
    "\n",
    "As in the example, we solve the problem on the domain $0 < x < 2$ (i.e. we take $L=2$). We extended the example to include a thermal diffusivity $k$, which we take to be equal to 0.75."
   ]
  },
  {
   "cell_type": "markdown",
   "metadata": {},
   "source": [
    "## Building the model\n",
    "As always, we start by importing PyBaMM, along with any other packages we require."
   ]
  },
  {
   "cell_type": "code",
   "execution_count": null,
   "metadata": {},
   "outputs": [],
   "source": [
    "%pip install \"pybamm[plot,cite]\" -q    # install PyBaMM if it is not installed\n",
    "import pybamm\n",
    "import numpy as np\n",
    "import matplotlib.pyplot as plt"
   ]
  },
  {
   "cell_type": "markdown",
   "metadata": {},
   "source": [
    "We then load up an instance of the `pybamm.BaseModel` class."
   ]
  },
  {
   "cell_type": "code",
   "execution_count": null,
   "metadata": {},
   "outputs": [],
   "source": [
    "model = pybamm.BaseModel()"
   ]
  },
  {
   "cell_type": "markdown",
   "metadata": {},
   "source": [
    "We now define the model variables and parameters. Note that we also need to define the spatial variable $x$ here, so that we can write down the spatially dependent source term $Q(x)$. Since we are solving in 1D we have decided to call the domain \"rod\", but we could name it anything we like. Note that in PyBaMM variables and parameters can be given useful and meaningful names, such as \"Temperature\", so that they can be easily referred to later."
   ]
  },
  {
   "cell_type": "code",
   "execution_count": null,
   "metadata": {},
   "outputs": [],
   "source": [
    "x = pybamm.SpatialVariable(\"x\", domain=\"rod\", coord_sys=\"cartesian\")\n",
    "T = pybamm.Variable(\"Temperature\", domain=\"rod\")\n",
    "k = pybamm.Parameter(\"Thermal diffusivity\")"
   ]
  },
  {
   "cell_type": "markdown",
   "metadata": {},
   "source": [
    "Now that we have defined the variables, we can write down the model equations and add them to the `model.rhs` dictionary. This dictionary stores the right hand sides of any time-dependent differential equations (ordinary or partial). The key is the variable inside the time derivative (in this case $T$). To define the heat source term we use a `pybamm.Function` class. The first argument of the class is the function, and the second argument is the input.  "
   ]
  },
  {
   "cell_type": "code",
   "execution_count": null,
   "metadata": {},
   "outputs": [],
   "source": [
    "N = -k * pybamm.grad(T)  # Heat flux\n",
    "Q = 1 - pybamm.Function(np.abs, x - 1)  # Source term\n",
    "dTdt = -pybamm.div(N) + Q  # The right hand side of the PDE\n",
    "model.rhs = {T: dTdt}  # Add to model"
   ]
  },
  {
   "cell_type": "markdown",
   "metadata": {},
   "source": [
    "We now add the boundary conditions into the `model.boundary_conditions` dictionary. The keys of the dictionary indicate which end of the boundary the condition is applied to (in 1D this can be \"left\" or \"right\"), the entry is then give as a tuple of the value and type. In this example we have homogeneous Dirichlet boundary conditions at both ends."
   ]
  },
  {
   "cell_type": "code",
   "execution_count": null,
   "metadata": {},
   "outputs": [],
   "source": [
    "model.boundary_conditions = {\n",
    "    T: {\n",
    "        \"left\": (pybamm.Scalar(0), \"Dirichlet\"),\n",
    "        \"right\": (pybamm.Scalar(0), \"Dirichlet\"),\n",
    "    }\n",
    "}"
   ]
  },
  {
   "cell_type": "markdown",
   "metadata": {},
   "source": [
    "We also need to add the initial conditions to the `model.initial_conditions` dictionary."
   ]
  },
  {
   "cell_type": "code",
   "execution_count": null,
   "metadata": {},
   "outputs": [],
   "source": [
    "model.initial_conditions = {T: 2 * x - x**2}"
   ]
  },
  {
   "cell_type": "markdown",
   "metadata": {},
   "source": [
    "Finally, we add any output variables to the `model.variables` dictionary. These variables can be easily accessed after the model has been solved. You can add any variables of interest to this dictionary. Here we have added the temperature, heat flux and heat source."
   ]
  },
  {
   "cell_type": "code",
   "execution_count": null,
   "metadata": {},
   "outputs": [],
   "source": [
    "model.variables = {\"Temperature\": T, \"Heat flux\": N, \"Heat source\": Q}"
   ]
  },
  {
   "cell_type": "markdown",
   "metadata": {},
   "source": [
    "## Using the model\n",
    "Now that the model has been constructed we can go ahead and define our geometry and parameter values. We start by defining the geometry for our \"rod\" domain. We need to define the spatial direction(s) in which spatial operators act (such as gradients). In this case it is simply $x$. We then set the minimum and maximum values $x$ can take. In this example we are solving the problem on the domain $0<x<2$."
   ]
  },
  {
   "cell_type": "code",
   "execution_count": null,
   "metadata": {},
   "outputs": [],
   "source": [
    "geometry = {\"rod\": {x: {\"min\": pybamm.Scalar(0), \"max\": pybamm.Scalar(2)}}}"
   ]
  },
  {
   "cell_type": "markdown",
   "metadata": {},
   "source": [
    "We also need to provide the values of any parameters using the `pybamm.ParameterValues` class. This class accepts a dictionary of parameter names and values. Note that the name we provide is the string name of the parameters and not its symbol."
   ]
  },
  {
   "cell_type": "code",
   "execution_count": null,
   "metadata": {},
   "outputs": [],
   "source": [
    "param = pybamm.ParameterValues({\"Thermal diffusivity\": 0.75})"
   ]
  },
  {
   "cell_type": "markdown",
   "metadata": {},
   "source": [
    "Now that we have defined the geometry and provided the parameters values, we can process the model."
   ]
  },
  {
   "cell_type": "code",
   "execution_count": null,
   "metadata": {},
   "outputs": [],
   "source": [
    "param.process_model(model)\n",
    "param.process_geometry(geometry)"
   ]
  },
  {
   "cell_type": "markdown",
   "metadata": {},
   "source": [
    "Before we disctretise the spatial operators, we must choose and mesh and a spatial method. Here we choose to use a uniformly spaced 1D mesh with 30 points, and discretise the equations in space using the finite volume method. The information about the mesh is stored in a `pybamm.Mesh` object, wheres the spatial methods are stored in a dictionary which maps domain names to a spatial method. This allows the user to discretise different (sub)domains in a problem using different spatial methods. All of this information goes into a `pybamm.Discretisation` object, which accepts a mesh and a dictionary of spatial methods."
   ]
  },
  {
   "cell_type": "code",
   "execution_count": null,
   "metadata": {},
   "outputs": [],
   "source": [
    "submesh_types = {\"rod\": pybamm.Uniform1DSubMesh}\n",
    "var_pts = {x: 30}\n",
    "mesh = pybamm.Mesh(geometry, submesh_types, var_pts)\n",
    "spatial_methods = {\"rod\": pybamm.FiniteVolume()}\n",
    "disc = pybamm.Discretisation(mesh, spatial_methods)"
   ]
  },
  {
   "cell_type": "markdown",
   "metadata": {},
   "source": [
    "The model is then processed using the discretisation, turning the spaital operators into matrix-vector multiplications."
   ]
  },
  {
   "cell_type": "code",
   "execution_count": null,
   "metadata": {},
   "outputs": [],
   "source": [
    "disc.process_model(model)"
   ]
  },
  {
   "attachments": {},
   "cell_type": "markdown",
   "metadata": {},
   "source": [
    "Now that the model has been discretised we are ready to solve. We must first choose a solver to use. For this model we choose the Scipy ODE solver, but other solvers are available in PyBaMM (see [here](https://docs.pybamm.org/en/latest/source/api/solvers/index.html)). To solve the model, we use the method `solver.solve` which takes in a model and an array of times at which we would like the solution to be returned. Ths solution is then stored in the `solution` object. The times and states can be accessed with `solver.t` and `solver.y`."
   ]
  },
  {
   "cell_type": "code",
   "execution_count": null,
   "metadata": {},
   "outputs": [],
   "source": [
    "solver = pybamm.ScipySolver()\n",
    "t = np.linspace(0, 1, 100)\n",
    "solution = solver.solve(model, t)"
   ]
  },
  {
   "cell_type": "markdown",
   "metadata": {},
   "source": [
    "After solving, we can process variables using the class `pybamm.ProcessedVariable`. This returns a callable object which can be evaluated at any time and position by means of interpolating the solution. Processed variables provide a convinient way of comparing the solution to solutions from different models, or to exact solutions. Since all of the variables are names with informative strings, the user doesn't need to keep track of where they are stored in the state vector `solution.y`. This is particularly useful in complex models with lots of variables, and is automatically handled by the solution dictionary."
   ]
  },
  {
   "cell_type": "code",
   "execution_count": null,
   "metadata": {},
   "outputs": [],
   "source": [
    "T_out = solution[\"Temperature\"]"
   ]
  },
  {
   "cell_type": "markdown",
   "metadata": {},
   "source": [
    "## Comparison with the exact solution"
   ]
  },
  {
   "cell_type": "markdown",
   "metadata": {},
   "source": [
    "This example admits the exact solution \n",
    "\n",
    "$$T(x,t) = \\sum_{n=1}^{\\infty} \\left(\\frac{4}{kn^2\\pi^2}q_n + \\left( c_n - \\frac{4}{kn^2\\pi^2}q_n\\right) \\exp^{-k\\left(\\frac{n\\pi}{2}\\right)^2t} \\right) \\sin\\left( \\frac{n\\pi x}{2}\\right),$$\n",
    "\n",
    "with \n",
    "\n",
    "$$c_n = \\frac{16}{n^3\\pi^3}\\left(1 - \\cos(n \\pi)\\right), \\quad \\text{and} \\quad q_n = \\frac{8}{n^2\\pi^2} \\sin\\left(\\frac{n\\pi}{2}\\right).$$\n"
   ]
  },
  {
   "cell_type": "markdown",
   "metadata": {},
   "source": [
    "We construct the exact solution by summing over some large number $N$ of terms in the Fourier series."
   ]
  },
  {
   "cell_type": "code",
   "execution_count": null,
   "metadata": {},
   "outputs": [],
   "source": [
    "N = 100  # number of Fourier modes to sum\n",
    "k_val = param[\n",
    "    \"Thermal diffusivity\"\n",
    "]  # extract value of diffusivity from the parameters dictionary\n",
    "\n",
    "\n",
    "# Fourier coefficients\n",
    "def q(n):\n",
    "    return (8 / (n**2 * np.pi**2)) * np.sin(n * np.pi / 2)\n",
    "\n",
    "\n",
    "def c(n):\n",
    "    return (16 / (n**3 * np.pi**3)) * (1 - np.cos(n * np.pi))\n",
    "\n",
    "\n",
    "def b(n):\n",
    "    return c(n) - 4 * q(n) / (k_val * n**2 * np.pi**2)\n",
    "\n",
    "\n",
    "def T_n(t, n):\n",
    "    return (4 * q(n) / (k_val * n**2 * np.pi**2)) + b(n) * np.exp(\n",
    "        -k_val * (n * np.pi / 2) ** 2 * t\n",
    "    )\n",
    "\n",
    "\n",
    "# Sum series to get the temperature\n",
    "def T_exact(x, t):\n",
    "    out = 0\n",
    "    for n in np.arange(1, N):\n",
    "        out += T_n(t, n) * np.sin(n * np.pi * x / 2)\n",
    "    return out"
   ]
  },
  {
   "cell_type": "markdown",
   "metadata": {},
   "source": [
    "Finally, we plot the numerical and exact solutions at a series of different times. The plot demonstrates an excellent agreement between the numerical solution provided by PyBaMM (dots) and the exact solution (solid lines). Note that in the finite volume method the variable is evaluated at the cell centres."
   ]
  },
  {
   "cell_type": "code",
   "execution_count": null,
   "metadata": {},
   "outputs": [],
   "source": [
    "x_nodes = mesh[\"rod\"].nodes  # numerical gridpoints\n",
    "xx = np.linspace(0, 2, 101)  # fine mesh to plot exact solution\n",
    "plot_times = np.linspace(0, 1, 5)  # times at which to plot\n",
    "\n",
    "plt.figure(figsize=(15, 8))\n",
    "cmap = plt.get_cmap(\"inferno\")\n",
    "for i, t in enumerate(plot_times):\n",
    "    color = cmap(float(i) / len(plot_times))\n",
    "    plt.plot(\n",
    "        x_nodes,\n",
    "        T_out(t, x=x_nodes),\n",
    "        \"o\",\n",
    "        color=color,\n",
    "        label=\"Numerical\" if i == 0 else \"\",\n",
    "    )\n",
    "    plt.plot(\n",
    "        xx,\n",
    "        T_exact(xx, t),\n",
    "        \"-\",\n",
    "        color=color,\n",
    "        label=f\"Exact (t={plot_times[i]})\",\n",
    "    )\n",
    "plt.xlabel(\"x\", fontsize=16)\n",
    "plt.ylabel(\"T\", fontsize=16)\n",
    "plt.legend()\n",
    "plt.show()"
   ]
  },
  {
   "cell_type": "markdown",
   "metadata": {},
   "source": [
    "## References\n",
    "\n",
    "The relevant papers for this notebook are:"
   ]
  },
  {
   "cell_type": "code",
   "execution_count": null,
   "metadata": {},
   "outputs": [],
   "source": [
    "pybamm.print_citations()"
   ]
  }
 ],
 "metadata": {
  "kernelspec": {
   "display_name": "Python 3",
   "language": "python",
   "name": "python3"
  },
  "language_info": {
   "codemirror_mode": {
    "name": "ipython",
    "version": 3
   },
   "file_extension": ".py",
   "mimetype": "text/x-python",
   "name": "python",
   "nbconvert_exporter": "python",
   "pygments_lexer": "ipython3",
   "version": "3.8.13"
  }
 },
 "nbformat": 4,
 "nbformat_minor": 2
}
