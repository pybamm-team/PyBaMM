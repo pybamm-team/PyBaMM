{
 "cells": [
  {
   "cell_type": "markdown",
   "metadata": {},
   "source": [
    "# Loss of active material submodels\n",
    "In this notebook we show how to use the loss of active materials (LAM) submodels in PyBaMM. \n",
    "\n",
    "## Stress-driven LAM\n",
    "The first model we consider is the stress-driven submodel, which follows equation (25) from [Reniers et al (2019)](https://iopscience.iop.org/article/10.1149/2.0281914jes/meta), and the stresses are calculated by equations (7)-(9) in [Ai et al (2020)](https://iopscience.iop.org/article/10.1149/2.0122001JES/meta). To see all of the models and submodels available in PyBaMM, please take a look at the [documentation](https://docs.pybamm.org).\n",
    "\n",
    "As usual, we start by defining the model. We choose a DFN model with stress-driven loss of active material, and we also include SEI growth. We then define the parameters and experiments, and solve the simulation."
   ]
  },
  {
   "cell_type": "code",
   "execution_count": 1,
   "metadata": {},
   "outputs": [
    {
     "name": "stdout",
     "output_type": "stream",
     "text": [
      "Note: you may need to restart the kernel to use updated packages.\n"
     ]
    },
    {
     "name": "stderr",
     "output_type": "stream",
     "text": [
      "At t = 57.3387, , mxstep steps taken before reaching tout.\n",
      "At t = 57.3387, , mxstep steps taken before reaching tout.\n",
      "At t = 57.3387, , mxstep steps taken before reaching tout.\n",
      "At t = 57.3387, , mxstep steps taken before reaching tout.\n"
     ]
    }
   ],
   "source": [
    "%pip install \"pybamm[plot,cite]\" -q    # install PyBaMM if it is not installed\n",
    "import pybamm\n",
    "\n",
    "model = pybamm.lithium_ion.DFN(\n",
    "    options={\n",
    "        \"SEI\": \"solvent-diffusion limited\",\n",
    "        \"SEI porosity change\": \"false\",\n",
    "        \"particle mechanics\": \"swelling only\",\n",
    "        \"loss of active material\": \"stress-driven\",\n",
    "    }\n",
    ")\n",
    "param = pybamm.ParameterValues(\"Ai2020\")\n",
    "param.update({\"Negative electrode LAM constant proportional term [s-1]\": 1e-4 / 3600})\n",
    "param.update({\"Positive electrode LAM constant proportional term [s-1]\": 1e-4 / 3600})\n",
    "experiment = pybamm.Experiment(\n",
    "    [\n",
    "        \"Discharge at 1C until 3 V\",\n",
    "        \"Rest for 600 seconds\",\n",
    "        \"Charge at 1C until 4.2 V\",\n",
    "        \"Hold at 4.199 V for 600 seconds\",\n",
    "    ]\n",
    ")\n",
    "sim = pybamm.Simulation(\n",
    "    model,\n",
    "    experiment=experiment,\n",
    "    parameter_values=param,\n",
    "    discretisation_kwargs={\"remove_independent_variables_from_rhs\": True},\n",
    ")\n",
    "solution = sim.solve(calc_esoh=False)"
   ]
  },
  {
   "cell_type": "markdown",
   "metadata": {},
   "source": [
    "We can now plot the results as usual."
   ]
  },
  {
   "cell_type": "code",
   "execution_count": 2,
   "metadata": {},
   "outputs": [
    {
     "data": {
      "application/vnd.jupyter.widget-view+json": {
       "model_id": "ccfc7ae873d1492197fa7b554339a3d7",
       "version_major": 2,
       "version_minor": 0
      },
      "text/plain": [
       "interactive(children=(FloatSlider(value=0.0, description='t', max=2.3291967981693755, step=0.02329196798169375…"
      ]
     },
     "metadata": {},
     "output_type": "display_data"
    },
    {
     "data": {
      "text/plain": [
       "<pybamm.plotting.quick_plot.QuickPlot at 0x301e27dd0>"
      ]
     },
     "execution_count": 2,
     "metadata": {},
     "output_type": "execute_result"
    }
   ],
   "source": [
    "sim.plot(\n",
    "    [\n",
    "        \"Voltage [V]\",\n",
    "        \"Current [A]\",\n",
    "        \"Sum of x-averaged positive electrode volumetric interfacial current densities [A.m-3]\",\n",
    "        \"Sum of x-averaged negative electrode volumetric interfacial current densities [A.m-3]\",\n",
    "        \"X-averaged positive electrode active material volume fraction\",\n",
    "        \"X-averaged negative electrode active material volume fraction\",\n",
    "        \"X-averaged positive particle surface tangential stress [Pa]\",\n",
    "        \"X-averaged negative particle surface tangential stress [Pa]\",\n",
    "    ]\n",
    ")"
   ]
  },
  {
   "cell_type": "markdown",
   "metadata": {},
   "source": [
    "To understand the effect of the LAM constant proportional term, let's perform a parameter sweep."
   ]
  },
  {
   "cell_type": "code",
   "execution_count": 3,
   "metadata": {},
   "outputs": [
    {
     "name": "stderr",
     "output_type": "stream",
     "text": [
      "At t = 57.3387, , mxstep steps taken before reaching tout.\n",
      "At t = 57.3387, , mxstep steps taken before reaching tout.\n",
      "At t = 57.3387, , mxstep steps taken before reaching tout.\n",
      "At t = 57.3387, , mxstep steps taken before reaching tout.\n",
      "At t = 57.3307, , mxstep steps taken before reaching tout.\n",
      "At t = 57.3307 and h = 3.45325e-14, the corrector convergence failed repeatedly or with |h| = hmin.\n",
      "At t = 57.3307, , mxstep steps taken before reaching tout.\n",
      "At t = 57.3307, , mxstep steps taken before reaching tout.\n",
      "At t = 57.2504, , mxstep steps taken before reaching tout.\n",
      "At t = 57.2504, , mxstep steps taken before reaching tout.\n",
      "At t = 57.2504, , mxstep steps taken before reaching tout.\n",
      "At t = 57.2504, , mxstep steps taken before reaching tout.\n"
     ]
    },
    {
     "data": {
      "application/vnd.jupyter.widget-view+json": {
       "model_id": "b34472112ae344da92ccc8af5178c64b",
       "version_major": 2,
       "version_minor": 0
      },
      "text/plain": [
       "interactive(children=(FloatSlider(value=0.0, description='t', max=2.3291967981693755, step=0.02329196798169375…"
      ]
     },
     "metadata": {},
     "output_type": "display_data"
    },
    {
     "data": {
      "text/plain": [
       "<pybamm.plotting.quick_plot.QuickPlot at 0x301aa2ed0>"
      ]
     },
     "execution_count": 3,
     "metadata": {},
     "output_type": "execute_result"
    }
   ],
   "source": [
    "ks = [1e-4, 1e-3, 1e-2]\n",
    "solutions = []\n",
    "\n",
    "for k in ks:\n",
    "    param.update({\"Positive electrode LAM constant proportional term [s-1]\": k / 3600})\n",
    "    param.update({\"Negative electrode LAM constant proportional term [s-1]\": k / 3600})\n",
    "\n",
    "    sim = pybamm.Simulation(\n",
    "        model,\n",
    "        experiment=experiment,\n",
    "        parameter_values=param,\n",
    "        discretisation_kwargs={\"remove_independent_variables_from_rhs\": True},\n",
    "    )\n",
    "    solution = sim.solve(calc_esoh=False)\n",
    "    solutions.append(solution)\n",
    "\n",
    "pybamm.dynamic_plot(\n",
    "    solutions,\n",
    "    output_variables=[\n",
    "        \"Voltage [V]\",\n",
    "        \"Current [A]\",\n",
    "        \"Sum of x-averaged positive electrode volumetric interfacial current densities [A.m-3]\",\n",
    "        \"Sum of x-averaged negative electrode volumetric interfacial current densities [A.m-3]\",\n",
    "        \"X-averaged positive electrode active material volume fraction\",\n",
    "        \"X-averaged negative electrode active material volume fraction\",\n",
    "        \"X-averaged positive electrode surface area to volume ratio [m-1]\",\n",
    "        \"X-averaged negative electrode surface area to volume ratio [m-1]\",\n",
    "    ],\n",
    "    labels=[f\"k={k:.0e}\" for k in ks],\n",
    ")"
   ]
  },
  {
   "cell_type": "markdown",
   "metadata": {},
   "source": [
    "## Reaction-driven LAM\n",
    "\n",
    "Another option is to use reaction-driven (i.e. SEI) LAM. In this case we need to choose the `\"reaction-driven\"` option in the model, and proceed along the lines of the previous example."
   ]
  },
  {
   "cell_type": "code",
   "execution_count": 4,
   "metadata": {},
   "outputs": [
    {
     "data": {
      "application/vnd.jupyter.widget-view+json": {
       "model_id": "60db1d0de494460493cc8edd5b61d4e7",
       "version_major": 2,
       "version_minor": 0
      },
      "text/plain": [
       "interactive(children=(FloatSlider(value=0.0, description='t', max=1.85353350947348, step=0.0185353350947348), …"
      ]
     },
     "metadata": {},
     "output_type": "display_data"
    },
    {
     "data": {
      "text/plain": [
       "<pybamm.plotting.quick_plot.QuickPlot at 0x325594650>"
      ]
     },
     "execution_count": 4,
     "metadata": {},
     "output_type": "execute_result"
    }
   ],
   "source": [
    "import pybamm\n",
    "\n",
    "experiment = pybamm.Experiment(\n",
    "    [\n",
    "        \"Discharge at 1C until 3 V\",\n",
    "        \"Rest for 600 seconds\",\n",
    "        \"Charge at 1C until 4.2 V\",\n",
    "        \"Hold at 4.199 V for 600 seconds\",\n",
    "    ]\n",
    ")\n",
    "model = pybamm.lithium_ion.DFN(\n",
    "    options={\n",
    "        \"SEI\": \"solvent-diffusion limited\",\n",
    "        \"loss of active material\": \"reaction-driven\",\n",
    "    }\n",
    ")\n",
    "param = pybamm.ParameterValues(\"Chen2020\")\n",
    "param.update({\"Negative electrode reaction-driven LAM factor [m3.mol-1]\": 1e-4})\n",
    "sim = pybamm.Simulation(\n",
    "    model,\n",
    "    experiment=experiment,\n",
    "    parameter_values=param,\n",
    "    solver=pybamm.CasadiSolver(\"fast with events\"),\n",
    ")\n",
    "solution = sim.solve(calc_esoh=False)\n",
    "\n",
    "sim.plot(\n",
    "    [\n",
    "        \"Voltage [V]\",\n",
    "        \"Current [A]\",\n",
    "        \"Sum of x-averaged negative electrode volumetric interfacial current densities [A.m-3]\",\n",
    "        \"X-averaged negative electrode active material volume fraction\",\n",
    "        \"Negative total SEI thickness [m]\",\n",
    "        \"X-averaged negative total SEI thickness [m]\",\n",
    "    ]\n",
    ")"
   ]
  },
  {
   "cell_type": "markdown",
   "metadata": {},
   "source": [
    "Both stress-driven and reaction-driven can be combined by calling the `\"stress and reaction-driven\"` option."
   ]
  },
  {
   "cell_type": "markdown",
   "metadata": {},
   "source": [
    "## Current-driven LAM\n",
    "\n",
    "The final submodel is current-driven LAM, which follows equation (26) from [Reniers et al (2019)](https://iopscience.iop.org/article/10.1149/2.0281914jes/meta). In this case we need to define the RHS of the equation as a function of current density and temperature. The example here is illustrative and does not represent any real scenario."
   ]
  },
  {
   "cell_type": "code",
   "execution_count": 5,
   "metadata": {},
   "outputs": [
    {
     "data": {
      "application/vnd.jupyter.widget-view+json": {
       "model_id": "1dfb1de5ccde449c9eefcda1b1f44468",
       "version_major": 2,
       "version_minor": 0
      },
      "text/plain": [
       "interactive(children=(FloatSlider(value=0.0, description='t', max=1.8506629988943608, step=0.01850662998894360…"
      ]
     },
     "metadata": {},
     "output_type": "display_data"
    },
    {
     "data": {
      "text/plain": [
       "<pybamm.plotting.quick_plot.QuickPlot at 0x328bee650>"
      ]
     },
     "execution_count": 5,
     "metadata": {},
     "output_type": "execute_result"
    }
   ],
   "source": [
    "def current_LAM(i, T):\n",
    "    return -1e-10 * (abs(i) + 1e3 * abs(i) ** 0.5)\n",
    "\n",
    "\n",
    "model = pybamm.lithium_ion.DFN(\n",
    "    options={\n",
    "        \"loss of active material\": \"current-driven\",\n",
    "    }\n",
    ")\n",
    "param = pybamm.ParameterValues(\"Chen2020\")\n",
    "param.update(\n",
    "    {\n",
    "        \"Positive electrode current-driven LAM rate\": current_LAM,\n",
    "        \"Negative electrode current-driven LAM rate\": current_LAM,\n",
    "    },\n",
    "    check_already_exists=False,\n",
    ")\n",
    "sim = pybamm.Simulation(\n",
    "    model,\n",
    "    experiment=experiment,\n",
    "    parameter_values=param,\n",
    "    solver=pybamm.CasadiSolver(\"fast with events\"),\n",
    ")\n",
    "solution = sim.solve(calc_esoh=False)\n",
    "\n",
    "sim.plot(\n",
    "    [\n",
    "        \"Voltage [V]\",\n",
    "        \"Current [A]\",\n",
    "        \"X-averaged positive electrode active material volume fraction\",\n",
    "        \"X-averaged negative electrode active material volume fraction\",\n",
    "    ]\n",
    ")"
   ]
  },
  {
   "cell_type": "markdown",
   "metadata": {},
   "source": [
    "## LAM with composite electrode\n",
    "The LAM submodel is also compatible with multiple phases within an electrode for both stress- and reaction-driven loss of active material. Currently, there is no single parameter set that combines both LAM degradation and composite materials. The following examples use the Chen2020 composite parameter set with LAM parameters taken from the Ai2020 parameter set. "
   ]
  },
  {
   "cell_type": "code",
   "execution_count": 6,
   "metadata": {},
   "outputs": [],
   "source": [
    "# Volume change functions from Ai2020 parameters\n",
    "\n",
    "\n",
    "def graphite_volume_change_Ai2020(sto):\n",
    "    p1 = 145.907\n",
    "    p2 = -681.229\n",
    "    p3 = 1334.442\n",
    "    p4 = -1415.710\n",
    "    p5 = 873.906\n",
    "    p6 = -312.528\n",
    "    p7 = 60.641\n",
    "    p8 = -5.706\n",
    "    p9 = 0.386\n",
    "    p10 = -4.966e-05\n",
    "    t_change = (\n",
    "        p1 * sto**9\n",
    "        + p2 * sto**8\n",
    "        + p3 * sto**7\n",
    "        + p4 * sto**6\n",
    "        + p5 * sto**5\n",
    "        + p6 * sto**4\n",
    "        + p7 * sto**3\n",
    "        + p8 * sto**2\n",
    "        + p9 * sto\n",
    "        + p10\n",
    "    )\n",
    "    return t_change\n",
    "\n",
    "\n",
    "def lico2_volume_change_Ai2020(sto):\n",
    "    omega = pybamm.Parameter(\"Positive electrode partial molar volume [m3.mol-1]\")\n",
    "    c_s_max = pybamm.Parameter(\"Maximum concentration in positive electrode [mol.m-3]\")\n",
    "    t_change = omega * c_s_max * sto\n",
    "    return t_change"
   ]
  },
  {
   "cell_type": "markdown",
   "metadata": {},
   "source": [
    "## Stress-driven composite anode\n",
    "The secondary phase LAM parameters have been adjusted from the Ai2020 by about 10% to show less degradation in that phase. The model is set up in the same way the single-phase simulation is but with additional parameters."
   ]
  },
  {
   "cell_type": "code",
   "execution_count": 7,
   "metadata": {},
   "outputs": [],
   "source": [
    "options = {\n",
    "    \"particle phases\": (\"2\", \"1\"),\n",
    "    \"open-circuit potential\": ((\"single\", \"current sigmoid\"), \"single\"),\n",
    "    \"loss of active material\": \"stress-driven\",\n",
    "}\n",
    "\n",
    "model = pybamm.lithium_ion.SPM(options)\n",
    "parameter_values = pybamm.ParameterValues(\"Chen2020_composite\")\n",
    "second = 0.1\n",
    "parameter_values.update(\n",
    "    {\n",
    "        \"Primary: Negative electrode LAM constant proportional term [s-1]\": 1e-4 / 3600,\n",
    "        \"Secondary: Negative electrode LAM constant proportional term [s-1]\": 1e-4\n",
    "        / 3600\n",
    "        * second,\n",
    "        \"Positive electrode LAM constant proportional term [s-1]\": 1e-4 / 3600,\n",
    "        \"Primary: Negative electrode partial molar volume [m3.mol-1]\": 3.1e-06,\n",
    "        \"Primary: Negative electrode Young's modulus [Pa]\": 15000000000.0,\n",
    "        \"Primary: Negative electrode Poisson's ratio\": 0.3,\n",
    "        \"Primary: Negative electrode critical stress [Pa]\": 60000000.0,\n",
    "        \"Secondary: Negative electrode critical stress [Pa]\": 60000000.0,\n",
    "        \"Primary: Negative electrode LAM constant exponential term\": 2.0,\n",
    "        \"Secondary: Negative electrode LAM constant exponential term\": 2.0,\n",
    "        \"Secondary: Negative electrode partial molar volume [m3.mol-1]\": 3.1e-06\n",
    "        * second,\n",
    "        \"Secondary: Negative electrode Young's modulus [Pa]\": 15000000000.0 * second,\n",
    "        \"Secondary: Negative electrode Poisson's ratio\": 0.3 * second,\n",
    "        \"Negative electrode reference concentration for free of deformation [mol.m-3]\": 0.0,\n",
    "        \"Primary: Negative electrode volume change\": graphite_volume_change_Ai2020,\n",
    "        \"Secondary: Negative electrode volume change\": graphite_volume_change_Ai2020,\n",
    "        \"Positive electrode partial molar volume [m3.mol-1]\": -7.28e-07,\n",
    "        \"Positive electrode Young's modulus [Pa]\": 375000000000.0,\n",
    "        \"Positive electrode Poisson's ratio\": 0.2,\n",
    "        \"Positive electrode critical stress [Pa]\": 375000000.0,\n",
    "        \"Positive electrode LAM constant exponential term\": 2.0,\n",
    "        \"Positive electrode reference concentration for free of deformation [mol.m-3]\": 0.0,\n",
    "        \"Positive electrode volume change\": lico2_volume_change_Ai2020,\n",
    "    },\n",
    "    check_already_exists=False,\n",
    ")\n",
    "\n",
    "# sim = pybamm.Simulation(model, parameter_values=parameter_values)\n",
    "# sim.solve([0, 4500])\n",
    "experiment = pybamm.Experiment(\n",
    "    [\n",
    "        \"Discharge at 1C until 3 V\",\n",
    "        \"Rest for 600 seconds\",\n",
    "        \"Charge at 1C until 4.2 V\",\n",
    "        \"Hold at 4.199 V for 600 seconds\",\n",
    "    ]\n",
    ")\n",
    "sim = pybamm.Simulation(\n",
    "    model,\n",
    "    experiment=experiment,\n",
    "    parameter_values=parameter_values,\n",
    "    discretisation_kwargs={\"remove_independent_variables_from_rhs\": True},\n",
    ")\n",
    "solution = sim.solve(calc_esoh=False)"
   ]
  },
  {
   "cell_type": "markdown",
   "metadata": {},
   "source": [
    "The two phase LAM model can be compared between the cathode and two anode phases."
   ]
  },
  {
   "cell_type": "code",
   "execution_count": 8,
   "metadata": {},
   "outputs": [
    {
     "data": {
      "application/vnd.jupyter.widget-view+json": {
       "model_id": "074bcadceb3e4fbd8cc786e798bb6508",
       "version_major": 2,
       "version_minor": 0
      },
      "text/plain": [
       "interactive(children=(FloatSlider(value=0.0, description='t', max=2.1702864080208446, step=0.02170286408020844…"
      ]
     },
     "metadata": {},
     "output_type": "display_data"
    },
    {
     "data": {
      "text/plain": [
       "<pybamm.plotting.quick_plot.QuickPlot at 0x324b0add0>"
      ]
     },
     "execution_count": 8,
     "metadata": {},
     "output_type": "execute_result"
    }
   ],
   "source": [
    "pybamm.dynamic_plot(\n",
    "    sim,\n",
    "    [\n",
    "        \"Voltage [V]\",\n",
    "        \"Current [A]\",\n",
    "        [\n",
    "            \"Average negative primary particle concentration\",\n",
    "            \"Average negative secondary particle concentration\",\n",
    "            \"Average positive particle concentration\",\n",
    "        ],\n",
    "        \"X-averaged negative electrode primary active material volume fraction\",\n",
    "        \"X-averaged positive electrode active material volume fraction\",\n",
    "        \"X-averaged negative electrode secondary active material volume fraction\",\n",
    "        \"Sum of x-averaged positive electrode volumetric interfacial current densities [A.m-3]\",\n",
    "        \"Sum of x-averaged negative electrode volumetric interfacial current densities [A.m-3]\",\n",
    "        \"X-averaged positive particle surface tangential stress [Pa]\",\n",
    "        \"X-averaged negative primary particle surface tangential stress [Pa]\",\n",
    "        \"X-averaged negative secondary particle surface tangential stress [Pa]\",\n",
    "    ],\n",
    ")"
   ]
  },
  {
   "cell_type": "markdown",
   "metadata": {},
   "source": [
    "## Reaction-driven composite anode\n",
    "The same process is repeated for the reaction-driven LAM degradation."
   ]
  },
  {
   "cell_type": "code",
   "execution_count": 9,
   "metadata": {},
   "outputs": [
    {
     "data": {
      "application/vnd.jupyter.widget-view+json": {
       "model_id": "98a2b1762a3c43bcaa9ceff5a146d704",
       "version_major": 2,
       "version_minor": 0
      },
      "text/plain": [
       "interactive(children=(FloatSlider(value=0.0, description='t', max=2.081773444877257, step=0.02081773444877257)…"
      ]
     },
     "metadata": {},
     "output_type": "display_data"
    },
    {
     "data": {
      "text/plain": [
       "<pybamm.plotting.quick_plot.QuickPlot at 0x32a9a6a10>"
      ]
     },
     "execution_count": 9,
     "metadata": {},
     "output_type": "execute_result"
    }
   ],
   "source": [
    "options = {\n",
    "    \"particle phases\": (\"2\", \"1\"),\n",
    "    \"open-circuit potential\": ((\"single\", \"current sigmoid\"), \"single\"),\n",
    "    \"SEI\": \"solvent-diffusion limited\",\n",
    "    \"loss of active material\": \"reaction-driven\",\n",
    "}\n",
    "\n",
    "model = pybamm.lithium_ion.SPM(options)\n",
    "parameter_values = pybamm.ParameterValues(\"Chen2020_composite\")\n",
    "second = 0.9\n",
    "\n",
    "parameter_values.update(\n",
    "    {\n",
    "        \"Primary: Negative electrode partial molar volume [m3.mol-1]\": 3.1e-06,\n",
    "        \"Primary: Negative electrode Young's modulus [Pa]\": 15000000000.0,\n",
    "        \"Primary: Negative electrode Poisson's ratio\": 0.3,\n",
    "        \"Negative electrode critical stress [Pa]\": 60000000.0,\n",
    "        \"Negative electrode LAM constant exponential term\": 2.0,\n",
    "        \"Secondary: Negative electrode partial molar volume [m3.mol-1]\": 3.1e-06\n",
    "        * second,\n",
    "        \"Secondary: Negative electrode Young's modulus [Pa]\": 15000000000.0 * second,\n",
    "        \"Secondary: Negative electrode Poisson's ratio\": 0.3 * second,\n",
    "        \"Negative electrode reference concentration for free of deformation [mol.m-3]\": 0.0,\n",
    "        \"Primary: Negative electrode volume change\": graphite_volume_change_Ai2020,\n",
    "        \"Secondary: Negative electrode volume change\": graphite_volume_change_Ai2020,\n",
    "        \"Positive electrode partial molar volume [m3.mol-1]\": -7.28e-07,\n",
    "        \"Positive electrode Young's modulus [Pa]\": 375000000000.0,\n",
    "        \"Positive electrode Poisson's ratio\": 0.2,\n",
    "        \"Positive electrode critical stress [Pa]\": 375000000.0,\n",
    "        \"Positive electrode LAM constant exponential term\": 2.0,\n",
    "        \"Positive electrode reference concentration for free of deformation [mol.m-3]\": 0.0,\n",
    "        \"Positive electrode volume change\": lico2_volume_change_Ai2020,\n",
    "        \"Primary: Negative electrode reaction-driven LAM factor [m3.mol-1]\": 1e-9,\n",
    "        \"Secondary: Negative electrode reaction-driven LAM factor [m3.mol-1]\": 10,\n",
    "    },\n",
    "    check_already_exists=False,\n",
    ")\n",
    "\n",
    "# Changing secondary SEI solvent diffusivity to show different degradation between phases\n",
    "parameter_values.update(\n",
    "    {\n",
    "        \"Secondary: SEI solvent diffusivity [m2.s-1]\": 2.5e-24,\n",
    "    }\n",
    ")\n",
    "\n",
    "# sim = pybamm.Simulation(model, parameter_values=parameter_values)\n",
    "# sim.solve([0, 4100])\n",
    "sim = pybamm.Simulation(\n",
    "    model,\n",
    "    experiment=experiment,\n",
    "    parameter_values=parameter_values,\n",
    "    solver=pybamm.CasadiSolver(\"fast with events\"),\n",
    ")\n",
    "solution = sim.solve(calc_esoh=False)\n",
    "\n",
    "sim.plot(\n",
    "    [\n",
    "        \"Voltage [V]\",\n",
    "        \"Current [A]\",\n",
    "        \"Sum of x-averaged negative electrode volumetric interfacial current densities [A.m-3]\",\n",
    "        \"X-averaged negative electrode primary active material volume fraction\",\n",
    "        \"X-averaged negative electrode secondary active material volume fraction\",\n",
    "        \"Negative total primary SEI thickness [m]\",\n",
    "        \"Negative total secondary SEI thickness [m]\",\n",
    "    ]\n",
    ")"
   ]
  },
  {
   "cell_type": "markdown",
   "metadata": {},
   "source": [
    "## References\n",
    "\n",
    "The relevant papers for this notebook are:"
   ]
  },
  {
   "cell_type": "code",
   "execution_count": 10,
   "metadata": {},
   "outputs": [
    {
     "name": "stdout",
     "output_type": "stream",
     "text": [
      "[1] Weilong Ai, Niall Kirkaldy, Yang Jiang, Gregory Offer, Huizhi Wang, and Billy Wu. A composite electrode model for lithium-ion batteries with silicon/graphite negative electrodes. Journal of Power Sources, 527:231142, 2022. URL: https://www.sciencedirect.com/science/article/pii/S0378775322001604, doi:https://doi.org/10.1016/j.jpowsour.2022.231142.\n",
      "[2] Weilong Ai, Ludwig Kraft, Johannes Sturm, Andreas Jossen, and Billy Wu. Electrochemical thermal-mechanical modelling of stress inhomogeneity in lithium-ion pouch cells. Journal of The Electrochemical Society, 167(1):013512, 2019. doi:10.1149/2.0122001JES.\n",
      "[3] Joel A. E. Andersson, Joris Gillis, Greg Horn, James B. Rawlings, and Moritz Diehl. CasADi – A software framework for nonlinear optimization and optimal control. Mathematical Programming Computation, 11(1):1–36, 2019. doi:10.1007/s12532-018-0139-4.\n",
      "[4] Ferran Brosa Planella and W. Dhammika Widanage. Systematic derivation of a Single Particle Model with Electrolyte and Side Reactions (SPMe+SR) for degradation of lithium-ion batteries. Submitted for publication, ():, 2022. doi:.\n",
      "[5] Von DAG Bruggeman. Berechnung verschiedener physikalischer konstanten von heterogenen substanzen. i. dielektrizitätskonstanten und leitfähigkeiten der mischkörper aus isotropen substanzen. Annalen der physik, 416(7):636–664, 1935.\n",
      "[6] Chang-Hui Chen, Ferran Brosa Planella, Kieran O'Regan, Dominika Gastol, W. Dhammika Widanage, and Emma Kendrick. Development of Experimental Techniques for Parameterization of Multi-scale Lithium-ion Battery Models. Journal of The Electrochemical Society, 167(8):080534, 2020. doi:10.1149/1945-7111/ab9050.\n",
      "[7] Rutooj Deshpande, Mark Verbrugge, Yang-Tse Cheng, John Wang, and Ping Liu. Battery cycle life prediction with coupled chemical degradation and fatigue mechanics. Journal of the Electrochemical Society, 159(10):A1730, 2012. doi:10.1149/2.049210jes.\n",
      "[8] Marc Doyle, Thomas F. Fuller, and John Newman. Modeling of galvanostatic charge and discharge of the lithium/polymer/insertion cell. Journal of the Electrochemical society, 140(6):1526–1533, 1993. doi:10.1149/1.2221597.\n",
      "[9] Charles R. Harris, K. Jarrod Millman, Stéfan J. van der Walt, Ralf Gommers, Pauli Virtanen, David Cournapeau, Eric Wieser, Julian Taylor, Sebastian Berg, Nathaniel J. Smith, and others. Array programming with NumPy. Nature, 585(7825):357–362, 2020. doi:10.1038/s41586-020-2649-2.\n",
      "[10] Scott G. Marquis. Long-term degradation of lithium-ion batteries. PhD thesis, University of Oxford, 2020.\n",
      "[11] Scott G. Marquis, Valentin Sulzer, Robert Timms, Colin P. Please, and S. Jon Chapman. An asymptotic derivation of a single particle model with electrolyte. Journal of The Electrochemical Society, 166(15):A3693–A3706, 2019. doi:10.1149/2.0341915jes.\n",
      "[12] Jorn M. Reniers, Grietus Mulder, and David A. Howey. Review and performance comparison of mechanical-chemical degradation models for lithium-ion batteries. Journal of The Electrochemical Society, 166(14):A3189, 2019. doi:10.1149/2.0281914jes.\n",
      "[13] Valentin Sulzer, Scott G. Marquis, Robert Timms, Martin Robinson, and S. Jon Chapman. Python Battery Mathematical Modelling (PyBaMM). Journal of Open Research Software, 9(1):14, 2021. doi:10.5334/jors.309.\n",
      "\n"
     ]
    }
   ],
   "source": [
    "pybamm.print_citations()"
   ]
  },
  {
   "cell_type": "code",
   "execution_count": null,
   "metadata": {},
   "outputs": [],
   "source": []
  }
 ],
 "metadata": {
  "kernelspec": {
   "display_name": "Python 3 (ipykernel)",
   "language": "python",
   "name": "python3"
  },
  "language_info": {
   "codemirror_mode": {
    "name": "ipython",
    "version": 3
   },
   "file_extension": ".py",
   "mimetype": "text/x-python",
   "name": "python",
   "nbconvert_exporter": "python",
   "pygments_lexer": "ipython3",
   "version": "3.11.9"
  },
  "toc": {
   "base_numbering": 1,
   "nav_menu": {},
   "number_sections": true,
   "sideBar": true,
   "skip_h1_title": false,
   "title_cell": "Table of Contents",
   "title_sidebar": "Contents",
   "toc_cell": false,
   "toc_position": {},
   "toc_section_display": true,
   "toc_window_display": true
  },
  "vscode": {
   "interpreter": {
    "hash": "187972e187ab8dfbecfab9e8e194ae6d08262b2d51a54fa40644e3ddb6b5f74c"
   }
  }
 },
 "nbformat": 4,
 "nbformat_minor": 4
}
