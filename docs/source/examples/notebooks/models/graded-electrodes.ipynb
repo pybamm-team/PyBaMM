{
 "cells": [
  {
   "cell_type": "markdown",
   "metadata": {},
   "source": [
    "# Simulating graded electrodes\n",
    "\n",
    "In this notebook we explore how to simulate the effect of graded electrodes in the performance of a battery. Graded electrodes have a composition that varies along the thickness of the electrode, typically active material volume fraction and particle size. This variation can be used to improve the performance of the battery, for example, by increasing the power density.\n",
    "\n",
    "As usual, we start by importing PyBaMM."
   ]
  },
  {
   "cell_type": "code",
   "execution_count": null,
   "metadata": {},
   "outputs": [],
   "source": [
    "%pip install \"pybamm[plot,cite]\" -q # install PyBaMM if it is not installed\n",
    "import pybamm"
   ]
  },
  {
   "cell_type": "markdown",
   "metadata": {},
   "source": [
    "We use the DFN model for the simulations and the Chen2020 parameter set. Note that we will need to modify the default Chen2020 parameter set to describe graded electrodes."
   ]
  },
  {
   "cell_type": "code",
   "execution_count": null,
   "metadata": {},
   "outputs": [],
   "source": [
    "model = pybamm.lithium_ion.DFN()\n",
    "parameter_values = pybamm.ParameterValues(\"Chen2020\")"
   ]
  },
  {
   "cell_type": "markdown",
   "metadata": {},
   "source": [
    "We will vary the porosity in both electrodes and we will try three different scenarios: constant porosity, one where lower porosity occurs near the separator and one where lower porosity occurs near the current collector. All other parameters are kept constant. The varying porosity is defined to be linear centered around the default value and with a variation of $\\pm$ 10%.\n",
    "\n",
    "We define the varying porosities and store them in a list so we can loop over when solving the model."
   ]
  },
  {
   "cell_type": "code",
   "execution_count": null,
   "metadata": {},
   "outputs": [],
   "source": [
    "L_n = parameter_values[\"Negative electrode thickness [m]\"]\n",
    "L_s = parameter_values[\"Separator thickness [m]\"]\n",
    "L_p = parameter_values[\"Positive electrode thickness [m]\"]\n",
    "\n",
    "eps_n_0 = parameter_values[\"Negative electrode porosity\"]\n",
    "eps_p_0 = parameter_values[\"Positive electrode porosity\"]\n",
    "\n",
    "eps_ns = [\n",
    "    eps_n_0,\n",
    "    lambda x: eps_n_0 * (1.1 - 0.2 * (x / L_n)),\n",
    "    lambda x: eps_n_0 * (0.9 + 0.2 * (x / L_n)),\n",
    "]\n",
    "\n",
    "eps_ps = [\n",
    "    eps_p_0,\n",
    "    lambda x: eps_p_0 * (0.9 - 0.2 / L_p * (L_n + L_s) + 0.2 * (x / L_p)),\n",
    "    lambda x: eps_p_0 * (1.1 + 0.2 / L_p * (L_n + L_s) - 0.2 * (x / L_p)),\n",
    "]"
   ]
  },
  {
   "cell_type": "markdown",
   "metadata": {},
   "source": [
    "Note that the distance through the electrode is computed from the negative electrode, so parameter need to be defined accordingly. Next, we can just solve the models for the various parameter sets. We apply a fairly high C-rate to see the effect of the graded electrodes on the discharge capacity."
   ]
  },
  {
   "cell_type": "code",
   "execution_count": null,
   "metadata": {},
   "outputs": [],
   "source": [
    "solutions = []\n",
    "\n",
    "experiment = pybamm.Experiment([\"Discharge at 3C until 2.5 V\"])\n",
    "\n",
    "for eps_n, eps_p in zip(eps_ns, eps_ps):\n",
    "    parameter_values[\"Negative electrode porosity\"] = eps_n\n",
    "    parameter_values[\"Positive electrode porosity\"] = eps_p\n",
    "    sim = pybamm.Simulation(\n",
    "        model,\n",
    "        parameter_values=parameter_values,\n",
    "        experiment=experiment,\n",
    "        solver=pybamm.IDAKLUSolver(),\n",
    "    )\n",
    "    sol = sim.solve()\n",
    "    solutions.append(sol)"
   ]
  },
  {
   "cell_type": "markdown",
   "metadata": {},
   "source": [
    "And plot the results:"
   ]
  },
  {
   "cell_type": "code",
   "execution_count": null,
   "metadata": {},
   "outputs": [],
   "source": [
    "pybamm.dynamic_plot(\n",
    "    solutions,\n",
    "    labels=[\n",
    "        \"Constant porosity\",\n",
    "        \"Low porosity at separator\",\n",
    "        \"High porosity at separator\",\n",
    "    ],\n",
    ")"
   ]
  },
  {
   "cell_type": "markdown",
   "metadata": {},
   "source": [
    "We observe that, even though the average porosity is the same for the three cases the discharge capacity is much higher with the graded electrode where porosity is higher near the separator. This is because the higher porosity near the separator facilitates the ion transport and the better utilisation of the active material.\n",
    "\n",
    "As a sanity check we can plot the porosity profiles for the three cases and see they match what we intended."
   ]
  },
  {
   "cell_type": "code",
   "execution_count": null,
   "metadata": {},
   "outputs": [],
   "source": [
    "pybamm.dynamic_plot(\n",
    "    solutions,\n",
    "    output_variables=[\"Negative electrode porosity\", \"Positive electrode porosity\"],\n",
    "    labels=[\n",
    "        \"Constant porosity\",\n",
    "        \"Low porosity at separator\",\n",
    "        \"High porosity at separator\",\n",
    "    ],\n",
    ")"
   ]
  },
  {
   "cell_type": "code",
   "execution_count": null,
   "metadata": {},
   "outputs": [],
   "source": [
    "pybamm.print_citations()"
   ]
  },
  {
   "cell_type": "code",
   "execution_count": null,
   "metadata": {},
   "outputs": [],
   "source": []
  }
 ],
 "metadata": {
  "kernelspec": {
   "language": "python"
  },
  "language_info": {
   "codemirror_mode": {
    "name": "ipython",
    "version": 3
   },
   "file_extension": ".py",
   "mimetype": "text/x-python",
   "name": "python",
   "nbconvert_exporter": "python",
   "pygments_lexer": "ipython3"
  }
 },
 "nbformat": 4,
 "nbformat_minor": 2
}
