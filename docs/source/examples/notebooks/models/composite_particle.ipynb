{
 "cells": [
  {
   "attachments": {},
   "cell_type": "markdown",
   "id": "68feb769",
   "metadata": {},
   "source": [
    "# A composite electrode particle model"
   ]
  },
  {
   "attachments": {},
   "cell_type": "markdown",
   "id": "58f614c2",
   "metadata": {},
   "source": [
    " A composite electrode particle model is developed for (negative) electrodes with two phases, e.g. graphite/silicon in LG M50 battery cells. The current version is demonstrated for negative composite electrodes only but is easily extended to positive composite electrodes. The reference is at the end of this notebook."
   ]
  },
  {
   "attachments": {},
   "cell_type": "markdown",
   "id": "44c5f462",
   "metadata": {},
   "source": [
    "## How to use the model\n",
    "\n",
    "Let us set up PyBaMM "
   ]
  },
  {
   "cell_type": "code",
   "execution_count": null,
   "id": "29f9e4d0",
   "metadata": {},
   "outputs": [],
   "source": [
    "# %pip install \"pybamm[plot,cite]\" -q    # install PyBaMM if it is not installed\n",
    "import os\n",
    "import matplotlib.pyplot as plt\n",
    "import numpy as np\n",
    "import pybamm\n",
    "import timeit\n",
    "from matplotlib import style\n",
    "\n",
    "style.use(\"ggplot\")\n",
    "os.chdir(pybamm.__path__[0] + \"/..\")\n",
    "pybamm.set_logging_level(\"INFO\")"
   ]
  },
  {
   "attachments": {},
   "cell_type": "markdown",
   "id": "7d4ebc5e",
   "metadata": {},
   "source": [
    "Choose the option `{\"particle phases\": (\"2\", \"1\")}` to load the composite electrode particle model by specifying that there are two particle phases (graphite and silicon) in the negative electrode. The parameter set \"Chen2020_composite\" includes parameters for silicon as a secondary particle"
   ]
  },
  {
   "cell_type": "code",
   "execution_count": null,
   "id": "8935004a",
   "metadata": {},
   "outputs": [],
   "source": [
    "start = timeit.default_timer()\n",
    "model = pybamm.lithium_ion.DFN(\n",
    "    {\n",
    "        \"particle phases\": (\"2\", \"1\"),\n",
    "        \"open-circuit potential\": ((\"single\", \"current sigmoid\"), \"single\"),\n",
    "    }\n",
    ")\n",
    "param = pybamm.ParameterValues(\"Chen2020_composite\")\n",
    "\n",
    "param.update({\"Upper voltage cut-off [V]\": 4.5})\n",
    "param.update({\"Lower voltage cut-off [V]\": 2.5})\n",
    "\n",
    "param.update(\n",
    "    {\n",
    "        \"Primary: Maximum concentration in negative electrode [mol.m-3]\": 28700,\n",
    "        \"Primary: Initial concentration in negative electrode [mol.m-3]\": 23000,\n",
    "        \"Primary: Negative particle diffusivity [m2.s-1]\": 5.5e-14,\n",
    "        \"Secondary: Negative particle diffusivity [m2.s-1]\": 1.67e-14,\n",
    "        \"Secondary: Initial concentration in negative electrode [mol.m-3]\": 277000,\n",
    "        \"Secondary: Maximum concentration in negative electrode [mol.m-3]\": 278000,\n",
    "    }\n",
    ")"
   ]
  },
  {
   "attachments": {},
   "cell_type": "markdown",
   "id": "10339d40",
   "metadata": {},
   "source": [
    "## Single Cycle Simulations"
   ]
  },
  {
   "attachments": {},
   "cell_type": "markdown",
   "id": "cf194af2",
   "metadata": {},
   "source": [
    "Define a current loading"
   ]
  },
  {
   "cell_type": "code",
   "execution_count": null,
   "id": "5a0dc425",
   "metadata": {},
   "outputs": [],
   "source": [
    "C_rate = 0.5\n",
    "capacity = param[\"Nominal cell capacity [A.h]\"]\n",
    "I_load = C_rate * capacity\n",
    "\n",
    "t_eval = np.linspace(0, 10000, 1000)\n",
    "\n",
    "param[\"Current function [A]\"] = I_load"
   ]
  },
  {
   "attachments": {},
   "cell_type": "markdown",
   "id": "659b97d9",
   "metadata": {},
   "source": [
    "It is very easy to vary the relative volume fraction of each phase. The following example shows how to compare the results of batteries with three relative volume fractions (0.001, 0.04, 0.1) of silicon."
   ]
  },
  {
   "cell_type": "code",
   "execution_count": null,
   "id": "6319cc89",
   "metadata": {},
   "outputs": [],
   "source": [
    "v_si = [0.001, 0.04, 0.1]\n",
    "total_am_volume_fraction = 0.75\n",
    "solution = []\n",
    "for v in v_si:\n",
    "    param.update(\n",
    "        {\n",
    "            \"Primary: Negative electrode active material volume fraction\": (1 - v)\n",
    "            * total_am_volume_fraction,  # primary\n",
    "            \"Secondary: Negative electrode active material volume fraction\": v\n",
    "            * total_am_volume_fraction,\n",
    "        }\n",
    "    )\n",
    "    print(v)\n",
    "    sim = pybamm.Simulation(\n",
    "        model,\n",
    "        parameter_values=param,\n",
    "        solver=pybamm.CasadiSolver(dt_max=5),\n",
    "    )\n",
    "    solution.append(sim.solve(t_eval=t_eval))\n",
    "stop = timeit.default_timer()\n",
    "print(\"running time: \" + str(stop - start) + \"s\")"
   ]
  },
  {
   "attachments": {},
   "cell_type": "markdown",
   "id": "e87e931c",
   "metadata": {},
   "source": [
    "## Results\n",
    "Compare the cell voltages of the three cells in this example, to see how silicon affects the output capacity"
   ]
  },
  {
   "cell_type": "code",
   "execution_count": null,
   "id": "ec9bebd1",
   "metadata": {},
   "outputs": [],
   "source": [
    "ltype = [\"k-\", \"r--\", \"b-.\", \"g:\", \"m-\", \"c--\", \"y-.\"]\n",
    "for i in range(0, len(v_si)):\n",
    "    t_i = solution[i][\"Time [s]\"].entries / 3600\n",
    "    V_i = solution[i][\"Voltage [V]\"].entries\n",
    "    plt.plot(t_i, V_i, ltype[i], label=\"$V_\\mathrm{si}=$\" + str(v_si[i]))\n",
    "plt.xlabel(\"Time [h]\")\n",
    "plt.ylabel(\"Voltage [V]\")\n",
    "plt.legend()"
   ]
  },
  {
   "attachments": {},
   "cell_type": "markdown",
   "id": "ee7bc032",
   "metadata": {},
   "source": [
    "Results of interfacial current density in silicon"
   ]
  },
  {
   "cell_type": "code",
   "execution_count": null,
   "id": "9893a85f",
   "metadata": {},
   "outputs": [],
   "source": [
    "plt.figure()\n",
    "for i in range(0, len(v_si)):\n",
    "    t_i = solution[i][\"Time [s]\"].entries / 3600\n",
    "    j_n_p1_av = solution[i][\n",
    "        \"X-averaged negative electrode primary interfacial current density [A.m-2]\"\n",
    "    ].entries\n",
    "    plt.plot(t_i, j_n_p1_av, ltype[i], label=\"$V_\\mathrm{si}=$\" + str(v_si[i]))\n",
    "plt.xlabel(\"Time [h]\")\n",
    "plt.ylabel(\"Averaged interfacial current density [A/m$^{2}$]\")\n",
    "plt.legend()\n",
    "plt.title(\"Graphite\")\n",
    "\n",
    "plt.figure()\n",
    "for i in range(0, len(v_si)):\n",
    "    t_i = solution[i][\"Time [s]\"].entries / 3600\n",
    "    j_n_p2_av = solution[i][\n",
    "        \"X-averaged negative electrode secondary interfacial current density [A.m-2]\"\n",
    "    ].entries\n",
    "    plt.plot(t_i, j_n_p2_av, ltype[i], label=\"$V_\\mathrm{si}=$\" + str(v_si[i]))\n",
    "plt.xlabel(\"Time [h]\")\n",
    "plt.ylabel(\"Averaged interfacial current density [A/m$^{2}$]\")\n",
    "plt.legend()\n",
    "plt.title(\"Silicon\")"
   ]
  },
  {
   "attachments": {},
   "cell_type": "markdown",
   "id": "77fa4197",
   "metadata": {},
   "source": [
    "Results of interfacial current density in graphite"
   ]
  },
  {
   "cell_type": "code",
   "execution_count": null,
   "id": "9eafca0e",
   "metadata": {},
   "outputs": [],
   "source": [
    "plt.figure()\n",
    "for i in range(0, len(v_si)):\n",
    "    t_i = solution[i][\"Time [s]\"].entries / 3600\n",
    "    j_n_p1_Vav = solution[i][\n",
    "        \"X-averaged negative electrode primary volumetric interfacial current density [A.m-3]\"\n",
    "    ].entries\n",
    "    plt.plot(t_i, j_n_p1_Vav, ltype[i], label=\"$V_\\mathrm{si}=$\" + str(v_si[i]))\n",
    "plt.xlabel(\"Time [h]\")\n",
    "plt.ylabel(\"Averaged volumetric interfacial current density [A/m$^{3}$]\")\n",
    "plt.legend()\n",
    "plt.title(\"Graphite\")\n",
    "\n",
    "plt.figure()\n",
    "for i in range(0, len(v_si)):\n",
    "    t_i = solution[i][\"Time [s]\"].entries / 3600\n",
    "    j_n_p2_Vav = solution[i][\n",
    "        \"X-averaged negative electrode secondary volumetric interfacial current density [A.m-3]\"\n",
    "    ].entries\n",
    "    plt.plot(t_i, j_n_p2_Vav, ltype[i], label=\"$V_\\mathrm{si}=$\" + str(v_si[i]))\n",
    "plt.xlabel(\"Time [h]\")\n",
    "plt.ylabel(\"Averaged volumetric interfacial current density [A/m$^{3}$]\")\n",
    "plt.legend()\n",
    "plt.title(\"Silicon\")"
   ]
  },
  {
   "attachments": {},
   "cell_type": "markdown",
   "id": "1d2efd36",
   "metadata": {},
   "source": [
    "Results of average lithium concentration"
   ]
  },
  {
   "cell_type": "code",
   "execution_count": null,
   "id": "302e7bb8",
   "metadata": {},
   "outputs": [],
   "source": [
    "plt.figure()\n",
    "for i in range(0, len(v_si)):\n",
    "    t_i = solution[i][\"Time [s]\"].entries / 3600\n",
    "    c_s_xrav_n_p1 = solution[i][\n",
    "        \"Average negative primary particle concentration\"\n",
    "    ].entries\n",
    "    plt.plot(t_i, c_s_xrav_n_p1, ltype[i], label=\"$V_\\mathrm{si}=$\" + str(v_si[i]))\n",
    "plt.xlabel(\"Time [h]\")\n",
    "plt.ylabel(\"$c_\\mathrm{g}/c_\\mathrm{g,max}$\")\n",
    "plt.legend()\n",
    "plt.title(\"Graphite\")\n",
    "\n",
    "plt.figure()\n",
    "for i in range(0, len(v_si)):\n",
    "    t_i = solution[i][\"Time [s]\"].entries / 3600\n",
    "    c_s_xrav_n_p2 = solution[i][\n",
    "        \"Average negative secondary particle concentration\"\n",
    "    ].entries\n",
    "    plt.plot(t_i, c_s_xrav_n_p2, ltype[i], label=\"$V_\\mathrm{si}=$\" + str(v_si[i]))\n",
    "plt.xlabel(\"Time [h]\")\n",
    "plt.ylabel(\"$c_\\mathrm{si}/c_\\mathrm{si,max}$\")\n",
    "plt.legend()\n",
    "plt.title(\"Silicon\")"
   ]
  },
  {
   "attachments": {},
   "cell_type": "markdown",
   "id": "299bd7ec",
   "metadata": {},
   "source": [
    "Results of equilibrium potential"
   ]
  },
  {
   "cell_type": "code",
   "execution_count": null,
   "id": "cfd2994e",
   "metadata": {},
   "outputs": [],
   "source": [
    "plt.figure()\n",
    "for i in range(0, len(v_si)):\n",
    "    t_i = solution[i][\"Time [s]\"].entries / 3600\n",
    "    ocp_p1 = solution[i][\n",
    "        \"X-averaged negative electrode primary open-circuit potential [V]\"\n",
    "    ].entries\n",
    "    plt.plot(t_i, ocp_p1, ltype[i], label=\"$V_\\mathrm{si}=$\" + str(v_si[i]))\n",
    "plt.xlabel(\"Time [h]\")\n",
    "plt.ylabel(\"Equilibruim potential [V]\")\n",
    "plt.legend()\n",
    "plt.title(\"Graphite\")\n",
    "\n",
    "plt.figure()\n",
    "for i in range(0, len(v_si)):\n",
    "    t_i = solution[i][\"Time [s]\"].entries / 3600\n",
    "    ocp_p2 = solution[i][\n",
    "        \"X-averaged negative electrode secondary open-circuit potential [V]\"\n",
    "    ].entries\n",
    "    plt.plot(t_i, ocp_p2, ltype[i], label=\"$V_\\mathrm{si}=$\" + str(v_si[i]))\n",
    "plt.xlabel(\"Time [h]\")\n",
    "plt.ylabel(\"Equilibruim potential [V]\")\n",
    "plt.legend()\n",
    "plt.title(\"Silicon\")\n",
    "\n",
    "plt.figure()\n",
    "for i in range(0, len(v_si)):\n",
    "    t_i = solution[len(v_si) - 1 - i][\"Time [s]\"].entries / 3600\n",
    "    ocp_p = solution[len(v_si) - 1 - i][\n",
    "        \"X-averaged positive electrode open-circuit potential [V]\"\n",
    "    ].entries\n",
    "    plt.plot(\n",
    "        t_i,\n",
    "        ocp_p,\n",
    "        ltype[len(v_si) - 1 - i],\n",
    "        label=\"$V_\\mathrm{si}=$\" + str(v_si[len(v_si) - 1 - i]),\n",
    "    )\n",
    "plt.xlabel(\"Time [h]\")\n",
    "plt.ylabel(\"Equilibrium potential [V]\")\n",
    "plt.legend()\n",
    "plt.title(\"NMC811\")"
   ]
  },
  {
   "attachments": {},
   "cell_type": "markdown",
   "id": "dbc0edb2",
   "metadata": {},
   "source": [
    "## Multi-Cycle Simulations\n",
    "For multi-cycling, an experiment definition for static C/2 discharge and charge cycling is presented."
   ]
  },
  {
   "cell_type": "code",
   "execution_count": null,
   "id": "4cb719b9",
   "metadata": {},
   "outputs": [],
   "source": [
    "experiment = pybamm.Experiment(\n",
    "    [\n",
    "        (\n",
    "            \"Discharge at C/2 until 3.0 V\",\n",
    "            \"Rest for 1 hour\",\n",
    "            \"Charge at C/2 until 4.2 V\",\n",
    "            \"Rest for 1 hour\",\n",
    "        ),\n",
    "    ]\n",
    "    * 2\n",
    ")"
   ]
  },
  {
   "attachments": {},
   "cell_type": "markdown",
   "id": "40467b70",
   "metadata": {},
   "source": [
    "The solution is reintroduced, with `calc_esoh=False` passed into the solve function. Currently, composite electrode state of health predictions are not included in this model. "
   ]
  },
  {
   "cell_type": "code",
   "execution_count": null,
   "id": "dac3f3bb",
   "metadata": {},
   "outputs": [],
   "source": [
    "solution = []\n",
    "for v in v_si:\n",
    "    param.update(\n",
    "        {\n",
    "            \"Primary: Negative electrode active material volume fraction\": (1 - v)\n",
    "            * total_am_volume_fraction,  # primary\n",
    "            \"Secondary: Negative electrode active material volume fraction\": v\n",
    "            * total_am_volume_fraction,\n",
    "        }\n",
    "    )\n",
    "    print(v)\n",
    "    sim = pybamm.Simulation(\n",
    "        model,\n",
    "        experiment=experiment,\n",
    "        parameter_values=param,\n",
    "        solver=pybamm.CasadiSolver(dt_max=5),\n",
    "    )\n",
    "    solution.append(sim.solve(calc_esoh=False))\n",
    "stop = timeit.default_timer()\n",
    "print(\"running time: \" + str(stop - start) + \"s\")"
   ]
  },
  {
   "attachments": {},
   "cell_type": "markdown",
   "id": "977b4c09",
   "metadata": {},
   "source": [
    "## Cycling Results\n",
    "The previously displayed single discharge results can be extended to the cycling solution. As an example, voltage is displayed below."
   ]
  },
  {
   "cell_type": "code",
   "execution_count": null,
   "id": "15b6f3ee",
   "metadata": {},
   "outputs": [],
   "source": [
    "ltype = [\"k-\", \"r--\", \"b-.\", \"g:\", \"m-\", \"c--\", \"y-.\"]\n",
    "for i in range(0, len(v_si)):\n",
    "    t_i = solution[i][\"Time [s]\"].entries / 3600\n",
    "    V_i = solution[i][\"Voltage [V]\"].entries\n",
    "    plt.plot(t_i, V_i, ltype[i], label=\"$V_\\mathrm{si}=$\" + str(v_si[i]))\n",
    "plt.xlabel(\"Time [h]\")\n",
    "plt.ylabel(\"Voltage [V]\")\n",
    "plt.legend()"
   ]
  },
  {
   "attachments": {},
   "cell_type": "markdown",
   "id": "e9a2ba08",
   "metadata": {},
   "source": [
    "## References\n",
    "\n",
    "The relevant papers for this notebook are:"
   ]
  },
  {
   "cell_type": "code",
   "execution_count": null,
   "id": "5e9e5819",
   "metadata": {},
   "outputs": [],
   "source": [
    "pybamm.print_citations()"
   ]
  }
 ],
 "metadata": {
  "kernelspec": {
   "language": "python"
  },
  "language_info": {
   "codemirror_mode": {
    "name": "ipython",
    "version": 3
   },
   "file_extension": ".py",
   "mimetype": "text/x-python",
   "name": "python",
   "nbconvert_exporter": "python",
   "pygments_lexer": "ipython3"
  },
  "toc": {
   "base_numbering": 1,
   "nav_menu": {},
   "number_sections": true,
   "sideBar": true,
   "skip_h1_title": false,
   "title_cell": "Table of Contents",
   "title_sidebar": "Contents",
   "toc_cell": false,
   "toc_position": {},
   "toc_section_display": true,
   "toc_window_display": true
  },
  "vscode": {
   "interpreter": {
    "hash": "c9bd1bb48411923570c08daa2bc8068dae5eb4b582894c14e668f51575eba180"
   }
  }
 },
 "nbformat": 4,
 "nbformat_minor": 5
}
