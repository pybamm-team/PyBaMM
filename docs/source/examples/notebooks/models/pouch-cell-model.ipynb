{
 "cells": [
  {
   "attachments": {},
   "cell_type": "markdown",
   "metadata": {},
   "source": [
    "# Pouch cell model"
   ]
  },
  {
   "attachments": {},
   "cell_type": "markdown",
   "metadata": {},
   "source": [
    "In this notebook we compare the solutions of two reduced-order models of a lithium-ion pouch cell with the full solution obtained using COMSOL. This example is based on the results in [[6]](#references). The code used to produce the results in [[6]](#references) can be found [here](https://github.com/rtimms/asymptotic-pouch-cell).\n",
    "\n",
    "The full model is based on the Doyle-Fuller-Newman model [[2]](#references) and, in the interest of simplicity, considers a one-dimensional current collector (i.e. variation in one of the current collector dimensions is ignored), resulting in a 2D macroscopic model.\n",
    "\n",
    "The first of the reduced order models, which is applicable in the limit of large conductivity in the current collectors, solves a one-dimensional problem in the current collectors coupled to a one-dimensional DFN model describing the through-cell electrochemistry at each point. We refer to this as a 1+1D model, though since the DFN is already a pseudo-two-dimensional model, perhaps it is more properly a 1+1+1D model.\n",
    "\n",
    "The second reduced order model, which is applicable in the limit of very large conductivity in the current collectors, solves a single (averaged) one-dimensional DFN model for the through-cell behaviour and an uncoupled problem for the distribution of potential in the current collectors (from which the resistance and heat source can be calculated). We refer to this model as the DFNCC, where the \"CC\" indicates the additional (uncoupled) current collector problem.\n",
    "\n",
    "All of the model equations, and derivations of the reduced-order models, can be found in [[6]](#references)."
   ]
  },
  {
   "attachments": {},
   "cell_type": "markdown",
   "metadata": {},
   "source": [
    "## Solving the reduced-order pouch cell models in PyBaMM"
   ]
  },
  {
   "attachments": {},
   "cell_type": "markdown",
   "metadata": {},
   "source": [
    "We begin by importing PyBaMM along with the other packages required in this notebook"
   ]
  },
  {
   "cell_type": "code",
   "execution_count": null,
   "metadata": {},
   "outputs": [],
   "source": [
    "%pip install \"pybamm[plot,cite]\" -q    # install PyBaMM if it is not installed\n",
    "import pybamm\n",
    "import json\n",
    "import matplotlib.pyplot as plt\n",
    "import numpy as np\n",
    "import scipy.interpolate as interp"
   ]
  },
  {
   "attachments": {},
   "cell_type": "markdown",
   "metadata": {},
   "source": [
    "We then need to load up the appropriate models. For the DFNCC we require a 1D model of the current collectors and an average 1D DFN model for the through-cell electrochemistry. The 1+1D pouch cell model is built directly into PyBaMM and are accessed by passing the model option \"dimensionality\" which can be 1 or 2, corresponding to 1D or 2D current collectors. This option can be passed to any existing electrochemical model (e.g. [SPM](./SPM.ipynb), [SPMe](./SPMe.ipynb), [DFN](./DFN.ipynb)). Here we choose the DFN model. \n",
    "\n",
    "For both electrochemical models we choose an \"x-lumped\" thermal model, meaning we assume that the temperature is uniform in the through-cell direction $x$, but account for the variation in temperature in the transverse direction $z$."
   ]
  },
  {
   "cell_type": "code",
   "execution_count": null,
   "metadata": {},
   "outputs": [],
   "source": [
    "cc_model = pybamm.current_collector.EffectiveResistance({\"dimensionality\": 1})\n",
    "dfn_av = pybamm.lithium_ion.DFN({\"thermal\": \"lumped\"}, name=\"Average DFN\")\n",
    "dfn = pybamm.lithium_ion.DFN(\n",
    "    {\"current collector\": \"potential pair\", \"dimensionality\": 1, \"thermal\": \"x-lumped\"},\n",
    "    name=\"1+1D DFN\",\n",
    ")"
   ]
  },
  {
   "attachments": {},
   "cell_type": "markdown",
   "metadata": {},
   "source": [
    "We then add the models to a dictionary for easy access later"
   ]
  },
  {
   "cell_type": "code",
   "execution_count": null,
   "metadata": {},
   "outputs": [],
   "source": [
    "models = {\"Current collector\": cc_model, \"Average DFN\": dfn_av, \"1+1D DFN\": dfn}"
   ]
  },
  {
   "attachments": {},
   "cell_type": "markdown",
   "metadata": {},
   "source": [
    "Next we update the parameters to match those used in the COMSOL simulation. In particular, we set the current to correspond to a 3C discharge and assume uniform Newton cooling on all boundaries."
   ]
  },
  {
   "cell_type": "code",
   "execution_count": null,
   "metadata": {},
   "outputs": [],
   "source": [
    "param = dfn.default_parameter_values\n",
    "I_1C = param[\n",
    "    \"Nominal cell capacity [A.h]\"\n",
    "]  # 1C current is cell capacity multipled by 1 hour\n",
    "param.update(\n",
    "    {\n",
    "        \"Current function [A]\": I_1C * 3,\n",
    "        \"Negative particle diffusivity [m2.s-1]\": 3.9 * 10 ** (-14),\n",
    "        \"Positive particle diffusivity [m2.s-1]\": 10 ** (-13),\n",
    "        \"Negative current collector surface heat transfer coefficient [W.m-2.K-1]\": 10,\n",
    "        \"Positive current collector surface heat transfer coefficient [W.m-2.K-1]\": 10,\n",
    "        \"Negative tab heat transfer coefficient [W.m-2.K-1]\": 10,\n",
    "        \"Positive tab heat transfer coefficient [W.m-2.K-1]\": 10,\n",
    "        \"Edge heat transfer coefficient [W.m-2.K-1]\": 10,\n",
    "        \"Total heat transfer coefficient [W.m-2.K-1]\": 10,\n",
    "    },\n",
    "    check_already_exists=False,\n",
    ")"
   ]
  },
  {
   "attachments": {},
   "cell_type": "markdown",
   "metadata": {},
   "source": [
    "In this example we choose to discretise in space using 16 nodes per domain."
   ]
  },
  {
   "cell_type": "code",
   "execution_count": null,
   "metadata": {},
   "outputs": [],
   "source": [
    "npts = 16\n",
    "var_pts = {\n",
    "    \"x_n\": npts,\n",
    "    \"x_s\": npts,\n",
    "    \"x_p\": npts,\n",
    "    \"r_n\": npts,\n",
    "    \"r_p\": npts,\n",
    "    \"z\": npts,\n",
    "}"
   ]
  },
  {
   "attachments": {},
   "cell_type": "markdown",
   "metadata": {},
   "source": [
    "Before solving the models we load the COMSOL data so that we can request the output at the times in the COMSOL solution"
   ]
  },
  {
   "cell_type": "code",
   "execution_count": null,
   "metadata": {},
   "outputs": [],
   "source": [
    "data_loader = pybamm.DataLoader()\n",
    "comsol_results_path = pybamm.get_parameters_filepath(\n",
    "    f\"{data_loader.get_data('comsol_1plus1D_3C.json')}\"\n",
    ")\n",
    "comsol_variables = json.load(open(comsol_results_path))"
   ]
  },
  {
   "attachments": {},
   "cell_type": "markdown",
   "metadata": {},
   "source": [
    "Next we loop over the models, creating and solving a simulation for each."
   ]
  },
  {
   "cell_type": "code",
   "execution_count": null,
   "metadata": {},
   "outputs": [],
   "source": [
    "simulations = {}\n",
    "solutions = {}  # store solutions in a separate dict for easy access later\n",
    "for name, model in models.items():\n",
    "    sim = pybamm.Simulation(model, parameter_values=param, var_pts=var_pts)\n",
    "    simulations[name] = sim  # store simulation for later\n",
    "    if name == \"Current collector\":\n",
    "        # model is independent of time, so just solve arbitrarily at t=0 using\n",
    "        # the default algebraic solver\n",
    "        t_eval = np.array([0])\n",
    "        solutions[name] = sim.solve(t_eval=t_eval)\n",
    "    else:\n",
    "        # solve at COMSOL times using Casadi solver in \"fast\" mode\n",
    "        t_eval = np.array(comsol_variables[\"time\"])\n",
    "        solutions[name] = sim.solve(\n",
    "            solver=pybamm.CasadiSolver(mode=\"fast\"), t_eval=t_eval\n",
    "        )"
   ]
  },
  {
   "attachments": {},
   "cell_type": "markdown",
   "metadata": {},
   "source": [
    "## Creating the COMSOL model"
   ]
  },
  {
   "attachments": {},
   "cell_type": "markdown",
   "metadata": {},
   "source": [
    "In this section we show how to create a PyBaMM \"model\" from the COMSOL solution. If you are just interested in seeing the comparison the skip ahead to the section \"Comparing the full and reduced-order models\".\n"
   ]
  },
  {
   "attachments": {},
   "cell_type": "markdown",
   "metadata": {},
   "source": [
    "To create a PyBaMM model from the COMSOL data we must create a `pybamm.Function` object for each variable. We do this by interpolating in space to match the PyBaMM mesh and then creating a function to interpolate in time. The following cell defines the function that handles the creation of the `pybamm.Function` object."
   ]
  },
  {
   "cell_type": "code",
   "execution_count": null,
   "metadata": {},
   "outputs": [],
   "source": [
    "# set up times\n",
    "comsol_t = np.array(comsol_variables[\"time\"])\n",
    "pybamm_t = comsol_t\n",
    "# set up space\n",
    "mesh = simulations[\"1+1D DFN\"].mesh\n",
    "L_z = param.evaluate(dfn.param.L_z)\n",
    "pybamm_z = mesh[\"current collector\"].nodes\n",
    "z_interp = pybamm_z\n",
    "\n",
    "\n",
    "def get_interp_fun_curr_coll(variable_name):\n",
    "    \"\"\"\n",
    "    Create a :class:`pybamm.Function` object using the variable (interpolate in space\n",
    "    to match nodes, and then create function to interpolate in time)\n",
    "    \"\"\"\n",
    "\n",
    "    comsol_z = np.array(comsol_variables[variable_name + \"_z\"])\n",
    "    variable = np.array(comsol_variables[variable_name])\n",
    "    variable = interp.interp1d(comsol_z, variable, axis=0, kind=\"linear\")(z_interp)\n",
    "\n",
    "    # Make sure to use dimensional time\n",
    "    fun = pybamm.Interpolant(\n",
    "        comsol_t, variable.T, pybamm.t, name=variable_name + \"_comsol\"\n",
    "    )\n",
    "    fun.domains = {\"primary\": \"current collector\"}\n",
    "    fun.mesh = mesh.combine_submeshes(\"current collector\")\n",
    "    fun.secondary_mesh = None\n",
    "\n",
    "    return fun"
   ]
  },
  {
   "attachments": {},
   "cell_type": "markdown",
   "metadata": {},
   "source": [
    "We then pass the variables of interest to the interpolating function"
   ]
  },
  {
   "cell_type": "code",
   "execution_count": null,
   "metadata": {},
   "outputs": [],
   "source": [
    "comsol_voltage = pybamm.Interpolant(\n",
    "    comsol_t,\n",
    "    np.array(comsol_variables[\"voltage\"]),\n",
    "    pybamm.t,\n",
    "    name=\"voltage_comsol\",\n",
    ")\n",
    "comsol_phi_s_cn = get_interp_fun_curr_coll(\"phi_s_cn\")\n",
    "comsol_phi_s_cp = get_interp_fun_curr_coll(\"phi_s_cp\")\n",
    "comsol_current = get_interp_fun_curr_coll(\"current\")\n",
    "comsol_temperature = get_interp_fun_curr_coll(\"temperature\")"
   ]
  },
  {
   "attachments": {},
   "cell_type": "markdown",
   "metadata": {},
   "source": [
    "and add them to a `pybamm.BaseModel` object"
   ]
  },
  {
   "cell_type": "code",
   "execution_count": null,
   "metadata": {},
   "outputs": [],
   "source": [
    "comsol_model = pybamm.BaseModel()\n",
    "comsol_model._geometry = pybamm.battery_geometry(options={\"dimensionality\": 1})\n",
    "comsol_model.variables = {\n",
    "    \"Voltage [V]\": comsol_voltage,\n",
    "    \"Negative current collector potential [V]\": comsol_phi_s_cn,\n",
    "    \"Positive current collector potential [V]\": comsol_phi_s_cp,\n",
    "    \"Current collector current density [A.m-2]\": comsol_current,\n",
    "    \"X-averaged cell temperature [K]\": comsol_temperature,\n",
    "    # Add spatial variables to match pybamm model\n",
    "    \"z [m]\": simulations[\"1+1D DFN\"].built_model.variables[\"z [m]\"],\n",
    "}"
   ]
  },
  {
   "attachments": {},
   "cell_type": "markdown",
   "metadata": {},
   "source": [
    "We then add the solution object from the 1+1D model. This is just so that PyBaMM uses the same times behind the scenes when dealing with COMSOL model and the reduced-order models: the variables in `comsol_model.variables` are functions of time only that return the (interpolated in space) COMSOL solution."
   ]
  },
  {
   "cell_type": "code",
   "execution_count": null,
   "metadata": {},
   "outputs": [],
   "source": [
    "comsol_solution = pybamm.Solution(\n",
    "    solutions[\"1+1D DFN\"].t, solutions[\"1+1D DFN\"].y, comsol_model, {}\n",
    ")"
   ]
  },
  {
   "attachments": {},
   "cell_type": "markdown",
   "metadata": {},
   "source": [
    "## Comparing the full and reduced-order models"
   ]
  },
  {
   "attachments": {},
   "cell_type": "markdown",
   "metadata": {},
   "source": [
    "The DFNCC requires some post-processing to extract the solution variables. In particular, we need to pass the current and voltage from the average DFN model to the current collector model in order to compute the distribution of the potential in the current collectors and to account for the effect of the current collector resistance in the voltage. \n",
    "\n",
    "This process is automated by the method `post_process` which accepts the current collector solution object, the parameters and the voltage and current from the average DFN model. The results are stored in the dictionary `dfncc_vars`"
   ]
  },
  {
   "cell_type": "code",
   "execution_count": null,
   "metadata": {},
   "outputs": [],
   "source": [
    "V_av = solutions[\"Average DFN\"][\"Voltage [V]\"]\n",
    "I_av = solutions[\"Average DFN\"][\"Total current density [A.m-2]\"]\n",
    "\n",
    "dfncc_vars = cc_model.post_process(solutions[\"Current collector\"], param, V_av, I_av)"
   ]
  },
  {
   "attachments": {},
   "cell_type": "markdown",
   "metadata": {},
   "source": [
    "Next we create a function to create some custom plots. For a given variable the plots will show: (a) the COMSOL results as a function of position in the current collector $z$ and time $t$; (b) a comparison of the full and reduced-order models and a sequence of times; (c) the time-averaged error between the full and reduced-order models as a function of space; and (d) the space-averaged error between the full and reduced-order models as a function of time."
   ]
  },
  {
   "cell_type": "code",
   "execution_count": null,
   "metadata": {},
   "outputs": [],
   "source": [
    "def plot(\n",
    "    t_plot,\n",
    "    z_plot,\n",
    "    t_slices,\n",
    "    var_name,\n",
    "    units,\n",
    "    comsol_var_fun,\n",
    "    dfn_var_fun,\n",
    "    dfncc_var_fun,\n",
    "    param,\n",
    "    cmap=\"viridis\",\n",
    "):\n",
    "    fig, ax = plt.subplots(2, 2, figsize=(13, 7))\n",
    "    fig.subplots_adjust(\n",
    "        left=0.15, bottom=0.1, right=0.95, top=0.95, wspace=0.4, hspace=0.8\n",
    "    )\n",
    "    # plot comsol var\n",
    "    comsol_var = comsol_var_fun(t=t_plot, z=z_plot)\n",
    "    comsol_var_plot = ax[0, 0].pcolormesh(\n",
    "        z_plot * 1e3, t_plot, np.transpose(comsol_var), shading=\"gouraud\", cmap=cmap\n",
    "    )\n",
    "    if \"cn\" in var_name:\n",
    "        format = \"%.0e\"\n",
    "    elif \"cp\" in var_name:\n",
    "        format = \"%.0e\"\n",
    "    else:\n",
    "        format = None\n",
    "    fig.colorbar(\n",
    "        comsol_var_plot,\n",
    "        ax=ax,\n",
    "        format=format,\n",
    "        location=\"top\",\n",
    "        shrink=0.42,\n",
    "        aspect=20,\n",
    "        anchor=(0.0, 0.0),\n",
    "    )\n",
    "\n",
    "    # plot slices\n",
    "    ccmap = plt.get_cmap(\"inferno\")\n",
    "    for ind, t in enumerate(t_slices):\n",
    "        color = ccmap(float(ind) / len(t_slices))\n",
    "        comsol_var_slice = comsol_var_fun(t=t, z=z_plot)\n",
    "        dfn_var_slice = dfn_var_fun(t=t, z=z_plot)\n",
    "        dfncc_var_slice = dfncc_var_fun(t=np.array([t]), z=z_plot)\n",
    "        ax[0, 1].plot(\n",
    "            z_plot * 1e3, comsol_var_slice, \"o\", fillstyle=\"none\", color=color\n",
    "        )\n",
    "        ax[0, 1].plot(\n",
    "            z_plot * 1e3,\n",
    "            dfn_var_slice,\n",
    "            \"-\",\n",
    "            color=color,\n",
    "            label=f\"{t_slices[ind]:.0f} s\",\n",
    "        )\n",
    "        ax[0, 1].plot(z_plot * 1e3, dfncc_var_slice, \":\", color=color)\n",
    "    # add dummy points for legend of styles\n",
    "    (comsol_p,) = ax[0, 1].plot(np.nan, np.nan, \"ko\", fillstyle=\"none\")\n",
    "    (pybamm_p,) = ax[0, 1].plot(np.nan, np.nan, \"k-\", fillstyle=\"none\")\n",
    "    (dfncc_p,) = ax[0, 1].plot(np.nan, np.nan, \"k:\", fillstyle=\"none\")\n",
    "\n",
    "    # compute errors\n",
    "    dfn_var = dfn_var_fun(t=t_plot, z=z_plot)\n",
    "    dfncc_var = dfncc_var_fun(t=t_plot, z=z_plot)\n",
    "    error = np.abs(comsol_var - dfn_var)\n",
    "    error_bar = np.abs(comsol_var - dfncc_var)\n",
    "\n",
    "    # plot time averaged error\n",
    "    ax[1, 0].plot(z_plot * 1e3, np.nanmean(error, axis=1), \"k-\", label=r\"$1+1$D\")\n",
    "    ax[1, 0].plot(z_plot * 1e3, np.nanmean(error_bar, axis=1), \"k:\", label=\"DFNCC\")\n",
    "\n",
    "    # plot z averaged error\n",
    "    ax[1, 1].plot(t_plot, np.nanmean(error, axis=0), \"k-\", label=r\"$1+1$D\")\n",
    "    ax[1, 1].plot(t_plot, np.nanmean(error_bar, axis=0), \"k:\", label=\"DFNCC\")\n",
    "\n",
    "    # set ticks\n",
    "    ax[0, 0].tick_params(which=\"both\")\n",
    "    ax[0, 1].tick_params(which=\"both\")\n",
    "    ax[1, 0].tick_params(which=\"both\")\n",
    "    if var_name in [\"$\\mathcal{I}^*$\"]:\n",
    "        ax[1, 0].set_yscale(\"log\")\n",
    "        ax[1, 0].set_yticks = [1e-5, 1e-4, 1e-3, 1e-2, 1e-1, 1e-2, 1e-1, 1]\n",
    "    else:\n",
    "        ax[1, 0].ticklabel_format(style=\"sci\", scilimits=(-2, 2), axis=\"y\")\n",
    "    ax[1, 1].tick_params(which=\"both\")\n",
    "    if var_name in [\"$\\phi^*_{\\mathrm{s,cn}}$\", \"$\\phi^*_{\\mathrm{s,cp}} - V^*$\"]:\n",
    "        ax[1, 0].ticklabel_format(style=\"sci\", scilimits=(-2, 2), axis=\"y\")\n",
    "    else:\n",
    "        ax[1, 1].set_yscale(\"log\")\n",
    "        ax[1, 1].set_yticks = [1e-5, 1e-4, 1e-3, 1e-2, 1e-1, 1e-2, 1e-1, 1]\n",
    "\n",
    "    # set labels\n",
    "    ax[0, 0].set_xlabel(r\"$z^*$ [mm]\")\n",
    "    ax[0, 0].set_ylabel(r\"$t^*$ [s]\")\n",
    "    ax[0, 0].set_title(rf\"{var_name} {units}\", y=1.5)\n",
    "    ax[0, 1].set_xlabel(r\"$z^*$ [mm]\")\n",
    "    ax[0, 1].set_ylabel(rf\"{var_name}\")\n",
    "    ax[1, 0].set_xlabel(r\"$z^*$ [mm]\")\n",
    "    ax[1, 0].set_ylabel(\"Time-averaged\" + \"\\n\" + rf\"absolute error {units}\")\n",
    "    ax[1, 1].set_xlabel(r\"$t^*$ [s]\")\n",
    "    ax[1, 1].set_ylabel(\"Space-averaged\" + \"\\n\" + rf\"absolute error {units}\")\n",
    "\n",
    "    ax[0, 0].text(-0.1, 1.6, \"(a)\", transform=ax[0, 0].transAxes)\n",
    "    ax[0, 1].text(-0.1, 1.6, \"(b)\", transform=ax[0, 1].transAxes)\n",
    "    ax[1, 0].text(-0.1, 1.2, \"(c)\", transform=ax[1, 0].transAxes)\n",
    "    ax[1, 1].text(-0.1, 1.2, \"(d)\", transform=ax[1, 1].transAxes)\n",
    "\n",
    "    leg1 = ax[0, 1].legend(\n",
    "        bbox_to_anchor=(0, 1.1, 1.0, 0.102),\n",
    "        loc=\"lower left\",\n",
    "        borderaxespad=0.0,\n",
    "        ncol=3,\n",
    "        mode=\"expand\",\n",
    "    )\n",
    "\n",
    "    ax[0, 1].legend(\n",
    "        [comsol_p, pybamm_p, dfncc_p],\n",
    "        [\"COMSOL\", r\"$1+1$D\", \"DFNCC\"],\n",
    "        bbox_to_anchor=(0, 1.5, 1.0, 0.102),\n",
    "        loc=\"lower left\",\n",
    "        borderaxespad=0.0,\n",
    "        ncol=3,\n",
    "        mode=\"expand\",\n",
    "    )\n",
    "    ax[0, 1].add_artist(leg1)\n",
    "\n",
    "    ax[1, 0].legend(\n",
    "        bbox_to_anchor=(0.0, 1.1, 1.0, 0.102),\n",
    "        loc=\"lower right\",\n",
    "        borderaxespad=0.0,\n",
    "        ncol=3,\n",
    "    )\n",
    "    ax[1, 1].legend(\n",
    "        bbox_to_anchor=(0.0, 1.1, 1.0, 0.102),\n",
    "        loc=\"lower right\",\n",
    "        borderaxespad=0.0,\n",
    "        ncol=3,\n",
    "    )"
   ]
  },
  {
   "attachments": {},
   "cell_type": "markdown",
   "metadata": {},
   "source": [
    "We then set up the times and points in space to use in the plots "
   ]
  },
  {
   "cell_type": "code",
   "execution_count": null,
   "metadata": {},
   "outputs": [],
   "source": [
    "t_plot = comsol_t\n",
    "z_plot = z_interp\n",
    "t_slices = np.array([600, 1200, 1800, 2400, 3000]) / 3"
   ]
  },
  {
   "attachments": {},
   "cell_type": "markdown",
   "metadata": {},
   "source": [
    "and plot the negative current collector potential"
   ]
  },
  {
   "cell_type": "code",
   "execution_count": null,
   "metadata": {},
   "outputs": [],
   "source": [
    "var = \"Negative current collector potential [V]\"\n",
    "comsol_var_fun = comsol_solution[var]\n",
    "dfn_var_fun = solutions[\"1+1D DFN\"][var]\n",
    "\n",
    "dfncc_var_fun = dfncc_vars[var]\n",
    "plot(\n",
    "    t_plot,\n",
    "    z_plot,\n",
    "    t_slices,\n",
    "    \"$\\phi^*_{\\mathrm{s,cn}}$\",\n",
    "    \"[V]\",\n",
    "    comsol_var_fun,\n",
    "    dfn_var_fun,\n",
    "    dfncc_var_fun,\n",
    "    param,\n",
    "    cmap=\"cividis\",\n",
    ")"
   ]
  },
  {
   "attachments": {},
   "cell_type": "markdown",
   "metadata": {},
   "source": [
    "the positive current collector potential with respect to voltage"
   ]
  },
  {
   "cell_type": "code",
   "execution_count": null,
   "metadata": {},
   "outputs": [],
   "source": [
    "var = \"Positive current collector potential [V]\"\n",
    "comsol_var = comsol_solution[var]\n",
    "V_comsol = comsol_solution[\"Voltage [V]\"]\n",
    "\n",
    "\n",
    "def comsol_var_fun(t, z):\n",
    "    return comsol_var(t=t, z=z) - V_comsol(t=t)\n",
    "\n",
    "\n",
    "dfn_var = solutions[\"1+1D DFN\"][var]\n",
    "V = solutions[\"1+1D DFN\"][\"Voltage [V]\"]\n",
    "\n",
    "\n",
    "def dfn_var_fun(t, z):\n",
    "    return dfn_var(t=t, z=z) - V(t=t)\n",
    "\n",
    "\n",
    "dfncc_var = dfncc_vars[var]\n",
    "V_dfncc = dfncc_vars[\"Voltage [V]\"]\n",
    "\n",
    "\n",
    "def dfncc_var_fun(t, z):\n",
    "    return dfncc_var(t=t, z=z) - V_dfncc(t)\n",
    "\n",
    "\n",
    "plot(\n",
    "    t_plot,\n",
    "    z_plot,\n",
    "    t_slices,\n",
    "    \"$\\phi^*_{\\mathrm{s,cp}} - V^*$\",\n",
    "    \"[V]\",\n",
    "    comsol_var_fun,\n",
    "    dfn_var_fun,\n",
    "    dfncc_var_fun,\n",
    "    param,\n",
    "    cmap=\"viridis\",\n",
    ")"
   ]
  },
  {
   "attachments": {},
   "cell_type": "markdown",
   "metadata": {},
   "source": [
    "the through-cell current "
   ]
  },
  {
   "cell_type": "code",
   "execution_count": null,
   "metadata": {},
   "outputs": [],
   "source": [
    "var = \"Current collector current density [A.m-2]\"\n",
    "comsol_var_fun = comsol_solution[var]\n",
    "dfn_var_fun = solutions[\"1+1D DFN\"][var]\n",
    "\n",
    "I_av = solutions[\"Average DFN\"][var]\n",
    "\n",
    "\n",
    "def dfncc_var_fun(t, z):\n",
    "    \"In the DFNCC the current is just the average current\"\n",
    "    return np.transpose(np.repeat(I_av(t)[:, np.newaxis], len(z), axis=1))\n",
    "\n",
    "\n",
    "plot(\n",
    "    t_plot,\n",
    "    z_plot,\n",
    "    t_slices,\n",
    "    \"$\\mathcal{I}^*$\",\n",
    "    \"[A/m${}^2$]\",\n",
    "    comsol_var_fun,\n",
    "    dfn_var_fun,\n",
    "    dfncc_var_fun,\n",
    "    param,\n",
    "    cmap=\"plasma\",\n",
    ")"
   ]
  },
  {
   "attachments": {},
   "cell_type": "markdown",
   "metadata": {},
   "source": [
    "and the temperature with respect to reference temperature"
   ]
  },
  {
   "cell_type": "code",
   "execution_count": null,
   "metadata": {},
   "outputs": [],
   "source": [
    "T_ref = param.evaluate(dfn.param.T_ref)\n",
    "var = \"X-averaged cell temperature [K]\"\n",
    "comsol_var = comsol_solution[var]\n",
    "\n",
    "\n",
    "def comsol_var_fun(t, z):\n",
    "    return comsol_var(t=t, z=z) - T_ref\n",
    "\n",
    "\n",
    "dfn_var = solutions[\"1+1D DFN\"][var]\n",
    "\n",
    "\n",
    "def dfn_var_fun(t, z):\n",
    "    return dfn_var(t=t, z=z) - T_ref\n",
    "\n",
    "\n",
    "T_av = solutions[\"Average DFN\"][var]\n",
    "\n",
    "\n",
    "def dfncc_var_fun(t, z):\n",
    "    \"In the DFNCC the temperature is just the average temperature\"\n",
    "    return np.transpose(np.repeat(T_av(t)[:, np.newaxis], len(z), axis=1)) - T_ref\n",
    "\n",
    "\n",
    "plot(\n",
    "    t_plot,\n",
    "    z_plot,\n",
    "    t_slices,\n",
    "    \"$\\\\bar{T}^* - \\\\bar{T}_0^*$\",\n",
    "    \"[K]\",\n",
    "    comsol_var_fun,\n",
    "    dfn_var_fun,\n",
    "    dfncc_var_fun,\n",
    "    param,\n",
    "    cmap=\"inferno\",\n",
    ")"
   ]
  },
  {
   "attachments": {},
   "cell_type": "markdown",
   "metadata": {},
   "source": [
    "We see that the electrical conductivity of the current collectors is sufficiently\n",
    "high that the potentials remain fairly uniform in space, and both the 1+1D DFN and DFNCC models are able to accurately capture the potential distribution in the current collectors.\n",
    "\n",
    "\n",
    "In the plot of the current we see that positioning both tabs at the top of the cell means that for most of the simulation the current preferentially travels through the upper part of the cell. Eventually, as the cell continues to discharge, this part becomes more (de)lithiated until the resultant local increase in through-cell resistance is sufficient for it to become preferential for the current to travel further along the current collectors and through the lower part of the cell. This behaviour is well captured by the 1+1D model. In the DFNCC formulation the through-cell current density is assumed uniform,\n",
    "so the greatest error is found at the ends of the current collectors where the current density deviates most from its average.\n",
    "\n",
    "For the parameters used in this example we find that the temperature exhibits a relatively weak variation along the length of the current collectors.  "
   ]
  },
  {
   "attachments": {},
   "cell_type": "markdown",
   "metadata": {},
   "source": [
    "## References\n",
    "\n",
    "The relevant papers for this notebook are:"
   ]
  },
  {
   "cell_type": "code",
   "execution_count": null,
   "metadata": {},
   "outputs": [],
   "source": [
    "pybamm.print_citations()"
   ]
  }
 ],
 "metadata": {
  "kernelspec": {
   "language": "python"
  },
  "language_info": {
   "codemirror_mode": {
    "name": "ipython",
    "version": 3
   },
   "file_extension": ".py",
   "mimetype": "text/x-python",
   "name": "python",
   "nbconvert_exporter": "python",
   "pygments_lexer": "ipython3"
  },
  "toc": {
   "base_numbering": 1,
   "nav_menu": {},
   "number_sections": true,
   "sideBar": true,
   "skip_h1_title": false,
   "title_cell": "Table of Contents",
   "title_sidebar": "Contents",
   "toc_cell": false,
   "toc_position": {},
   "toc_section_display": true,
   "toc_window_display": true
  },
  "vscode": {
   "interpreter": {
    "hash": "9ff3d0c7e37de5f5aa47f4f719e4c84fc6cba7b39c571a05173422444e82fa58"
   }
  }
 },
 "nbformat": 4,
 "nbformat_minor": 4
}
