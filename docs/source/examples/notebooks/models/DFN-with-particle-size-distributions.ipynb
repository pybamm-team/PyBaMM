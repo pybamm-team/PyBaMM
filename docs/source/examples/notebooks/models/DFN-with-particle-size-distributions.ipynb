{
 "cells": [
  {
   "attachments": {},
   "cell_type": "markdown",
   "metadata": {},
   "source": [
    "# Doyle-Fuller-Newman Model with particle-size distributions"
   ]
  },
  {
   "attachments": {},
   "cell_type": "markdown",
   "metadata": {},
   "source": [
    "This notebook demonstrates the extension of the Doyle-Fuller-Newman (DFN) model to include a distribution of particle sizes at every macroscale location (e.g. through-cell coordinate $x$) within the electrodes. This model, referred to here as the Many-Particle DFN (or MP-DFN), also extends the ideas of the Many-Particle Model or MPM (an $x$-averaged model) into the DFN framework. Note: this differs from a \"size distribution in x\", where the particle size is a function of $x$ but with only a single size at any given value of $x$.\n",
    "\n",
    "The [MPM notebook](https://github.com/pybamm-team/PyBaMM/blob/develop/docs/source/examples/notebooks/models/MPM.ipynb) describes how the particle-size distributions are implemented in PyBaMM, and how to input parameters and plot some relevant output variables. The model equations for the MP-DFN, which allow for variations in the through-cell $x$ direction and therefore include electrolyte dynamics, are similar to those of the MPM and DFN, and are available in [[5]](#References).\n",
    "\n",
    "By default per electrode, the DFN has 1 microscale dimension (the radial coordinate within the active particles, $r_{\\mathrm{k}}$, $\\mathrm{k}=\\mathrm{n,p}$) and 1 macroscale dimension (the through-cell coordinate $x$), and is commonly called \"pseudo-2D\". The MP-DFN adds another microscale variation with particle size $R_{\\mathrm{k}}$, $\\mathrm{k}=\\mathrm{n,p}$ over an interval $[R_{\\mathrm{k,min}}, R_{\\mathrm{k,max}}]$, $\\mathrm{k}=\\mathrm{n,p}$, and thus can be thought of as \"pseudo-3D\". See [[5]](#References) for more details. "
   ]
  },
  {
   "attachments": {},
   "cell_type": "markdown",
   "metadata": {},
   "source": [
    "## Example solving the MP-DFN"
   ]
  },
  {
   "cell_type": "code",
   "execution_count": 1,
   "metadata": {},
   "outputs": [
    {
     "name": "stdout",
     "output_type": "stream",
     "text": [
      "Note: you may need to restart the kernel to use updated packages.\n"
     ]
    }
   ],
   "source": [
    "%pip install \"pybamm[plot,cite]\" -q    # install PyBaMM if it is not installed\n",
    "import matplotlib.pyplot as plt\n",
    "\n",
    "import pybamm"
   ]
  },
  {
   "attachments": {},
   "cell_type": "markdown",
   "metadata": {},
   "source": [
    "The MP-DFN can be accessed from the `DFN` model in PyBaMM, and specifying the `\"particle size\"` option. The default option for `\"particle size\"` is `\"single\"`. Let's change this to `\"distribution\"` and pass to the `DFN` when loading the model."
   ]
  },
  {
   "cell_type": "code",
   "execution_count": 2,
   "metadata": {},
   "outputs": [],
   "source": [
    "# choose option(s)\n",
    "options = {\"particle size\": \"distribution\"}\n",
    "\n",
    "# load model\n",
    "model = pybamm.lithium_ion.DFN(options=options, name=\"MP-DFN\")"
   ]
  },
  {
   "attachments": {},
   "cell_type": "markdown",
   "metadata": {},
   "source": [
    "## Adding size distribution parameters"
   ]
  },
  {
   "attachments": {},
   "cell_type": "markdown",
   "metadata": {},
   "source": [
    "We now need to input and set the particle-size distributions and the minimum and maximum sizes for each electrode. Values for these are not currently in the default parameter set for the DFN, but they are easily added (to any parameter set of choice) - see the [MPM notebook](https://github.com/pybamm-team/PyBaMM/blob/develop/docs/source/examples/notebooks/models/MPM.ipynb) for more details.\n",
    "\n",
    "Here, we start from the Marquis et al. (2019) [[6]](#References) parameter set and use the convenience method `pybamm.get_size_distribution_parameters()`, which adds lognormals for the area-weighted size distribution in each electrode. By default, it chooses the `\"Negative particle radius [m]\"` and `\"Positive particle radius [m]\"` values already in the parameter set to be the mean of the lognormals, and sets the standard deviations to be 0.3 times the mean. (All parameters can be overwritten with keyword arguments.)"
   ]
  },
  {
   "cell_type": "code",
   "execution_count": 3,
   "metadata": {},
   "outputs": [],
   "source": [
    "# Base parameter set (no distribution parameters by default)\n",
    "params = pybamm.ParameterValues(\"Marquis2019\")\n",
    "\n",
    "# Add distribution parameters to the set, with default values (lognormals)\n",
    "params = pybamm.get_size_distribution_parameters(params)"
   ]
  },
  {
   "attachments": {},
   "cell_type": "markdown",
   "metadata": {},
   "source": [
    "## Solve"
   ]
  },
  {
   "attachments": {},
   "cell_type": "markdown",
   "metadata": {},
   "source": [
    "Solve for a 1C discharge"
   ]
  },
  {
   "cell_type": "code",
   "execution_count": 4,
   "metadata": {},
   "outputs": [
    {
     "data": {
      "text/plain": [
       "<pybamm.solvers.solution.Solution at 0x7fd4e17c43a0>"
      ]
     },
     "execution_count": 4,
     "metadata": {},
     "output_type": "execute_result"
    }
   ],
   "source": [
    "# load parameter values into simuluation\n",
    "sim = pybamm.Simulation(model, parameter_values=params)\n",
    "\n",
    "# solve\n",
    "sim.solve(t_eval=[0, 3500])"
   ]
  },
  {
   "cell_type": "code",
   "execution_count": 5,
   "metadata": {},
   "outputs": [
    {
     "data": {
      "application/vnd.jupyter.widget-view+json": {
       "model_id": "15600ad8e80a4c87aba6ca5566c7e318",
       "version_major": 2,
       "version_minor": 0
      },
      "text/plain": [
       "interactive(children=(FloatSlider(value=0.0, description='t', max=3500.0, step=35.0), Output()), _dom_classes=…"
      ]
     },
     "metadata": {},
     "output_type": "display_data"
    },
    {
     "data": {
      "text/plain": [
       "<pybamm.plotting.quick_plot.QuickPlot at 0x7fd4e17c45b0>"
      ]
     },
     "execution_count": 5,
     "metadata": {},
     "output_type": "execute_result"
    }
   ],
   "source": [
    "# plot some variables that depend on particle size\n",
    "output_variables = [\n",
    "    \"Negative particle surface concentration distribution [mol.m-3]\",\n",
    "    \"Positive particle surface concentration distribution [mol.m-3]\",\n",
    "    \"X-averaged negative particle surface concentration distribution [mol.m-3]\",\n",
    "    \"Negative area-weighted particle-size distribution [m-1]\",\n",
    "    \"Positive area-weighted particle-size distribution [m-1]\",\n",
    "    \"Voltage [V]\",\n",
    "]\n",
    "\n",
    "sim.plot(output_variables=output_variables)"
   ]
  },
  {
   "attachments": {},
   "cell_type": "markdown",
   "metadata": {},
   "source": [
    "Variables that depend on particle size have names that end in `\"distribution\"`, e.g. `\"Negative particle surface concentration distribution\"`. The same variables without the `\"distribution\"` have been averaged over particle size, and can be compared to the corresponding variable with the same name from other models that have a single particle size (e.g. SPM).\n",
    "\n",
    "The particle size distributions do not vary with $x$, so you can use the \"X-averaged\" versions to better visualize the discretized distribution in $R$ that PyBaMM uses."
   ]
  },
  {
   "cell_type": "code",
   "execution_count": 6,
   "metadata": {},
   "outputs": [
    {
     "data": {
      "image/png": "[encoded data removed]",
      "text/plain": [
       "<Figure size 720x288 with 2 Axes>"
      ]
     },
     "metadata": {
      "needs_background": "light"
     },
     "output_type": "display_data"
    }
   ],
   "source": [
    "# The discrete sizes or \"bins\" used\n",
    "R_p = sim.solution[\"Positive particle sizes [m]\"].entries[\n",
    "    :, 0, 0\n",
    "]  # const in the x and current collector direction\n",
    "R_n = sim.solution[\"Negative particle sizes [m]\"].entries[:, 0, 0]\n",
    "\n",
    "# The distributions (number, area, and volume-weighted)\n",
    "f_a_p = sim.solution[\n",
    "    \"X-averaged positive area-weighted particle-size distribution [m-1]\"\n",
    "].entries[:, 0]\n",
    "f_num_p = sim.solution[\n",
    "    \"X-averaged positive number-based particle-size distribution [m-1]\"\n",
    "].entries[:, 0]\n",
    "f_v_p = sim.solution[\n",
    "    \"X-averaged positive volume-weighted particle-size distribution [m-1]\"\n",
    "].entries[:, 0]\n",
    "f_a_n = sim.solution[\n",
    "    \"X-averaged negative area-weighted particle-size distribution [m-1]\"\n",
    "].entries[:, 0]\n",
    "f_num_n = sim.solution[\n",
    "    \"X-averaged negative number-based particle-size distribution [m-1]\"\n",
    "].entries[:, 0]\n",
    "f_v_n = sim.solution[\n",
    "    \"X-averaged negative volume-weighted particle-size distribution [m-1]\"\n",
    "].entries[:, 0]\n",
    "\n",
    "# plot\n",
    "f, axs = plt.subplots(1, 2, figsize=(10, 4))\n",
    "\n",
    "# negative electrode\n",
    "width_n = (R_n[-1] - R_n[-2]) / 1e-6\n",
    "axs[0].bar(\n",
    "    R_n / 1e-6,\n",
    "    f_a_n * 1e-6,\n",
    "    width=width_n,\n",
    "    alpha=0.3,\n",
    "    color=\"tab:blue\",\n",
    "    label=\"area-weighted\",\n",
    ")\n",
    "axs[0].bar(\n",
    "    R_n / 1e-6,\n",
    "    f_num_n * 1e-6,\n",
    "    width=width_n,\n",
    "    alpha=0.3,\n",
    "    color=\"tab:red\",\n",
    "    label=\"number-weighted\",\n",
    ")\n",
    "axs[0].bar(\n",
    "    R_n / 1e-6,\n",
    "    f_v_n * 1e-6,\n",
    "    width=width_n,\n",
    "    alpha=0.3,\n",
    "    color=\"tab:green\",\n",
    "    label=\"volume-weighted\",\n",
    ")\n",
    "axs[0].set_xlim((0, 25))\n",
    "axs[0].set_xlabel(\"Particle size $R_{\\mathrm{n}}$ [$\\mu$m]\", fontsize=12)\n",
    "axs[0].set_ylabel(\"[$\\mu$m$^{-1}$]\", fontsize=12)\n",
    "axs[0].legend(fontsize=10)\n",
    "axs[0].set_title(\"Discretized distributions (histograms) in negative electrode\")\n",
    "\n",
    "# positive electrode\n",
    "width_p = (R_p[-1] - R_p[-2]) / 1e-6\n",
    "axs[1].bar(\n",
    "    R_p / 1e-6,\n",
    "    f_a_p * 1e-6,\n",
    "    width=width_p,\n",
    "    alpha=0.3,\n",
    "    color=\"tab:blue\",\n",
    "    label=\"area-weighted\",\n",
    ")\n",
    "axs[1].bar(\n",
    "    R_p / 1e-6,\n",
    "    f_num_p * 1e-6,\n",
    "    width=width_p,\n",
    "    alpha=0.3,\n",
    "    color=\"tab:red\",\n",
    "    label=\"number-weighted\",\n",
    ")\n",
    "axs[1].bar(\n",
    "    R_p / 1e-6,\n",
    "    f_v_p * 1e-6,\n",
    "    width=width_p,\n",
    "    alpha=0.3,\n",
    "    color=\"tab:green\",\n",
    "    label=\"volume-weighted\",\n",
    ")\n",
    "axs[1].set_xlim((0, 25))\n",
    "axs[1].set_xlabel(\"Particle size $R_{\\mathrm{p}}$ [$\\mu$m]\", fontsize=12)\n",
    "axs[1].set_ylabel(\"[$\\mu$m$^{-1}$]\", fontsize=12)\n",
    "axs[1].set_title(\"Positive electrode\")\n",
    "plt.tight_layout()\n",
    "plt.show()"
   ]
  },
  {
   "attachments": {},
   "cell_type": "markdown",
   "metadata": {},
   "source": [
    "## Custom size distributions"
   ]
  },
  {
   "attachments": {},
   "cell_type": "markdown",
   "metadata": {},
   "source": [
    "Here we show how to change the distribution parameters, or set any distribution of choice. We will set the distribution parameters for the positive distribution (leaving the one for the negative electrode as the default lognormal). We refer to the [MPM notebook](https://github.com/pybamm-team/PyBaMM/blob/develop/docs/source/examples/notebooks/models/MPM.ipynb) for more examples."
   ]
  },
  {
   "cell_type": "code",
   "execution_count": 7,
   "metadata": {},
   "outputs": [],
   "source": [
    "# Set the area-weighted mean radius to be the reference value from the parameter set\n",
    "R_av_p_dim = params[\"Positive particle radius [m]\"]\n",
    "\n",
    "# Standard deviation (dimensional)\n",
    "sd_p_dim = 0.6 * R_av_p_dim\n",
    "\n",
    "# Minimum and maximum particle sizes (dimensional)\n",
    "R_min_p = 0\n",
    "R_max_p = 3 * R_av_p_dim\n",
    "\n",
    "# Set the area-weighted particle-size distribution.\n",
    "# Choose a lognormal (but any pybamm function could be used)\n",
    "\n",
    "\n",
    "def f_a_dist_p_dim(R):\n",
    "    return pybamm.lognormal(R, R_av_p_dim, sd_p_dim)\n",
    "\n",
    "\n",
    "# Note: the only argument must be the particle size R"
   ]
  },
  {
   "cell_type": "code",
   "execution_count": 8,
   "metadata": {},
   "outputs": [],
   "source": [
    "# input params to the dictionary\n",
    "distribution_params = {\n",
    "    \"Positive minimum particle radius [m]\": R_min_p,\n",
    "    \"Positive maximum particle radius [m]\": R_max_p,\n",
    "    \"Positive area-weighted \" + \"particle-size distribution [m-1]\": f_a_dist_p_dim,\n",
    "}\n",
    "params.update(distribution_params, check_already_exists=False)"
   ]
  },
  {
   "attachments": {},
   "cell_type": "markdown",
   "metadata": {},
   "source": [
    "Solve and plot "
   ]
  },
  {
   "cell_type": "code",
   "execution_count": 9,
   "metadata": {},
   "outputs": [
    {
     "data": {
      "image/png": "[encoded data removed]",
      "text/plain": [
       "<Figure size 864x288 with 3 Axes>"
      ]
     },
     "metadata": {
      "needs_background": "light"
     },
     "output_type": "display_data"
    }
   ],
   "source": [
    "# load parameter values into simulation\n",
    "sim_custom = pybamm.Simulation(model, parameter_values=params)\n",
    "\n",
    "# solve\n",
    "sim_custom.solve(t_eval=[0, 3500])\n",
    "\n",
    "# plot\n",
    "output_variables = [\n",
    "    \"X-averaged negative area-weighted particle-size distribution [m-1]\",\n",
    "    \"X-averaged positive area-weighted particle-size distribution [m-1]\",\n",
    "    \"Voltage [V]\",\n",
    "]\n",
    "quickplot = pybamm.QuickPlot(\n",
    "    [sim, sim_custom],\n",
    "    output_variables=output_variables,\n",
    "    labels=[\"default lognormals\", \"custom\"],\n",
    ")\n",
    "quickplot.plot(0)"
   ]
  },
  {
   "attachments": {},
   "cell_type": "markdown",
   "metadata": {},
   "source": [
    "## Compare MP-DFN to MPM and DFN models"
   ]
  },
  {
   "attachments": {},
   "cell_type": "markdown",
   "metadata": {},
   "source": [
    "The MP-DFN is an extension of the MPM (size distributions, but no x variation) and DFN models (x variation, but no size distribution). Here we compare the three for the same parameter values, for a discharge followed by a relaxation. Note: this is implemented here by specifying the current function to be a Heaviside, not using the `Experiment` class."
   ]
  },
  {
   "cell_type": "code",
   "execution_count": 10,
   "metadata": {},
   "outputs": [],
   "source": [
    "models = [\n",
    "    pybamm.lithium_ion.DFN(options={\"particle size\": \"distribution\"}, name=\"MP-DFN\"),\n",
    "    pybamm.lithium_ion.MPM(name=\"MPM\"),\n",
    "    pybamm.lithium_ion.DFN(name=\"DFN\"),\n",
    "]\n",
    "\n",
    "# parameters\n",
    "params = pybamm.ParameterValues(\"Marquis2019\")\n",
    "params = pybamm.get_size_distribution_parameters(params)\n",
    "\n",
    "# experiment\n",
    "experiment = pybamm.Experiment(\n",
    "    [\n",
    "        \"Discharge at 1C for 3450 seconds\",\n",
    "        \"Rest for 3600 seconds\",\n",
    "    ]\n",
    ")\n",
    "\n",
    "\n",
    "# solve\n",
    "sims = []\n",
    "for model in models:\n",
    "    sim = pybamm.Simulation(model, parameter_values=params, experiment=experiment)\n",
    "    sim.solve()\n",
    "    sims.append(sim)"
   ]
  },
  {
   "cell_type": "code",
   "execution_count": 11,
   "metadata": {},
   "outputs": [
    {
     "data": {
      "image/png": "[encoded data removed]",
      "text/plain": [
       "<Figure size 576x288 with 2 Axes>"
      ]
     },
     "metadata": {
      "needs_background": "light"
     },
     "output_type": "display_data"
    }
   ],
   "source": [
    "# plot current, voltage\n",
    "qp = pybamm.QuickPlot(sims, output_variables=[\"Current [A]\", \"Voltage [V]\"])\n",
    "qp.plot(0)"
   ]
  },
  {
   "attachments": {},
   "cell_type": "markdown",
   "metadata": {},
   "source": [
    "During discharge, the MPM overpredicts the voltage since it neglects the transport (and therefore resistances) through the electrolyte. During the relaxation portion, the DFN overpredicts the rate of relaxation to equilibrium compared to the MP-DFN and MPM. However, the slower relaxation of the size distribution models has been shown to agree better with experiment [[5]](#References)."
   ]
  },
  {
   "attachments": {},
   "cell_type": "markdown",
   "metadata": {},
   "source": [
    "## References\n",
    "\n",
    "The relevant papers for this notebook are:"
   ]
  },
  {
   "cell_type": "code",
   "execution_count": 12,
   "metadata": {},
   "outputs": [
    {
     "name": "stdout",
     "output_type": "stream",
     "text": [
      "[1] Joel A. E. Andersson, Joris Gillis, Greg Horn, James B. Rawlings, and Moritz Diehl. CasADi – A software framework for nonlinear optimization and optimal control. Mathematical Programming Computation, 11(1):1–36, 2019. doi:10.1007/s12532-018-0139-4.\n",
      "[2] Marc Doyle, Thomas F. Fuller, and John Newman. Modeling of galvanostatic charge and discharge of the lithium/polymer/insertion cell. Journal of the Electrochemical society, 140(6):1526–1533, 1993. doi:10.1149/1.2221597.\n",
      "[3] Charles R. Harris, K. Jarrod Millman, Stéfan J. van der Walt, Ralf Gommers, Pauli Virtanen, David Cournapeau, Eric Wieser, Julian Taylor, Sebastian Berg, Nathaniel J. Smith, and others. Array programming with NumPy. Nature, 585(7825):357–362, 2020. doi:10.1038/s41586-020-2649-2.\n",
      "[4] Toby L. Kirk, Jack Evans, Colin P. Please, and S. Jonathan Chapman. Modelling electrode heterogeneity in lithium-ion batteries: unimodal and bimodal particle-size distributions. arXiv:2006.12208, 2020. URL: https://arxiv.org/abs/2006.12208, arXiv:2006.12208.\n",
      "[5] Toby L. Kirk, Colin P. Please, and S. Jon Chapman. Physical modelling of the slow voltage relaxation phenomenon in lithium-ion batteries. Journal of The Electrochemical Society, 168(6):060554, jun 2021. URL: https://doi.org/10.1149/1945-7111/ac0bf7, doi:10.1149/1945-7111/ac0bf7.\n",
      "[6] Scott G. Marquis, Valentin Sulzer, Robert Timms, Colin P. Please, and S. Jon Chapman. An asymptotic derivation of a single particle model with electrolyte. Journal of The Electrochemical Society, 166(15):A3693–A3706, 2019. doi:10.1149/2.0341915jes.\n",
      "[7] Valentin Sulzer, Scott G. Marquis, Robert Timms, Martin Robinson, and S. Jon Chapman. Python Battery Mathematical Modelling (PyBaMM). Journal of Open Research Software, 9(1):14, 2021. doi:10.5334/jors.309.\n",
      "\n"
     ]
    }
   ],
   "source": [
    "pybamm.print_citations()"
   ]
  }
 ],
 "metadata": {
  "kernelspec": {
   "display_name": "pybamm",
   "language": "python",
   "name": "python3"
  },
  "language_info": {
   "codemirror_mode": {
    "name": "ipython",
    "version": 3
   },
   "file_extension": ".py",
   "mimetype": "text/x-python",
   "name": "python",
   "nbconvert_exporter": "python",
   "pygments_lexer": "ipython3",
   "version": "3.9.16"
  },
  "toc": {
   "base_numbering": 1,
   "nav_menu": {},
   "number_sections": true,
   "sideBar": true,
   "skip_h1_title": false,
   "title_cell": "Table of Contents",
   "title_sidebar": "Contents",
   "toc_cell": false,
   "toc_position": {},
   "toc_section_display": true,
   "toc_window_display": true
  },
  "vscode": {
   "interpreter": {
    "hash": "187972e187ab8dfbecfab9e8e194ae6d08262b2d51a54fa40644e3ddb6b5f74c"
   }
  }
 },
 "nbformat": 4,
 "nbformat_minor": 2
}
