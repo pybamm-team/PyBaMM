{
 "cells": [
  {
   "cell_type": "markdown",
   "id": "0",
   "metadata": {},
   "source": [
    "# Modelling coupled degradation mechanisms in PyBaMM\n",
    "\n",
    "This notebook shows how to set up a PyBaMM model in which many degradation mechanisms run at the same time and interact with one another."
   ]
  },
  {
   "cell_type": "code",
   "execution_count": null,
   "id": "1",
   "metadata": {},
   "outputs": [],
   "source": [
    "import pybamm\n",
    "import matplotlib.pyplot as plt"
   ]
  },
  {
   "cell_type": "markdown",
   "id": "2",
   "metadata": {},
   "source": [
    "O'Kane et al. [12] modelled four coupled degradation mechanisms: SEI growth, lithium plating, particle cracking and stress-driven loss of active material. The \"SEI on cracks\" option couples SEI growth and particle cracking by allowing SEI to grow on the cracks. The \"partially reversible\" option for lithium plating allows the SEI to influence the irreversible component of plating using a function in the OKane2022 parameter file. Particle cracking and stress-driven loss of active material are coupled by default because the stress-strain relations inside the particles are an input for both."
   ]
  },
  {
   "cell_type": "code",
   "execution_count": null,
   "id": "3",
   "metadata": {},
   "outputs": [],
   "source": [
    "model = pybamm.lithium_ion.DFN(\n",
    "    {\n",
    "        \"SEI\": \"solvent-diffusion limited\",\n",
    "        \"SEI porosity change\": \"true\",\n",
    "        \"lithium plating\": \"partially reversible\",\n",
    "        \"lithium plating porosity change\": \"true\",  # alias for \"SEI porosity change\"\n",
    "        \"particle mechanics\": (\"swelling and cracking\", \"swelling only\"),\n",
    "        \"SEI on cracks\": \"true\",\n",
    "        \"loss of active material\": \"stress-driven\",\n",
    "    }\n",
    ")"
   ]
  },
  {
   "cell_type": "markdown",
   "id": "4",
   "metadata": {},
   "source": [
    "Depending on the parameter set being used, the particle cracking model can require a large number of mesh points inside the particles to be numerically stable."
   ]
  },
  {
   "cell_type": "code",
   "execution_count": null,
   "id": "5",
   "metadata": {},
   "outputs": [],
   "source": [
    "param = pybamm.ParameterValues(\"OKane2022\")\n",
    "var_pts = {\n",
    "    \"x_n\": 5,  # negative electrode\n",
    "    \"x_s\": 5,  # separator\n",
    "    \"x_p\": 5,  # positive electrode\n",
    "    \"r_n\": 30,  # negative particle\n",
    "    \"r_p\": 30,  # positive particle\n",
    "}"
   ]
  },
  {
   "cell_type": "markdown",
   "id": "6",
   "metadata": {},
   "source": [
    "Define a cycling protocol and solve. The protocol from O'Kane et al. [12] is used here, except with 10 ageing cycles instead of 1000."
   ]
  },
  {
   "cell_type": "code",
   "execution_count": null,
   "id": "7",
   "metadata": {},
   "outputs": [],
   "source": [
    "cycle_number = 10\n",
    "exp = pybamm.Experiment(\n",
    "    [\n",
    "        \"Hold at 4.2 V until C/100 (5 minute period)\",\n",
    "        \"Rest for 4 hours (5 minute period)\",\n",
    "        \"Discharge at 0.1C until 2.5 V (5 minute period)\",  # initial capacity check\n",
    "        \"Charge at 0.3C until 4.2 V (5 minute period)\",\n",
    "        \"Hold at 4.2 V until C/100 (5 minute period)\",\n",
    "    ]\n",
    "    + [\n",
    "        (\n",
    "            \"Discharge at 1C until 2.5 V (1 minute period)\",  # ageing cycles\n",
    "            \"Charge at 0.3C until 4.2 V (5 minute period)\",\n",
    "            \"Hold at 4.2 V until C/100 (5 minute period)\",\n",
    "        )\n",
    "    ]\n",
    "    * cycle_number\n",
    "    + [\"Discharge at 0.1C until 2.5 V (5 minute period)\"],  # final capacity check\n",
    ")\n",
    "solver = pybamm.IDAKLUSolver()\n",
    "sim = pybamm.Simulation(\n",
    "    model, parameter_values=param, experiment=exp, solver=solver, var_pts=var_pts\n",
    ")\n",
    "sol = sim.solve()"
   ]
  },
  {
   "cell_type": "markdown",
   "id": "8",
   "metadata": {},
   "source": [
    "Three of the degradation mechanisms - SEI, lithium plating and SEI on cracks - cause loss of lithium inventory (LLI). Plotting the different contributions to LLI against throughput capacity as opposed to cycle number allows them to be considered as continuous variables as opposed to discrete ones."
   ]
  },
  {
   "cell_type": "code",
   "execution_count": null,
   "id": "9",
   "metadata": {},
   "outputs": [],
   "source": [
    "Qt = sol[\"Throughput capacity [A.h]\"].entries\n",
    "Q_SEI = sol[\"Loss of capacity to negative SEI [A.h]\"].entries\n",
    "Q_SEI_cr = sol[\"Loss of capacity to negative SEI on cracks [A.h]\"].entries\n",
    "Q_plating = sol[\"Loss of capacity to negative lithium plating [A.h]\"].entries\n",
    "Q_side = sol[\"Total capacity lost to side reactions [A.h]\"].entries\n",
    "Q_LLI = (\n",
    "    sol[\"Total lithium lost [mol]\"].entries * 96485.3 / 3600\n",
    ")  # convert from mol to A.h\n",
    "plt.figure()\n",
    "plt.plot(Qt, Q_SEI, label=\"SEI\", linestyle=\"dashed\")\n",
    "plt.plot(Qt, Q_SEI_cr, label=\"SEI on cracks\", linestyle=\"dashdot\")\n",
    "plt.plot(Qt, Q_plating, label=\"Li plating\", linestyle=\"dotted\")\n",
    "plt.plot(Qt, Q_side, label=\"All side reactions\", linestyle=(0, (6, 1)))\n",
    "plt.plot(Qt, Q_LLI, label=\"All LLI\")\n",
    "plt.xlabel(\"Throughput capacity [A.h]\")\n",
    "plt.ylabel(\"Capacity loss [A.h]\")\n",
    "plt.legend()\n",
    "plt.show()"
   ]
  },
  {
   "cell_type": "markdown",
   "id": "10",
   "metadata": {},
   "source": [
    "The capacity loss over 10 cycles is so small that the reversible component of the lithium plating is has a larger effect than all the irreversible mechanisms combined. Most of the irreversible capacity fade that does occur is caused by SEI on cracks."
   ]
  },
  {
   "cell_type": "markdown",
   "id": "11",
   "metadata": {},
   "source": [
    "The stress-driven loss of active material (LAM) mechanism [12,13] is also included, so the three main degradation modes - LLI and LAM in each electrode - can be plotted and compared."
   ]
  },
  {
   "cell_type": "code",
   "execution_count": null,
   "id": "12",
   "metadata": {},
   "outputs": [],
   "source": [
    "Qt = sol[\"Throughput capacity [A.h]\"].entries\n",
    "LLI = sol[\"Loss of lithium inventory [%]\"].entries\n",
    "LAM_neg = sol[\"Loss of active material in negative electrode [%]\"].entries\n",
    "LAM_pos = sol[\"Loss of active material in positive electrode [%]\"].entries\n",
    "plt.figure()\n",
    "plt.plot(Qt, LLI, label=\"LLI\")\n",
    "plt.plot(Qt, LAM_neg, label=\"LAM (negative)\")\n",
    "plt.plot(Qt, LAM_pos, label=\"LAM (positive)\")\n",
    "plt.xlabel(\"Throughput capacity [A.h]\")\n",
    "plt.ylabel(\"Degradation modes [%]\")\n",
    "plt.legend()\n",
    "plt.show()"
   ]
  },
  {
   "cell_type": "markdown",
   "id": "13",
   "metadata": {},
   "source": [
    "Both the reversible and irreversible components of LLI are far greater than LAM for this parameter set."
   ]
  },
  {
   "cell_type": "markdown",
   "id": "14",
   "metadata": {},
   "source": [
    "A key internal variable is the porosity. Pore clogging by SEI, lithium plating and other means can trigger other degradation mechanisms and reduce the rate capability of the cell. If the porosity reaches zero, the cell becomes completely unusable and PyBaMM will terminate the simulation."
   ]
  },
  {
   "cell_type": "code",
   "execution_count": null,
   "id": "15",
   "metadata": {},
   "outputs": [],
   "source": [
    "eps_neg_avg = sol[\"X-averaged negative electrode porosity\"].entries\n",
    "eps_neg_sep = sol[\"Negative electrode porosity\"].entries[-1, :]\n",
    "eps_neg_CC = sol[\"Negative electrode porosity\"].entries[0, :]\n",
    "plt.figure()\n",
    "plt.plot(Qt, eps_neg_avg, label=\"Average\")\n",
    "plt.plot(Qt, eps_neg_sep, label=\"Separator\", linestyle=\"dotted\")\n",
    "plt.plot(Qt, eps_neg_CC, label=\"Current collector\", linestyle=\"dashed\")\n",
    "plt.xlabel(\"Throughput capacity [A.h]\")\n",
    "plt.ylabel(\"Negative electrode porosity\")\n",
    "plt.legend()\n",
    "plt.show()"
   ]
  },
  {
   "cell_type": "markdown",
   "id": "16",
   "metadata": {},
   "source": [
    "If you want to see some serious degradation, try re-running the simulation with more ageing cycles, or using param.update({}) to increase the degradation parameters beyond the ranges considered by O'Kane et al. [12]"
   ]
  },
  {
   "cell_type": "code",
   "execution_count": null,
   "id": "17",
   "metadata": {},
   "outputs": [],
   "source": [
    "pybamm.print_citations()"
   ]
  },
  {
   "cell_type": "code",
   "execution_count": null,
   "id": "18",
   "metadata": {},
   "outputs": [],
   "source": [
    "sol.plot([\"X-averaged electrolyte concentration [mol.m-3]\"])"
   ]
  },
  {
   "cell_type": "code",
   "execution_count": null,
   "id": "19",
   "metadata": {},
   "outputs": [],
   "source": []
  }
 ],
 "metadata": {
  "kernelspec": {
   "display_name": "Python 3 (ipykernel)",
   "language": "python",
   "name": "python3"
  },
  "language_info": {
   "codemirror_mode": {
    "name": "ipython",
    "version": 3
   },
   "file_extension": ".py",
   "mimetype": "text/x-python",
   "name": "python",
   "nbconvert_exporter": "python",
   "pygments_lexer": "ipython3",
   "version": "3.11.5"
  }
 },
 "nbformat": 4,
 "nbformat_minor": 5
}
