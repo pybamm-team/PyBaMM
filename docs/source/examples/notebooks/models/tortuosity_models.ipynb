{
 "cells": [
  {
   "cell_type": "markdown",
   "metadata": {},
   "source": [
    "# Transport efficiency and the models for tortuosity factor"
   ]
  },
  {
   "cell_type": "markdown",
   "metadata": {},
   "source": [
    "PyBaMM models utilize a ratio that we refer to as \"transport efficiency\" $\\mathcal{B}$ which can be applied to transport co-efficients such as the diffusivity in the electrolyte that relates the effective transport property through a porous media comprised of a conducting and non-conducting phase to that of the transport through the bulk of the conducting phase:\n",
    "$$\n",
    "\\mathcal{B} = \\frac{X_{eff}}{X_0} = \\frac{\\epsilon}{\\tau},\n",
    "$$\n",
    "\n",
    "Where $\\epsilon$ is the volume fraction of the conducting phase, the porosity of the electrode for diffusion within the electrolyte, and $\\tau$ is the tortuosity factor. A measure of the effect of the increased pathlength that transported species traverse due to the presence of obstacles.\n",
    "\n",
    "The tortuosity and tortuosity factor are often used interchangably but this can lead to confusion. Tortusosity is a purely geometric concept relating the length of a winding capillary pathway through a medium with the length of that medium, whereas tortuosity factor relates the the ratio of the transport property which may also depend on other factors such as anisotropic obstacles, boundary conditions of flow and also other physical phenomena such as the average pore size which could induce Knudsen effects. \n",
    "\n",
    "Many studies have been devoted to understanding relations between $\\tau$ and $\\epsilon$ including those summarized by [Shen & Chen](https://www.sciencedirect.com/science/article/abs/pii/S0009250907003144). By far the most common is the Bruggeman relation which is explored more recently by [Tjaden et al.](http://dx.doi.org/10.1016/j.coche.2016.02.006) in the context of materials commonly found in batteries and fuel cells."
   ]
  },
  {
   "cell_type": "markdown",
   "metadata": {},
   "source": [
    "A recent study by [Usseglio-Viretta et al.](https://iopscience.iop.org/article/10.1149/2.0731814jes) found that Bruggeman and similar relations can significantly underpredict the tortuosity factors. If used at all these relations are often more suitable for the cathode where particles are more spherical but should be used with caution for the anode. A more recent trend is to use numerical methods to calculate tortuosity factors directly from image data gathered for electrodes in which case a straight-forward relation with porosity may not exist and is not necessary if factors can be directly supplied."
   ]
  },
  {
   "cell_type": "markdown",
   "metadata": {},
   "source": [
    "The remainder of the notebook demonstrates how to use the different options for transport efficiency and supply your own tortuosity factor"
   ]
  },
  {
   "cell_type": "code",
   "execution_count": null,
   "metadata": {},
   "outputs": [],
   "source": [
    "import pybamm\n",
    "import numpy as np"
   ]
  },
  {
   "cell_type": "code",
   "execution_count": null,
   "metadata": {},
   "outputs": [],
   "source": [
    "sols = []\n",
    "te_opts = pybamm.BatteryModelOptions({}).possible_options[\"transport efficiency\"]\n",
    "parameter_values = pybamm.ParameterValues(\"Marquis2019\")\n",
    "print(te_opts)"
   ]
  },
  {
   "cell_type": "code",
   "execution_count": null,
   "metadata": {},
   "outputs": [],
   "source": [
    "parameter_values.search(\"porosity\")"
   ]
  },
  {
   "cell_type": "code",
   "execution_count": null,
   "metadata": {},
   "outputs": [],
   "source": [
    "parameter_values.search(\"Bruggeman\")"
   ]
  },
  {
   "cell_type": "markdown",
   "metadata": {},
   "source": [
    "Add tortuosity factors that replicate the Bruggeman values"
   ]
  },
  {
   "cell_type": "code",
   "execution_count": null,
   "metadata": {},
   "outputs": [],
   "source": [
    "parameter_values.update(\n",
    "    {\n",
    "        \"Negative electrode tortuosity factor (electrolyte)\": 0.3 ** (-0.5),\n",
    "        \"Positive electrode tortuosity factor (electrolyte)\": 0.3 ** (-0.5),\n",
    "        \"Negative electrode tortuosity factor (electrode)\": 0.7 ** (-0.5),\n",
    "        \"Positive electrode tortuosity factor (electrode)\": 0.7 ** (-0.5),\n",
    "        \"Separator tortuosity factor (electrolyte)\": 1.0,\n",
    "    },\n",
    "    check_already_exists=False,\n",
    ")"
   ]
  },
  {
   "cell_type": "markdown",
   "metadata": {},
   "source": [
    "N.B the differences in the exponent constants used to modify the porosity and solid volume fraction. The existing Bruggeman model applies the exponent directly to the porosity $\\mathcal{B}=\\epsilon^{b}=\\epsilon^{3/2}$, the tortuosity factor model applies the tortuosity factor with includes the relation on porosity in this case $\\mathcal{B}=\\epsilon / \\tau = \\epsilon / \\epsilon^{-1/2} = \\epsilon^{3/2}$."
   ]
  },
  {
   "cell_type": "code",
   "execution_count": null,
   "metadata": {},
   "outputs": [],
   "source": [
    "for t_label in te_opts:\n",
    "    model = pybamm.lithium_ion.DFN(\n",
    "        options={\"transport efficiency\": t_label}\n",
    "    )  # Doyle-Fuller-Newman model\n",
    "    sim = pybamm.Simulation(model, parameter_values=parameter_values)\n",
    "    sols.append(sim.solve([0, 3600]))  # solve for 1 hour"
   ]
  },
  {
   "cell_type": "code",
   "execution_count": null,
   "metadata": {},
   "outputs": [],
   "source": [
    "pybamm.dynamic_plot(sols, labels=te_opts)"
   ]
  },
  {
   "cell_type": "markdown",
   "metadata": {},
   "source": [
    "The Bruggeman and tortuosity factor results should be identical"
   ]
  },
  {
   "cell_type": "code",
   "execution_count": null,
   "metadata": {},
   "outputs": [],
   "source": [
    "np.allclose(sols[0][\"Terminal voltage [V]\"].data, sols[4][\"Terminal voltage [V]\"].data)"
   ]
  },
  {
   "cell_type": "markdown",
   "metadata": {},
   "source": [
    "Now increase the tortuosity factors. N.B this will need to be calculated for specific electrodes with given porosity. Changing porosity in the model will not update the tortuosity factor unless a function is supplied for the parameter."
   ]
  },
  {
   "cell_type": "code",
   "execution_count": null,
   "metadata": {},
   "outputs": [],
   "source": [
    "parameter_values.update(\n",
    "    {\n",
    "        \"Negative electrode tortuosity factor (electrolyte)\": 4.0,\n",
    "        \"Positive electrode tortuosity factor (electrolyte)\": 4.0,\n",
    "        \"Negative electrode tortuosity factor (electrode)\": 3.0,\n",
    "        \"Positive electrode tortuosity factor (electrode)\": 3.0,\n",
    "        \"Separator tortuosity factor (electrolyte)\": 1.5,\n",
    "    },\n",
    "    check_already_exists=False,\n",
    ")"
   ]
  },
  {
   "cell_type": "code",
   "execution_count": null,
   "metadata": {},
   "outputs": [],
   "source": [
    "model = pybamm.lithium_ion.DFN(\n",
    "    options={\"transport efficiency\": \"tortuosity factor\"}\n",
    ")  # Doyle-Fuller-Newman model\n",
    "sim = pybamm.Simulation(model, parameter_values=parameter_values)\n",
    "sols.append(sim.solve([0, 3600]))"
   ]
  },
  {
   "cell_type": "code",
   "execution_count": null,
   "metadata": {},
   "outputs": [],
   "source": [
    "pybamm.dynamic_plot(sols, labels=[*te_opts, \"higher tortuosity factor\"])"
   ]
  },
  {
   "cell_type": "markdown",
   "metadata": {},
   "source": [
    "The higher tortuosity leads to greater overpotential in the electrolyte and lower terminal voltage"
   ]
  },
  {
   "cell_type": "code",
   "execution_count": null,
   "metadata": {},
   "outputs": [],
   "source": [
    "pybamm.print_citations()"
   ]
  }
 ],
 "metadata": {
  "kernelspec": {
   "language": "python"
  },
  "language_info": {
   "codemirror_mode": {
    "name": "ipython",
    "version": 3
   },
   "file_extension": ".py",
   "mimetype": "text/x-python",
   "name": "python",
   "nbconvert_exporter": "python",
   "pygments_lexer": "ipython3"
  }
 },
 "nbformat": 4,
 "nbformat_minor": 4
}
