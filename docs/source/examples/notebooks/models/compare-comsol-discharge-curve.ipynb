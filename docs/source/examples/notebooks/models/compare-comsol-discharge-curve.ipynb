{
 "cells": [
  {
   "cell_type": "markdown",
   "metadata": {},
   "source": [
    "# Comparison of PyBaMM and COMSOL Discharge Curves"
   ]
  },
  {
   "cell_type": "markdown",
   "metadata": {},
   "source": [
    "In this notebook we compare the discharge curves obtained by solving the DFN model both in PyBaMM and COMSOL. Results are presented for a range of C-rates, and we see an excellent agreement between the two implementations. If you would like to compare internal variables please see the script [compare_comsol_DFN](https://github.com/pybamm-team/PyBaMM/blob/develop/examples/scripts/compare_comsol/compare_comsol_DFN.py) which creates a slider plot comparing potentials and concentrations as functions of time and space for a given C-rate. For more information on the DFN model, see the [DFN notebook](https://github.com/pybamm-team/PyBaMM/blob/develop/docs/source/examples/notebooks/models/DFN.ipynb)."
   ]
  },
  {
   "cell_type": "markdown",
   "metadata": {},
   "source": [
    "First we need to import pybamm, and then change our working directory to the root of the pybamm folder."
   ]
  },
  {
   "cell_type": "code",
   "execution_count": null,
   "metadata": {},
   "outputs": [],
   "source": [
    "import pybamm\n",
    "import numpy as np\n",
    "import os\n",
    "import json\n",
    "import matplotlib.pyplot as plt\n",
    "\n",
    "os.chdir(pybamm.__path__[0] + \"/..\")"
   ]
  },
  {
   "cell_type": "markdown",
   "metadata": {},
   "source": [
    "We then create a dictionary of the C-rates we would like to solve for and compare. Note that the repository currently only contains COMSOL results for the C-rates listed below. "
   ]
  },
  {
   "cell_type": "code",
   "execution_count": null,
   "metadata": {},
   "outputs": [],
   "source": [
    "C_rates = {\"01\": 0.1, \"05\": 0.5, \"1\": 1, \"2\": 2, \"3\": 3}"
   ]
  },
  {
   "cell_type": "markdown",
   "metadata": {},
   "source": [
    "We get the DFN model equations, geometry, and default parameters. Before processing the model, we adjust the electrode height and depth to be 1 m, and also adjust the electrode conductivities, to match the one-dimensional model we solved in COMSOL. The model is then processed using the default geometry and updated parameters. Finally, we create a mesh and discretise the model. "
   ]
  },
  {
   "cell_type": "code",
   "execution_count": null,
   "metadata": {},
   "outputs": [],
   "source": [
    "# load model and geometry\n",
    "model = pybamm.lithium_ion.DFN()\n",
    "geometry = model.default_geometry\n",
    "data_loader = pybamm.DataLoader()\n",
    "\n",
    "# load parameters and process model and geometry\n",
    "param = model.default_parameter_values\n",
    "param.update(\n",
    "    {\n",
    "        \"Electrode width [m]\": 1,\n",
    "        \"Electrode height [m]\": 1,\n",
    "        \"Negative electrode conductivity [S.m-1]\": 126,\n",
    "        \"Positive electrode conductivity [S.m-1]\": 16.6,\n",
    "        \"Current function [A]\": \"[input]\",\n",
    "    }\n",
    ")\n",
    "param.process_model(model)\n",
    "param.process_geometry(geometry)\n",
    "\n",
    "# create mesh\n",
    "var_pts = {\"x_n\": 31, \"x_s\": 11, \"x_p\": 31, \"r_n\": 11, \"r_p\": 11}\n",
    "mesh = pybamm.Mesh(geometry, model.default_submesh_types, var_pts)\n",
    "\n",
    "# discretise model\n",
    "disc = pybamm.Discretisation(mesh, model.default_spatial_methods)\n",
    "disc.process_model(model);"
   ]
  },
  {
   "cell_type": "markdown",
   "metadata": {},
   "source": [
    "We create the figure by looping over the dictionary of C-rates. In each step of the loop we load the COMSOL results from a .csv file and solve the DFN model in pybamm. The output variables are then processed, allowing us to plot the discharges curve computed using pybamm and COMSOL, and their absolute difference.  "
   ]
  },
  {
   "cell_type": "code",
   "execution_count": null,
   "metadata": {},
   "outputs": [],
   "source": [
    "# create figure\n",
    "fig, ax = plt.subplots(figsize=(15, 8))\n",
    "plt.tight_layout()\n",
    "plt.subplots_adjust(left=-0.1)\n",
    "discharge_curve = plt.subplot(211)\n",
    "plt.xlim([0, 26])\n",
    "plt.ylim([3.2, 3.9])\n",
    "plt.xlabel(r\"Discharge Capacity (Ah)\")\n",
    "plt.ylabel(\"Voltage (V)\")\n",
    "plt.title(r\"Comsol $\\cdots$ PyBaMM $-$\")\n",
    "voltage_difference_plot = plt.subplot(212)\n",
    "plt.xlim([0, 26])\n",
    "plt.yscale(\"log\")\n",
    "plt.grid(True)\n",
    "plt.xlabel(r\"Discharge Capacity (Ah)\")\n",
    "plt.ylabel(r\"$\\vert V - V_{comsol} \\vert$\")\n",
    "colors = iter(plt.cycler(color=\"bgrcmyk\"))\n",
    "\n",
    "# loop over C_rates dict to create plot\n",
    "for key, C_rate in C_rates.items():\n",
    "    # load the comsol results\n",
    "    comsol_results_path = pybamm.get_parameters_filepath(\n",
    "        data_loader.get_data(f\"comsol_{key}C.json\"),\n",
    "    )\n",
    "\n",
    "    comsol_variables = json.load(open(comsol_results_path, \"rb\"))\n",
    "\n",
    "    comsol_time = np.array(comsol_variables[\"time\"])\n",
    "    comsol_voltage = np.array(comsol_variables[\"voltage\"])\n",
    "\n",
    "    # update current density\n",
    "    current = 24 * C_rate\n",
    "\n",
    "    # solve model at comsol times\n",
    "    solver = pybamm.CasadiSolver(mode=\"fast\")\n",
    "    solution = solver.solve(\n",
    "        model, comsol_time, inputs={\"Current function [A]\": current}\n",
    "    )\n",
    "    time_in_seconds = solution[\"Time [s]\"].entries\n",
    "    # discharge capacity\n",
    "    discharge_capacity = solution[\"Discharge capacity [A.h]\"]\n",
    "    discharge_capacity_sol = discharge_capacity(time_in_seconds)\n",
    "    comsol_discharge_capacity = comsol_time * current / 3600\n",
    "\n",
    "    # extract the voltage\n",
    "    voltage = solution[\"Voltage [V]\"]\n",
    "    voltage_sol = voltage(time_in_seconds)\n",
    "\n",
    "    # calculate the difference between the two solution methods\n",
    "    end_index = min(len(time_in_seconds), len(comsol_time))\n",
    "    voltage_difference = np.abs(voltage_sol[0:end_index] - comsol_voltage[0:end_index])\n",
    "\n",
    "    # plot discharge curves and absolute voltage_difference\n",
    "    color = next(colors)[\"color\"]\n",
    "    discharge_curve.plot(\n",
    "        comsol_discharge_capacity, comsol_voltage, color=color, linestyle=\":\"\n",
    "    )\n",
    "    discharge_curve.plot(\n",
    "        discharge_capacity_sol,\n",
    "        voltage_sol,\n",
    "        color=color,\n",
    "        linestyle=\"-\",\n",
    "        label=f\"{C_rate} C\",\n",
    "    )\n",
    "    voltage_difference_plot.plot(\n",
    "        discharge_capacity_sol[0:end_index], voltage_difference, color=color\n",
    "    )\n",
    "\n",
    "discharge_curve.legend(loc=\"best\")\n",
    "plt.subplots_adjust(\n",
    "    top=0.92, bottom=0.08, left=0.10, right=0.95, hspace=0.25, wspace=0.35\n",
    ")\n",
    "plt.show()"
   ]
  },
  {
   "cell_type": "markdown",
   "metadata": {},
   "source": [
    "## References\n",
    "\n",
    "The relevant papers for this notebook are:"
   ]
  },
  {
   "cell_type": "code",
   "execution_count": null,
   "metadata": {},
   "outputs": [],
   "source": [
    "pybamm.print_citations()"
   ]
  },
  {
   "cell_type": "code",
   "execution_count": null,
   "metadata": {},
   "outputs": [],
   "source": []
  }
 ],
 "metadata": {
  "kernelspec": {
   "display_name": "Python 3 (ipykernel)",
   "language": "python",
   "name": "python3"
  },
  "language_info": {
   "codemirror_mode": {
    "name": "ipython",
    "version": 3
   },
   "file_extension": ".py",
   "mimetype": "text/x-python",
   "name": "python",
   "nbconvert_exporter": "python",
   "pygments_lexer": "ipython3",
   "version": "3.12.3"
  },
  "toc": {
   "base_numbering": 1,
   "nav_menu": {},
   "number_sections": true,
   "sideBar": true,
   "skip_h1_title": false,
   "title_cell": "Table of Contents",
   "title_sidebar": "Contents",
   "toc_cell": false,
   "toc_position": {},
   "toc_section_display": true,
   "toc_window_display": true
  }
 },
 "nbformat": 4,
 "nbformat_minor": 4
}
