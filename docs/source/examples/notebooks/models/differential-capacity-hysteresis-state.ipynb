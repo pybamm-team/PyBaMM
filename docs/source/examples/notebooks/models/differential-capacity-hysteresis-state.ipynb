{
 "cells": [
  {
   "cell_type": "markdown",
   "metadata": {},
   "source": [
    "# Differential Capacity Hysteresis State model"
   ]
  },
  {
   "cell_type": "code",
   "execution_count": null,
   "metadata": {},
   "outputs": [],
   "source": [
    "%pip install \"pybamm[plot,cite]\" -q    # install PyBaMM if it is not installed\n",
    "import pybamm"
   ]
  },
  {
   "cell_type": "markdown",
   "metadata": {},
   "source": [
    "## Model Equations\n",
    "\n",
    "Herein the model equations for the Differential Capacity Hysteresis State open-circuit potential model are outlined, as described in Wycisk (2022).\n",
    "\n",
    "### Hysteresis State Variable\n",
    "\n",
    "This approach utilizes a state variable to represent the degree of hysteresis at a given time and stoichiometry, $h(z,t)$. The hysteresis is treated separately from the open-circuit potential, where the potential of the electrode is written as\n",
    "\n",
    "$$ U = U_{avg}^0(z) + H(z) \\cdot h(z,t) - \\eta $$\n",
    "\n",
    "Where $H(z)$ is a function representing the hysteresis as a function of stoichiometry, $z$, and where $\\eta$ represents the sum of the overpotentials. $U_{avg}^0(z)$ is simply the average of the delithiation and lithiation open-circuit potential branches. $H(z)$ can be determined by finding the half-difference value between the lithiation and delithiation branches across the entire stoichiometry range. The state variable $h(z,t)$ is both stoichiometry and time-dependant, and spans between the range of -1 and 1. The hysteresis state variable $h(z,t)$ can be expressed in differential form with respect to time as\n",
    "\n",
    "$$ \\frac{dh(z,t)}{dt} = \\left(\\frac{k(z) \\cdot I(t)}{Q_{cell}}\\right)\\left(1-\\text{sgn}\\left(\\frac{dz(t)}{dt}\\right) h(z,t)\\right) $$\n",
    "\n",
    "where $ k(z) $ is expressed as \n",
    "\n",
    "$$ k(z) = K \\cdot \\frac{1}{\\left(C_{diff}\\left(z\\right)\\right)^{x}} $$\n",
    "\n",
    "And where $C_{diff}(z)$ is the differential capacity with respect to potential, expressed as \n",
    "\n",
    "$$ C_{diff}(z) = \\frac{dQ}{dU_{avg}^0(z)} $$\n",
    "\n",
    "Here, $Q$ is the capacity of the phase or active material experiencing the voltage hysteresis. The remaining parameters are $K$ and $x$ which are both fitting parameters that affect the response of the hysteresis state decay when passing charge in either direction.\n",
    "\n",
    "\n"
   ]
  },
  {
   "cell_type": "markdown",
   "metadata": {},
   "source": [
    "## Comparing the DCHS and Current-Sigmoid model approaches\n",
    "\n",
    "The behavior of the DCHS model is different than the current-sigmoid model approach for open-circuit potential in systems with hysteresis. Where the current-sigmoid model switches between hysteresis states simply based on the instantaneous current, the DCHS model switches based on the amount of charge passed through the active material phase while also relying on the previous hysteresis state. To assess this differentiated performance, we will compare it to the current-sigmoid model by adapting the Chen2020_composite parameter set.\n",
    "\n",
    "First we generate the model, and specify the open-circuit potential methods for the negative and positive electrodes. To maintain consistency with the parameter set, two phases for the negative electrode will be defined."
   ]
  },
  {
   "cell_type": "code",
   "execution_count": null,
   "metadata": {},
   "outputs": [],
   "source": [
    "model_DCHS = pybamm.lithium_ion.DFN(\n",
    "    {\n",
    "        \"open-circuit potential\": ((\"single\", \"Wycisk\"), \"single\"),\n",
    "        \"particle phases\": (\"2\", \"1\"),\n",
    "    }\n",
    ")\n",
    "\n",
    "model_current_sigmoid = pybamm.lithium_ion.DFN(\n",
    "    {\n",
    "        \"open-circuit potential\": ((\"single\", \"current sigmoid\"), \"single\"),\n",
    "        \"particle phases\": (\"2\", \"1\"),\n",
    "    }\n",
    ")"
   ]
  },
  {
   "cell_type": "markdown",
   "metadata": {},
   "source": [
    "Next, lets define the modifications to the parameter set"
   ]
  },
  {
   "cell_type": "code",
   "execution_count": null,
   "metadata": {},
   "outputs": [],
   "source": [
    "parameters_DCHS = pybamm.ParameterValues(\"Chen2020_composite\")\n",
    "parameters_current_sigmoid = pybamm.ParameterValues(\"Chen2020_composite\")\n",
    "\n",
    "\n",
    "# get the lithiation and delithiation functions\n",
    "lithiation_ocp = parameters_DCHS[\"Secondary: Negative electrode lithiation OCP [V]\"]\n",
    "delithiation_ocp = parameters_DCHS[\"Secondary: Negative electrode delithiation OCP [V]\"]\n",
    "\n",
    "\n",
    "# define an additional OCP function\n",
    "def ocp_avg(sto):\n",
    "    return (lithiation_ocp(sto) + delithiation_ocp(sto)) / 2\n",
    "\n",
    "\n",
    "# add additional parameters\n",
    "parameters_DCHS.update(\n",
    "    {\n",
    "        \"Secondary: Negative electrode OCP [V]\": ocp_avg,\n",
    "    },\n",
    "    check_already_exists=False,\n",
    ")"
   ]
  },
  {
   "cell_type": "markdown",
   "metadata": {},
   "source": [
    "Next, we need to add the additional parameters required by the model"
   ]
  },
  {
   "cell_type": "code",
   "execution_count": null,
   "metadata": {},
   "outputs": [],
   "source": [
    "parameters_DCHS.update(\n",
    "    {\n",
    "        \"Secondary: Negative particle hysteresis decay rate\": 0.005,\n",
    "        \"Secondary: Negative particle hysteresis switching factor\": 10,\n",
    "        \"Secondary: Initial hysteresis state in negative electrode\": 0,\n",
    "    },\n",
    "    check_already_exists=False,\n",
    ")\n",
    "\n",
    "\n",
    "experiment = pybamm.Experiment(\n",
    "    [\n",
    "        (\"Discharge at 1 C for 1 hour or until 2.5 V\", \"Rest for 15 minutes\"),\n",
    "        (\n",
    "            \"Charge at 1C until 4.2 V\",\n",
    "            \"Hold at 4.2 V until 0.05 C\",\n",
    "            \"Rest for 15 minutes\",\n",
    "        ),\n",
    "    ]\n",
    ")\n",
    "\n",
    "\n",
    "simulation_dchs = pybamm.Simulation(\n",
    "    model_DCHS, experiment=experiment, parameter_values=parameters_DCHS\n",
    ")\n",
    "solution_dchs = simulation_dchs.solve(calc_esoh=False)\n",
    "\n",
    "simulation_current_sigmoid = pybamm.Simulation(\n",
    "    model_current_sigmoid,\n",
    "    experiment=experiment,\n",
    "    parameter_values=parameters_current_sigmoid,\n",
    ")\n",
    "\n",
    "solution_current_sigmoid = simulation_current_sigmoid.solve(calc_esoh=False)"
   ]
  },
  {
   "cell_type": "markdown",
   "metadata": {},
   "source": [
    "Now plotting the results and the hysteresis state "
   ]
  },
  {
   "cell_type": "code",
   "execution_count": null,
   "metadata": {},
   "outputs": [],
   "source": [
    "output_variables = [\n",
    "    \"X-averaged negative electrode secondary hysteresis state\",\n",
    "    \"Negative electrode secondary open-circuit potential [V]\",\n",
    "    \"Negative electrode secondary stoichiometry\",\n",
    "    \"Terminal voltage [V]\",\n",
    "    \"X-averaged negative electrode secondary open-circuit potential [V]\",\n",
    "]\n",
    "\n",
    "pybamm.QuickPlot(solution_dchs, output_variables=output_variables).plot(0)"
   ]
  },
  {
   "cell_type": "code",
   "execution_count": null,
   "metadata": {},
   "outputs": [],
   "source": [
    "output_variables = [\n",
    "    \"Terminal voltage [V]\",\n",
    "    \"Current [A]\",\n",
    "    \"Negative electrode secondary open-circuit potential [V]\",\n",
    "]\n",
    "pybamm.QuickPlot(\n",
    "    [solution_current_sigmoid, solution_dchs],\n",
    "    labels=[\"Current sigmoid\", \"DCHS\"],\n",
    "    output_variables=output_variables,\n",
    ").plot(1.5)"
   ]
  }
 ],
 "metadata": {
  "kernelspec": {
   "language": "python"
  },
  "language_info": {
   "codemirror_mode": {
    "name": "ipython",
    "version": 3
   },
   "file_extension": ".py",
   "mimetype": "text/x-python",
   "name": "python",
   "nbconvert_exporter": "python",
   "pygments_lexer": "ipython3"
  }
 },
 "nbformat": 4,
 "nbformat_minor": 2
}
