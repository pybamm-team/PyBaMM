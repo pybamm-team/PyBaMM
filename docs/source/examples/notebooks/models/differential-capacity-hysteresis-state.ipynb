{
 "cells": [
  {
   "cell_type": "markdown",
   "metadata": {},
   "source": [
    "# Differential Capacity Hysteresis State model"
   ]
  },
  {
   "cell_type": "code",
   "execution_count": null,
   "metadata": {},
   "outputs": [],
   "source": [
    "%pip install \"pybamm[plot,cite]\" -q    # install PyBaMM if it is not installed\n",
    "import pybamm"
   ]
  },
  {
   "cell_type": "markdown",
   "metadata": {},
   "source": [
    "## Model Equations\n",
    "\n",
    "Herein, we outline the equations for the Differential Capacity Hysteresis State open-circuit potential model, as described in Wycisk (2022), and the Hysteresis State open-circuit potential model, as described in Axen (2022).\n",
    "\n",
    "### Hysteresis State Variable (Wycisk)\n",
    "\n",
    "This approach utilizes a state variable to represent the degree of hysteresis at a given time and stoichiometry, $h(z,t)$. The hysteresis is treated separately from the open-circuit potential, where the potential of the electrode is written as\n",
    "\n",
    "$$ U = U_{avg}^0(z) + H(z) \\cdot h(z,t) - \\eta $$\n",
    "\n",
    "Where $H(z)$ is a function representing the hysteresis as a function of stoichiometry, $z$, and where $\\eta$ represents the sum of the overpotentials. $U_{avg}^0(z)$ is simply the average of the delithiation and lithiation open-circuit potential branches. $H(z)$ can be determined by finding the half-difference value between the lithiation and delithiation branches across the entire stoichiometry range. The state variable $h(z,t)$ is both stoichiometry and time-dependant, and spans between the range of -1 and 1. The hysteresis state variable $h(z,t)$ can be expressed in differential form with respect to time as\n",
    "\n",
    "$$ \\frac{dh(z,t)}{dt} = \\left(\\frac{k(z) \\cdot I(t)}{Q_{cell}}\\right)\\left(1-\\text{sgn}\\left(\\frac{dz(t)}{dt}\\right) h(z,t)\\right) $$\n",
    "\n",
    "where $ k(z) $ is expressed as \n",
    "\n",
    "$$ k(z) = K \\cdot \\frac{1}{\\left(C_{diff}\\left(z\\right)\\right)^{x}} $$\n",
    "\n",
    "And where $C_{diff}(z)$ is the differential capacity with respect to potential, expressed as \n",
    "\n",
    "$$ C_{diff}(z) = \\frac{dQ}{dU_{avg}^0(z)} $$\n",
    "\n",
    "Here, $Q$ is the capacity of the phase or active material experiencing the voltage hysteresis. The remaining parameters are $K$ and $x$ which are both fitting parameters that affect the response of the hysteresis state decay when passing charge in either direction.\n",
    "\n",
    "### Hysteresis State Variable (Axen)\n",
    "\n",
    "Similar to the Wycisk's approach, this method uses a state variable to combine the lithiation and delithiation branches of the open-circuit potential, which are measured empirically and are provided as input parameters to the model.\n",
    "\n",
    "The method reported by Axen (2022) defines the open-circuit potential as:\n",
    "\n",
    "$$ U = U_{delith} + (U_{lith} - U_{delith}) \\, h(z,t) $$\n",
    "\n",
    "which implies that $U$ moves towards the delithiation branch $U_{delith}$ when $h(z,t)$ approaches 0 and the lithiation branch $U_{lith}$ when $h(z,t)$ approaches 1. The corresponding ODE system is formulated as:\n",
    "\n",
    "$$ \\frac{dh(z,t)}{dt} = K_{lith} \\, \\frac{I_{cell}}{Q_{cell}} \\, (1 - h(z,t)) \\qquad \\text{for lithiation}$$\n",
    "$$ \\frac{dh(z,t)}{dt} = K_{delith} \\, \\frac{I_{cell}}{Q_{cell}} \\, h(z,t)^a \\qquad \\text{for delithiation}$$\n",
    "\n",
    "where $I_{cell}$ is the cell current, $Q_{cell}$ is the cell capacity, and $K_{lith}$ and $K_{delith}$ are the decay rates for lithiation and delithiation, respectively. The value of the exponent $a$ can be varied to best fit the problem at hand; at present we choose $a = 1$, but future implementations could include $a$ as an input parameter. It is important to highlight that in this form, we need to adjust the sign of the ODE system depending on whether the hysteresis occurs in the anode or in the cathode to align with the sign of the applied current $I_{cell}$.\n",
    "\n",
    "However, we desire an ODE system with a sign that is invariant to the change in the direction of the applied current. This is achieved by replacing $I_{cell}/Q_{cell}$ with $i_{vol} / (F \\, c_{max} \\, \\epsilon)$ to obtain a general expression that can be applied to both lithiation and delithiation, without the need of adjusting the sign of the formulation, with $a=1$:\n",
    "\n",
    "$$ \\frac{dh(z,t)}{dt} =  -K' \\, \\left(\\frac{1-\\text{sgn}(i_{vol})}{2} + \\text{sgn}(i_{vol}) \\, h(z,t)\\right)$$\n",
    "\n",
    "$$K' = \\frac{i_{vol}}{F \\, c_{max} \\, \\epsilon} \\, \\left( \\frac{1-\\text{sgn}(i_{vol})}{2} \\, K_{lith} + \\frac{1+\\text{sgn}(i_{vol})}{2} \\, K_{delith}\\right)$$\n",
    "\n",
    "where $i_{vol}$ is the volumetric interfacial current density of the active material particles showing hysteresis, which is always negative for lithiation and positive for delithiation, regardless of whether these particles are in the anode or in the cathode; $F$ is the Faraday constant, $c_{max}$ is the maximum lithium concentration in the particles and $\\epsilon$ is the active material volume fraction.\n",
    "\n",
    "The expression to calculate $U$ and the corresponding ODE system is further modified to ensure $h(z,t)$ varies between -1 and 1, thus assuming the same variation range as in the Wycisk's model.\n",
    "\n",
    "The modified equation for $U$ is written as:\n",
    "\n",
    "$$ U = U_{delith} + \\frac{(U_{lith} - U_{delith}) \\, (1 - h(z,t))}{2} $$\n",
    "\n",
    "In this expression, $U$ converges to $U_{lith}$ when $h(z,t)$ approaches -1 and $U_{delith}$ when $h(z,t)$ approaches 1.\n",
    "\n",
    "The modified ODE system is:\n",
    "\n",
    "$$ \\frac{dh(z,t)}{dt} = K' \\, (1 - \\text{sgn}(i_{vol}) \\, h(z,t))$$\n"
   ]
  },
  {
   "cell_type": "markdown",
   "metadata": {},
   "source": [
    "## Comparing the DCHS, HS and Current-Sigmoid model approaches\n",
    "\n",
    "The behavior of the DCHS and HS models is different than the current-sigmoid model approach for open-circuit potential in systems with hysteresis. Where the current-sigmoid model switches between hysteresis states simply based on the instantaneous current, the DCHS and HS models switch based on the amount of charge passed through the active material phase while also relying on the previous hysteresis state. To assess this differentiated performance, we will compare them to the current-sigmoid model by adapting the Chen2020_composite parameter set.\n",
    "\n",
    "First we generate the model, and specify the open-circuit potential methods for the negative and positive electrodes. To maintain consistency with the parameter set, two phases for the negative electrode will be defined."
   ]
  },
  {
   "cell_type": "code",
   "execution_count": null,
   "metadata": {},
   "outputs": [],
   "source": [
    "model_DCHS = pybamm.lithium_ion.DFN(\n",
    "    {\n",
    "        \"open-circuit potential\": ((\"single\", \"Wycisk\"), \"single\"),\n",
    "        \"particle phases\": (\"2\", \"1\"),\n",
    "    }\n",
    ")\n",
    "\n",
    "model_HS = pybamm.lithium_ion.DFN(\n",
    "    {\n",
    "        \"open-circuit potential\": ((\"single\", \"Axen\"), \"single\"),\n",
    "        \"particle phases\": (\"2\", \"1\"),\n",
    "    }\n",
    ")\n",
    "\n",
    "model_current_sigmoid = pybamm.lithium_ion.DFN(\n",
    "    {\n",
    "        \"open-circuit potential\": ((\"single\", \"current sigmoid\"), \"single\"),\n",
    "        \"particle phases\": (\"2\", \"1\"),\n",
    "    }\n",
    ")"
   ]
  },
  {
   "cell_type": "markdown",
   "metadata": {},
   "source": [
    "Next, lets define the modifications to the parameter set"
   ]
  },
  {
   "cell_type": "code",
   "execution_count": null,
   "metadata": {},
   "outputs": [],
   "source": [
    "parameters_DCHS = pybamm.ParameterValues(\"Chen2020_composite\")\n",
    "parameters_HS = pybamm.ParameterValues(\"Chen2020_composite\")\n",
    "parameters_current_sigmoid = pybamm.ParameterValues(\"Chen2020_composite\")\n",
    "\n",
    "\n",
    "# get the lithiation and delithiation functions\n",
    "lithiation_ocp = parameters_DCHS[\"Secondary: Negative electrode lithiation OCP [V]\"]\n",
    "delithiation_ocp = parameters_DCHS[\"Secondary: Negative electrode delithiation OCP [V]\"]\n",
    "\n",
    "\n",
    "# define an additional OCP function\n",
    "def ocp_avg(sto):\n",
    "    return (lithiation_ocp(sto) + delithiation_ocp(sto)) / 2\n",
    "\n",
    "\n",
    "# add additional parameters\n",
    "parameters_DCHS.update(\n",
    "    {\n",
    "        \"Secondary: Negative electrode OCP [V]\": ocp_avg,\n",
    "    },\n",
    "    check_already_exists=False,\n",
    ")"
   ]
  },
  {
   "cell_type": "markdown",
   "metadata": {},
   "source": [
    "Next, we need to add the additional parameters required by the model. In this example, $K_{lith} = K_{delith} = 100$ for the HS model, but it is recommended to test different values for the decay rate aiming for good agreement to experiment if the information is available, or a smooth transition between the lithiation and delithiation branches of the hysteresis. For example, depending on the case study, an acceptable value for $K_{lith}$ and $K_{delith}$ could be $10$ or lower."
   ]
  },
  {
   "cell_type": "code",
   "execution_count": null,
   "metadata": {},
   "outputs": [],
   "source": [
    "parameters_DCHS.update(\n",
    "    {\n",
    "        \"Secondary: Negative particle hysteresis decay rate\": 0.005,\n",
    "        \"Secondary: Negative particle hysteresis switching factor\": 10,\n",
    "        \"Secondary: Initial hysteresis state in negative electrode\": 0,\n",
    "    },\n",
    "    check_already_exists=False,\n",
    ")\n",
    "\n",
    "parameters_HS.update(\n",
    "    {\n",
    "        \"Secondary: Negative particle lithiation hysteresis decay rate\": 100,\n",
    "        \"Secondary: Negative particle delithiation hysteresis decay rate\": 100,\n",
    "        \"Secondary: Initial hysteresis state in negative electrode\": 0,\n",
    "    },\n",
    "    check_already_exists=False,\n",
    ")\n",
    "\n",
    "experiment = pybamm.Experiment(\n",
    "    [\n",
    "        (\"Discharge at 1C for 1 hour or until 2.5 V\", \"Rest for 15 minutes\"),\n",
    "        (\n",
    "            \"Charge at 1C until 4.2 V\",\n",
    "            \"Hold at 4.2 V until 0.05 C\",\n",
    "            \"Rest for 15 minutes\",\n",
    "        ),\n",
    "    ]\n",
    ")\n",
    "\n",
    "\n",
    "simulation_dchs = pybamm.Simulation(\n",
    "    model_DCHS, experiment=experiment, parameter_values=parameters_DCHS\n",
    ")\n",
    "solution_dchs = simulation_dchs.solve(calc_esoh=False)\n",
    "\n",
    "simulation_hs = pybamm.Simulation(\n",
    "    model_HS, experiment=experiment, parameter_values=parameters_HS\n",
    ")\n",
    "solution_hs = simulation_hs.solve(calc_esoh=False)\n",
    "\n",
    "simulation_current_sigmoid = pybamm.Simulation(\n",
    "    model_current_sigmoid,\n",
    "    experiment=experiment,\n",
    "    parameter_values=parameters_current_sigmoid,\n",
    ")\n",
    "\n",
    "solution_current_sigmoid = simulation_current_sigmoid.solve(calc_esoh=False)"
   ]
  },
  {
   "cell_type": "markdown",
   "metadata": {},
   "source": [
    "Now plotting the results and the hysteresis state."
   ]
  },
  {
   "cell_type": "code",
   "execution_count": null,
   "metadata": {},
   "outputs": [],
   "source": [
    "output_variables = [\n",
    "    \"X-averaged negative electrode secondary hysteresis state\",\n",
    "    \"Negative electrode secondary open-circuit potential [V]\",\n",
    "    \"Negative electrode secondary stoichiometry\",\n",
    "    \"Terminal voltage [V]\",\n",
    "    \"X-averaged negative electrode secondary open-circuit potential [V]\",\n",
    "]\n",
    "\n",
    "pybamm.QuickPlot(\n",
    "    [solution_dchs, solution_hs],\n",
    "    labels=[\"DCHS\", \"HS\"],\n",
    "    colors=[\"red\", \"black\"],\n",
    "    linestyles=[\"solid\", \"dashed\"],\n",
    "    output_variables=output_variables,\n",
    ").plot(0)"
   ]
  },
  {
   "cell_type": "code",
   "execution_count": null,
   "metadata": {},
   "outputs": [],
   "source": [
    "output_variables = [\n",
    "    \"Terminal voltage [V]\",\n",
    "    \"Current [A]\",\n",
    "    \"Negative electrode secondary open-circuit potential [V]\",\n",
    "]\n",
    "pybamm.QuickPlot(\n",
    "    [solution_current_sigmoid, solution_dchs, solution_hs],\n",
    "    labels=[\"Current sigmoid\", \"DCHS\", \"HS\"],\n",
    "    colors=[\"blue\", \"red\", \"black\"],\n",
    "    linestyles=[\"solid\", \"solid\", \"dashed\"],\n",
    "    output_variables=output_variables,\n",
    ").plot(1.5)"
   ]
  }
 ],
 "metadata": {
  "kernelspec": {
   "display_name": "Python 3 (ipykernel)",
   "language": "python",
   "name": "python3"
  },
  "language_info": {
   "codemirror_mode": {
    "name": "ipython",
    "version": 3
   },
   "file_extension": ".py",
   "mimetype": "text/x-python",
   "name": "python",
   "nbconvert_exporter": "python",
   "pygments_lexer": "ipython3",
   "version": "3.11.0rc1"
  }
 },
 "nbformat": 4,
 "nbformat_minor": 4
}
