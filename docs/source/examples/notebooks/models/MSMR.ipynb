{
 "cells": [
  {
   "attachments": {},
   "cell_type": "markdown",
   "metadata": {},
   "source": [
    "# Multi-Species Multi-Reaction model"
   ]
  },
  {
   "cell_type": "code",
   "execution_count": null,
   "metadata": {},
   "outputs": [],
   "source": [
    "%pip install \"pybamm[plot,cite]\" -q    # install PyBaMM if it is not installed\n",
    "import pybamm\n",
    "import matplotlib.pyplot as plt"
   ]
  },
  {
   "attachments": {},
   "cell_type": "markdown",
   "metadata": {},
   "source": [
    "## Model Equations\n",
    "\n",
    "Here we briefly outline the models used for the open-circuit potential, kinetics, and solid phase transport used in the MSMR model, as described in Baker and Verbrugge (2018). The remaining physics is modelled differently depending on which options are selected. By default, the rest of the battery model is as described in Maquis et al. (2019). In the following we give equations for a single electrode."
   ]
  },
  {
   "attachments": {},
   "cell_type": "markdown",
   "metadata": {},
   "source": [
    "### Thermodynamics\n",
    "The MSMR model is developed by assuming that all electrochemical reactions at the electrode/electrolyte interface in a lithium insertion cell can be expressed in the form \n",
    "$$ \\text{Li}^{+} + \\text{e}^{-} + \\text{H}_{j} \\rightleftharpoons  (\\text{Li--H})_{j}.$$\n",
    "For each species $j$, a vacant host site $\\text{H}_{j}$ can accommodate one lithium leading to a filled host site $(\\text{Li--H})_{j}$. The OCV for this reaction is written as\n",
    "$$ U_j = U_j^0 + \\frac{\\omega_j}{f}\\log\\left(\\frac{X_j - x_j}{x_j}\\right),$$\n",
    "where $f = F/(RT)$, and $R$, $T$, and $F$ are the universal gas constant, temperature in Kelvin, and Faraday’s constant, respectively. Here $X_j$ represents the total fraction of available host sites which can be occupied by species $j$, $x_j$ is the fraction of filled sites occupied by species $j$, $U_j^0$ is a concentration independent standard electrode potential, and the $\\omega_j$ is an unitless parameter that describes the level of disorder of the reaction represented by gallery $j$. \n",
    "\n",
    "The equation for each reaction can be inverted to give \n",
    "$$x_j = \\frac{X_j}{1+\\exp[f(U-U_j^0)/\\omega_j]}.$$\n",
    "The overall electrode state of charge is given by summing the fractional occupancies \n",
    "$$x = \\sum_j x_j = \\sum_j \\frac{X_j}{1+\\exp[f(U-U_j^0)/\\omega_j]},$$\n",
    "which is an explicit closed form expression for the inverse of the OCV. This is opposite to many battery models where one typically gives the OCV as an explicit function of the state of charge (or stoichiometry).\n",
    "\n",
    "At a particle interface with the electrolyte, local equilibrium requires that \n",
    "$$U_j = U(x) \\quad \\forall j.$$"
   ]
  },
  {
   "attachments": {},
   "cell_type": "markdown",
   "metadata": {},
   "source": [
    "### Kinetics\n",
    "The kinetics of the insertion reaction are given as\n",
    "$$i_j = i_{0,j}[e^{(1-\\alpha_j)f\\eta} - e^{-\\alpha_jf\\eta}], \\qquad i = \\sum_j i_j,$$\n",
    "where $i_j$ is the interfacial current associated with reaction $j$, $\\alpha_j$ is the symmetry factor, $\\eta$ is the overpotential, given by \n",
    "$$ \\eta = \\phi_s - \\phi_e - U(x),$$\n",
    "where $\\phi_s$ and $\\phi_e$ are the solid phase and electrolyte potentials, respectively, and $i_{0,j}$ is the exchange current density of reaction $j$, given by\n",
    "$$i_{0,j} = i_{0,j}^{ref}(x_j)^{\\omega_j\\alpha_j}(X_j-x_j)^{\\omega_j(1-\\alpha_j)}(c_e/c_e^{ref})^{1-\\alpha_j},$$\n",
    "where $c_e$ is the electrolyte concentration."
   ]
  },
  {
   "attachments": {},
   "cell_type": "markdown",
   "metadata": {},
   "source": [
    "### Solid phase transport\n",
    "Within the MSMR framework, the flux within the particles is expressed in terms of gradient of the chemical potential\n",
    "$$N = -c_{\\text{T}}x\\frac{D}{RT}\\nabla \\mu + x(N+N_{\\text{H}}),$$\n",
    "where $N$ is the flux of lithiated sites, $N_{\\text{H}}$ is the flux of unlithiated sites, $c_{\\text{T}}$ is the total concentration of lithiated and delithiated sites, and $D$ is a diffusion coefficient. Ignoring volumetric expansion during lithiation, the total flux of sites vanishes\n",
    "$$N+N_{\\text{H}}.$$ \n",
    "It can then be shown that \n",
    "$$N = c_{\\text{T}}fDx(1-x)\\frac{\\text{d}U}{\\text{d}x}\\nabla x.$$\n",
    "\n",
    "A mass balance in the solid phase then gives\n",
    "$$\\frac{\\partial x}{\\partial t} = -\\nabla\\cdot\\left(x(1-x)fD\\frac{\\text{d}U}{\\text{d}x}\\nabla x\\right),$$\n",
    "which, for a radially symmetric spherical particle, must be solved subject to the boundary conditions\n",
    "$$N\\big\\vert_{r=0} = 0, \\quad N\\big\\vert_{r=R} = \\frac{i}{F},$$\n",
    "where $R$ is the particle radius. This must be supplemented with a suitable initial condition for the electrode state of charge.\n",
    "\n",
    "Solution of this problem requires evaluate of the function $U(x)$ and the derivative $\\text{d}U/\\text{d}x$, but these functions cannot be explicitly integrated. This problem can be avoided by replacing the dependent variable $x$ with a new dependent variable $U$ subject to the transformation \n",
    "$$x = \\sum_j \\frac{X_j}{1+\\exp[f(U-U_j^0)/\\omega_j]}.$$\n",
    "This gives the following equation for mass balance within the particles\n",
    "$$\\frac{\\text{d}U}{\\text{d}x}\\frac{\\partial U}{\\partial t} = -\\nabla\\cdot\\left(x(1-x)fD\\nabla x\\right),$$\n",
    "\n",
    "which must be solved along with the transformed boundary and initial conditions."
   ]
  },
  {
   "attachments": {},
   "cell_type": "markdown",
   "metadata": {},
   "source": [
    "## Parameterization of the MSMR model\n",
    "The behaviour of MSMR model is characterised by the parameters $X_j$, $U^0_j$, $\\omega_j$, $\\alpha_j$, and $i_{0,j}^{ref}$. Let's take a look at their values in the example parameter set provided in PyBaMM. The thermodynamic parameter values are taken from Verbrugge et al. (2017) and correspond to a graphite negative electrode and NMC positive electrode. The remaining value are based on a parameterization of the LG M50 cell, from Chen et al. (2020).\n",
    "\n",
    "We first load in the MSMR model and specify the number of reactions in each electrode"
   ]
  },
  {
   "cell_type": "code",
   "execution_count": null,
   "metadata": {},
   "outputs": [],
   "source": [
    "model = pybamm.lithium_ion.MSMR({\"number of MSMR reactions\": (\"6\", \"4\")})"
   ]
  },
  {
   "attachments": {},
   "cell_type": "markdown",
   "metadata": {},
   "source": [
    "Then we can inspect the parameter values"
   ]
  },
  {
   "cell_type": "code",
   "execution_count": null,
   "metadata": {},
   "outputs": [],
   "source": [
    "parameter_values = model.default_parameter_values\n",
    "\n",
    "# Loop over domains\n",
    "for domain in [\"negative\", \"positive\"]:\n",
    "    print(f\"{domain} electrode:\")\n",
    "    d = domain[0]\n",
    "    # Loop over reactions\n",
    "    N = int(parameter_values[\"Number of reactions in \" + domain + \" electrode\"])\n",
    "    for i in range(N):\n",
    "        print(\n",
    "            f\"X_{d}_{i} = {parameter_values[f'X_{d}_{i}']}, \"\n",
    "            f\"U0_{d}_{i} = {parameter_values[f'U0_{d}_{i}']}, \"\n",
    "            f\"w_{d}_{i} = {parameter_values[f'w_{d}_{i}']}, \"\n",
    "            f\"a_{d}_{i} = {parameter_values[f'a_{d}_{i}']} \"\n",
    "            f\"j0_ref_{d}_{i} = {parameter_values[f'j0_ref_{d}_{i}']}\"\n",
    "        )"
   ]
  },
  {
   "attachments": {},
   "cell_type": "markdown",
   "metadata": {},
   "source": [
    "We can plot the functional form of the open-circuit potential $U$, fractional occupancies $x_j$, and exchange current densities $i_{0,j}$ as a function of stoichiometry $x$"
   ]
  },
  {
   "cell_type": "code",
   "execution_count": null,
   "metadata": {},
   "outputs": [],
   "source": [
    "# get symbolic parameters\n",
    "param = model.param\n",
    "param_n = param.n.prim\n",
    "param_p = param.p.prim\n",
    "\n",
    "# set up ranges for plotting\n",
    "U_n = pybamm.linspace(0.05, 1.1, 1000)\n",
    "U_p = pybamm.linspace(2.8, 4.4, 1000)\n",
    "\n",
    "# get reference electrolyte concentration and temperature\n",
    "c_e = param.c_e_init\n",
    "T = param.T_init\n",
    "\n",
    "# set up figure\n",
    "fig, ax = plt.subplots(3, 2, figsize=(10, 10))\n",
    "colors = [\"r\", \"g\", \"b\", \"c\", \"m\", \"y\"]\n",
    "\n",
    "# sto vs potential\n",
    "x_n = param_n.x(U_n, T)\n",
    "x_p = param_p.x(U_p, T)\n",
    "ax[0, 0].plot(parameter_values.evaluate(x_n), parameter_values.evaluate(U_n), \"k-\")\n",
    "ax[0, 1].plot(parameter_values.evaluate(x_p), parameter_values.evaluate(U_p), \"k-\")\n",
    "ax[0, 0].set_xlabel(\"x_n\")\n",
    "ax[0, 0].set_ylabel(\"U_n [V]\")\n",
    "ax[0, 1].set_xlabel(\"x_p\")\n",
    "ax[0, 1].set_ylabel(\"U_p [V]\")\n",
    "\n",
    "# fractional occupancy vs potential\n",
    "for i in range(6):\n",
    "    xj = param_n.x_j(U_n, T, i)\n",
    "    ax[1, 0].plot(\n",
    "        parameter_values.evaluate(x_n),\n",
    "        parameter_values.evaluate(xj),\n",
    "        color=colors[i],\n",
    "        label=f\"x_n_{i}\",\n",
    "    )\n",
    "ax[1, 0].set_xlabel(\"x_n\")\n",
    "ax[1, 0].set_ylabel(\"x_n_j\")\n",
    "ax[1, 0].legend()\n",
    "for i in range(4):\n",
    "    xj = param_p.x_j(U_p, T, i)\n",
    "    ax[1, 1].plot(\n",
    "        parameter_values.evaluate(x_p),\n",
    "        parameter_values.evaluate(xj),\n",
    "        color=colors[i],\n",
    "        label=f\"x_p_{i}\",\n",
    "    )\n",
    "ax[1, 1].set_xlabel(\"x_p\")\n",
    "ax[1, 1].set_ylabel(\"x_p_j\")\n",
    "ax[1, 1].legend()\n",
    "\n",
    "# exchange current density vs potential\n",
    "for i in range(6):\n",
    "    xj = param_n.x_j(U_n, T, i)\n",
    "    j0 = param_n.j0_j(c_e, U_n, T, i)\n",
    "    ax[2, 0].plot(\n",
    "        parameter_values.evaluate(x_n),\n",
    "        parameter_values.evaluate(j0),\n",
    "        color=colors[i],\n",
    "        label=f\"j0_n_{i}\",\n",
    "    )\n",
    "ax[2, 0].set_xlabel(\"x_n\")\n",
    "ax[2, 0].set_ylabel(\"j0_n_j [A.m-2]\")\n",
    "ax[2, 0].legend()\n",
    "for i in range(4):\n",
    "    xj = param_p.x_j(U_p, T, i)\n",
    "    j0 = param_p.j0_j(c_e, U_p, T, i)\n",
    "    ax[2, 1].plot(\n",
    "        parameter_values.evaluate(x_p),\n",
    "        parameter_values.evaluate(j0),\n",
    "        color=colors[i],\n",
    "        label=f\"j0_p_{i}\",\n",
    "    )\n",
    "ax[2, 1].set_ylim([0, 0.5])\n",
    "ax[2, 1].set_xlabel(\"x_p\")\n",
    "ax[2, 1].set_ylabel(\"j0_p_j [A.m-2]\")\n",
    "ax[2, 1].legend()\n",
    "\n",
    "plt.tight_layout()"
   ]
  },
  {
   "attachments": {},
   "cell_type": "markdown",
   "metadata": {},
   "source": [
    "## Example solving MSMR using PyBaMM\n",
    "Below we show how to set up and solve a CCCV experiment using the MSMR model in PyBaMM. We already created the model in the previous section, so we can go ahead and define our experiment, before creating and solving a simulation"
   ]
  },
  {
   "cell_type": "code",
   "execution_count": null,
   "metadata": {},
   "outputs": [],
   "source": [
    "experiment = pybamm.Experiment(\n",
    "    [\n",
    "        (\n",
    "            \"Discharge at 1C for 1 hour or until 3 V\",\n",
    "            \"Rest for 1 hour\",\n",
    "            \"Charge at C/3 until 4.2 V\",\n",
    "            \"Hold at 4.2 V until 10 mA\",\n",
    "            \"Rest for 1 hour\",\n",
    "        ),\n",
    "    ],\n",
    "    period=\"10 seconds\",\n",
    ")\n",
    "sim = pybamm.Simulation(model, experiment=experiment)\n",
    "sim.solve()"
   ]
  },
  {
   "attachments": {},
   "cell_type": "markdown",
   "metadata": {},
   "source": [
    "Finally we can plot the results. In the MSMR model we can look at both the potential and stoichiometry as a function of position through the electrode and within the particle"
   ]
  },
  {
   "cell_type": "code",
   "execution_count": null,
   "metadata": {},
   "outputs": [],
   "source": [
    "sim.plot(\n",
    "    [\n",
    "        \"Negative particle stoichiometry\",\n",
    "        \"Positive particle stoichiometry\",\n",
    "        \"X-averaged negative electrode open-circuit potential [V]\",\n",
    "        \"X-averaged positive electrode open-circuit potential [V]\",\n",
    "        \"Negative particle potential [V]\",\n",
    "        \"Positive particle potential [V]\",\n",
    "        \"Current [A]\",\n",
    "        \"Voltage [V]\",\n",
    "    ],\n",
    "    variable_limits=\"tight\",  # make axes tight to plot at each timestep\n",
    ")"
   ]
  },
  {
   "attachments": {},
   "cell_type": "markdown",
   "metadata": {},
   "source": [
    "We can also look at the individual reactions"
   ]
  },
  {
   "cell_type": "code",
   "execution_count": null,
   "metadata": {},
   "outputs": [],
   "source": [
    "xns = [\n",
    "    f\"Average x_n_{i}\" for i in range(6)\n",
    "]  # negative electrode reactions: x_n_0, x_n_1, ..., x_n_5\n",
    "xps = [\n",
    "    f\"Average x_p_{i}\" for i in range(4)\n",
    "]  # positive electrode reactions: x_p_0, x_p_1, ..., x_p_3\n",
    "sim.plot(\n",
    "    [\n",
    "        xns,\n",
    "        xps,\n",
    "        \"Current [A]\",\n",
    "        \"Negative electrode stoichiometry\",\n",
    "        \"Positive electrode stoichiometry\",\n",
    "        \"Voltage [V]\",\n",
    "    ]\n",
    ")"
   ]
  },
  {
   "attachments": {},
   "cell_type": "markdown",
   "metadata": {},
   "source": [
    "and plot how they sum to give the electrode stoichiometry "
   ]
  },
  {
   "cell_type": "code",
   "execution_count": null,
   "metadata": {},
   "outputs": [],
   "source": [
    "sol = sim.solution\n",
    "time = sol[\"Time [h]\"].data\n",
    "fig, ax = plt.subplots(1, 2, figsize=(8, 4))\n",
    "\n",
    "ax[0].plot(time, sol[\"Average negative particle stoichiometry\"].data, \"k-\", label=\"x_n\")\n",
    "bottom = 0\n",
    "for xn in xns:\n",
    "    top = bottom + sol[xn].data\n",
    "    ax[0].fill_between(time, bottom, top, label=xn[-4:])\n",
    "    bottom = top\n",
    "ax[0].set_xlabel(\"Time [h]\")\n",
    "ax[0].set_ylabel(\"x_n [-]\")\n",
    "ax[0].legend(loc=\"upper center\", bbox_to_anchor=(0.5, -0.15), ncol=3)\n",
    "ax[1].plot(time, sol[\"Average positive particle stoichiometry\"].data, \"k-\", label=\"x_p\")\n",
    "bottom = 0\n",
    "for xp in xps:\n",
    "    top = bottom + sol[xp].data\n",
    "    ax[1].fill_between(time, bottom, top, label=xp[-4:])\n",
    "    bottom = top\n",
    "ax[1].set_xlabel(\"Time [h]\")\n",
    "ax[1].set_ylabel(\"x_p [-]\")\n",
    "ax[1].legend(loc=\"upper center\", bbox_to_anchor=(0.5, -0.15), ncol=3)"
   ]
  },
  {
   "attachments": {},
   "cell_type": "markdown",
   "metadata": {},
   "source": [
    "## References\n",
    "\n",
    "The relevant papers for this notebook are:"
   ]
  },
  {
   "cell_type": "code",
   "execution_count": null,
   "metadata": {},
   "outputs": [],
   "source": [
    "pybamm.print_citations()"
   ]
  }
 ],
 "metadata": {
  "kernelspec": {
   "language": "python"
  },
  "language_info": {
   "codemirror_mode": {
    "name": "ipython",
    "version": 3
   },
   "file_extension": ".py",
   "mimetype": "text/x-python",
   "name": "python",
   "nbconvert_exporter": "python",
   "pygments_lexer": "ipython3"
  },
  "vscode": {
   "interpreter": {
    "hash": "9ff3d0c7e37de5f5aa47f4f719e4c84fc6cba7b39c571a05173422444e82fa58"
   }
  }
 },
 "nbformat": 4,
 "nbformat_minor": 2
}
