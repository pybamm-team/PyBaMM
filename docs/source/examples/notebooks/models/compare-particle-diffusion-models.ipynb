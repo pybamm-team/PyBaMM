{
 "cells": [
  {
   "attachments": {},
   "cell_type": "markdown",
   "metadata": {},
   "source": [
    "# Compare particle diffusion models\n",
    "In this notebook we compare the different models for mass transport within the electrode particles. For a full list of all the particle models, see the [documentation](https://docs.pybamm.org/en/latest/source/api/models/submodels/particle/index.html).\n",
    "\n",
    "With the \"Fickian diffusion\" option a diffusion equation is solved within the particle domain, with the boundary flux prescribed at the surface related to the local current density. Alternatively, one can assume a particular (polynomial) concentration profile within the particle (at present, this can be uniform, quadratic, or quartic). The \"uniform profile\" model assumes that the concentration inside the particle is uniform in space (and therefore equal to the surface concentration through the entire particle - in effect ignoring transport resistance within the particle), and solves an ODE for the average particle concentration. The \"quadratic profile\" model additionally solves an algebraic equation for the surface concentration, taking into account the effect of diffusion within the particle. Finally, the \"quartic profile\" model also solves for the average concentration gradient (the integral of $\\partial c/ \\partial r$) in the particle, giving a higher-order approximation to the concentration profile within the particle.\n",
    "\n",
    "As the exchange current density is a function of surface concentration, we can see the effect the choice of particle model has on the voltage profile arising from different overpotentials."
   ]
  },
  {
   "attachments": {},
   "cell_type": "markdown",
   "metadata": {},
   "source": [
    "First we import the packages we're going to use"
   ]
  },
  {
   "cell_type": "code",
   "execution_count": null,
   "metadata": {},
   "outputs": [],
   "source": [
    "%pip install \"pybamm[plot,cite]\" -q    # install PyBaMM if it is not installed\n",
    "import pybamm\n",
    "import os\n",
    "import numpy as np\n",
    "import matplotlib.pyplot as plt\n",
    "\n",
    "os.chdir(pybamm.__path__[0] + \"/..\")"
   ]
  },
  {
   "attachments": {},
   "cell_type": "markdown",
   "metadata": {},
   "source": [
    "We then create a list of models with the different particle diffusion submodels using the options functionality"
   ]
  },
  {
   "cell_type": "code",
   "execution_count": null,
   "metadata": {},
   "outputs": [],
   "source": [
    "particle_options = [\n",
    "    \"Fickian diffusion\",\n",
    "    \"uniform profile\",\n",
    "    \"quadratic profile\",\n",
    "    \"quartic profile\",\n",
    "]\n",
    "models = [\n",
    "    pybamm.lithium_ion.DFN(options={\"particle\": opt}, name=opt)\n",
    "    for opt in particle_options\n",
    "]"
   ]
  },
  {
   "attachments": {},
   "cell_type": "markdown",
   "metadata": {},
   "source": [
    "Next we set up simulations for each model with the current set as an input function. We will change this later to observe the effect on the different models."
   ]
  },
  {
   "cell_type": "code",
   "execution_count": null,
   "metadata": {},
   "outputs": [],
   "source": [
    "simulations = []\n",
    "for model in models:\n",
    "    param = model.default_parameter_values\n",
    "    param[\"Current function [A]\"] = \"[input]\"\n",
    "    simulations.append(pybamm.Simulation(model, parameter_values=param))"
   ]
  },
  {
   "cell_type": "code",
   "execution_count": null,
   "metadata": {},
   "outputs": [],
   "source": [
    "t_eval = np.linspace(0, 3600, 72)"
   ]
  },
  {
   "attachments": {},
   "cell_type": "markdown",
   "metadata": {},
   "source": [
    "First we run the simulations for each model with a current of 0.68A - this corresponds to a C-rate of about 1 with the standard cell size configured in the default parameters."
   ]
  },
  {
   "cell_type": "code",
   "execution_count": null,
   "metadata": {},
   "outputs": [],
   "source": [
    "solutions_1C = []\n",
    "for sim in simulations:\n",
    "    sim.solve(t_eval, inputs={\"Current function [A]\": 0.68})\n",
    "    solutions_1C.append(sim.solution)\n",
    "    print(f\"Particle model: {sim.model.name}\")\n",
    "    print(f\"Solve time: {sim.solution.solve_time}s\")"
   ]
  },
  {
   "attachments": {},
   "cell_type": "markdown",
   "metadata": {},
   "source": [
    "By not solving the diffusion problem in the particles explicitly, and instead assuming a polynomial profile, we can speed up the simulation."
   ]
  },
  {
   "cell_type": "code",
   "execution_count": null,
   "metadata": {},
   "outputs": [],
   "source": [
    "plt.figure(figsize=(15, 15))\n",
    "style = [\"k\", \"r*\", \"b^\", \"g--\"]\n",
    "for i in range(len(models)):\n",
    "    plt.plot(\n",
    "        solutions_1C[i][\"Time [s]\"].entries,\n",
    "        solutions_1C[i][\"Voltage [V]\"].entries,\n",
    "        style[i],\n",
    "        label=particle_options[i],\n",
    "    )\n",
    "plt.legend()\n",
    "plt.title(\"Model Comparison 1C\")\n",
    "plt.xlabel(\"Time [s]\")\n",
    "plt.ylabel(\"Voltage [V]\")\n",
    "plt.grid()"
   ]
  },
  {
   "attachments": {},
   "cell_type": "markdown",
   "metadata": {},
   "source": [
    "We can see that the Fickian, quadratic and quartic profiles agree very well and that the uniform profile over-predicts the cell voltage and capacity by ignoring this transport resistance. The only significant difference between the Fickian and quadratic models is on the first datapoint when transient effects after the initial state may differ. Observe what happens next when we increase the current."
   ]
  },
  {
   "cell_type": "code",
   "execution_count": null,
   "metadata": {},
   "outputs": [],
   "source": [
    "t_eval = np.linspace(0, 1800, 72)\n",
    "solutions_2C = []\n",
    "for sim in simulations:\n",
    "    sim.solve(t_eval, inputs={\"Current function [A]\": 2 * 0.68})\n",
    "    solutions_2C.append(sim.solution)"
   ]
  },
  {
   "cell_type": "code",
   "execution_count": null,
   "metadata": {},
   "outputs": [],
   "source": [
    "plt.figure(figsize=(15, 15))\n",
    "for i in range(len(models)):\n",
    "    plt.plot(\n",
    "        solutions_2C[i][\"Time [s]\"].entries,\n",
    "        solutions_2C[i][\"Voltage [V]\"].entries,\n",
    "        style[i],\n",
    "        label=particle_options[i],\n",
    "    )\n",
    "plt.legend()\n",
    "plt.title(\"Model Comparison 2C\")\n",
    "plt.xlabel(\"Time [s]\")\n",
    "plt.ylabel(\"Voltage [V]\")\n",
    "plt.grid()"
   ]
  },
  {
   "attachments": {},
   "cell_type": "markdown",
   "metadata": {},
   "source": [
    "The quadratic model is still much better at approximating Fickian diffusion and the relative error in the uniform model has increased. However, the initial error in the quadratic model has grown slightly. Increasing current even more will highlight the problem further. The quartic model is still providing an excellent match to the Fickian diffusion profile."
   ]
  },
  {
   "cell_type": "code",
   "execution_count": null,
   "metadata": {},
   "outputs": [],
   "source": [
    "t_eval = np.linspace(0, 360, 72)\n",
    "solutions_6C = []\n",
    "for sim in simulations:\n",
    "    sim.solve(t_eval, inputs={\"Current function [A]\": 6 * 0.68})\n",
    "    solutions_6C.append(sim.solution)"
   ]
  },
  {
   "cell_type": "code",
   "execution_count": null,
   "metadata": {},
   "outputs": [],
   "source": [
    "plt.figure(figsize=(15, 15))\n",
    "for i in range(len(models)):\n",
    "    plt.plot(\n",
    "        solutions_6C[i][\"Time [s]\"].entries,\n",
    "        solutions_6C[i][\"Voltage [V]\"].entries,\n",
    "        style[i],\n",
    "        label=particle_options[i],\n",
    "    )\n",
    "plt.legend()\n",
    "plt.title(\"Model Comparison 6C\")\n",
    "plt.xlabel(\"Time [s]\")\n",
    "plt.ylabel(\"Voltage [V]\")\n",
    "plt.grid()"
   ]
  },
  {
   "attachments": {},
   "cell_type": "markdown",
   "metadata": {},
   "source": [
    "Now the quadratic profile assumption begins to breakdown and that initial error propagates much further into the discharge. Happily the quartic model is higher-order and the match to the Fickian profile is still very good.\n",
    "\n",
    "Finally we can take a look at some of the internal states using PyBaMM's `dynamic_plot`"
   ]
  },
  {
   "cell_type": "code",
   "execution_count": null,
   "metadata": {},
   "outputs": [],
   "source": [
    "pybamm.dynamic_plot(solutions_6C);"
   ]
  },
  {
   "attachments": {},
   "cell_type": "markdown",
   "metadata": {},
   "source": [
    "## References\n",
    "\n",
    "The relevant papers for this notebook are:"
   ]
  },
  {
   "cell_type": "code",
   "execution_count": null,
   "metadata": {},
   "outputs": [],
   "source": [
    "pybamm.print_citations()"
   ]
  }
 ],
 "metadata": {
  "kernelspec": {
   "language": "python"
  },
  "language_info": {
   "codemirror_mode": {
    "name": "ipython",
    "version": 3
   },
   "file_extension": ".py",
   "mimetype": "text/x-python",
   "name": "python",
   "nbconvert_exporter": "python",
   "pygments_lexer": "ipython3"
  },
  "toc": {
   "base_numbering": 1,
   "nav_menu": {},
   "number_sections": true,
   "sideBar": true,
   "skip_h1_title": false,
   "title_cell": "Table of Contents",
   "title_sidebar": "Contents",
   "toc_cell": false,
   "toc_position": {},
   "toc_section_display": true,
   "toc_window_display": true
  }
 },
 "nbformat": 4,
 "nbformat_minor": 4
}
