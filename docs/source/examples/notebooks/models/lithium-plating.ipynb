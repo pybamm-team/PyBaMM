{
 "cells": [
  {
   "cell_type": "markdown",
   "metadata": {},
   "source": [
    "# Modelling lithium plating in PyBaMM\n",
    "\n",
    "This notebook shows how PyBaMM [8] can be used to model both reversible and irreversible lithium plating."
   ]
  },
  {
   "cell_type": "code",
   "execution_count": null,
   "metadata": {},
   "outputs": [],
   "source": [
    "%pip install \"pybamm[plot,cite]\" -q    # install PyBaMM if it is not installed\n",
    "import pybamm\n",
    "import os\n",
    "\n",
    "os.chdir(pybamm.__path__[0] + \"/..\")"
   ]
  },
  {
   "cell_type": "markdown",
   "metadata": {},
   "source": [
    "The Doyle-Fuller-Newman model [3] is upgraded with three different lithium plating models. Model 1 contains the reversible lithium plating model of O'Kane et al. [5]. Model 2 contains the same model but with the lithium stripping capability removed, making the plating irreversible. Model 3 contains the updated partially reversible plating of O'Kane et al. [6]. The parameters are taken from Chen et al.'s investigation [2] of an LG M50 cell."
   ]
  },
  {
   "cell_type": "code",
   "execution_count": null,
   "metadata": {},
   "outputs": [],
   "source": [
    "# choose models\n",
    "plating_options = [\"reversible\", \"irreversible\", \"partially reversible\"]\n",
    "models = {\n",
    "    option: pybamm.lithium_ion.DFN(options={\"lithium plating\": option}, name=option)\n",
    "    for option in plating_options\n",
    "}\n",
    "\n",
    "# pick parameters\n",
    "parameter_values = pybamm.ParameterValues(\"OKane2022\")\n",
    "parameter_values.update({\"Ambient temperature [K]\": 268.15})\n",
    "parameter_values.update({\"Upper voltage cut-off [V]\": 4.21})\n",
    "# parameter_values.update({\"Lithium plating kinetic rate constant [m.s-1]\": 1E-9})\n",
    "parameter_values.update({\"Lithium plating transfer coefficient\": 0.5})\n",
    "parameter_values.update({\"Dead lithium decay constant [s-1]\": 1e-4})"
   ]
  },
  {
   "cell_type": "markdown",
   "metadata": {},
   "source": [
    "A series of simple fast charging experiments based on those of Ren et al. [7] is defined here. We first initialise the model at 0% SoC by performing a C/20 discharge (see more details on how to initialise a model from a simulation in [this notebook](../initialize-model-with-solution.ipynb))."
   ]
  },
  {
   "cell_type": "code",
   "execution_count": null,
   "metadata": {},
   "outputs": [],
   "source": [
    "# specify experiments\n",
    "pybamm.citations.register(\"Ren2018\")\n",
    "\n",
    "s = pybamm.step.string\n",
    "experiment_discharge = pybamm.Experiment(\n",
    "    [\n",
    "        (\n",
    "            s(\"Discharge at C/20 until 2.5 V\", period=\"10 minutes\"),\n",
    "            s(\"Rest for 1 hour\", period=\"3 minutes\"),\n",
    "        ),\n",
    "    ]\n",
    ")\n",
    "\n",
    "sims_discharge = []\n",
    "for model in models.values():\n",
    "    sim_discharge = pybamm.Simulation(\n",
    "        model, parameter_values=parameter_values, experiment=experiment_discharge\n",
    "    )\n",
    "    sol_discharge = sim_discharge.solve(calc_esoh=False)\n",
    "    model.set_initial_conditions_from(sol_discharge, inplace=True)\n",
    "    sims_discharge.append(sim_discharge)"
   ]
  },
  {
   "cell_type": "markdown",
   "metadata": {},
   "source": [
    "And we can now define the different experiments to charge at different C-rates."
   ]
  },
  {
   "cell_type": "code",
   "execution_count": null,
   "metadata": {},
   "outputs": [],
   "source": [
    "C_rates = [\"2C\", \"1C\", \"C/2\", \"C/4\", \"C/8\"]\n",
    "experiments = {}\n",
    "for C_rate in C_rates:\n",
    "    experiments[C_rate] = pybamm.Experiment(\n",
    "        [\n",
    "            (\n",
    "                f\"Charge at {C_rate} until 4.2 V\",\n",
    "                \"Hold at 4.2 V until C/20\",\n",
    "                \"Rest for 1 hour\",\n",
    "            )\n",
    "        ]\n",
    "    )"
   ]
  },
  {
   "cell_type": "markdown",
   "metadata": {},
   "source": [
    "Solve the reversible plating model first. The default CasADi [1] solver is used here."
   ]
  },
  {
   "cell_type": "code",
   "execution_count": null,
   "metadata": {},
   "outputs": [],
   "source": [
    "def define_and_solve_sims(model, experiments, parameter_values):\n",
    "    sims = {}\n",
    "    for C_rate, experiment in experiments.items():\n",
    "        sim = pybamm.Simulation(\n",
    "            model, experiment=experiment, parameter_values=parameter_values\n",
    "        )\n",
    "        sim.solve(calc_esoh=False)\n",
    "        sims[C_rate] = sim\n",
    "\n",
    "    return sims\n",
    "\n",
    "\n",
    "sims_reversible = define_and_solve_sims(\n",
    "    models[\"reversible\"], experiments, parameter_values\n",
    ")"
   ]
  },
  {
   "cell_type": "code",
   "execution_count": null,
   "metadata": {},
   "outputs": [],
   "source": [
    "colors = [\"tab:purple\", \"tab:cyan\", \"tab:red\", \"tab:green\", \"tab:blue\"]\n",
    "linestyles = [\"dashed\", \"dotted\", \"solid\"]\n",
    "\n",
    "param = models[\"reversible\"].param\n",
    "A = parameter_values.evaluate(param.L_y * param.L_z)\n",
    "F = parameter_values.evaluate(param.F)\n",
    "L_n = parameter_values.evaluate(param.n.L)\n",
    "\n",
    "currents = [\n",
    "    \"X-averaged negative electrode volumetric interfacial current density [A.m-3]\",\n",
    "    \"X-averaged negative electrode lithium plating volumetric interfacial current density [A.m-3]\",\n",
    "    \"Sum of x-averaged negative electrode volumetric interfacial current densities [A.m-3]\",\n",
    "]\n",
    "\n",
    "\n",
    "def plot(sims):\n",
    "    import matplotlib.pyplot as plt\n",
    "\n",
    "    fig, axs = plt.subplots(2, 2, figsize=(13, 9))\n",
    "    for (C_rate, sim), color in zip(sims.items(), colors):\n",
    "        # Isolate final equilibration phase\n",
    "        sol = sim.solution.cycles[0].steps[2]\n",
    "\n",
    "        # Voltage vs time\n",
    "        t = sol[\"Time [min]\"].entries\n",
    "        t = t - t[0]\n",
    "        V = sol[\"Voltage [V]\"].entries\n",
    "        axs[0, 0].plot(t, V, color=color, linestyle=\"solid\", label=C_rate)\n",
    "\n",
    "        # Currents\n",
    "        for current, ls in zip(currents, linestyles):\n",
    "            j = sol[current].entries\n",
    "            axs[0, 1].plot(t, j, color=color, linestyle=ls)\n",
    "\n",
    "        # Plated lithium capacity\n",
    "        Q_Li = sol[\"Loss of capacity to negative lithium plating [A.h]\"].entries\n",
    "        axs[1, 0].plot(t, Q_Li, color=color, linestyle=\"solid\")\n",
    "\n",
    "        # Capacity vs time\n",
    "        Q_main = (\n",
    "            sol[\"Negative electrode volume-averaged concentration [mol.m-3]\"].entries\n",
    "            * F\n",
    "            * A\n",
    "            * L_n\n",
    "            / 3600\n",
    "        )\n",
    "        axs[1, 1].plot(t, Q_main, color=color, linestyle=\"solid\")\n",
    "\n",
    "    axs[0, 0].legend()\n",
    "    axs[0, 0].set_ylabel(\"Voltage [V]\")\n",
    "    axs[0, 1].set_ylabel(\"Volumetric interfacial current density [A.m-3]\")\n",
    "    axs[0, 1].legend((\"Deintercalation current\", \"Stripping current\", \"Total current\"))\n",
    "    axs[1, 0].set_ylabel(\"Plated lithium capacity [A.h]\")\n",
    "    axs[1, 1].set_ylabel(\"Intercalated lithium capacity [A.h]\")\n",
    "\n",
    "    for ax in axs.flat:\n",
    "        ax.set_xlabel(\"Time [minutes]\")\n",
    "\n",
    "    fig.tight_layout()\n",
    "\n",
    "    return fig, axs\n",
    "\n",
    "\n",
    "plot(sims_reversible);"
   ]
  },
  {
   "cell_type": "markdown",
   "metadata": {},
   "source": [
    "The results show both similarities and differences with those of Ren et al. [7]. Notably, unlike Ren et al., this model uses equations [5] that result in a small but finite amount of plated lithium being present in the steady state."
   ]
  },
  {
   "cell_type": "markdown",
   "metadata": {},
   "source": [
    "Now solve the irreversible plating model and see how it compares."
   ]
  },
  {
   "cell_type": "code",
   "execution_count": null,
   "metadata": {},
   "outputs": [],
   "source": [
    "sims_irreversible = define_and_solve_sims(\n",
    "    models[\"irreversible\"], experiments, parameter_values\n",
    ")"
   ]
  },
  {
   "cell_type": "code",
   "execution_count": null,
   "metadata": {},
   "outputs": [],
   "source": [
    "plot(sims_irreversible);"
   ]
  },
  {
   "cell_type": "markdown",
   "metadata": {},
   "source": [
    "Unlike in the reversible case, there is no steady state and the capacity degrades quickly. The lithium inventory decreases by around 40 mAh in just an hour, which is unrealistic. The low temperature fast charge simulations are run one more time, with the partially reversible plating model."
   ]
  },
  {
   "cell_type": "code",
   "execution_count": null,
   "metadata": {},
   "outputs": [],
   "source": [
    "sims_partially_reversible = define_and_solve_sims(\n",
    "    models[\"partially reversible\"], experiments, parameter_values\n",
    ")"
   ]
  },
  {
   "cell_type": "code",
   "execution_count": null,
   "metadata": {},
   "outputs": [],
   "source": [
    "plot(sims_partially_reversible);"
   ]
  },
  {
   "cell_type": "markdown",
   "metadata": {},
   "source": [
    "The partially reversible plating model has features of both the reversible and irreversible models, which is reflected in the results. The plated lithium capacity decreases with time as lithium is reversibly stripped, but the final plated lithium capacity now depends on charge rate, indicating that some lithium was irreversibly plated during charge."
   ]
  },
  {
   "cell_type": "markdown",
   "metadata": {},
   "source": [
    "# References"
   ]
  },
  {
   "cell_type": "code",
   "execution_count": null,
   "metadata": {},
   "outputs": [],
   "source": [
    "pybamm.print_citations()"
   ]
  }
 ],
 "metadata": {
  "kernelspec": {
   "language": "python"
  },
  "language_info": {
   "codemirror_mode": {
    "name": "ipython",
    "version": 3
   },
   "file_extension": ".py",
   "mimetype": "text/x-python",
   "name": "python",
   "nbconvert_exporter": "python",
   "pygments_lexer": "ipython3"
  },
  "toc": {
   "base_numbering": 1,
   "nav_menu": {},
   "number_sections": true,
   "sideBar": true,
   "skip_h1_title": false,
   "title_cell": "Table of Contents",
   "title_sidebar": "Contents",
   "toc_cell": false,
   "toc_position": {},
   "toc_section_display": true,
   "toc_window_display": true
  },
  "vscode": {
   "interpreter": {
    "hash": "187972e187ab8dfbecfab9e8e194ae6d08262b2d51a54fa40644e3ddb6b5f74c"
   }
  }
 },
 "nbformat": 4,
 "nbformat_minor": 4
}
