{
 "cells": [
  {
   "cell_type": "markdown",
   "metadata": {},
   "source": [
    "# Custom experiments"
   ]
  },
  {
   "cell_type": "code",
   "execution_count": null,
   "metadata": {},
   "outputs": [],
   "source": [
    "%pip install \"pybamm[plot,cite]\" -q    # install PyBaMM if it is not installed\n",
    "import pybamm"
   ]
  },
  {
   "cell_type": "markdown",
   "metadata": {},
   "source": [
    "## Custom termination\n",
    "\n",
    "Termination of a step can be specified using a few standard strings (e.g. \"4.2V\" for voltage, \"1 A\" for current, \"C/2\" for C-rate), or via a custom termination step. The custom termination step can be specified based on any variable in the model.\n",
    "Below, we show an example where we specify a custom termination step based on keeping the anode potential above 0V, which is a common limit used to avoid lithium plating,"
   ]
  },
  {
   "cell_type": "code",
   "execution_count": null,
   "metadata": {},
   "outputs": [],
   "source": [
    "# Set up model and parameters\n",
    "model = pybamm.lithium_ion.DFN()\n",
    "# add anode potential as a variable\n",
    "# we use the potential at the separator interface since that is the minimum potential\n",
    "# during charging (plating is most likely to occur first at the separator interface)\n",
    "model.variables[\"Anode potential [V]\"] = model.variables[\n",
    "    \"Negative electrode surface potential difference at separator interface [V]\"\n",
    "]\n",
    "parameter_values = pybamm.ParameterValues(\"Chen2020\")\n",
    "\n",
    "\n",
    "# Create a custom termination event for the anode potential cut-off at 0.02V\n",
    "# We use 0.02V instead of 0V to give a safety factor\n",
    "def anode_potential_cutoff(variables):\n",
    "    return variables[\"Anode potential [V]\"] - 0.02\n",
    "\n",
    "\n",
    "# The CustomTermination class takes a name and function\n",
    "anode_potential_termination = pybamm.step.CustomTermination(\n",
    "    name=\"Anode potential cut-off [V]\", event_function=anode_potential_cutoff\n",
    ")\n",
    "\n",
    "# Provide a list of termination events, each step will stop whenever the first\n",
    "# termination event is reached\n",
    "terminations = [anode_potential_termination, \"4.2V\"]\n",
    "\n",
    "# Set up multi-step CC experiment with the customer terminations followed\n",
    "# by a voltage hold\n",
    "experiment = pybamm.Experiment(\n",
    "    [\n",
    "        (\n",
    "            pybamm.step.c_rate(-1, termination=terminations),\n",
    "            pybamm.step.c_rate(-0.5, termination=terminations),\n",
    "            pybamm.step.c_rate(-0.25, termination=terminations),\n",
    "            \"Hold at 4.2V until C/50\",\n",
    "        )\n",
    "    ]\n",
    ")\n",
    "\n",
    "# Set up simulation\n",
    "sim = pybamm.Simulation(model, parameter_values=parameter_values, experiment=experiment)\n",
    "\n",
    "# for a charge we start as SOC 0\n",
    "sim.solve(initial_soc=0)"
   ]
  },
  {
   "cell_type": "code",
   "execution_count": null,
   "metadata": {},
   "outputs": [],
   "source": [
    "# Plot\n",
    "plot = pybamm.QuickPlot(\n",
    "    sim.solution, [\"Current [A]\", \"Voltage [V]\", \"Anode potential [V]\"]\n",
    ")\n",
    "plot.plot(0)\n",
    "\n",
    "# Plot the limits used in the termination events to check they are not surpassed\n",
    "plot.axes.by_variable(\"Voltage [V]\").axhline(4.2, color=\"k\", linestyle=\":\")\n",
    "plot.axes.by_variable(\"Anode potential [V]\").axhline(0.02, color=\"k\", linestyle=\":\")"
   ]
  },
  {
   "cell_type": "markdown",
   "metadata": {},
   "source": [
    "We can check which events were reached by each step"
   ]
  },
  {
   "cell_type": "code",
   "execution_count": null,
   "metadata": {},
   "outputs": [],
   "source": [
    "for i, step in enumerate(sim.solution.cycles[0].steps):\n",
    "    print(f\"Step {i}: {step.termination}\")"
   ]
  },
  {
   "cell_type": "markdown",
   "metadata": {},
   "source": [
    "## Custom steps\n",
    "\n",
    "Custom steps can be defined using either explicit or implicit control. In explicit control, the user specifies the current explicitly as a function of other variables in the model. "
   ]
  },
  {
   "cell_type": "code",
   "execution_count": null,
   "metadata": {},
   "outputs": [],
   "source": [
    "def custom_step_power(variables):\n",
    "    target_power = 4\n",
    "    voltage = variables[\"Voltage [V]\"]\n",
    "    return target_power / voltage\n",
    "\n",
    "\n",
    "# Run for 10 minutes and plot\n",
    "step = pybamm.step.CustomStepExplicit(custom_step_power, duration=600)\n",
    "sol = pybamm.Simulation(\n",
    "    model, experiment=step, parameter_values=parameter_values\n",
    ").solve()\n",
    "pybamm.QuickPlot(sol, [\"Current [A]\", \"Voltage [V]\", \"Power [W]\"]).plot(0)"
   ]
  },
  {
   "cell_type": "markdown",
   "metadata": {},
   "source": [
    "For custom steps to work with voltage-based termination, we have to specify whether the step is a charge or discharge step. This is done by setting the `direction` attribute of the step to either \"charge\" or \"discharge\""
   ]
  },
  {
   "cell_type": "code",
   "execution_count": null,
   "metadata": {},
   "outputs": [],
   "source": [
    "step = pybamm.step.CustomStepExplicit(\n",
    "    custom_step_power, termination=\"2.5V\", direction=\"discharge\"\n",
    ")\n",
    "sol = pybamm.Simulation(\n",
    "    model, experiment=step, parameter_values=parameter_values\n",
    ").solve()\n",
    "pybamm.QuickPlot(sol, [\"Current [A]\", \"Voltage [V]\", \"Power [W]\"]).plot(0)"
   ]
  },
  {
   "cell_type": "markdown",
   "metadata": {},
   "source": [
    "Be careful not to create an expression that depends on the current itself, as this will lead to a circular dependency. For example, in some models, the voltage is an explicit function of the current, so the user should not create a step that depends on the voltage. An expression that works for one model may not work for another."
   ]
  },
  {
   "cell_type": "markdown",
   "metadata": {},
   "source": [
    "We can also specify a custom step using implicit control. This comes with \"algebraic\" or \"differential\" control. In algebraic control (the default), the user specifies the equation that must be satisfied at all times, and the model adjusts the current to satisfy this equation. "
   ]
  },
  {
   "cell_type": "code",
   "execution_count": null,
   "metadata": {},
   "outputs": [],
   "source": [
    "def constant_voltage(variables):\n",
    "    return variables[\"Voltage [V]\"] - 3.8\n",
    "\n",
    "\n",
    "step = pybamm.step.CustomStepImplicit(constant_voltage, duration=600)\n",
    "sol = pybamm.Simulation(\n",
    "    model, experiment=step, parameter_values=parameter_values\n",
    ").solve()\n",
    "pybamm.QuickPlot(sol, [\"Current [A]\", \"Voltage [V]\"]).plot(0)"
   ]
  },
  {
   "cell_type": "markdown",
   "metadata": {},
   "source": [
    "In differential control, the user specifies the derivative of the current."
   ]
  },
  {
   "cell_type": "code",
   "execution_count": null,
   "metadata": {},
   "outputs": [],
   "source": [
    "def custom_voltage(variables):\n",
    "    return 100 * (variables[\"Voltage [V]\"] - 3.8)\n",
    "\n",
    "\n",
    "step = pybamm.step.CustomStepImplicit(\n",
    "    custom_voltage, duration=600, period=10, control=\"differential\"\n",
    ")\n",
    "sol = pybamm.Simulation(model, experiment=step).solve()\n",
    "pybamm.QuickPlot(sol, [\"Current [A]\", \"Voltage [V]\"]).plot(0)"
   ]
  },
  {
   "cell_type": "markdown",
   "metadata": {},
   "source": [
    "## Combining custom steps and termination\n",
    "\n",
    "We now show a full example combining custom steps and termination to charge a battery until the anode potential reaches 0.02V, then ride the 0.02V plateau until the voltage reaches the cut-off voltage, then finish charging with constant voltage"
   ]
  },
  {
   "cell_type": "code",
   "execution_count": null,
   "metadata": {},
   "outputs": [],
   "source": [
    "# Create a function for the anode potential cut-off at 0.02V\n",
    "def anode_potential_cutoff(variables):\n",
    "    return variables[\"Anode potential [V]\"] - 0.02\n",
    "\n",
    "\n",
    "# We can reuse the same function to create both the termination event and the step\n",
    "anode_potential_step = pybamm.step.CustomStepImplicit(\n",
    "    anode_potential_cutoff, direction=\"charge\", termination=\"4.2V\"\n",
    ")\n",
    "anode_potential_termination = pybamm.step.CustomTermination(\n",
    "    name=\"Anode potential cut-off [V]\", event_function=anode_potential_cutoff\n",
    ")\n",
    "\n",
    "\n",
    "# Charge with constant current, then constant anode potential, then constant voltage\n",
    "def run_experiment(c_rate):\n",
    "    # Create the experiment\n",
    "    experiment = pybamm.Experiment(\n",
    "        [\n",
    "            (\n",
    "                # include the 4.2V termination event in case the anode potential cut-off is not reached\n",
    "                pybamm.step.c_rate(\n",
    "                    -c_rate, termination=[anode_potential_termination, \"4.2V\"]\n",
    "                ),\n",
    "                anode_potential_step,\n",
    "                \"Hold at 4.2V until C/50\",\n",
    "            )\n",
    "        ]\n",
    "    )\n",
    "\n",
    "    sim = pybamm.Simulation(\n",
    "        model, parameter_values=parameter_values, experiment=experiment\n",
    "    )\n",
    "\n",
    "    # for a charge we start as SOC 0\n",
    "    sim.solve(initial_soc=0)\n",
    "\n",
    "    # Plot\n",
    "    pybamm.QuickPlot(\n",
    "        sim.solution, [\"Current [A]\", \"Voltage [V]\", \"Anode potential [V]\"]\n",
    "    ).plot(0)\n",
    "\n",
    "\n",
    "run_experiment(c_rate=1)"
   ]
  },
  {
   "cell_type": "markdown",
   "metadata": {},
   "source": [
    "If we never hit the anode potential cut-off, that step is skipped and we go straight to constant voltage"
   ]
  },
  {
   "cell_type": "code",
   "execution_count": null,
   "metadata": {},
   "outputs": [],
   "source": [
    "run_experiment(c_rate=0.2)"
   ]
  },
  {
   "cell_type": "markdown",
   "metadata": {},
   "source": [
    "## References\n",
    "\n",
    "The relevant papers for this notebook are:"
   ]
  },
  {
   "cell_type": "code",
   "execution_count": null,
   "metadata": {},
   "outputs": [],
   "source": [
    "pybamm.print_citations()"
   ]
  },
  {
   "cell_type": "code",
   "execution_count": null,
   "metadata": {},
   "outputs": [],
   "source": []
  }
 ],
 "metadata": {
  "kernelspec": {
   "display_name": "pybamm",
   "language": "python",
   "name": "python3"
  },
  "language_info": {
   "codemirror_mode": {
    "name": "ipython",
    "version": 3
   },
   "file_extension": ".py",
   "mimetype": "text/x-python",
   "name": "python",
   "nbconvert_exporter": "python",
   "pygments_lexer": "ipython3",
   "version": "3.11.8"
  }
 },
 "nbformat": 4,
 "nbformat_minor": 2
}
