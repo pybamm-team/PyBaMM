{
 "cells": [
  {
   "attachments": {},
   "cell_type": "markdown",
   "id": "regional-bedroom",
   "metadata": {},
   "source": [
    "# Simulating long experiments"
   ]
  },
  {
   "attachments": {},
   "cell_type": "markdown",
   "id": "quantitative-radar",
   "metadata": {},
   "source": [
    "This notebook introduces functionality for simulating experiments over hundreds or even thousands of cycles. "
   ]
  },
  {
   "cell_type": "code",
   "execution_count": null,
   "id": "novel-spectacular",
   "metadata": {},
   "outputs": [],
   "source": [
    "%pip install \"pybamm[plot,cite]\" -q    # install PyBaMM if it is not installed\n",
    "import pybamm\n",
    "import matplotlib.pyplot as plt"
   ]
  },
  {
   "attachments": {},
   "cell_type": "markdown",
   "id": "mounted-seven",
   "metadata": {},
   "source": [
    "## Simulating long experiments"
   ]
  },
  {
   "attachments": {},
   "cell_type": "markdown",
   "id": "chronic-consensus",
   "metadata": {},
   "source": [
    "In the interest of simplicity and running time, we consider a SPM with SEI effects leading to linear degradation, with parameter values chosen so that the capacity fades by 20% in just a few cycles"
   ]
  },
  {
   "cell_type": "code",
   "execution_count": null,
   "id": "limiting-making",
   "metadata": {},
   "outputs": [],
   "source": [
    "parameter_values = pybamm.ParameterValues(\"Mohtat2020\")\n",
    "parameter_values.update({\"SEI kinetic rate constant [m.s-1]\": 1e-14})\n",
    "spm = pybamm.lithium_ion.SPM({\"SEI\": \"ec reaction limited\"})"
   ]
  },
  {
   "attachments": {},
   "cell_type": "markdown",
   "id": "compact-teddy",
   "metadata": {},
   "source": [
    "We initialize the concentration in each electrode at 100% State of Charge"
   ]
  },
  {
   "cell_type": "code",
   "execution_count": null,
   "id": "photographic-sussex",
   "metadata": {},
   "outputs": [],
   "source": [
    "# Calculate stoichiometries at 100% SOC\n",
    "parameter_values.set_initial_stoichiometries(1);"
   ]
  },
  {
   "attachments": {},
   "cell_type": "markdown",
   "id": "focused-substitute",
   "metadata": {},
   "source": [
    "We can now simulate a single CCCV cycle using the `Experiment` class (see [this notebook](https://github.com/pybamm-team/PyBaMM/blob/develop/docs/source/examples/notebooks/getting_started/tutorial-5-run-experiments.ipynb) for more details)"
   ]
  },
  {
   "cell_type": "code",
   "execution_count": null,
   "id": "religious-primary",
   "metadata": {},
   "outputs": [],
   "source": [
    "pybamm.set_logging_level(\"NOTICE\")\n",
    "\n",
    "experiment = pybamm.Experiment(\n",
    "    [\n",
    "        (\n",
    "            \"Discharge at 1C until 3V\",\n",
    "            \"Rest for 1 hour\",\n",
    "            \"Charge at 1C until 4.2V\",\n",
    "            \"Hold at 4.2V until C/50\",\n",
    "        )\n",
    "    ]\n",
    ")\n",
    "sim = pybamm.Simulation(spm, experiment=experiment, parameter_values=parameter_values)\n",
    "sol = sim.solve()"
   ]
  },
  {
   "attachments": {},
   "cell_type": "markdown",
   "id": "heavy-crisis",
   "metadata": {},
   "source": [
    "Alternatively, we can simulate many CCCV cycles. Here we simulate either 100 cycles or until the capacity is 80% of the initial capacity, whichever is first. The capacity is calculated by the eSOH model"
   ]
  },
  {
   "cell_type": "code",
   "execution_count": null,
   "id": "stupid-abortion",
   "metadata": {
    "tags": [
     "outputPrepend"
    ]
   },
   "outputs": [],
   "source": [
    "experiment = pybamm.Experiment(\n",
    "    [\n",
    "        (\n",
    "            \"Discharge at 1C until 3V\",\n",
    "            \"Rest for 1 hour\",\n",
    "            \"Charge at 1C until 4.2V\",\n",
    "            \"Hold at 4.2V until C/50\",\n",
    "        )\n",
    "    ]\n",
    "    * 500,\n",
    "    termination=\"80% capacity\",\n",
    ")\n",
    "sim = pybamm.Simulation(spm, experiment=experiment, parameter_values=parameter_values)\n",
    "sol = sim.solve()"
   ]
  },
  {
   "attachments": {},
   "cell_type": "markdown",
   "id": "cloudy-lover",
   "metadata": {},
   "source": [
    "### Summary variables"
   ]
  },
  {
   "attachments": {},
   "cell_type": "markdown",
   "id": "shared-practitioner",
   "metadata": {},
   "source": [
    "We can plot standard variables like the current and voltage, but it isn't very instructive on these timescales"
   ]
  },
  {
   "cell_type": "code",
   "execution_count": null,
   "id": "personalized-oracle",
   "metadata": {},
   "outputs": [],
   "source": [
    "sol.plot([\"Current [A]\", \"Voltage [V]\"])"
   ]
  },
  {
   "attachments": {},
   "cell_type": "markdown",
   "id": "intense-princeton",
   "metadata": {},
   "source": [
    "Instead, we plot \"summary variables\", which show how the battery degrades over time by various metrics. Some of the variables also have \"Change in ...\", which is how much that variable changes over each cycle. This can be achieved by using `plot_summary_variables` method of pybamm, which can also be used to compare \"summary variables\" extracted from 2 or more solutions."
   ]
  },
  {
   "cell_type": "code",
   "execution_count": null,
   "id": "right-skiing",
   "metadata": {},
   "outputs": [],
   "source": [
    "sorted(sol.summary_variables.all_variables)"
   ]
  },
  {
   "attachments": {},
   "cell_type": "markdown",
   "id": "approximate-error",
   "metadata": {},
   "source": [
    "The \"summary variables\" associated with a particular model can also be accessed as a list (which can then be edited) -"
   ]
  },
  {
   "cell_type": "code",
   "execution_count": null,
   "id": "romance-roulette",
   "metadata": {},
   "outputs": [],
   "source": [
    "spm.summary_variables"
   ]
  },
  {
   "attachments": {},
   "cell_type": "markdown",
   "id": "given-telephone",
   "metadata": {},
   "source": [
    "Here the only degradation mechanism is one that causes loss of lithium, so we don't see loss of active material"
   ]
  },
  {
   "cell_type": "code",
   "execution_count": null,
   "id": "postal-butter",
   "metadata": {},
   "outputs": [],
   "source": [
    "pybamm.plot_summary_variables(sol)"
   ]
  },
  {
   "attachments": {},
   "cell_type": "markdown",
   "id": "french-substance",
   "metadata": {},
   "source": [
    "To suggest additional summary variables, open an issue!"
   ]
  },
  {
   "attachments": {},
   "cell_type": "markdown",
   "id": "accepting-canada",
   "metadata": {},
   "source": [
    "## Choosing which cycles to save"
   ]
  },
  {
   "attachments": {},
   "cell_type": "markdown",
   "id": "employed-plate",
   "metadata": {},
   "source": [
    "If the simulation contains thousands of cycles, saving each cycle in RAM might not be possible. To get around this, we can use `save_at_cycles`. If this is an integer `n`, every nth cycle is saved. If this is a list, all the cycles in the list are saved.\n",
    "The first cycle is always saved."
   ]
  },
  {
   "cell_type": "code",
   "execution_count": null,
   "id": "polished-trout",
   "metadata": {
    "tags": [
     "outputPrepend"
    ]
   },
   "outputs": [],
   "source": [
    "# With integer\n",
    "sol_int = sim.solve(save_at_cycles=5)\n",
    "# With list\n",
    "sol_list = sim.solve(save_at_cycles=[30, 45, 55])"
   ]
  },
  {
   "cell_type": "code",
   "execution_count": null,
   "id": "severe-yorkshire",
   "metadata": {},
   "outputs": [],
   "source": [
    "sol_int.cycles"
   ]
  },
  {
   "cell_type": "code",
   "execution_count": null,
   "id": "unavailable-fetish",
   "metadata": {},
   "outputs": [],
   "source": [
    "sol_list.cycles"
   ]
  },
  {
   "attachments": {},
   "cell_type": "markdown",
   "id": "guilty-nylon",
   "metadata": {},
   "source": [
    "For the cycles that are saved, you can plot as usual (note off-by-1 indexing)"
   ]
  },
  {
   "cell_type": "code",
   "execution_count": null,
   "id": "architectural-signal",
   "metadata": {},
   "outputs": [],
   "source": [
    "sol_list.cycles[44].plot([\"Current [A]\", \"Voltage [V]\"])"
   ]
  },
  {
   "cell_type": "code",
   "execution_count": null,
   "id": "played-hundred",
   "metadata": {},
   "outputs": [],
   "source": [
    "fig, ax = plt.subplots(1, 2, figsize=(10, 5))\n",
    "for cycle in sol_int.cycles:\n",
    "    if cycle is not None:\n",
    "        t = cycle[\"Time [h]\"].data - cycle[\"Time [h]\"].data[0]\n",
    "        ax[0].plot(t, cycle[\"Current [A]\"].data)\n",
    "        ax[0].set_xlabel(\"Time [h]\")\n",
    "        ax[0].set_title(\"Current [A]\")\n",
    "        ax[1].plot(t, cycle[\"Voltage [V]\"].data)\n",
    "        ax[1].set_xlabel(\"Time [h]\")\n",
    "        ax[1].set_title(\"Voltage [V]\")"
   ]
  },
  {
   "attachments": {},
   "cell_type": "markdown",
   "id": "considered-rescue",
   "metadata": {},
   "source": [
    "All summary variables are always available for every cycle, since these are much less memory-intensive"
   ]
  },
  {
   "cell_type": "code",
   "execution_count": null,
   "id": "multiple-culture",
   "metadata": {},
   "outputs": [],
   "source": [
    "pybamm.plot_summary_variables(sol_list)"
   ]
  },
  {
   "attachments": {},
   "cell_type": "markdown",
   "id": "convinced-winter",
   "metadata": {},
   "source": [
    "## Starting solution"
   ]
  },
  {
   "attachments": {},
   "cell_type": "markdown",
   "id": "unauthorized-fundamental",
   "metadata": {},
   "source": [
    "A simulation can be performed iteratively by using the `starting_solution` feature. For example, we first solve for 10 cycles"
   ]
  },
  {
   "cell_type": "code",
   "execution_count": null,
   "id": "posted-plastic",
   "metadata": {},
   "outputs": [],
   "source": [
    "experiment = pybamm.Experiment(\n",
    "    [\n",
    "        (\n",
    "            \"Discharge at 1C until 3V\",\n",
    "            \"Rest for 1 hour\",\n",
    "            \"Charge at 1C until 4.2V\",\n",
    "            \"Hold at 4.2V until C/50\",\n",
    "        )\n",
    "    ]\n",
    "    * 10,\n",
    "    termination=\"80% capacity\",\n",
    ")\n",
    "sim = pybamm.Simulation(spm, experiment=experiment, parameter_values=parameter_values)\n",
    "sol = sim.solve()"
   ]
  },
  {
   "attachments": {},
   "cell_type": "markdown",
   "id": "weird-darkness",
   "metadata": {},
   "source": [
    "If we give `sol` as the starting solution this will then solve for the next 10 cycles"
   ]
  },
  {
   "cell_type": "code",
   "execution_count": null,
   "id": "moderate-pipeline",
   "metadata": {},
   "outputs": [],
   "source": [
    "sol2 = sim.solve(starting_solution=sol)"
   ]
  },
  {
   "attachments": {},
   "cell_type": "markdown",
   "id": "leading-passport",
   "metadata": {},
   "source": [
    "We have now simulated 20 cycles"
   ]
  },
  {
   "cell_type": "code",
   "execution_count": null,
   "id": "higher-covering",
   "metadata": {},
   "outputs": [],
   "source": [
    "len(sol2.cycles)"
   ]
  },
  {
   "attachments": {},
   "cell_type": "markdown",
   "id": "plastic-framework",
   "metadata": {},
   "source": [
    "## References"
   ]
  },
  {
   "attachments": {},
   "cell_type": "markdown",
   "id": "drawn-fifty",
   "metadata": {},
   "source": [
    "The relevant papers for this notebook are:"
   ]
  },
  {
   "cell_type": "code",
   "execution_count": null,
   "id": "driven-sensitivity",
   "metadata": {},
   "outputs": [],
   "source": [
    "pybamm.print_citations()"
   ]
  }
 ],
 "metadata": {
  "kernelspec": {
   "language": "python"
  },
  "language_info": {
   "codemirror_mode": {
    "name": "ipython",
    "version": 3
   },
   "file_extension": ".py",
   "mimetype": "text/x-python",
   "name": "python",
   "nbconvert_exporter": "python",
   "pygments_lexer": "ipython3"
  },
  "toc": {
   "base_numbering": 1,
   "nav_menu": {},
   "number_sections": true,
   "sideBar": true,
   "skip_h1_title": false,
   "title_cell": "Table of Contents",
   "title_sidebar": "Contents",
   "toc_cell": false,
   "toc_position": {},
   "toc_section_display": true,
   "toc_window_display": true
  }
 },
 "nbformat": 4,
 "nbformat_minor": 5
}
