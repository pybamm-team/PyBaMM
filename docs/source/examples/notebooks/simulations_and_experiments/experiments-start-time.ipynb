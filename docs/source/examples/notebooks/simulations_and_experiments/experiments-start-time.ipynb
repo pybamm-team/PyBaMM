{
 "cells": [
  {
   "attachments": {},
   "cell_type": "markdown",
   "id": "regional-bedroom",
   "metadata": {},
   "source": [
    "# Experiments with `start_time`"
   ]
  },
  {
   "attachments": {},
   "cell_type": "markdown",
   "id": "quantitative-radar",
   "metadata": {},
   "source": [
    "This notebook introduces functionality for simulating user case in which the experiment steps are triggered at a certain point in time."
   ]
  },
  {
   "cell_type": "code",
   "execution_count": null,
   "id": "novel-spectacular",
   "metadata": {},
   "outputs": [],
   "source": [
    "%pip install \"pybamm[plot,cite]\" -q    # install PyBaMM if it is not installed\n",
    "import pybamm\n",
    "from datetime import datetime"
   ]
  },
  {
   "attachments": {},
   "cell_type": "markdown",
   "id": "11c87da1",
   "metadata": {},
   "source": [
    "Let's start defining a model to illustrate this functionality, in this case we choose the SPM"
   ]
  },
  {
   "cell_type": "code",
   "execution_count": null,
   "id": "96b62a7f",
   "metadata": {},
   "outputs": [],
   "source": [
    "model = pybamm.lithium_ion.SPM()"
   ]
  },
  {
   "attachments": {},
   "cell_type": "markdown",
   "id": "f388d538",
   "metadata": {},
   "source": [
    "Usually we define an experiment such that each step is triggered when the previous step is completed. For example, in this case we do a 1C discharge for 20 minutes and then a C/3 charge for 10 minutes. The charge step starts after 20 minutes, i.e. once the discharge step is finished."
   ]
  },
  {
   "cell_type": "code",
   "execution_count": null,
   "id": "eba027c8",
   "metadata": {},
   "outputs": [],
   "source": [
    "experiment = pybamm.Experiment(\n",
    "    [\"Discharge at 1C for 20 minutes\", \"Charge at C/3 for 10 minutes\"]\n",
    ")\n",
    "sim = pybamm.Simulation(model, experiment=experiment)\n",
    "sim.solve()\n",
    "sim.plot()"
   ]
  },
  {
   "attachments": {},
   "cell_type": "markdown",
   "id": "0fdfced4",
   "metadata": {},
   "source": [
    "However, if we want to represent a realistic user case we might certain experiments to be run at a certain time instead, even if that means cutting short the previous step. In this case we can pass a starting time as a keyword argument in the `pybamm.step.string` method. The `start_time` should be passed as a `datetime.datetime` object."
   ]
  },
  {
   "cell_type": "code",
   "execution_count": null,
   "id": "171550ac",
   "metadata": {},
   "outputs": [],
   "source": [
    "s = pybamm.step.string\n",
    "\n",
    "experiment = pybamm.Experiment(\n",
    "    [\n",
    "        s(\"Discharge at 1C for 1 hour\", start_time=datetime(1, 1, 1, 8, 0, 0)),\n",
    "        s(\"Charge at C/3 for 10 minutes\", start_time=datetime(1, 1, 1, 8, 30, 0)),\n",
    "        s(\"Discharge at C/2 for 30 minutes\", start_time=datetime(1, 1, 1, 9, 0, 0)),\n",
    "        s(\"Rest for 1 hour\"),\n",
    "    ]\n",
    ")\n",
    "sim = pybamm.Simulation(model, experiment=experiment)\n",
    "sim.solve()\n",
    "sim.plot()"
   ]
  },
  {
   "attachments": {},
   "cell_type": "markdown",
   "id": "edfa4c9f",
   "metadata": {},
   "source": [
    "In the example above, we note that the first step (1C discharge) is cut short as the second step (C/3 charge) start time occurs before the end of the first step. On the other hand, an additional resting period is added after the second step as the third step (C/2 discharge) start time is 20 minutes later than the end of the second step. The final step does not have a start time so it is triggered immediately after the previous step. Note that if the argument `start_time` is used in an experiment, the first step should always have a `start_time`, otherwise the solver will throw an error."
   ]
  },
  {
   "attachments": {},
   "cell_type": "markdown",
   "id": "fff78a14",
   "metadata": {},
   "source": [
    "Note that you can use the `datetime.strptime` (see [the docs](https://docs.python.org/3/library/datetime.html#datetime.datetime.strptime) for more info) function to convert a string to a datetime object. For example, to start the experiment at 8:30 on the 2nd of January 2023, you can use"
   ]
  },
  {
   "cell_type": "code",
   "execution_count": null,
   "id": "bb616043",
   "metadata": {},
   "outputs": [],
   "source": [
    "datetime.strptime(\"2023-01-02 8:30:00\", \"%Y-%m-%d %H:%M:%S\")"
   ]
  },
  {
   "cell_type": "code",
   "execution_count": null,
   "id": "driven-sensitivity",
   "metadata": {},
   "outputs": [],
   "source": [
    "pybamm.print_citations()"
   ]
  },
  {
   "cell_type": "code",
   "execution_count": null,
   "id": "593ae90b",
   "metadata": {},
   "outputs": [],
   "source": []
  }
 ],
 "metadata": {
  "kernelspec": {
   "language": "python"
  },
  "language_info": {
   "codemirror_mode": {
    "name": "ipython",
    "version": 3
   },
   "file_extension": ".py",
   "mimetype": "text/x-python",
   "name": "python",
   "nbconvert_exporter": "python",
   "pygments_lexer": "ipython3"
  },
  "toc": {
   "base_numbering": 1,
   "nav_menu": {},
   "number_sections": true,
   "sideBar": true,
   "skip_h1_title": false,
   "title_cell": "Table of Contents",
   "title_sidebar": "Contents",
   "toc_cell": false,
   "toc_position": {},
   "toc_section_display": true,
   "toc_window_display": true
  },
  "vscode": {
   "interpreter": {
    "hash": "612adcc456652826e82b485a1edaef831aa6d5abc680d008e93d513dd8724f14"
   }
  }
 },
 "nbformat": 4,
 "nbformat_minor": 5
}
