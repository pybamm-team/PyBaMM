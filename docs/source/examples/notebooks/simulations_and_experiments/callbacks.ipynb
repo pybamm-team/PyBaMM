{
 "cells": [
  {
   "attachments": {},
   "cell_type": "markdown",
   "id": "403c07ba",
   "metadata": {},
   "source": [
    "# Callbacks"
   ]
  },
  {
   "attachments": {},
   "cell_type": "markdown",
   "id": "4e5bfd9f",
   "metadata": {},
   "source": [
    "<div class=\"alert alert-block alert-info\">\n",
    "<b>WARNING:</b> This is a new, experimental feature, and the API may change in future.\n",
    "</div>"
   ]
  },
  {
   "attachments": {},
   "cell_type": "markdown",
   "id": "cb2ae3b6",
   "metadata": {},
   "source": [
    "Callbacks provide hooks for users to interact with the different parts of the PyBaMM pipeline, for example to log, save, or visualize outputs of intermediate functions. \n",
    "\n",
    "A list of available callbacks can be found in the [API docs](https://docs.pybamm.org/en/latest/source/api/callbacks.html). Any number of callbacks can be provided as a list, and they will each be called in turn in the order provided.\n",
    "\n",
    "The base class [`pybamm.callbacks.Callback`](https://docs.pybamm.org/en/latest/source/api/callbacks.html#pybamm.callbacks.Callback) documents the available callback methods, at which point in the pipeline they are called, and what arguments are passed to them."
   ]
  },
  {
   "cell_type": "code",
   "execution_count": null,
   "id": "c25b83cb",
   "metadata": {},
   "outputs": [],
   "source": [
    "%pip install \"pybamm[plot,cite]\" -q\n",
    "import pybamm\n",
    "\n",
    "model = pybamm.lithium_ion.DFN()\n",
    "experiment = pybamm.Experiment(\n",
    "    [\n",
    "        (\n",
    "            \"Discharge at C/5 for 10 hours or until 3.3 V\",\n",
    "            \"Charge at 1 A until 4.1 V\",\n",
    "            \"Hold at 4.1 V until 10 mA\",\n",
    "        ),\n",
    "    ]\n",
    "    * 3\n",
    ")\n",
    "sim = pybamm.Simulation(model, experiment=experiment)"
   ]
  },
  {
   "attachments": {},
   "cell_type": "markdown",
   "id": "6c38b44e",
   "metadata": {},
   "source": [
    "## Logging callback"
   ]
  },
  {
   "attachments": {},
   "cell_type": "markdown",
   "id": "538f91d4",
   "metadata": {},
   "source": [
    "The `LoggingCallback` can be used to log the progress of the simulation. The default is to print to stdout (this callback is automatically created if no other `LoggingCallback` exists)"
   ]
  },
  {
   "cell_type": "code",
   "execution_count": null,
   "id": "dc4121dd",
   "metadata": {},
   "outputs": [],
   "source": [
    "pybamm.set_logging_level(\"NOTICE\")\n",
    "sim.solve();"
   ]
  },
  {
   "attachments": {},
   "cell_type": "markdown",
   "id": "67608fe3",
   "metadata": {},
   "source": [
    "or to a separate file"
   ]
  },
  {
   "cell_type": "code",
   "execution_count": null,
   "id": "5e1ecca8",
   "metadata": {},
   "outputs": [],
   "source": [
    "callback = pybamm.callbacks.LoggingCallback(\"output.log\")\n",
    "sim.solve(callbacks=callback)\n",
    "\n",
    "# Read the file that has been written, which was saved to callback.logfile\n",
    "with open(callback.logfile) as f:\n",
    "    print(f.read())\n",
    "\n",
    "# Remove the log file\n",
    "import os\n",
    "\n",
    "os.remove(callback.logfile)"
   ]
  },
  {
   "attachments": {},
   "cell_type": "markdown",
   "id": "aa7b0634",
   "metadata": {},
   "source": [
    "## Custom callbacks"
   ]
  },
  {
   "attachments": {},
   "cell_type": "markdown",
   "id": "070fee9e",
   "metadata": {},
   "source": [
    "Custom callbacks should subclass the class `pybamm.callbacks.Callback` class, and implement a subset of the callback methods `on_<event>`, which all take as input the dictionary `logs`."
   ]
  },
  {
   "cell_type": "code",
   "execution_count": null,
   "id": "a47ce3ff",
   "metadata": {},
   "outputs": [],
   "source": [
    "class CustomCallback(pybamm.callbacks.Callback):\n",
    "    def on_experiment_end(self, logs):\n",
    "        print(f\"We are at the end of the simulation. Logs are {logs}\")"
   ]
  },
  {
   "cell_type": "code",
   "execution_count": null,
   "id": "7f44371e",
   "metadata": {},
   "outputs": [],
   "source": [
    "# Note the default `LoggingCallback` is also called\n",
    "sim.solve(callbacks=CustomCallback());"
   ]
  },
  {
   "attachments": {},
   "cell_type": "markdown",
   "id": "f83dccc3",
   "metadata": {},
   "source": [
    "## References\n",
    "\n",
    "The relevant papers for this notebook are:"
   ]
  },
  {
   "cell_type": "code",
   "execution_count": null,
   "id": "beb72404",
   "metadata": {},
   "outputs": [],
   "source": [
    "pybamm.print_citations()"
   ]
  }
 ],
 "metadata": {
  "kernelspec": {
   "language": "python"
  },
  "language_info": {
   "codemirror_mode": {
    "name": "ipython",
    "version": 3
   },
   "file_extension": ".py",
   "mimetype": "text/x-python",
   "name": "python",
   "nbconvert_exporter": "python",
   "pygments_lexer": "ipython3"
  },
  "toc": {
   "base_numbering": 1,
   "nav_menu": {},
   "number_sections": true,
   "sideBar": true,
   "skip_h1_title": false,
   "title_cell": "Table of Contents",
   "title_sidebar": "Contents",
   "toc_cell": false,
   "toc_position": {},
   "toc_section_display": true,
   "toc_window_display": true
  }
 },
 "nbformat": 4,
 "nbformat_minor": 5
}
