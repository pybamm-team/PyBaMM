{
 "cells": [
  {
   "cell_type": "markdown",
   "id": "ed85baef",
   "metadata": {},
   "source": [
    "# Degradation experiments with reference performance tests"
   ]
  },
  {
   "cell_type": "markdown",
   "id": "0854463d",
   "metadata": {},
   "source": [
    "When running degradation experiments in the lab, it is important to use reference performance tests (RPTs) to measure capacity and other key metrics, otherwise the experimental contitions will interfere with the measurement! In PyBaMM, you can run simulations with RPTs using the `Experiment` class."
   ]
  },
  {
   "cell_type": "code",
   "execution_count": null,
   "id": "ee358ae8",
   "metadata": {},
   "outputs": [],
   "source": [
    "%pip install pybamm[plot,cite] -q  # install PyBaMM if it is not installed\n",
    "\n",
    "import pybamm\n",
    "import matplotlib.pyplot as plt\n",
    "import os\n",
    "\n",
    "os.chdir(pybamm.__path__[0] + \"/..\")"
   ]
  },
  {
   "cell_type": "markdown",
   "id": "1ee2a95e",
   "metadata": {},
   "source": [
    "Load a simple degradation model"
   ]
  },
  {
   "cell_type": "code",
   "execution_count": null,
   "id": "89901d6d",
   "metadata": {},
   "outputs": [],
   "source": [
    "model = pybamm.lithium_ion.SPM({\"SEI\": \"ec reaction limited\"})\n",
    "parameter_values = pybamm.ParameterValues(\"Mohtat2020\")\n",
    "parameter_values.update({\"SEI kinetic rate constant [m.s-1]\": 1e-14})"
   ]
  },
  {
   "cell_type": "markdown",
   "id": "1b5de491",
   "metadata": {},
   "source": [
    "Define three different experiments using the Experiment class:\n",
    "* cccv_experiment is a cycle ageing experiment\n",
    "* charge_experiment charges to full after N ageing cycles\n",
    "* rpt_experiment is a C/3 discharge in this case, but can also contain a charge, GITT, EIS and other procedures"
   ]
  },
  {
   "cell_type": "code",
   "execution_count": null,
   "id": "5f50d944",
   "metadata": {},
   "outputs": [],
   "source": [
    "N = 10\n",
    "cccv_experiment = pybamm.Experiment(\n",
    "    [\n",
    "        (\n",
    "            \"Charge at 1C until 4.2V\",\n",
    "            \"Hold at 4.2V until C/50\",\n",
    "            \"Discharge at 1C until 3V\",\n",
    "            \"Rest for 1 hour\",\n",
    "        )\n",
    "    ]\n",
    "    * N\n",
    ")\n",
    "charge_experiment = pybamm.Experiment(\n",
    "    [\n",
    "        (\n",
    "            \"Charge at 1C until 4.2V\",\n",
    "            \"Hold at 4.2V until C/50\",\n",
    "        )\n",
    "    ]\n",
    ")\n",
    "rpt_experiment = pybamm.Experiment([(\"Discharge at C/3 until 3V\",)])"
   ]
  },
  {
   "cell_type": "markdown",
   "id": "e0159eb0",
   "metadata": {},
   "source": [
    "Run the ageing, charge and RPT experiments in order by feeding the previous solution into the solve command:"
   ]
  },
  {
   "cell_type": "code",
   "execution_count": null,
   "id": "3fcb0940",
   "metadata": {},
   "outputs": [],
   "source": [
    "sim = pybamm.Simulation(\n",
    "    model, experiment=cccv_experiment, parameter_values=parameter_values\n",
    ")\n",
    "cccv_sol = sim.solve()\n",
    "sim = pybamm.Simulation(\n",
    "    model, experiment=charge_experiment, parameter_values=parameter_values\n",
    ")\n",
    "charge_sol = sim.solve(starting_solution=cccv_sol)\n",
    "sim = pybamm.Simulation(\n",
    "    model, experiment=rpt_experiment, parameter_values=parameter_values\n",
    ")\n",
    "rpt_sol = sim.solve(starting_solution=charge_sol)"
   ]
  },
  {
   "cell_type": "markdown",
   "id": "9474391c",
   "metadata": {},
   "source": [
    "Plot detailed current/voltage data for the RPT cycle only:"
   ]
  },
  {
   "cell_type": "code",
   "execution_count": null,
   "id": "a7c53c87",
   "metadata": {},
   "outputs": [],
   "source": [
    "pybamm.dynamic_plot(rpt_sol.cycles[-1], [\"Current [A]\", \"Voltage [V]\"])"
   ]
  },
  {
   "cell_type": "markdown",
   "id": "b44afad3",
   "metadata": {},
   "source": [
    "PyBaMM's summary variables track important cell-level degradation veriables at the end of each cycle. The charge and RPT cycles are also counted, making a total of 12 cycles:"
   ]
  },
  {
   "cell_type": "code",
   "execution_count": null,
   "id": "d2cee8d9",
   "metadata": {},
   "outputs": [],
   "source": [
    "pybamm.plot_summary_variables(rpt_sol);"
   ]
  },
  {
   "cell_type": "markdown",
   "id": "bf87ccc0",
   "metadata": {},
   "source": [
    "Repeat the procedure four times:"
   ]
  },
  {
   "cell_type": "code",
   "execution_count": null,
   "id": "0a53f14d",
   "metadata": {},
   "outputs": [],
   "source": [
    "cccv_sols = []\n",
    "charge_sols = []\n",
    "rpt_sols = []\n",
    "M = 5\n",
    "for i in range(M):\n",
    "    if i != 0:  # skip the first set of ageing cycles because it's already been done\n",
    "        sim = pybamm.Simulation(\n",
    "            model, experiment=cccv_experiment, parameter_values=parameter_values\n",
    "        )\n",
    "        cccv_sol = sim.solve(starting_solution=rpt_sol)\n",
    "        sim = pybamm.Simulation(\n",
    "            model, experiment=charge_experiment, parameter_values=parameter_values\n",
    "        )\n",
    "        charge_sol = sim.solve(starting_solution=cccv_sol)\n",
    "        sim = pybamm.Simulation(\n",
    "            model, experiment=rpt_experiment, parameter_values=parameter_values\n",
    "        )\n",
    "        rpt_sol = sim.solve(starting_solution=charge_sol)\n",
    "    cccv_sols.append(cccv_sol)\n",
    "    charge_sols.append(charge_sol)\n",
    "    rpt_sols.append(rpt_sol)"
   ]
  },
  {
   "cell_type": "markdown",
   "id": "c9bbb981",
   "metadata": {},
   "source": [
    "You can plot any RPT cycle. The last one is chosen here."
   ]
  },
  {
   "cell_type": "code",
   "execution_count": null,
   "id": "744a06c3",
   "metadata": {},
   "outputs": [],
   "source": [
    "pybamm.dynamic_plot(rpt_sols[-1].cycles[-1], [\"Current [A]\", \"Voltage [V]\"])"
   ]
  },
  {
   "cell_type": "markdown",
   "id": "0a95f6ae",
   "metadata": {},
   "source": [
    "One way of demonstrating how useful RPTs are is to plot the discharge capacity for each cycle. It is convenient to use the final `rpt_sol` because it also contains all previous simulations."
   ]
  },
  {
   "cell_type": "code",
   "execution_count": null,
   "id": "89401a9b",
   "metadata": {},
   "outputs": [],
   "source": [
    "cccv_cycles = []\n",
    "cccv_capacities = []\n",
    "rpt_cycles = []\n",
    "rpt_capacities = []\n",
    "for i in range(M):\n",
    "    for j in range(N):\n",
    "        cccv_cycles.append(i * (N + 2) + j + 1)\n",
    "        start_capacity = (\n",
    "            rpt_sol.cycles[i * (N + 2) + j]\n",
    "            .steps[2][\"Discharge capacity [A.h]\"]\n",
    "            .entries[0]\n",
    "        )\n",
    "        end_capacity = (\n",
    "            rpt_sol.cycles[i * (N + 2) + j]\n",
    "            .steps[2][\"Discharge capacity [A.h]\"]\n",
    "            .entries[-1]\n",
    "        )\n",
    "        cccv_capacities.append(end_capacity - start_capacity)\n",
    "    rpt_cycles.append((i + 1) * (N + 2))\n",
    "    start_capacity = rpt_sol.cycles[(i + 1) * (N + 2) - 1][\n",
    "        \"Discharge capacity [A.h]\"\n",
    "    ].entries[0]\n",
    "    end_capacity = rpt_sol.cycles[(i + 1) * (N + 2) - 1][\n",
    "        \"Discharge capacity [A.h]\"\n",
    "    ].entries[-1]\n",
    "    rpt_capacities.append(end_capacity - start_capacity)\n",
    "plt.scatter(cccv_cycles, cccv_capacities, label=\"Ageing cycles\")\n",
    "plt.scatter(rpt_cycles, rpt_capacities, label=\"RPT cycles\")\n",
    "plt.xlabel(\"Cycle number\")\n",
    "plt.ylabel(\"Discharge capacity [A.h]\")\n",
    "plt.legend()"
   ]
  },
  {
   "cell_type": "markdown",
   "id": "c46698cf",
   "metadata": {},
   "source": [
    "The ageing cycles have a higher discharge rate than the RPT cycles and therefore have a slightly lower discharge capacity. (The charge cycles are not included because they have no discharge capacity.)"
   ]
  },
  {
   "cell_type": "markdown",
   "id": "4cf20ccb",
   "metadata": {},
   "source": [
    "Finally, plot the summary variables for the entire experiment run."
   ]
  },
  {
   "cell_type": "code",
   "execution_count": null,
   "id": "3b0346d8",
   "metadata": {},
   "outputs": [],
   "source": [
    "pybamm.plot_summary_variables(rpt_sol);"
   ]
  },
  {
   "cell_type": "markdown",
   "id": "87b38fc7",
   "metadata": {},
   "source": [
    "# References\n",
    "\n",
    "The relevant papers for this notebook are:"
   ]
  },
  {
   "cell_type": "code",
   "execution_count": null,
   "id": "e60c96be",
   "metadata": {},
   "outputs": [],
   "source": [
    "pybamm.print_citations()"
   ]
  }
 ],
 "metadata": {
  "kernelspec": {
   "language": "python"
  },
  "language_info": {
   "codemirror_mode": {
    "name": "ipython",
    "version": 3
   },
   "file_extension": ".py",
   "mimetype": "text/x-python",
   "name": "python",
   "nbconvert_exporter": "python",
   "pygments_lexer": "ipython3"
  }
 },
 "nbformat": 4,
 "nbformat_minor": 5
}
