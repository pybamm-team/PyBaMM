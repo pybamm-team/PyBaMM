{
 "cells": [
  {
   "cell_type": "markdown",
   "id": "0",
   "metadata": {},
   "source": [
    "# Degradation experiments with reference performance tests"
   ]
  },
  {
   "cell_type": "markdown",
   "id": "1",
   "metadata": {},
   "source": [
    "When running degradation experiments in the lab, it is important to use reference performance tests (RPTs) to measure capacity and other key metrics, otherwise the experimental contitions will interfere with the measurement! In PyBaMM, you can run simulations with RPTs using the `Experiment` class."
   ]
  },
  {
   "cell_type": "code",
   "execution_count": null,
   "id": "2",
   "metadata": {},
   "outputs": [],
   "source": [
    "%pip install pybamm[plot,cite] -q  # install PyBaMM if it is not installed\n",
    "\n",
    "import pybamm\n",
    "import matplotlib.pyplot as plt\n",
    "import os\n",
    "\n",
    "os.chdir(pybamm.__path__[0] + \"/..\")"
   ]
  },
  {
   "cell_type": "markdown",
   "id": "3",
   "metadata": {},
   "source": [
    "Load a simple degradation model"
   ]
  },
  {
   "cell_type": "code",
   "execution_count": null,
   "id": "4",
   "metadata": {},
   "outputs": [],
   "source": [
    "model = pybamm.lithium_ion.SPM({\"SEI\": \"ec reaction limited\"})\n",
    "parameter_values = pybamm.ParameterValues(\"Mohtat2020\")\n",
    "parameter_values.update({\"SEI kinetic rate constant [m.s-1]\": 1e-14})"
   ]
  },
  {
   "cell_type": "markdown",
   "id": "5",
   "metadata": {},
   "source": [
    "Define three different experiments using the Experiment class:\n",
    "* cccv_experiment is a cycle ageing experiment\n",
    "* charge_experiment charges to full after N ageing cycles\n",
    "* rpt_experiment is a C/3 discharge in this case, but can also contain a charge, GITT, EIS and other procedures"
   ]
  },
  {
   "cell_type": "code",
   "execution_count": null,
   "id": "6",
   "metadata": {},
   "outputs": [],
   "source": [
    "N = 10\n",
    "cccv_experiment = pybamm.Experiment(\n",
    "    [\n",
    "        (\n",
    "            \"Charge at 1C until 4.2V\",\n",
    "            \"Hold at 4.2V until C/50\",\n",
    "            \"Discharge at 1C until 3V\",\n",
    "            \"Rest for 1 hour\",\n",
    "        )\n",
    "    ]\n",
    "    * N\n",
    ")\n",
    "charge_experiment = pybamm.Experiment(\n",
    "    [\n",
    "        (\n",
    "            \"Charge at 1C until 4.2V\",\n",
    "            \"Hold at 4.2V until C/50\",\n",
    "        )\n",
    "    ]\n",
    ")\n",
    "rpt_experiment = pybamm.Experiment([(\"Discharge at C/3 until 3V\",)])"
   ]
  },
  {
   "cell_type": "markdown",
   "id": "7",
   "metadata": {},
   "source": [
    "Run the ageing, charge and RPT experiments in order by feeding the previous solution into the solve command:"
   ]
  },
  {
   "cell_type": "code",
   "execution_count": null,
   "id": "8",
   "metadata": {},
   "outputs": [],
   "source": [
    "sim = pybamm.Simulation(\n",
    "    model, experiment=cccv_experiment, parameter_values=parameter_values\n",
    ")\n",
    "cccv_sol = sim.solve()\n",
    "sim = pybamm.Simulation(\n",
    "    model, experiment=charge_experiment, parameter_values=parameter_values\n",
    ")\n",
    "charge_sol = sim.solve(starting_solution=cccv_sol)\n",
    "sim = pybamm.Simulation(\n",
    "    model, experiment=rpt_experiment, parameter_values=parameter_values\n",
    ")\n",
    "rpt_sol = sim.solve(starting_solution=charge_sol)"
   ]
  },
  {
   "cell_type": "markdown",
   "id": "9",
   "metadata": {},
   "source": [
    "Plot detailed current/voltage data for the RPT cycle only:"
   ]
  },
  {
   "cell_type": "code",
   "execution_count": null,
   "id": "10",
   "metadata": {},
   "outputs": [],
   "source": [
    "pybamm.dynamic_plot(rpt_sol.cycles[-1], [\"Current [A]\", \"Voltage [V]\"])"
   ]
  },
  {
   "cell_type": "markdown",
   "id": "11",
   "metadata": {},
   "source": [
    "PyBaMM's summary variables track important cell-level degradation veriables at the end of each cycle. The charge and RPT cycles are also counted, making a total of 12 cycles:"
   ]
  },
  {
   "cell_type": "code",
   "execution_count": null,
   "id": "12",
   "metadata": {},
   "outputs": [],
   "source": [
    "pybamm.plot_summary_variables(rpt_sol);"
   ]
  },
  {
   "cell_type": "markdown",
   "id": "13",
   "metadata": {},
   "source": [
    "Repeat the procedure four times:"
   ]
  },
  {
   "cell_type": "code",
   "execution_count": null,
   "id": "14",
   "metadata": {},
   "outputs": [],
   "source": [
    "cccv_sols = []\n",
    "charge_sols = []\n",
    "rpt_sols = []\n",
    "M = 5\n",
    "for i in range(M):\n",
    "    if i != 0:  # skip the first set of ageing cycles because it's already been done\n",
    "        sim = pybamm.Simulation(\n",
    "            model, experiment=cccv_experiment, parameter_values=parameter_values\n",
    "        )\n",
    "        cccv_sol = sim.solve(starting_solution=rpt_sol)\n",
    "        sim = pybamm.Simulation(\n",
    "            model, experiment=charge_experiment, parameter_values=parameter_values\n",
    "        )\n",
    "        charge_sol = sim.solve(starting_solution=cccv_sol)\n",
    "        sim = pybamm.Simulation(\n",
    "            model, experiment=rpt_experiment, parameter_values=parameter_values\n",
    "        )\n",
    "        rpt_sol = sim.solve(starting_solution=charge_sol)\n",
    "    cccv_sols.append(cccv_sol)\n",
    "    charge_sols.append(charge_sol)\n",
    "    rpt_sols.append(rpt_sol)"
   ]
  },
  {
   "cell_type": "markdown",
   "id": "15",
   "metadata": {},
   "source": [
    "You can plot any RPT cycle. The last one is chosen here."
   ]
  },
  {
   "cell_type": "code",
   "execution_count": null,
   "id": "16",
   "metadata": {},
   "outputs": [],
   "source": [
    "pybamm.dynamic_plot(rpt_sols[-1].cycles[-1], [\"Current [A]\", \"Voltage [V]\"])"
   ]
  },
  {
   "cell_type": "markdown",
   "id": "17",
   "metadata": {},
   "source": [
    "One way of demonstrating how useful RPTs are is to plot the discharge capacity for each cycle. It is convenient to use the final `rpt_sol` because it also contains all previous simulations."
   ]
  },
  {
   "cell_type": "code",
   "execution_count": null,
   "id": "18",
   "metadata": {},
   "outputs": [],
   "source": [
    "cccv_cycles = []\n",
    "cccv_capacities = []\n",
    "rpt_cycles = []\n",
    "rpt_capacities = []\n",
    "for i in range(M):\n",
    "    for j in range(N):\n",
    "        cccv_cycles.append(i * (N + 2) + j + 1)\n",
    "        start_capacity = (\n",
    "            rpt_sol.cycles[i * (N + 2) + j]\n",
    "            .steps[2][\"Discharge capacity [A.h]\"]\n",
    "            .entries[0]\n",
    "        )\n",
    "        end_capacity = (\n",
    "            rpt_sol.cycles[i * (N + 2) + j]\n",
    "            .steps[2][\"Discharge capacity [A.h]\"]\n",
    "            .entries[-1]\n",
    "        )\n",
    "        cccv_capacities.append(end_capacity - start_capacity)\n",
    "    rpt_cycles.append((i + 1) * (N + 2))\n",
    "    start_capacity = rpt_sol.cycles[(i + 1) * (N + 2) - 1][\n",
    "        \"Discharge capacity [A.h]\"\n",
    "    ].entries[0]\n",
    "    end_capacity = rpt_sol.cycles[(i + 1) * (N + 2) - 1][\n",
    "        \"Discharge capacity [A.h]\"\n",
    "    ].entries[-1]\n",
    "    rpt_capacities.append(end_capacity - start_capacity)\n",
    "plt.scatter(cccv_cycles, cccv_capacities, label=\"Ageing cycles\")\n",
    "plt.scatter(rpt_cycles, rpt_capacities, label=\"RPT cycles\")\n",
    "plt.xlabel(\"Cycle number\")\n",
    "plt.ylabel(\"Discharge capacity [A.h]\")\n",
    "plt.legend()"
   ]
  },
  {
   "cell_type": "markdown",
   "id": "19",
   "metadata": {},
   "source": [
    "The ageing cycles have a higher discharge rate than the RPT cycles and therefore have a slightly lower discharge capacity. (The charge cycles are not included because they have no discharge capacity.)"
   ]
  },
  {
   "cell_type": "markdown",
   "id": "20",
   "metadata": {},
   "source": [
    "Finally, plot the summary variables for the entire experiment run."
   ]
  },
  {
   "cell_type": "code",
   "execution_count": null,
   "id": "21",
   "metadata": {},
   "outputs": [],
   "source": [
    "pybamm.plot_summary_variables(rpt_sol);"
   ]
  },
  {
   "cell_type": "markdown",
   "id": "22",
   "metadata": {},
   "source": [
    "# References\n",
    "\n",
    "The relevant papers for this notebook are:"
   ]
  },
  {
   "cell_type": "code",
   "execution_count": null,
   "id": "23",
   "metadata": {},
   "outputs": [],
   "source": [
    "pybamm.print_citations()"
   ]
  }
 ],
 "metadata": {
  "kernelspec": {
   "display_name": "Python 3 (ipykernel)",
   "language": "python",
   "name": "python3"
  },
  "language_info": {
   "codemirror_mode": {
    "name": "ipython",
    "version": 3
   },
   "file_extension": ".py",
   "mimetype": "text/x-python",
   "name": "python",
   "nbconvert_exporter": "python",
   "pygments_lexer": "ipython3",
   "version": "3.8.10"
  }
 },
 "nbformat": 4,
 "nbformat_minor": 5
}
