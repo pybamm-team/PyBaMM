{
 "cells": [
  {
   "cell_type": "markdown",
   "id": "8bcfdcc0-07bc-4a0b-90dc-84444e5f65d5",
   "metadata": {},
   "source": [
    "# PyBaMM DataLoader\n",
    "\n",
    "This notebook is a reference for using pybamm.DataLoader module for using and fetching data files from the pybamm-data registry.\n",
    "Checkout the [documentation](../../../api/pybamm_data.rst) for further implementation details on this module.\n",
    "\n",
    "The following steps provide an example for using pybamm.DataLoader to download data files from PyBaMM data registry upstream at [pybamm-data](https://github.com/pybamm-team/pybamm-data/releases).\n"
   ]
  },
  {
   "cell_type": "markdown",
   "id": "5050f302-5246-43ca-a3cd-a50570ad2983",
   "metadata": {},
   "source": [
    "### 1. Creating DataLoader instance and listing data files present in the registry."
   ]
  },
  {
   "cell_type": "code",
   "execution_count": null,
   "id": "c641a158-388a-4ebb-8be5-7f736c3be159",
   "metadata": {},
   "outputs": [],
   "source": [
    "%pip install \"pybamm[plot,cite]\" -q    # install PyBaMM if it is not installed\n",
    "import pybamm\n",
    "\n",
    "data_loader = pybamm.DataLoader()\n",
    "data_loader.show_registry()"
   ]
  },
  {
   "cell_type": "markdown",
   "id": "2bf77f88-3ab0-475a-84e0-cd0b8d3028a4",
   "metadata": {},
   "source": [
    "### 2. Listing data files along with their checksums"
   ]
  },
  {
   "cell_type": "code",
   "execution_count": null,
   "id": "50addccb-a1d0-48e0-9510-6697702f7eaa",
   "metadata": {},
   "outputs": [],
   "source": [
    "data_loader.files"
   ]
  },
  {
   "cell_type": "markdown",
   "id": "47c826d1-37ed-4d9f-95f1-c919902f04d6",
   "metadata": {},
   "source": [
    "### 3. Fetching a file from upstream and storing it in local cache folder"
   ]
  },
  {
   "cell_type": "code",
   "execution_count": null,
   "id": "757aa66c-b8f3-4aa9-86af-8c9355bb7be1",
   "metadata": {},
   "outputs": [],
   "source": [
    "data_loader.get_data(\"Ecker_1C.csv\")"
   ]
  },
  {
   "cell_type": "markdown",
   "id": "8d667cce-43ab-4079-ac16-2b8969294690",
   "metadata": {},
   "source": [
    "### 4. Loading a file from cache into python code"
   ]
  },
  {
   "cell_type": "code",
   "execution_count": null,
   "id": "6661ce52-1fbe-4546-a00a-8f96c3dca95c",
   "metadata": {},
   "outputs": [],
   "source": [
    "import pandas as pd\n",
    "\n",
    "pd.read_csv(data_loader.get_data(\"Ecker_1C.csv\"))"
   ]
  },
  {
   "cell_type": "code",
   "execution_count": null,
   "id": "6737e5a9-714a-48eb-a51a-cc41aaa9c231",
   "metadata": {},
   "outputs": [],
   "source": []
  }
 ],
 "metadata": {
  "kernelspec": {
   "language": "python"
  },
  "language_info": {
   "codemirror_mode": {
    "name": "ipython",
    "version": 3
   },
   "file_extension": ".py",
   "mimetype": "text/x-python",
   "name": "python",
   "nbconvert_exporter": "python",
   "pygments_lexer": "ipython3"
  }
 },
 "nbformat": 4,
 "nbformat_minor": 5
}
