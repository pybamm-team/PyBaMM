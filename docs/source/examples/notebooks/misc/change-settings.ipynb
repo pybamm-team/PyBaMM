{
 "cells": [
  {
   "attachments": {},
   "cell_type": "markdown",
   "metadata": {},
   "source": [
    "# Changing settings when solving PyBaMM models\n",
    "\n",
    "[This](../models/SPM.ipynb) example notebook showed how to run an SPM battery model, using the default parameters, discretisation and solvers that were defined for that particular model. Naturally we would like the ability to alter these options on a case by case basis, and this notebook gives an example of how to do this, again using the SPM model. In this notebook we explicitly handle all the stages of setting up, processing and solving the model in order to explain them in detail. However, it is often simpler in practice to use the `Simulation` class, which handles many of the stages automatically, as shown [here](../simulations_and_experiments/simulation-class.ipynb).\n",
    "\n",
    "\n",
    "### Table of Contents\n",
    "1. Default SPM model\n",
    "1. Changing the parameters\n",
    "1. Changing the discretisation\n",
    "1. Changing the solver"
   ]
  },
  {
   "attachments": {},
   "cell_type": "markdown",
   "metadata": {},
   "source": [
    "## The default SPM model\n",
    "\n",
    "Below is the code to define and run the default SPM model included in PyBaMM (if this is unfamiliar to you, please see [this](../models/SPM.ipynb) notebook for more details)"
   ]
  },
  {
   "cell_type": "code",
   "execution_count": null,
   "metadata": {},
   "outputs": [],
   "source": [
    "%pip install \"pybamm[plot,cite]\" -q    # install PyBaMM if it is not installed\n",
    "import pybamm\n",
    "import numpy as np\n",
    "import os\n",
    "import matplotlib.pyplot as plt\n",
    "\n",
    "os.chdir(pybamm.__path__[0] + \"/..\")\n",
    "\n",
    "# create the model\n",
    "model = pybamm.lithium_ion.SPM()\n",
    "\n",
    "# set the default model geometry\n",
    "geometry = model.default_geometry\n",
    "\n",
    "# set the default model parameters\n",
    "param = model.default_parameter_values\n",
    "\n",
    "# set the parameters for the model and the geometry\n",
    "param.process_model(model)\n",
    "param.process_geometry(geometry)\n",
    "\n",
    "# mesh the domains\n",
    "mesh = pybamm.Mesh(geometry, model.default_submesh_types, model.default_var_pts)\n",
    "\n",
    "# discretise the model equations\n",
    "disc = pybamm.Discretisation(mesh, model.default_spatial_methods)\n",
    "disc.process_model(model)\n",
    "\n",
    "# Solve the model at the given time points\n",
    "solver = model.default_solver\n",
    "n = 100\n",
    "t_eval = np.linspace(0, 3600, n)\n",
    "solution = solver.solve(model, t_eval)"
   ]
  },
  {
   "attachments": {},
   "cell_type": "markdown",
   "metadata": {},
   "source": [
    "To verify the solution, we can look at a plot of the Voltage over time"
   ]
  },
  {
   "cell_type": "code",
   "execution_count": null,
   "metadata": {},
   "outputs": [],
   "source": [
    "time = solution[\"Time [h]\"].entries\n",
    "voltage = solution[\"Voltage [V]\"].entries\n",
    "plt.plot(time, voltage, lw=2, label=model.name)\n",
    "plt.xlabel(\"Time [h]\", fontsize=15)\n",
    "plt.ylabel(\"Voltage [V]\", fontsize=15)\n",
    "plt.show()"
   ]
  },
  {
   "attachments": {},
   "cell_type": "markdown",
   "metadata": {},
   "source": [
    "## Changing the model parameters <a name=\"parameters\"></a>\n",
    "\n",
    "The parameters are defined using the [`pybamm.ParameterValues`](https://docs.pybamm.org/en/latest/source/api/parameters/parameter_values.html) class, which takes either a python dictionary or CSV file with the mapping between parameter names and values.\n",
    "\n",
    "First lets have a look at the default parameters that are included with the SPM model:"
   ]
  },
  {
   "cell_type": "code",
   "execution_count": null,
   "metadata": {},
   "outputs": [],
   "source": [
    "model.default_parameter_values.items"
   ]
  },
  {
   "cell_type": "code",
   "execution_count": null,
   "metadata": {},
   "outputs": [],
   "source": [
    "format_str = \"{:<75}  {:>20}\"\n",
    "print(format_str.format(\"PARAMETER\", \"VALUE\"))\n",
    "print(\"-\" * 97)\n",
    "for key, value in model.default_parameter_values.items():\n",
    "    try:\n",
    "        print(format_str.format(key, value))\n",
    "    except TypeError:\n",
    "        print(format_str.format(key, value.__str__()))"
   ]
  },
  {
   "attachments": {},
   "cell_type": "markdown",
   "metadata": {},
   "source": [
    "Most of the parameters in this list have numerical values. Some have string values, that point to particular python functions within PyBaMM. These denote parameters that vary over time and/or space, in a manner defined by the given python function. For the moment we will ignore these, and focus on altering one of the numerical parameters.\n",
    "\n",
    "The class [`pybamm.ParameterValues`](https://docs.pybamm.org/en/latest/source/api/parameters/parameter_values.html) acts like the normal python `dict` data structure, so you can read or write individual parameters accordingly:"
   ]
  },
  {
   "cell_type": "code",
   "execution_count": null,
   "metadata": {},
   "outputs": [],
   "source": [
    "variable = \"Current function [A]\"\n",
    "old_value = param[variable]\n",
    "param[variable] = 1.4\n",
    "new_value = param[variable]\n",
    "print(variable, \"was\", old_value)\n",
    "print(variable, \"now is\", param[variable])"
   ]
  },
  {
   "attachments": {},
   "cell_type": "markdown",
   "metadata": {},
   "source": [
    "In order to compare solutions with different parameter values, parameters must be changed to `InputParameter` objects, whose value can then be specified when solving. For example, we can compare the Voltage calculated using both the old and new current values."
   ]
  },
  {
   "cell_type": "code",
   "execution_count": null,
   "metadata": {},
   "outputs": [],
   "source": [
    "# Set up\n",
    "model = pybamm.lithium_ion.SPM()\n",
    "solver = model.default_solver\n",
    "param[\"Current function [A]\"] = \"[input]\"\n",
    "param.process_model(model)\n",
    "disc.process_model(model)\n",
    "\n",
    "# Solution with current = 0.68\n",
    "old_solution = solver.solve(model, t_eval, inputs={\"Current function [A]\": 0.68})\n",
    "old_time = old_solution[\"Time [h]\"].entries\n",
    "old_voltage = old_solution[\"Voltage [V]\"].entries\n",
    "\n",
    "# Solution with current = 1.4\n",
    "new_solution = solver.solve(model, t_eval, inputs={\"Current function [A]\": 1.4})\n",
    "new_time = new_solution[\"Time [h]\"].entries\n",
    "new_voltage = new_solution[\"Voltage [V]\"].entries\n",
    "\n",
    "plt.plot(old_time, old_voltage, lw=2, label=\"Current = 0.68\")\n",
    "plt.plot(new_time, new_voltage, lw=2, label=\"Current = 1.4\")\n",
    "plt.xlabel(\"Time [h]\", fontsize=15)\n",
    "plt.ylabel(\"Voltage [V]\", fontsize=15)\n",
    "plt.legend(fontsize=15)\n",
    "plt.show()"
   ]
  },
  {
   "attachments": {},
   "cell_type": "markdown",
   "metadata": {},
   "source": [
    "Note that there is a small number of parameters for which this is not possible, since the discretisation depends on them (for example, *Negative electrode thickness*). In this case you would need to remesh the geometry as the relative length of the electrodes would have altered. This would in turn require you to re-discretise the model equations."
   ]
  },
  {
   "attachments": {},
   "cell_type": "markdown",
   "metadata": {},
   "source": [
    "## Changing the discretisation <a name=\"discretisation\"></a>\n",
    "\n",
    "The chosen spatial discretisation method to use for each domain is passed into the [`pybamm.Discretisation`](https://docs.pybamm.org/en/latest/source/api/spatial_methods/discretisation.html) class as one of its arguments. The default spatial methods for the SPM class are given as:\n"
   ]
  },
  {
   "cell_type": "code",
   "execution_count": null,
   "metadata": {},
   "outputs": [],
   "source": [
    "print(format_str.format(\"DOMAIN\", \"DISCRETISED BY\"))\n",
    "print(\"-\" * 82)\n",
    "for key, value in model.default_spatial_methods.items():\n",
    "    print(format_str.format(key, value.__class__.__name__))"
   ]
  },
  {
   "attachments": {},
   "cell_type": "markdown",
   "metadata": {},
   "source": [
    "To change the discretisation for a particular domain, you can update the spatial methods `dict` with the new discretiation class  that you wish to use, for example:"
   ]
  },
  {
   "cell_type": "code",
   "execution_count": null,
   "metadata": {},
   "outputs": [],
   "source": [
    "spatial_methods = model.default_spatial_methods\n",
    "spatial_methods[\"negative particle\"] = pybamm.SpectralVolume()"
   ]
  },
  {
   "attachments": {},
   "cell_type": "markdown",
   "metadata": {},
   "source": [
    "You can also update the submeshes (meshes used for each domain) in a similar way. We'll generate a spectral mesh to use with our spectral volume method in the negative particle"
   ]
  },
  {
   "cell_type": "code",
   "execution_count": null,
   "metadata": {},
   "outputs": [],
   "source": [
    "submesh_types = model.default_submesh_types\n",
    "submesh_types[\"negative particle\"] = pybamm.MeshGenerator(\n",
    "    pybamm.SpectralVolume1DSubMesh\n",
    ")"
   ]
  },
  {
   "attachments": {},
   "cell_type": "markdown",
   "metadata": {},
   "source": [
    "Now that we have set the new discretisation method, we can proceed to re-discretise and then solve the model. Note that in this case we need to regenerate the model using `pybamm.lithium_ion.SPM`, as the original model information was lost when we discretised it [above](#the-default-spm-model)."
   ]
  },
  {
   "cell_type": "code",
   "execution_count": null,
   "metadata": {},
   "outputs": [],
   "source": [
    "# re-generate the model and set parameters (with fixed current function this time)\n",
    "model = pybamm.lithium_ion.SPM()\n",
    "solver = model.default_solver\n",
    "param[\"Current function [A]\"] = 0.68\n",
    "param.process_model(model)\n",
    "\n",
    "# re-discretise the model with the new mesh...\n",
    "mesh = pybamm.Mesh(geometry, submesh_types, model.default_var_pts)\n",
    "disc = pybamm.Discretisation(mesh, spatial_methods)\n",
    "disc.process_model(model)\n",
    "\n",
    "# ... and finally solve it\n",
    "solution = solver.solve(model, t_eval)\n",
    "pybamm.QuickPlot(solution).plot(0)"
   ]
  },
  {
   "attachments": {},
   "cell_type": "markdown",
   "metadata": {},
   "source": [
    "## Changing the solver <a name=\"solver\"></a>\n",
    "\n",
    "Which method you use to integrate the discretised model in time can also be changed. PyBaMM has a number of different solvers available, all of which are described in the [documentation](https://docs.pybamm.org/en/latest/source/api/solvers/index.html).\n"
   ]
  },
  {
   "cell_type": "code",
   "execution_count": null,
   "metadata": {},
   "outputs": [],
   "source": [
    "print(\"Default solver for SPM model:\", type(model.default_solver).__name__)"
   ]
  },
  {
   "attachments": {},
   "cell_type": "markdown",
   "metadata": {},
   "source": [
    "To change this, simply create a new solver using one of the available classes and use it to solve your discretised model"
   ]
  },
  {
   "cell_type": "code",
   "execution_count": null,
   "metadata": {},
   "outputs": [],
   "source": [
    "new_solver = pybamm.ScipySolver()\n",
    "new_solution = new_solver.solve(model, t_eval)\n",
    "pybamm.QuickPlot(new_solution).plot(0)"
   ]
  },
  {
   "attachments": {},
   "cell_type": "markdown",
   "metadata": {},
   "source": [
    "## References\n",
    "\n",
    "The relevant papers for this notebook are:"
   ]
  },
  {
   "cell_type": "code",
   "execution_count": null,
   "metadata": {},
   "outputs": [],
   "source": [
    "pybamm.print_citations()"
   ]
  }
 ],
 "metadata": {
  "kernelspec": {
   "language": "python"
  },
  "language_info": {
   "codemirror_mode": {
    "name": "ipython",
    "version": 3
   },
   "file_extension": ".py",
   "mimetype": "text/x-python",
   "name": "python",
   "nbconvert_exporter": "python",
   "pygments_lexer": "ipython3"
  },
  "vscode": {
   "interpreter": {
    "hash": "187972e187ab8dfbecfab9e8e194ae6d08262b2d51a54fa40644e3ddb6b5f74c"
   }
  }
 },
 "nbformat": 4,
 "nbformat_minor": 2
}
