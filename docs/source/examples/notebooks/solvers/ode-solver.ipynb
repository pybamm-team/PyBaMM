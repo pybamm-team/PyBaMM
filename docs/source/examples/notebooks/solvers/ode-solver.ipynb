{
 "cells": [
  {
   "cell_type": "markdown",
   "metadata": {},
   "source": [
    "# ODE solver\n",
    "\n",
    "In this notebook, we show some examples of solving an ODE model. For the purposes of this example, we use the Scipy solver, but the syntax remains the same for other solvers"
   ]
  },
  {
   "cell_type": "code",
   "execution_count": null,
   "metadata": {},
   "outputs": [],
   "source": [
    "%pip install \"pybamm[plot,cite]\" -q    # install PyBaMM if it is not installed\n",
    "import pybamm\n",
    "import numpy as np\n",
    "import os\n",
    "import matplotlib.pyplot as plt\n",
    "\n",
    "os.chdir(pybamm.__path__[0] + \"/..\")"
   ]
  },
  {
   "cell_type": "markdown",
   "metadata": {},
   "source": [
    "## Integrating ODEs"
   ]
  },
  {
   "cell_type": "markdown",
   "metadata": {},
   "source": [
    "In PyBaMM, a model is solved by calling a solver with `solve`. This sets up the model to be solved, and then calls the method `_integrate`, which is specific to each solver. We begin by setting up and discretising a model"
   ]
  },
  {
   "cell_type": "code",
   "execution_count": null,
   "metadata": {},
   "outputs": [],
   "source": [
    "# Create model\n",
    "model = pybamm.BaseModel()\n",
    "u = pybamm.Variable(\"u\")\n",
    "v = pybamm.Variable(\"v\")\n",
    "model.rhs = {u: -v, v: u}\n",
    "model.initial_conditions = {u: 2, v: 1}\n",
    "model.variables = {\"u\": u, \"v\": v}\n",
    "\n",
    "\n",
    "# Discretise using default discretisation\n",
    "disc = pybamm.Discretisation()\n",
    "disc.process_model(model);"
   ]
  },
  {
   "cell_type": "markdown",
   "metadata": {},
   "source": [
    "Now the model can be solved by calling `solver.solve` with a specific time vector at which to evaluate the solution"
   ]
  },
  {
   "cell_type": "code",
   "execution_count": null,
   "metadata": {},
   "outputs": [],
   "source": [
    "# Solve ########################\n",
    "t_eval = np.linspace(0, 5, 30)\n",
    "ode_solver = pybamm.ScipySolver()\n",
    "solution = ode_solver.solve(model, t_eval)\n",
    "################################\n",
    "\n",
    "# Extract u and v\n",
    "t_sol = solution.t\n",
    "u = solution[\"u\"]\n",
    "v = solution[\"v\"]\n",
    "\n",
    "# Plot\n",
    "t_fine = np.linspace(0, t_eval[-1], 1000)\n",
    "\n",
    "fig, (ax1, ax2) = plt.subplots(1, 2, figsize=(13, 4))\n",
    "ax1.plot(t_fine, 2 * np.cos(t_fine) - np.sin(t_fine), t_sol, u(t_sol), \"o\")\n",
    "ax1.set_xlabel(\"t\")\n",
    "ax1.legend([\"2*cos(t) - sin(t)\", \"u\"], loc=\"best\")\n",
    "\n",
    "ax2.plot(t_fine, 2 * np.sin(t_fine) + np.cos(t_fine), t_sol, v(t_sol), \"o\")\n",
    "ax2.set_xlabel(\"t\")\n",
    "ax2.legend([\"2*sin(t) + cos(t)\", \"v\"], loc=\"best\")\n",
    "\n",
    "plt.tight_layout()\n",
    "plt.show()"
   ]
  },
  {
   "cell_type": "markdown",
   "metadata": {},
   "source": [
    "Note that, where possible, the solver makes use of the mass matrix and jacobian for the model. However, the discretisation or solver will have created the mass matrix and jacobian algorithmically, using the expression tree, so we do not need to calculate and input these manually."
   ]
  },
  {
   "cell_type": "markdown",
   "metadata": {},
   "source": [
    "The solution terminates at the final simulation time:"
   ]
  },
  {
   "cell_type": "code",
   "execution_count": null,
   "metadata": {},
   "outputs": [],
   "source": [
    "solution.termination"
   ]
  },
  {
   "cell_type": "markdown",
   "metadata": {},
   "source": [
    "### Events\n",
    "\n",
    "It is possible to specify events at which a solution should terminate. This is done by adding events to the `model.events` dictionary. In the following example, we solve the same model as before but add a termination event when `v=-2`."
   ]
  },
  {
   "cell_type": "code",
   "execution_count": null,
   "metadata": {},
   "outputs": [],
   "source": [
    "# Create model\n",
    "model = pybamm.BaseModel()\n",
    "u = pybamm.Variable(\"u\")\n",
    "v = pybamm.Variable(\"v\")\n",
    "model.rhs = {u: -v, v: u}\n",
    "model.initial_conditions = {u: 2, v: 1}\n",
    "model.events.append(pybamm.Event(\"v=-2\", v + 2))  # New termination event\n",
    "model.variables = {\"u\": u, \"v\": v}\n",
    "\n",
    "# Discretise using default discretisation\n",
    "disc = pybamm.Discretisation()\n",
    "disc.process_model(model)\n",
    "\n",
    "# Solve ########################\n",
    "t_eval = np.linspace(0, 5, 30)\n",
    "ode_solver = pybamm.ScipySolver()\n",
    "solution = ode_solver.solve(model, t_eval)\n",
    "################################\n",
    "\n",
    "# Extract u and v\n",
    "t_sol = solution.t\n",
    "u = solution[\"u\"]\n",
    "v = solution[\"v\"]\n",
    "\n",
    "# Plot\n",
    "t_fine = np.linspace(0, t_eval[-1], 1000)\n",
    "\n",
    "fig, (ax1, ax2) = plt.subplots(1, 2, figsize=(13, 4))\n",
    "ax1.plot(t_fine, 2 * np.cos(t_fine) - np.sin(t_fine), t_sol, u(t_sol), \"o\")\n",
    "ax1.set_xlabel(\"t\")\n",
    "ax1.legend([\"2*cos(t) - sin(t)\", \"u\"], loc=\"best\")\n",
    "\n",
    "ax2.plot(\n",
    "    t_fine,\n",
    "    2 * np.sin(t_fine) + np.cos(t_fine),\n",
    "    t_sol,\n",
    "    v(t_sol),\n",
    "    \"o\",\n",
    "    t_fine,\n",
    "    -2 * np.ones_like(t_fine),\n",
    "    \"k\",\n",
    ")\n",
    "ax2.set_xlabel(\"t\")\n",
    "ax2.legend([\"2*sin(t) + cos(t)\", \"v\", \"v = -2\"], loc=\"best\")\n",
    "\n",
    "plt.tight_layout()\n",
    "plt.show()"
   ]
  },
  {
   "cell_type": "markdown",
   "metadata": {},
   "source": [
    "Now the solution terminates because the event has been reached"
   ]
  },
  {
   "cell_type": "code",
   "execution_count": null,
   "metadata": {},
   "outputs": [],
   "source": [
    "solution.termination"
   ]
  },
  {
   "cell_type": "code",
   "execution_count": null,
   "metadata": {},
   "outputs": [],
   "source": [
    "print(\"event time: \", solution.t_event, \"\\nevent state\", solution.y_event.flatten())"
   ]
  },
  {
   "cell_type": "markdown",
   "metadata": {},
   "source": [
    "## References\n",
    "\n",
    "The relevant papers for this notebook are:"
   ]
  },
  {
   "cell_type": "code",
   "execution_count": null,
   "metadata": {},
   "outputs": [],
   "source": [
    "pybamm.print_citations()"
   ]
  }
 ],
 "metadata": {
  "kernelspec": {
   "display_name": "env",
   "language": "python",
   "name": "python3"
  },
  "language_info": {
   "codemirror_mode": {
    "name": "ipython",
    "version": 3
   },
   "file_extension": ".py",
   "mimetype": "text/x-python",
   "name": "python",
   "nbconvert_exporter": "python",
   "pygments_lexer": "ipython3",
   "version": "3.9.15"
  },
  "vscode": {
   "interpreter": {
    "hash": "19e5ebaa8d5a3277b4deed2928f02ad0cad6c3ab0b2beced644d557f155bce64"
   }
  }
 },
 "nbformat": 4,
 "nbformat_minor": 2
}
