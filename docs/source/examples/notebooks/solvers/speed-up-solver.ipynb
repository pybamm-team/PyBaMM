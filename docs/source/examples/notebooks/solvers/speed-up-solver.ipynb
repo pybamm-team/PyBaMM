{
 "cells": [
  {
   "cell_type": "markdown",
   "metadata": {},
   "source": [
    "# Speeding up the solvers"
   ]
  },
  {
   "cell_type": "markdown",
   "metadata": {},
   "source": [
    "This notebook contains a collection of tips on how to speed up the solvers"
   ]
  },
  {
   "cell_type": "code",
   "execution_count": null,
   "metadata": {},
   "outputs": [],
   "source": [
    "%pip install \"pybamm[plot,cite]\" -q    # install PyBaMM if it is not installed\n",
    "import pybamm\n",
    "import matplotlib.pyplot as plt\n",
    "import numpy as np"
   ]
  },
  {
   "cell_type": "markdown",
   "metadata": {},
   "source": [
    "## Choosing a solver"
   ]
  },
  {
   "cell_type": "markdown",
   "metadata": {},
   "source": [
    "Since it is very easy to switch which solver is used for the model, we recommend you try different solvers for your particular use case. In general, the `CasadiSolver` is the fastest.\n",
    "\n",
    "Once you have found a good solver, you can further improve performance by trying out different values for the `method`, `rtol`, and `atol` arguments. Further options are sometimes available, but are solver specific. See [solver API docs](https://docs.pybamm.org/en/latest/source/api/solvers/index.html) for details."
   ]
  },
  {
   "cell_type": "markdown",
   "metadata": {},
   "source": [
    "## Choosing and optimizing CasadiSolver settings"
   ]
  },
  {
   "cell_type": "markdown",
   "metadata": {},
   "source": [
    "### Fast mode vs safe mode"
   ]
  },
  {
   "cell_type": "markdown",
   "metadata": {},
   "source": [
    "The `CasadiSolver` comes with a `mode` argument which can be set to \"fast\" or \"safe\" (the third option, \"safe without grid\", is experimental and should not be used for now).\n",
    "The \"fast\" mode is faster but ignores any \"events\" (such as a voltage cut-off point), while the \"safe\" mode is slower but does stop at events (with manually implemented \"step-and-check\" under the hood). Therefore, \"fast\" mode should be used whenever events are not expected to be hit (for example, when simulating a drive cycle or a constant-current discharge where the time interval is such that the simulation will finish before reaching the voltage cut-off). Conversely, \"safe\" mode should be used whenever events are important: in particular, when using the `Experiment` class."
   ]
  },
  {
   "cell_type": "markdown",
   "metadata": {},
   "source": [
    "To demonstrate the difference between safe mode and fast mode, consider the following example"
   ]
  },
  {
   "cell_type": "code",
   "execution_count": null,
   "metadata": {},
   "outputs": [],
   "source": [
    "# Set up model\n",
    "model = pybamm.lithium_ion.DFN()\n",
    "param = model.default_parameter_values\n",
    "cap = param[\"Nominal cell capacity [A.h]\"]\n",
    "param[\"Current function [A]\"] = cap * pybamm.InputParameter(\"Crate\")\n",
    "sim = pybamm.Simulation(model, parameter_values=param)\n",
    "\n",
    "# Set up solvers. Reduce max_num_steps for the fast solver, for faster errors\n",
    "fast_solver = pybamm.CasadiSolver(\n",
    "    mode=\"fast\", extra_options_setup={\"max_num_steps\": 1000}\n",
    ")\n",
    "safe_solver = pybamm.CasadiSolver(mode=\"safe\")"
   ]
  },
  {
   "cell_type": "markdown",
   "metadata": {},
   "source": [
    "Both solvers can solve the model up to 3700 s, but the fast solver ignores the voltage cut-off around 3.1 V"
   ]
  },
  {
   "cell_type": "code",
   "execution_count": null,
   "metadata": {},
   "outputs": [],
   "source": [
    "safe_sol = sim.solve([0, 3700], solver=safe_solver, inputs={\"Crate\": 1})\n",
    "fast_sol = sim.solve([0, 3700], solver=fast_solver, inputs={\"Crate\": 1})\n",
    "\n",
    "timer = pybamm.Timer()\n",
    "print(\"Safe:\", safe_sol.solve_time)\n",
    "print(\"Fast:\", fast_sol.solve_time)\n",
    "\n",
    "cutoff = param[\"Lower voltage cut-off [V]\"]\n",
    "plt.plot(fast_sol[\"Time [h]\"].data, fast_sol[\"Voltage [V]\"].data, \"b-\", label=\"Fast\")\n",
    "plt.plot(safe_sol[\"Time [h]\"].data, safe_sol[\"Voltage [V]\"].data, \"r-\", label=\"Safe\")\n",
    "plt.plot(\n",
    "    fast_sol[\"Time [h]\"].data,\n",
    "    cutoff * np.ones_like(fast_sol[\"Time [h]\"].data),\n",
    "    \"k--\",\n",
    "    label=\"Voltage cut-off\",\n",
    ")\n",
    "plt.legend();"
   ]
  },
  {
   "cell_type": "markdown",
   "metadata": {},
   "source": [
    "If we increase the integration interval, the safe solver still stops at the same point, but the fast solver fails"
   ]
  },
  {
   "cell_type": "code",
   "execution_count": null,
   "metadata": {},
   "outputs": [],
   "source": [
    "safe_sol = sim.solve([0, 4500], solver=safe_solver, inputs={\"Crate\": 1})\n",
    "\n",
    "print(\"Safe:\", safe_sol.solve_time)\n",
    "\n",
    "plt.plot(safe_sol[\"Time [h]\"].data, safe_sol[\"Voltage [V]\"].data, \"r-\", label=\"Safe\")\n",
    "plt.plot(\n",
    "    safe_sol[\"Time [h]\"].data,\n",
    "    cutoff * np.ones_like(safe_sol[\"Time [h]\"].data),\n",
    "    \"k--\",\n",
    "    label=\"Voltage cut-off\",\n",
    ")\n",
    "plt.legend()\n",
    "\n",
    "try:\n",
    "    sim.solve([0, 4500], solver=fast_solver, inputs={\"Crate\": 1})\n",
    "except pybamm.SolverError as e:\n",
    "    print(\"Solving fast mode, error occurred:\", e.args[0])"
   ]
  },
  {
   "cell_type": "markdown",
   "metadata": {},
   "source": [
    "We can solve with fast mode up to close to this time to understand why the model is failing"
   ]
  },
  {
   "cell_type": "code",
   "execution_count": null,
   "metadata": {},
   "outputs": [],
   "source": [
    "fast_sol = sim.solve([0, 4049], solver=fast_solver, inputs={\"Crate\": 1})\n",
    "fast_sol.plot(\n",
    "    [\n",
    "        \"Minimum negative particle surface concentration\",\n",
    "        \"Electrolyte concentration [mol.m-3]\",\n",
    "        \"Maximum positive particle surface concentration\",\n",
    "        \"Voltage [V]\",\n",
    "    ],\n",
    "    time_unit=\"seconds\",\n",
    "    figsize=(9, 9),\n",
    ");"
   ]
  },
  {
   "cell_type": "markdown",
   "metadata": {},
   "source": [
    "In this case, we can see that the reason the solver is failing is that the concentration at the surface of the particles in the positive electrode hit their maximum value of `c_max`. Since the exchange current density has a term `sqrt(c_max-c_s_surf)`, the square root of a negative number is complex, `c_s_surf` going above `c_max` will cause the solver to fail."
   ]
  },
  {
   "cell_type": "markdown",
   "metadata": {},
   "source": [
    "As a final note, there are some cases where the \"safe\" mode prints some warnings. This is linked to how the solver looks for events (sometimes stepping too far), and can be safely ignored if the solution looks sensible."
   ]
  },
  {
   "cell_type": "code",
   "execution_count": null,
   "metadata": {},
   "outputs": [],
   "source": [
    "safe_sol_160 = sim.solve([0, 160], solver=safe_solver, inputs={\"Crate\": 10})\n",
    "plt.plot(\n",
    "    safe_sol_160[\"Time [h]\"].data, safe_sol_160[\"Voltage [V]\"].data, \"r-\", label=\"Safe\"\n",
    ")\n",
    "plt.plot(\n",
    "    safe_sol_160[\"Time [h]\"].data,\n",
    "    cutoff * np.ones_like(safe_sol_160[\"Time [h]\"].data),\n",
    "    \"k--\",\n",
    "    label=\"Voltage cut-off\",\n",
    ")\n",
    "plt.legend();"
   ]
  },
  {
   "cell_type": "markdown",
   "metadata": {},
   "source": [
    "Reducing the time interval to [0, 150], we see that the solution is exactly the same, without the warnings"
   ]
  },
  {
   "cell_type": "code",
   "execution_count": null,
   "metadata": {},
   "outputs": [],
   "source": [
    "safe_sol_150 = sim.solve([0, 150], solver=safe_solver, inputs={\"Crate\": 10})\n",
    "plt.plot(\n",
    "    safe_sol_150[\"Time [h]\"].data,\n",
    "    safe_sol_150[\"Voltage [V]\"].data,\n",
    "    \"r-\",\n",
    "    label=\"Safe [0,150]\",\n",
    ")\n",
    "plt.plot(\n",
    "    safe_sol_160[\"Time [h]\"].data,\n",
    "    safe_sol_160[\"Voltage [V]\"].data,\n",
    "    \"b.\",\n",
    "    label=\"Safe [0,160]\",\n",
    ")\n",
    "plt.plot(\n",
    "    safe_sol_150[\"Time [h]\"].data,\n",
    "    cutoff * np.ones_like(safe_sol_150[\"Time [h]\"].data),\n",
    "    \"k--\",\n",
    "    label=\"Voltage cut-off\",\n",
    ")\n",
    "plt.legend();"
   ]
  },
  {
   "cell_type": "code",
   "execution_count": null,
   "metadata": {},
   "outputs": [],
   "source": [
    "safe_solver_2 = pybamm.CasadiSolver(mode=\"safe\", dt_max=30)\n",
    "safe_sol_2 = sim.solve([0, 160], solver=safe_solver_2, inputs={\"Crate\": 10})"
   ]
  },
  {
   "cell_type": "markdown",
   "metadata": {},
   "source": [
    "### Choosing dt_max to speed up the safe mode"
   ]
  },
  {
   "cell_type": "markdown",
   "metadata": {},
   "source": [
    "The parameter `dt_max` controls how large the steps taken by the `CasadiSolver` with \"safe\" mode are when looking for events."
   ]
  },
  {
   "cell_type": "code",
   "execution_count": null,
   "metadata": {},
   "outputs": [],
   "source": [
    "for dt_max in [10, 20, 100, 1000, 3700]:\n",
    "    safe_sol = sim.solve(\n",
    "        [0, 3600],\n",
    "        solver=pybamm.CasadiSolver(mode=\"safe\", dt_max=dt_max),\n",
    "        inputs={\"Crate\": 1},\n",
    "    )\n",
    "    print(\n",
    "        f\"With dt_max={dt_max}, took {safe_sol.solve_time} \"\n",
    "        + f\"(integration time: {safe_sol.integration_time})\"\n",
    "    )\n",
    "\n",
    "fast_sol = sim.solve([0, 3600], solver=fast_solver, inputs={\"Crate\": 1})\n",
    "print(\n",
    "    f\"With 'fast' mode, took {fast_sol.solve_time} \"\n",
    "    + f\"(integration time: {fast_sol.integration_time})\"\n",
    ")"
   ]
  },
  {
   "cell_type": "markdown",
   "metadata": {},
   "source": [
    "In general, a larger value of `dt_max` gives a faster solution, since fewer integrator creations and calls are required.\n",
    "\n",
    "Below the solution time interval of 36s, the value of `dt_max` does not affect the solve time, since steps must be at least 36s large.\n",
    "The discrepancy between the solve time and integration time is due to the extra operations recorded by \"solve time\", such as creating the integrator. The \"fast\" solver does not need to do this (it reuses the first one it had already created), so the solve time is much closer to the integration time."
   ]
  },
  {
   "cell_type": "markdown",
   "metadata": {},
   "source": [
    "The example above was a case where no events are triggered, so the largest `dt_max` works well. If we step over events, then it is possible to makes `dt_max` too large, so that the solver will attempt (and fail) to take large steps past the event, iteratively reducing the step size until it works. For example:"
   ]
  },
  {
   "cell_type": "code",
   "execution_count": null,
   "metadata": {},
   "outputs": [],
   "source": [
    "for dt_max in [10, 20, 100, 1000, 3600]:\n",
    "    # Reduce max_num_steps to fail faster\n",
    "    safe_sol = sim.solve(\n",
    "        [0, 4500],\n",
    "        solver=pybamm.CasadiSolver(\n",
    "            mode=\"safe\", dt_max=dt_max, extra_options_setup={\"max_num_steps\": 1000}\n",
    "        ),\n",
    "        inputs={\"Crate\": 1},\n",
    "    )\n",
    "    print(\n",
    "        f\"With dt_max={dt_max}, took {safe_sol.solve_time} \"\n",
    "        + f\"(integration time: {safe_sol.integration_time})\"\n",
    "    )"
   ]
  },
  {
   "cell_type": "markdown",
   "metadata": {},
   "source": [
    "The integration time with `dt_max=3600` remains the fastest, but the solve time is the slowest due to all the failed steps."
   ]
  },
  {
   "cell_type": "markdown",
   "metadata": {},
   "source": [
    "### Choosing the period for faster experiments"
   ]
  },
  {
   "cell_type": "markdown",
   "metadata": {},
   "source": [
    "The \"period\" argument of the experiments also affects how long the simulations take, for a similar reason to `dt_max`. Therefore, this argument can be manually tuned to speed up how long an experiment takes to solve."
   ]
  },
  {
   "cell_type": "markdown",
   "metadata": {},
   "source": [
    "We start with one cycle of CCCV"
   ]
  },
  {
   "cell_type": "code",
   "execution_count": null,
   "metadata": {},
   "outputs": [],
   "source": [
    "experiment = pybamm.Experiment(\n",
    "    [\n",
    "        \"Discharge at C/10 for 10 hours or until 3.3 V\",\n",
    "        \"Rest for 1 hour\",\n",
    "        \"Charge at 1 A until 4.1 V\",\n",
    "        \"Hold at 4.1 V until 50 mA\",\n",
    "        \"Rest for 1 hour\",\n",
    "    ]\n",
    ")\n",
    "solver = pybamm.CasadiSolver(mode=\"safe\", extra_options_setup={\"max_num_steps\": 1000})\n",
    "sim = pybamm.Simulation(model, experiment=experiment, solver=solver)\n",
    "sol = sim.solve()\n",
    "print(\"Took \", sol.solve_time)"
   ]
  },
  {
   "cell_type": "markdown",
   "metadata": {},
   "source": [
    "This gives a nice, smooth voltage curve"
   ]
  },
  {
   "cell_type": "code",
   "execution_count": null,
   "metadata": {},
   "outputs": [],
   "source": [
    "plt.plot(sol[\"Time [s]\"].data, sol[\"Voltage [V]\"].data);"
   ]
  },
  {
   "cell_type": "markdown",
   "metadata": {},
   "source": [
    "We can speed up the experiment by increasing the period, but tradeoff is that the resolution of the solution becomes worse"
   ]
  },
  {
   "cell_type": "code",
   "execution_count": null,
   "metadata": {},
   "outputs": [],
   "source": [
    "experiment = pybamm.Experiment(\n",
    "    [\n",
    "        \"Discharge at C/10 for 10 hours or until 3.3 V\",\n",
    "        \"Rest for 1 hour\",\n",
    "        \"Charge at 1 A until 4.1 V\",\n",
    "        \"Hold at 4.1 V until 50 mA\",\n",
    "        \"Rest for 1 hour\",\n",
    "    ],\n",
    "    period=\"10 minutes\",\n",
    ")\n",
    "sim = pybamm.Simulation(model, experiment=experiment, solver=solver)\n",
    "sol = sim.solve()\n",
    "print(\"Took \", sol.solve_time)\n",
    "plt.plot(sol[\"Time [s]\"].data, sol[\"Voltage [V]\"].data);"
   ]
  },
  {
   "cell_type": "markdown",
   "metadata": {},
   "source": [
    "If we increase the period too much, the experiment becomes slower as the solver takes more failing steps"
   ]
  },
  {
   "cell_type": "code",
   "execution_count": null,
   "metadata": {},
   "outputs": [],
   "source": [
    "experiment = pybamm.Experiment(\n",
    "    [\n",
    "        \"Discharge at C/10 for 10 hours or until 3.3 V\",\n",
    "        \"Rest for 1 hour\",\n",
    "        \"Charge at 1 A until 4.1 V\",\n",
    "        \"Hold at 4.1 V until 50 mA\",\n",
    "        \"Rest for 1 hour\",\n",
    "    ],\n",
    "    period=\"30 minutes\",\n",
    ")\n",
    "sim = pybamm.Simulation(model, experiment=experiment, solver=solver)\n",
    "sol = sim.solve()\n",
    "print(\"Took \", sol.solve_time)\n",
    "plt.plot(sol[\"Time [s]\"].data, sol[\"Voltage [V]\"].data);"
   ]
  },
  {
   "cell_type": "markdown",
   "metadata": {},
   "source": [
    "We can control the period of individual parts of the experiment to get the fastest solution (again, at the cost of resolution)"
   ]
  },
  {
   "cell_type": "code",
   "execution_count": null,
   "metadata": {},
   "outputs": [],
   "source": [
    "s = pybamm.step.string\n",
    "experiment = pybamm.Experiment(\n",
    "    [\n",
    "        s(\"Discharge at C/10 for 10 hours or until 3.3 V\", period=\"5 hours\"),\n",
    "        s(\"Rest for 1 hour\", period=\"30 minutes\"),\n",
    "        s(\"Charge at 1 C until 4.1 V\", period=\"10 minutes\"),\n",
    "        s(\"Hold at 4.1 V until 50 mA\", period=\"10 minutes\"),\n",
    "        s(\"Rest for 1 hour\", period=\"30 minutes\"),\n",
    "    ],\n",
    ")\n",
    "solver = pybamm.CasadiSolver(mode=\"safe\", extra_options_setup={\"max_num_steps\": 1000})\n",
    "sim = pybamm.Simulation(model, experiment=experiment, solver=solver)\n",
    "sol = sim.solve()\n",
    "print(\"Took \", sol.solve_time)\n",
    "plt.plot(sol[\"Time [s]\"].data, sol[\"Voltage [V]\"].data);"
   ]
  },
  {
   "cell_type": "markdown",
   "metadata": {},
   "source": [
    "As you can see, this kind of optimization requires a lot of manual tuning. We are working on ways to make the experiment class more efficient in general."
   ]
  },
  {
   "cell_type": "markdown",
   "metadata": {},
   "source": [
    "### Changing the time interval"
   ]
  },
  {
   "cell_type": "markdown",
   "metadata": {},
   "source": [
    "Finally, in some cases, changing the time interval (either the step size or the final time) may affect whether or not the casadi solver can solve the system. \n",
    "Therefore, if the casadi solver is failing, it may be worth changing the time interval (usually, reducing step size or final time) to see if that allows the solver to solve the model.\n",
    "Unfortunately, we have not yet been able to isolate a minimum working example to demonstrate this effect."
   ]
  },
  {
   "cell_type": "markdown",
   "metadata": {},
   "source": [
    "## Handling instabilities"
   ]
  },
  {
   "cell_type": "markdown",
   "metadata": {},
   "source": [
    "If the solver is taking a lot of steps, possibly failing with a `max_steps` error, and the error persists with different solvers and options, this suggests a problem with the model itself. This can be due to a few things:\n",
    "\n",
    "- A singularity in the model (such as division by zero). Solve up to the time where the model fails, and plot some variables to see if they are going to infinity. You can then narrow down the source of the problem.\n",
    "- High model stiffness. Set the `scale` parameter of variables so that their scaled nominal value (e.g. initial condition) is of order 1, and multiply algebraic equations by appropriate constants so that they are roughly of order 1.\n",
    "- Non-differentiable functions (see [below](#Smooth-approximations-to-non-differentiable-functions))\n",
    "\n",
    "If none of these fixes work, we are interested in finding out why - please get in touch!"
   ]
  },
  {
   "cell_type": "markdown",
   "metadata": {},
   "source": [
    "### Smooth approximations to non-differentiable functions"
   ]
  },
  {
   "cell_type": "markdown",
   "metadata": {},
   "source": [
    "Some functions, such as `minimum`, `maximum`, `heaviside`, and `abs`, are discontinuous and/or non-differentiable (their derivative is discontinuous). Adaptive solvers can deal with this discontinuity, but will take many more steps close to the discontinuity in order to resolve it. Therefore, using soft approximations instead can reduce the number of steps taken by the solver, and hence the integration time. See [this post](https://discourse.julialang.org/t/handling-instability-when-solving-ode-problems/9019/5) for more details.\n",
    "\n",
    "Here is an example using the `maximum` function. The function `maximum(x,1)` is continuous but non-differentiable at `x=1`, where its derivative jumps from 0 to 1. However, we can approximate it using the [`softplus` function](https://en.wikipedia.org/wiki/Rectifier_(neural_networks)#Softplus), which is smooth everywhere and is sometimes used in neural networks as a smooth approximation to the RELU activation function. The `softplus` function is given by\n",
    "$$\n",
    "s(x,y;k) = \\frac{\\log(\\exp(kx)+\\exp(ky))}{k},\n",
    "$$\n",
    "where `k` is a strictly positive smoothing (or sharpness) parameter. The larger the value of `k`, the better the approximation but the stiffer the term (exp blows up quickly!). Usually, a value of `k=10` is a good middle ground.\n",
    "\n",
    "In PyBaMM, you can either call the `softplus` function directly, or change `pybamm.settings.max_smoothing` to automatically replace all your calls to `pybamm.maximum` with `softplus`."
   ]
  },
  {
   "cell_type": "code",
   "execution_count": null,
   "metadata": {},
   "outputs": [],
   "source": [
    "x = pybamm.Variable(\"x\")\n",
    "y = pybamm.Variable(\"y\")\n",
    "\n",
    "# Normal maximum\n",
    "print(f\"Exact maximum: {pybamm.maximum(x, y)}\")\n",
    "\n",
    "# Softplus\n",
    "print(\"Softplus (k=10): \", pybamm.softplus(x, y, 10))\n",
    "\n",
    "# Changing the setting to call softplus automatically\n",
    "pybamm.settings.min_max_mode = \"soft\"\n",
    "pybamm.settings.min_max_smoothing = 20\n",
    "print(f\"Softplus (k=20): {pybamm.maximum(x, y)}\")\n",
    "\n",
    "# All smoothing parameters can be changed at once\n",
    "pybamm.settings.set_smoothing_parameters(30)\n",
    "print(f\"Softplus (k=30): {pybamm.maximum(x, y)}\")\n",
    "\n",
    "# Change back\n",
    "pybamm.settings.set_smoothing_parameters(\"exact\")\n",
    "print(f\"Exact maximum: {pybamm.maximum(x, y)}\")"
   ]
  },
  {
   "cell_type": "markdown",
   "metadata": {},
   "source": [
    "Note that if both sides are constant then pybamm will use the exact value even if the setting is set to smoothing"
   ]
  },
  {
   "cell_type": "code",
   "execution_count": null,
   "metadata": {},
   "outputs": [],
   "source": [
    "a = pybamm.InputParameter(\"a\")\n",
    "pybamm.settings.max_smoothing = 20\n",
    "# Both inputs are constant so uses exact maximum\n",
    "print(\"Exact:\", pybamm.maximum(0.999, 1).evaluate())\n",
    "# One input is not constant (InputParameter) so uses softplus\n",
    "print(\"Softplus:\", pybamm.maximum(a, 1).evaluate(inputs={\"a\": 0.999}))\n",
    "pybamm.settings.set_smoothing_parameters(\"exact\")"
   ]
  },
  {
   "cell_type": "markdown",
   "metadata": {},
   "source": [
    "Here is the plot of softplus with different values of `k`"
   ]
  },
  {
   "cell_type": "code",
   "execution_count": null,
   "metadata": {},
   "outputs": [],
   "source": [
    "pts = pybamm.linspace(0, 2, 100)\n",
    "\n",
    "fig, ax = plt.subplots(figsize=(10, 5))\n",
    "ax.plot(pts.evaluate(), pybamm.maximum(pts, 1).evaluate(), lw=2, label=\"exact\")\n",
    "ax.plot(\n",
    "    pts.evaluate(),\n",
    "    pybamm.softplus(pts, 1, 5).evaluate(),\n",
    "    \":\",\n",
    "    lw=2,\n",
    "    label=\"softplus (k=5)\",\n",
    ")\n",
    "ax.plot(\n",
    "    pts.evaluate(),\n",
    "    pybamm.softplus(pts, 1, 10).evaluate(),\n",
    "    \":\",\n",
    "    lw=2,\n",
    "    label=\"softplus (k=10)\",\n",
    ")\n",
    "ax.plot(\n",
    "    pts.evaluate(),\n",
    "    pybamm.softplus(pts, 1, 100).evaluate(),\n",
    "    \":\",\n",
    "    lw=2,\n",
    "    label=\"softplus (k=100)\",\n",
    ")\n",
    "ax.legend();"
   ]
  },
  {
   "cell_type": "markdown",
   "metadata": {},
   "source": [
    "Solving a model with the exact maximum and soft approximation, demonstrates a clear speed-up even for a very simple model"
   ]
  },
  {
   "cell_type": "code",
   "execution_count": null,
   "metadata": {},
   "outputs": [],
   "source": [
    "model_exact = pybamm.BaseModel()\n",
    "model_exact.rhs = {x: pybamm.maximum(x, 1)}\n",
    "model_exact.initial_conditions = {x: 0.5}\n",
    "model_exact.variables = {\"x\": x, \"max(x,1)\": pybamm.maximum(x, 1)}\n",
    "\n",
    "model_smooth = pybamm.BaseModel()\n",
    "k = pybamm.InputParameter(\"k\")\n",
    "model_smooth.rhs = {x: pybamm.softplus(x, 1, k)}\n",
    "model_smooth.initial_conditions = {x: 0.5}\n",
    "model_smooth.variables = {\"x\": x, \"max(x,1)\": pybamm.softplus(x, 1, k)}\n",
    "\n",
    "\n",
    "# Exact solution\n",
    "timer = pybamm.Timer()\n",
    "time = 0\n",
    "solver = pybamm.CasadiSolver(mode=\"fast\")\n",
    "for _ in range(100):\n",
    "    exact_sol = solver.solve(model_exact, [0, 2])\n",
    "    # Report integration time, which is the time spent actually doing the integration\n",
    "    time += exact_sol.integration_time\n",
    "print(\"Exact:\", time / 100)\n",
    "sols = [exact_sol]\n",
    "\n",
    "ks = [5, 10, 100]\n",
    "solver = pybamm.CasadiSolver(mode=\"fast\")\n",
    "for k in ks:\n",
    "    time = 0\n",
    "    for _ in range(100):\n",
    "        sol = solver.solve(model_smooth, [0, 2], inputs={\"k\": k})\n",
    "        time += sol.integration_time\n",
    "    print(f\"Soft, k={k}:\", time / 100)\n",
    "    sols.append(sol)\n",
    "\n",
    "pybamm.dynamic_plot(\n",
    "    sols, [\"x\", \"max(x,1)\"], labels=[\"exact\"] + [f\"soft (k={k})\" for k in ks]\n",
    ");"
   ]
  },
  {
   "cell_type": "markdown",
   "metadata": {},
   "source": [
    "For the minimum and maximum functions, an alternative smoothing functions (smooth_max, smooth_min) are provided.\n",
    "$$\n",
    " \\textrm{min}(x, y) = 0.5 * (\\sqrt((x - y)^2 + \\sigma) + (x + y))\n",
    " \\quad , \\quad\n",
    " \\textrm{max}(x, y) = 0.5 * ((x + y) - \\sqrt((x - y)^2 + \\sigma))\n",
    "$$\n",
    "where\n",
    "$$\n",
    " \\sigma = \\frac{1}{k^2}\n",
    "$$\n",
    "For the smooth minimum and maximum functions, the recommended value of k is 100, where the function closely approximates the exact function, but is differentiable.\n",
    "\n",
    "Changing between the soft, smooth, and exact functions can be done by setting the `min_max_mode` and the value of `k` stored in `min_max_smoothing`"
   ]
  },
  {
   "cell_type": "code",
   "execution_count": null,
   "metadata": {},
   "outputs": [],
   "source": [
    "x = pybamm.Variable(\"x\")\n",
    "y = pybamm.Variable(\"y\")\n",
    "\n",
    "# Normal maximum\n",
    "print(f\"Exact maximum: {pybamm.maximum(x, y)}\")\n",
    "\n",
    "# Smooth plus can be called explicitly\n",
    "print(\"Smooth plus (k=100): \", pybamm.smooth_max(x, y, 100))\n",
    "\n",
    "# Smooth plus and smooth minus will be used when the mode is set to \"smooth\"\n",
    "pybamm.settings.min_max_mode = \"smooth\"\n",
    "pybamm.settings.min_max_smoothing = 200\n",
    "print(f\"Smooth plus (k=200): {pybamm.maximum(x, y)}\")\n",
    "\n",
    "# Setting the smoothing parameters with set_smoothing_parameters() defaults to softplus\n",
    "pybamm.settings.set_smoothing_parameters(10)\n",
    "print(f\"Softplus (k=10): {pybamm.maximum(x, y)}\")\n",
    "\n",
    "# Change back\n",
    "pybamm.settings.set_smoothing_parameters(\"exact\")\n",
    "print(f\"Exact maximum: {pybamm.maximum(x, y)}\")"
   ]
  },
  {
   "cell_type": "markdown",
   "metadata": {},
   "source": [
    "Here is the plot of smooth_max with different values of `k`"
   ]
  },
  {
   "cell_type": "code",
   "execution_count": null,
   "metadata": {},
   "outputs": [],
   "source": [
    "pts = pybamm.linspace(0, 2, 100)\n",
    "\n",
    "fig, ax = plt.subplots(figsize=(10, 5))\n",
    "ax.plot(pts.evaluate(), pybamm.maximum(pts, 1).evaluate(), lw=2, label=\"exact\")\n",
    "ax.plot(\n",
    "    pts.evaluate(),\n",
    "    pybamm.smooth_max(pts, 1, 5).evaluate(),\n",
    "    \":\",\n",
    "    lw=2,\n",
    "    label=\"smooth_max (k=5)\",\n",
    ")\n",
    "ax.plot(\n",
    "    pts.evaluate(),\n",
    "    pybamm.smooth_max(pts, 1, 10).evaluate(),\n",
    "    \":\",\n",
    "    lw=2,\n",
    "    label=\"smooth_max (k=10)\",\n",
    ")\n",
    "ax.plot(\n",
    "    pts.evaluate(),\n",
    "    pybamm.smooth_max(pts, 1, 100).evaluate(),\n",
    "    \":\",\n",
    "    lw=2,\n",
    "    label=\"smooth_max (k=100)\",\n",
    ")\n",
    "ax.legend();"
   ]
  },
  {
   "cell_type": "markdown",
   "metadata": {},
   "source": [
    "Solving a model with the exact maximum and smooth approximation, demonstrates a clear speed-up even for a very simple model"
   ]
  },
  {
   "cell_type": "code",
   "execution_count": null,
   "metadata": {},
   "outputs": [],
   "source": [
    "model_exact = pybamm.BaseModel()\n",
    "model_exact.rhs = {x: pybamm.maximum(x, 1)}\n",
    "model_exact.initial_conditions = {x: 0.5}\n",
    "model_exact.variables = {\"x\": x, \"max(x,1)\": pybamm.maximum(x, 1)}\n",
    "\n",
    "model_smooth = pybamm.BaseModel()\n",
    "k = pybamm.InputParameter(\"k\")\n",
    "model_smooth.rhs = {x: pybamm.smooth_max(x, 1, k)}\n",
    "model_smooth.initial_conditions = {x: 0.5}\n",
    "model_smooth.variables = {\"x\": x, \"max(x,1)\": pybamm.smooth_max(x, 1, k)}\n",
    "\n",
    "\n",
    "# Exact solution\n",
    "timer = pybamm.Timer()\n",
    "time = 0\n",
    "solver = pybamm.CasadiSolver(mode=\"fast\")\n",
    "for _ in range(100):\n",
    "    exact_sol = solver.solve(model_exact, [0, 2])\n",
    "    # Report integration time, which is the time spent actually doing the integration\n",
    "    time += exact_sol.integration_time\n",
    "print(\"Exact:\", time / 100)\n",
    "sols = [exact_sol]\n",
    "\n",
    "ks = [10, 50, 100, 1000, 10000]\n",
    "solver = pybamm.CasadiSolver(mode=\"fast\")\n",
    "for k in ks:\n",
    "    time = 0\n",
    "    for _ in range(100):\n",
    "        sol = solver.solve(model_smooth, [0, 2], inputs={\"k\": k})\n",
    "        time += sol.integration_time\n",
    "    print(f\"Smooth, k={k}:\", time / 100)\n",
    "    sols.append(sol)\n",
    "\n",
    "pybamm.dynamic_plot(\n",
    "    sols, [\"x\", \"max(x,1)\"], labels=[\"exact\"] + [f\"soft (k={k})\" for k in ks]\n",
    ");"
   ]
  },
  {
   "cell_type": "markdown",
   "metadata": {},
   "source": [
    "#### Other smooth approximations"
   ]
  },
  {
   "cell_type": "markdown",
   "metadata": {},
   "source": [
    "Here are the other smooth approximations for the other non-smooth functions:"
   ]
  },
  {
   "cell_type": "code",
   "execution_count": null,
   "metadata": {},
   "outputs": [],
   "source": [
    "pybamm.settings.set_smoothing_parameters(10)\n",
    "print(f\"Soft minimum (softminus):\\t {pybamm.minimum(x, y)!s}\")\n",
    "print(f\"Smooth heaviside (sigmoid):\\t {x < y!s}\")\n",
    "print(f\"Smooth absolute value: \\t\\t {abs(x)!s}\")\n",
    "pybamm.settings.min_max_mode = \"smooth\"\n",
    "print(f\"Smooth minimum:\\t\\t\\t {pybamm.minimum(x, y)!s}\")\n",
    "pybamm.settings.set_smoothing_parameters(\"exact\")"
   ]
  },
  {
   "cell_type": "markdown",
   "metadata": {},
   "source": [
    "## References\n",
    "\n",
    "The relevant papers for this notebook are:"
   ]
  },
  {
   "cell_type": "code",
   "execution_count": null,
   "metadata": {},
   "outputs": [],
   "source": [
    "pybamm.print_citations()"
   ]
  }
 ],
 "metadata": {
  "kernelspec": {
   "display_name": "Python 3 (ipykernel)",
   "language": "python",
   "name": "python3"
  },
  "language_info": {
   "codemirror_mode": {
    "name": "ipython",
    "version": 3
   },
   "file_extension": ".py",
   "mimetype": "text/x-python",
   "name": "python",
   "nbconvert_exporter": "python",
   "pygments_lexer": "ipython3",
   "version": "3.9.18"
  },
  "toc": {
   "base_numbering": 1,
   "nav_menu": {},
   "number_sections": true,
   "sideBar": true,
   "skip_h1_title": false,
   "title_cell": "Table of Contents",
   "title_sidebar": "Contents",
   "toc_cell": false,
   "toc_position": {},
   "toc_section_display": true,
   "toc_window_display": true
  },
  "vscode": {
   "interpreter": {
    "hash": "bca2b99bfac80e18288b793d52fa0653ab9b5fe5d22e7b211c44eb982a41c00c"
   }
  }
 },
 "nbformat": 4,
 "nbformat_minor": 4
}
