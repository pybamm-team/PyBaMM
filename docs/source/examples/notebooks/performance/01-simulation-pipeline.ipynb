{
 "cells": [
  {
   "cell_type": "markdown",
   "metadata": {},
   "source": [
    "# Understanding the PyBaMM pipeline and performance profile of the Simulation class\n",
    "\n",
    "This notebook discusses the main steps that PyBaMM performs to go from an initial model to a final solution, and how you can use this information to optimise the performance of your simulations. We will also discuss the `pybamm.Simulation` class, which is a convenience class that wraps up the entire pipeline into a single class, and how you can use this class most efficiently to run your simulations, taking into account the performance characteristics of the different steps of the pipeline and the caching behaviour of the `pybamm.Simulation` class.\n"
   ]
  },
  {
   "cell_type": "code",
   "execution_count": 1,
   "metadata": {},
   "outputs": [
    {
     "name": "stdout",
     "output_type": "stream",
     "text": [
      "Note: you may need to restart the kernel to use updated packages.\n"
     ]
    }
   ],
   "source": [
    "%pip install \"pybamm[plot,cite]\" -q    # install PyBaMM if it is not installed\n",
    "import numpy as np\n",
    "\n",
    "import pybamm"
   ]
  },
  {
   "cell_type": "markdown",
   "metadata": {},
   "source": [
    "\n",
    "## The PyBaMM Pipeline\n",
    "\n",
    "The PyBaMM pipeline is a series of steps that are taken to go from a model to a final solution. \n",
    "At the start of the pipeline, a pybamm model consists of a set of equations make up of symbols arranged in an [expression tree](https://docs.pybamm.org/en/stable/source/examples/notebooks/expression_tree/expression-tree.html). Each symbol could be a parameter (`pybamm.Parameter`), a variable (`pybamm.Variable`), a binary operator (`pybamm.Addition`, `pybamm.Multiplication`, etc.), or a unary operator (`pybamm.Negate`, `pybamm.Gradient`). You can see all the possible symbols in the API docs [here](https://docs.pybamm.org/en/stable/source/api/expression_tree/index.html). The pipeline is a series of steps that first transforms this expression tree into a form that can be solved by a numerical solver, and then solves the equations to get the solution.\n",
    "\n",
    "\n",
    "The pipeline is as follows:\n",
    "\n",
    "1. **Parameter replacement** - The first step of the pipeline is performed by the [`pybamm.ParameterValues`](https://docs.pybamm.org/en/stable/source/api/parameters/parameter_values.html#pybamm.ParameterValues) class, which (a) replaces all `pybamm.Parameter` symbols with their corresponding values (e.g. using `pybamm.Scalar`), and (b) replaces all `pybamm.FunctionParameter` symbols with either a `pybamm.Scalar`, `pybamm.Interpolant`, or `pybamm.Function` object. \n",
    "2. **Discretisation** - The next step is to discretise the model equations. This is done by the [`pybamm.Discretisation`](https://docs.pybamm.org/en/stable/source/api/spatial_methods/discretisation.html) class, which replaces all the symbols representing spatial derivatives (e.g. `pybamm.Gradient`) with a matrix that can be used to solve the equations numerically.\n",
    "3. **Solver setup** - The next step is to set up the numerical solver. This is done by the [`pybamm.BaseSolver`](https://docs.pybamm.org/en/stable/source/api/solvers/base_solver.html#pybamm.BaseSolver) class, which transforms the expression trees into a form that can be evaluated by the numerical solver. PyBaMM has a few different forms that can be used, but generally, this means that each expression tree is transformed into a CasADi function that can be evaluated at a given time and state.\n",
    "4. **Solver solve** - The next step is to solve the equations. This is done by the numerical solver, which in most cases is one of the solvers provided by the [Sundials](https://sundials.readthedocs.io/en/latest/#) suite of solvers. The solver takes the CasADi functions generated in the previous step and uses them to solve the equations numerically.\n",
    "5. **Post-processing** - The output of the previous step is the solution to the equations at a set of time points. The final step is to post-process this solution to get the variables of interest. This is done by the [`pybamm.Solution`](https://docs.pybamm.org/en/stable/source/api/solvers/solution.html) and [`pybamm.ParameterValues`](https://docs.pybamm.org/en/stable/source/api/parameters/parameter_values.html#pybamm.ParameterValues) classes, which take the solution and the parameter values and return the variables of interest interpolated at the desired time points.\n",
    "\n",
    "For every simulation you run with PyBaMM, these steps are always performed in order to generate each solution, even if they are hidden from you by various convenience classes like [`pybamm.Simulation`](https://docs.pybamm.org/en/stable/source/api/simulation.html) . Understanding the pipeline is important because it can help you identify where the performance bottlenecks are in your simulations, and how you can optimise them to get the best performance.\n",
    "\n",
    "Below is a simple example that demonstrates the different parts of the pipeline, using the DFN model. While you probably have seen something similar to this script before, the one difference is that we have split the solver setup (step 3) and solve (step 4) parts of the pipeline into two separate steps. Often these are combined into the first call to the solver, but we have split them here to make it clear that they are separate steps."
   ]
  },
  {
   "cell_type": "code",
   "execution_count": 2,
   "metadata": {},
   "outputs": [
    {
     "data": {
      "image/png": "[encoded data removed]",
      "text/plain": [
       "<Figure size 640x480 with 1 Axes>"
      ]
     },
     "metadata": {},
     "output_type": "display_data"
    }
   ],
   "source": [
    "# load model\n",
    "model = pybamm.lithium_ion.DFN()\n",
    "\n",
    "# Step 1: Parameter replacement\n",
    "parameter_values = model.default_parameter_values\n",
    "parameter_values.process_model(model)\n",
    "geometry = model.default_geometry\n",
    "parameter_values.process_geometry(geometry)\n",
    "\n",
    "# Step 2: Discretisation\n",
    "mesh = pybamm.Mesh(geometry, model.default_submesh_types, model.default_var_pts)\n",
    "disc = pybamm.Discretisation(mesh, model.default_spatial_methods)\n",
    "disc.process_model(model)\n",
    "\n",
    "# Step 3: Solver setup\n",
    "#    The `set_up` method is normally called by the `solve` method if not called explicitly.\n",
    "#    We also need to update `_model_set_up` to include the initial conditions or the solver\n",
    "#    will call `set_up` again during `solve`.\n",
    "solver = pybamm.IDAKLUSolver()\n",
    "solver.set_up(model)\n",
    "solver._model_set_up.update(\n",
    "    {model: {\"initial conditions\": model.concatenated_initial_conditions}}\n",
    ")\n",
    "\n",
    "# Step 4: Solver solve\n",
    "solution = solver.solve(model, [0, 3600])\n",
    "\n",
    "# Step 5: Post-processing\n",
    "t_evals = np.linspace(0, 3600, 100)\n",
    "voltage = solution[\"Terminal voltage [V]\"](t_evals)\n",
    "\n",
    "# Plot the results\n",
    "import matplotlib.pyplot as plt\n",
    "\n",
    "plt.plot(t_evals, voltage)\n",
    "plt.xlabel(\"Time [s]\")\n",
    "plt.ylabel(\"Voltage [V]\")\n",
    "plt.show()"
   ]
  },
  {
   "cell_type": "markdown",
   "metadata": {},
   "source": [
    "Now we'll instrument this script to time each part of the pipeline, using the high-resolution timer provided by the `time` module in Python. This will allow us to see how long each part of the pipeline takes, and where the performance bottlenecks are."
   ]
  },
  {
   "cell_type": "code",
   "execution_count": 3,
   "metadata": {},
   "outputs": [
    {
     "name": "stdout",
     "output_type": "stream",
     "text": [
      "Parameter replacement took 0.073 seconds\n",
      "Discretisation took 0.238 seconds\n",
      "Solver setup took 0.076 seconds\n",
      "Solver solve took 0.028 seconds\n",
      "Post-processing took 0.002 seconds\n",
      "Total time taken: 0.418 seconds\n"
     ]
    }
   ],
   "source": [
    "import time\n",
    "\n",
    "# load model\n",
    "model = pybamm.lithium_ion.DFN()\n",
    "\n",
    "# Step 1: Parameter replacement\n",
    "total_start = time.perf_counter()\n",
    "start = time.perf_counter()\n",
    "parameter_values = model.default_parameter_values\n",
    "parameter_values.process_model(model)\n",
    "geometry = model.default_geometry\n",
    "parameter_values.process_geometry(geometry)\n",
    "end = time.perf_counter()\n",
    "print(f\"Parameter replacement took {end - start:.3f} seconds\")\n",
    "\n",
    "# Step 2: Discretisation\n",
    "start = time.perf_counter()\n",
    "mesh = pybamm.Mesh(geometry, model.default_submesh_types, model.default_var_pts)\n",
    "disc = pybamm.Discretisation(mesh, model.default_spatial_methods)\n",
    "disc.process_model(model)\n",
    "end = time.perf_counter()\n",
    "print(f\"Discretisation took {end - start:.3f} seconds\")\n",
    "\n",
    "# Step 3: Solver setup\n",
    "start = time.perf_counter()\n",
    "solver = pybamm.IDAKLUSolver()\n",
    "solver.set_up(model)\n",
    "solver._model_set_up.update(\n",
    "    {model: {\"initial conditions\": model.concatenated_initial_conditions}}\n",
    ")\n",
    "end = time.perf_counter()\n",
    "print(f\"Solver setup took {end - start:.3f} seconds\")\n",
    "\n",
    "# Step 4: Solver solve\n",
    "start = time.perf_counter()\n",
    "solution = solver.solve(model, [0, 3600])\n",
    "end = time.perf_counter()\n",
    "print(f\"Solver solve took {end - start:.3f} seconds\")\n",
    "\n",
    "# Step 5: Post-processing\n",
    "start = time.perf_counter()\n",
    "t_evals = np.linspace(0, 3600, 100)\n",
    "voltage = solution[\"Terminal voltage [V]\"](t_evals)\n",
    "end = time.perf_counter()\n",
    "print(f\"Post-processing took {end - start:.3f} seconds\")\n",
    "total_end = time.perf_counter()\n",
    "print(f\"Total time taken: {total_end - total_start:.3f} seconds\")"
   ]
  },
  {
   "cell_type": "markdown",
   "metadata": {},
   "source": [
    "From this output, we can see that the actual time taken to solve the equations is only a small percentage (less than 10%) of the total time taken to run the simulation. In fact, the most time-consuming step is the discretisation, which takes roughly 50% of the total time to discretise the spatial derivatives of the model. Even when this has all been done, the solver setup takes more than double the time of the actual solve. All of these numbers emphasises the fact that there is significant overhead in setting up the equations and the solver before the actual solution can be computed. Therefore, if you are looking to optimise the performance of your simulations, you should take care to ensure that you minimise the time spent in the setup steps of the pipeline, particularly if you are running many simulations with the same model and/or discretisation.\n",
    "\n",
    "Note you can also use the logging features in PyBaMM to automatically print out the time taken for the solver setup and solve time. This can be done by setting the logging level to `INFO` before running the simulation, like so:"
   ]
  },
  {
   "cell_type": "code",
   "execution_count": 4,
   "metadata": {},
   "outputs": [
    {
     "name": "stderr",
     "output_type": "stream",
     "text": [
      "2025-01-07 17:32:33.236 - [INFO] base_model._build_model(829): Start building Doyle-Fuller-Newman model\n",
      "2025-01-07 17:32:33.268 - [INFO] base_battery_model.build_model(1072): Finish building Doyle-Fuller-Newman model\n",
      "2025-01-07 17:32:33.269 - [INFO] parameter_values.process_model(463): Start setting parameters for Doyle-Fuller-Newman model\n",
      "2025-01-07 17:32:33.340 - [INFO] parameter_values.process_model(532): Finish setting parameters for Doyle-Fuller-Newman model\n",
      "2025-01-07 17:32:33.344 - [INFO] discretisation.process_model(142): Start discretising Doyle-Fuller-Newman model\n",
      "2025-01-07 17:32:33.581 - [INFO] discretisation.process_model(244): Finish discretising Doyle-Fuller-Newman model\n",
      "2025-01-07 17:32:33.582 - [INFO] base_solver.solve(758): Start solving Doyle-Fuller-Newman model with IDA KLU solver\n",
      "2025-01-07 17:32:33.584 - [INFO] base_solver.set_up(138): Start solver set-up\n",
      "2025-01-07 17:32:33.637 - [INFO] base_solver.set_up(280): Finish solver set-up\n",
      "2025-01-07 17:32:33.689 - [INFO] base_solver.solve(979): Finish solving Doyle-Fuller-Newman model (the solver successfully reached the end of the integration interval)\n",
      "2025-01-07 17:32:33.690 - [INFO] base_solver.solve(980): Set-up time: 83.762 ms, Solve time: 21.137 ms (of which integration time: 20.928 ms), Total time: 104.899 ms\n"
     ]
    }
   ],
   "source": [
    "pybamm.set_logging_level(\"INFO\")\n",
    "\n",
    "# load model\n",
    "model = pybamm.lithium_ion.DFN()\n",
    "\n",
    "# Step 1: Parameter replacement\n",
    "parameter_values = model.default_parameter_values\n",
    "parameter_values.process_model(model)\n",
    "geometry = model.default_geometry\n",
    "parameter_values.process_geometry(geometry)\n",
    "\n",
    "# Step 2: Discretisation\n",
    "var = pybamm.standard_spatial_vars\n",
    "mesh = pybamm.Mesh(geometry, model.default_submesh_types, model.default_var_pts)\n",
    "disc = pybamm.Discretisation(mesh, model.default_spatial_methods)\n",
    "disc.process_model(model)\n",
    "\n",
    "# Step 3 & 4: Solver setup\n",
    "solver = pybamm.IDAKLUSolver()\n",
    "t_eval = [0, 3600]\n",
    "solution = solver.solve(model, t_eval)\n",
    "\n",
    "# Step 5: Post-processing\n",
    "t_interp = np.linspace(0, 3600, 100)\n",
    "voltage = solution[\"Terminal voltage [V]\"](t_interp)\n",
    "\n",
    "pybamm.set_logging_level(\"WARNING\")"
   ]
  },
  {
   "cell_type": "markdown",
   "metadata": {},
   "source": [
    "## The Simulation Class\n",
    "\n",
    "The `pybamm.Simulation` class is a convenience class that wraps up the entire pipeline into a single class that can be used to setup the model equations and solver and run the simulation in a single call. This class is an easy-to-use wrapper for the PyBaMM pipeline, and provides many useful features for initialising simulations and running experiments. However, it is important to understand that the `pybamm.Simulation` class still performs all the steps of the pipeline, and so the performance characteristics of the `pybamm.Simulation` class are the same as the individual steps of the pipeline.\n",
    "\n",
    "Lets see how we can use the `pybamm.Simulation` class to run the same simulation as above:"
   ]
  },
  {
   "cell_type": "code",
   "execution_count": 5,
   "metadata": {},
   "outputs": [
    {
     "data": {
      "image/png": "[encoded data removed]",
      "text/plain": [
       "<Figure size 640x480 with 1 Axes>"
      ]
     },
     "metadata": {},
     "output_type": "display_data"
    }
   ],
   "source": [
    "# create simulation\n",
    "model = pybamm.lithium_ion.DFN()\n",
    "solver = pybamm.IDAKLUSolver()\n",
    "sim = pybamm.Simulation(model, solver=solver)\n",
    "\n",
    "# solve\n",
    "solution = sim.solve([0, 3600])\n",
    "\n",
    "# Post-processing\n",
    "t_evals = np.linspace(0, 3600, 100)\n",
    "voltage = solution[\"Terminal voltage [V]\"](t_evals)\n",
    "\n",
    "# Plot the results\n",
    "import matplotlib.pyplot as plt\n",
    "\n",
    "plt.plot(t_evals, voltage)\n",
    "plt.xlabel(\"Time [s]\")\n",
    "plt.ylabel(\"Voltage [V]\")\n",
    "plt.show()"
   ]
  },
  {
   "cell_type": "markdown",
   "metadata": {},
   "source": [
    "Once again we can instrument this script to time the different parts. In this case, the entire pipeline is performed during the `solve` call, but helpfully the `pybamm.Simulation` class will cache the discretisation and solver setup so that they only need to be performed once. So subsequent calls to `solve` will be faster than the first call and will only include the solver solve step (step 4). So we can time the first call to `solve` and then time subsequent calls to `solve` to see the difference."
   ]
  },
  {
   "cell_type": "code",
   "execution_count": 6,
   "metadata": {},
   "outputs": [
    {
     "name": "stdout",
     "output_type": "stream",
     "text": [
      "First solve took 0.411 seconds\n",
      "Second solve took 0.026 seconds\n",
      "Third solve took 0.026 seconds\n",
      "Post-processing took 0.002 seconds\n"
     ]
    }
   ],
   "source": [
    "model = pybamm.lithium_ion.DFN()\n",
    "solver = pybamm.IDAKLUSolver()\n",
    "sim = pybamm.Simulation(model, solver=solver)\n",
    "\n",
    "# solve\n",
    "start = time.perf_counter()\n",
    "solution = sim.solve([0, 3600])\n",
    "end = time.perf_counter()\n",
    "print(f\"First solve took {end - start:.3f} seconds\")\n",
    "\n",
    "# solve again\n",
    "start = time.perf_counter()\n",
    "solution = sim.solve([0, 3600])\n",
    "end = time.perf_counter()\n",
    "print(f\"Second solve took {end - start:.3f} seconds\")\n",
    "\n",
    "# solve again\n",
    "start = time.perf_counter()\n",
    "solution = sim.solve([0, 3600])\n",
    "end = time.perf_counter()\n",
    "print(f\"Third solve took {end - start:.3f} seconds\")\n",
    "\n",
    "# Post-processing\n",
    "start = time.perf_counter()\n",
    "t_evals = np.linspace(0, 3600, 100)\n",
    "voltage = solution[\"Terminal voltage [V]\"](t_evals)\n",
    "end = time.perf_counter()\n",
    "print(f\"Post-processing took {end - start:.3f} seconds\")"
   ]
  },
  {
   "cell_type": "markdown",
   "metadata": {},
   "source": [
    "From this output you can see that the first call to `solve` takes roughly the same amount of time as the entire pipeline, but subsequent calls to `solve` are much faster because the discretisation and solver setup have already been performed. \n",
    "\n",
    "## Conclusion\n",
    "\n",
    "The main takeaway from this is that the simulation object is a heavy object that caches many of the intermediate steps of the pipeline, so if you are running many simulations with the same model and discretisation, you should use the same simulation object to avoid the overhead of setting up the simulation each time. For the particular case of varying the parameters of the model, you can use input parameters to keep certain model parameters as symbols rather than concrete values during the 1st step of the pipeline, thus allowing you to re-use a particular discretisation and solver setup. This will be discussed in more depth in the next notebook."
   ]
  }
 ],
 "metadata": {
  "kernelspec": {
   "display_name": "env",
   "language": "python",
   "name": "python3"
  },
  "language_info": {
   "codemirror_mode": {
    "name": "ipython",
    "version": 3
   },
   "file_extension": ".py",
   "mimetype": "text/x-python",
   "name": "python",
   "nbconvert_exporter": "python",
   "pygments_lexer": "ipython3",
   "version": "3.10.12"
  }
 },
 "nbformat": 4,
 "nbformat_minor": 2
}
