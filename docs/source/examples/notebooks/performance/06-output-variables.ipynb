{
 "cells": [
  {
   "cell_type": "code",
   "execution_count": 18,
   "metadata": {},
   "outputs": [
    {
     "name": "stderr",
     "output_type": "stream",
     "text": [
      "2025-01-08 08:51:58.686 - [WARNING] callbacks.on_experiment_infeasible_event(252): \n",
      "\n",
      "\tExperiment is infeasible: 'event: Maximum voltage [V]' was triggered during 'Charge at 1 A for 1 hour'. The returned solution only contains up to step 1 of cycle 1. \n"
     ]
    },
    {
     "name": "stdout",
     "output_type": "stream",
     "text": [
      "Total allocated size: 9599.1 KiB\n"
     ]
    }
   ],
   "source": [
    "import pybamm\n",
    "import tracemalloc\n",
    "import numpy as np\n",
    "\n",
    "model = pybamm.lithium_ion.DFN()\n",
    "solver = pybamm.IDAKLUSolver()\n",
    "experiment = pybamm.Experiment(\n",
    "    [\"Charge at 1 A for 1 hour\", \"Discharge at 1 A for 1 hour\"] * 100\n",
    ")\n",
    "\n",
    "tracemalloc.start()\n",
    "sim = pybamm.Simulation(model, solver=solver, experiment=experiment)\n",
    "sol = sim.solve()\n",
    "t_eval = np.linspace(0, 3600 * 10, 100)\n",
    "voltage = sol[\"Terminal voltage [V]\"](t_eval)\n",
    "snapshot = tracemalloc.take_snapshot()\n",
    "top_stats = snapshot.statistics(\"lineno\")\n",
    "total_size = sum(stat.size for stat in top_stats)\n",
    "print(\"Total allocated size: %.1f KiB\" % (total_size / 1024))\n",
    "tracemalloc.stop()"
   ]
  },
  {
   "cell_type": "code",
   "execution_count": 15,
   "metadata": {},
   "outputs": [
    {
     "name": "stderr",
     "output_type": "stream",
     "text": [
      "2025-01-08 08:51:27.636 - [WARNING] callbacks.on_experiment_infeasible_event(252): \n",
      "\n",
      "\tExperiment is infeasible: 'event: Maximum voltage [V]' was triggered during 'Charge at 1 A for 1 hour'. The returned solution only contains up to step 1 of cycle 1. \n"
     ]
    },
    {
     "name": "stdout",
     "output_type": "stream",
     "text": [
      "Total allocated size: 7671.9 KiB\n"
     ]
    }
   ],
   "source": [
    "import pybamm\n",
    "import tracemalloc\n",
    "import numpy as np\n",
    "\n",
    "model = pybamm.lithium_ion.DFN()\n",
    "solver = pybamm.IDAKLUSolver(output_variables=[\"Voltage [V]\"])\n",
    "experiment = pybamm.Experiment(\n",
    "    [\"Charge at 1 A for 1 hour\", \"Discharge at 1 A for 1 hour\"] * 10\n",
    ")\n",
    "\n",
    "tracemalloc.start()\n",
    "sim = pybamm.Simulation(model, solver=solver, experiment=experiment)\n",
    "sol = sim.solve()\n",
    "t_eval = np.linspace(0, 3600 * 10, 100)\n",
    "voltage = sol[\"Voltage [V]\"](t_eval)\n",
    "snapshot = tracemalloc.take_snapshot()\n",
    "top_stats = snapshot.statistics(\"lineno\")\n",
    "total_size = sum(stat.size for stat in top_stats)\n",
    "print(\"Total allocated size: %.1f KiB\" % (total_size / 1024))\n",
    "tracemalloc.stop()"
   ]
  }
 ],
 "metadata": {
  "kernelspec": {
   "display_name": "env",
   "language": "python",
   "name": "python3"
  },
  "language_info": {
   "codemirror_mode": {
    "name": "ipython",
    "version": 3
   },
   "file_extension": ".py",
   "mimetype": "text/x-python",
   "name": "python",
   "nbconvert_exporter": "python",
   "pygments_lexer": "ipython3",
   "version": "3.10.12"
  }
 },
 "nbformat": 4,
 "nbformat_minor": 2
}
