{
 "cells": [
  {
   "cell_type": "markdown",
   "metadata": {},
   "source": [
    "# Solver tolerances\n"
   ]
  },
  {
   "cell_type": "code",
   "execution_count": null,
   "metadata": {},
   "outputs": [],
   "source": [
    "import pybamm\n",
    "import numpy as np\n",
    "import time"
   ]
  },
  {
   "cell_type": "markdown",
   "metadata": {},
   "source": [
    "\n",
    "The goal of each solver is the solve the problem as fast as possible while maintaining a certain level of accuracy. The accuracy is controlled by the tolerances, one for the relative residual and one for the absolute residual.\n",
    "\n",
    "At each iteration, the solver computes an estimate of the current error $\\mathbf{e_k} = \\mathbf{y_k} - \\mathbf{y}$, where $\\mathbf{y_k}$ is the current approximation and $\\mathbf{y}$ is the exact solution. It accepts the current approximation if the error is small enough according to the set relative tolerance $\\epsilon_r$ and absolute tolerance $\\epsilon_a$, using the following criteria:\n",
    "\n",
    "$$\n",
    "\\sqrt{\\frac{1}{n} \\sum_{i=1}^n \\left( \\frac{e_{k,i}}{\\epsilon_r |y_i| + \\epsilon_a} \\right)^2 } \\leq 1\n",
    "$$\n",
    "\n",
    "The relative tolerance is used to control the error relative to the current magnitude of the solution, while the absolute tolerance is used to control the error in absolute terms (i.e. when the solution is close to zero). Note that these errors are computed in relation to the solution for the state variables of the equations, and not the output variables that might be computed by PyBaMM after the solution is found.\n",
    "\n",
    "## Default tolerances\n",
    "\n",
    "The default tolerances for the solvers are always given in the documentation of each solver. For example, the default tolerances for the IDAKLU solver can be seen [here](https://docs.pybamm.org/en/stable/source/api/solvers/idaklu_solver.html) as the default values for the `rtol` and `atol` arguments to the solver `__init__` method.\n",
    "\n",
    "## Setting tolerances\n",
    "\n",
    "Generally, a smaller value for the tolerances will lead to a more accurate solution, but will also require more computational effort. For examples, here are the timings for the default SPM and DFN models with different tolerances ranging from $10^{-2}$ to $10^{-6}$:"
   ]
  },
  {
   "cell_type": "code",
   "execution_count": null,
   "metadata": {},
   "outputs": [],
   "source": [
    "# time how long it takes to solve the model with different tolerances\n",
    "models = [pybamm.lithium_ion.SPM(), pybamm.lithium_ion.DFN()]\n",
    "model_names = [\"SPM\", \"DFN\"]\n",
    "atols = [1e-2, 1e-4, 1e-6, 1e-8]\n",
    "rtols = [1e-2, 1e-4, 1e-6, 1e-8]\n",
    "results = np.zeros((len(models), len(atols), len(rtols)))\n",
    "for imodel, model in enumerate(models):\n",
    "    for iatol, atol in enumerate(atols):\n",
    "        for irtol, rtol in enumerate(rtols):\n",
    "            solver = pybamm.IDAKLUSolver(atol=atol, rtol=rtol)\n",
    "            sim = pybamm.Simulation(model, solver=solver)\n",
    "            sol = sim.solve([0, 3600])\n",
    "            start_time = time.perf_counter()\n",
    "            sol = sim.solve([0, 3600])\n",
    "            end_time = time.perf_counter()\n",
    "            results[imodel, iatol, irtol] = end_time - start_time\n",
    "\n",
    "# plot results in a separate plot for each model\n",
    "import matplotlib.pyplot as plt\n",
    "\n",
    "fig, ax = plt.subplots(1, 2, figsize=(10, 5))\n",
    "for imodel, _model in enumerate(models):\n",
    "    ax[imodel].imshow(\n",
    "        results[imodel],\n",
    "        vmin=results[imodel].min(),\n",
    "        vmax=results[imodel].max(),\n",
    "        cmap=\"viridis\",\n",
    "    )\n",
    "    ax[imodel].set_xticks(range(len(rtols)))\n",
    "    ax[imodel].set_xticklabels([f\"{rtol:.0e}\" for rtol in rtols])\n",
    "    ax[imodel].set_xlabel(\"rtol\")\n",
    "    ax[imodel].set_yticks(range(len(atols)))\n",
    "    ax[imodel].set_yticklabels([f\"{atol:.0e}\" for atol in atols])\n",
    "    ax[imodel].set_ylabel(\"atol\")\n",
    "    ax[imodel].set_title(model_names[imodel])\n",
    "    ax[imodel].text(\n",
    "        0,\n",
    "        0,\n",
    "        f\"{results[imodel].min():.4f} s\",\n",
    "        ha=\"center\",\n",
    "        va=\"center\",\n",
    "        color=\"white\",\n",
    "        fontsize=12,\n",
    "    )\n",
    "    ax[imodel].text(\n",
    "        3,\n",
    "        3,\n",
    "        f\"{results[imodel].max():.4f} s\",\n",
    "        ha=\"center\",\n",
    "        va=\"center\",\n",
    "        color=\"black\",\n",
    "        fontsize=12,\n",
    "    )\n",
    "\n",
    "plt.tight_layout()\n",
    "plt.show()"
   ]
  },
  {
   "cell_type": "markdown",
   "metadata": {},
   "source": [
    "Thus, the choice of tolerances is a trade-off between accuracy and computational time. It can often be difficult to know what tolerances to use, but a good starting point is to use the default tolerances and then adjust them if the solver is too slow or too inaccurate. \n",
    "\n",
    "You can also use a convergence study to determine the best tolerances for your problem, using either an analytical solution (if available) or by comparing the solution to a high-tolerance solution. For example, lets compare the solution of a high-tolerance SPM model to a lower-tolerance SPM model while varying the tolerances. We'll pick some goal relative and absolute tolerances of $10^{-4}$ and $10^{-6}$ respectively and use a similar error norm as the solve. We'll then then vary the tolerances from $10^{-2}$ to $10^{-6}$ and see when the solution is within the set goal tolerances."
   ]
  },
  {
   "cell_type": "code",
   "execution_count": null,
   "metadata": {},
   "outputs": [],
   "source": [
    "models = pybamm.lithium_ion.DFN()\n",
    "high_tol = 1e-10\n",
    "goal_rtol = 1e-4\n",
    "goal_atol = 1e-6\n",
    "t_eval = np.linspace(0, 3600, 100)\n",
    "solver = pybamm.IDAKLUSolver(atol=high_tol, rtol=high_tol)\n",
    "sim = pybamm.Simulation(models, solver=solver)\n",
    "high_tol_sol = sim.solve([0, 3600])[\"Voltage [V]\"](t_eval)\n",
    "\n",
    "tols = [1e-2, 1e-4, 1e-6, 1e-8]\n",
    "results = np.zeros(len(tols))\n",
    "for itol, tol in enumerate(tols):\n",
    "    solver = pybamm.IDAKLUSolver(atol=tol, rtol=tol)\n",
    "    sim = pybamm.Simulation(model, solver=solver)\n",
    "    sol = sim.solve([0, 3600])[\"Voltage [V]\"](t_eval)\n",
    "    results[itol] = np.sqrt(\n",
    "        np.sum(\n",
    "            ((sol - high_tol_sol) / (goal_rtol * np.abs(high_tol_sol) + goal_atol)) ** 2\n",
    "        )\n",
    "        / len(sol)\n",
    "    )\n",
    "\n",
    "# plot results on a log scale\n",
    "plt.figure()\n",
    "plt.plot(tols, results, \"o-\")\n",
    "plt.yscale(\"log\")\n",
    "plt.xscale(\"log\")\n",
    "plt.xlabel(\"tolerance\")\n",
    "plt.ylabel(\"error norm\")\n",
    "plt.show()"
   ]
  },
  {
   "cell_type": "markdown",
   "metadata": {},
   "source": [
    "This gives us some justification that a tolerance of $10^{-4}$ is a good compromise between accuracy and computational time for this problem. However, the choice of tolerances will be highly problem-dependent, and your measure of error may be different to the one used here, so it is always best to determine the appropriate error measure and convergence study for your particular problem."
   ]
  }
 ],
 "metadata": {
  "kernelspec": {
   "display_name": "env",
   "language": "python",
   "name": "python3"
  },
  "language_info": {
   "codemirror_mode": {
    "name": "ipython",
    "version": 3
   },
   "file_extension": ".py",
   "mimetype": "text/x-python",
   "name": "python",
   "nbconvert_exporter": "python",
   "pygments_lexer": "ipython3",
   "version": "3.10.12"
  }
 },
 "nbformat": 4,
 "nbformat_minor": 2
}
