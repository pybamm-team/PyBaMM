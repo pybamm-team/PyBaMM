{
 "cells": [
  {
   "cell_type": "markdown",
   "metadata": {},
   "source": [
    "# A look at solution data and processed variables"
   ]
  },
  {
   "cell_type": "markdown",
   "metadata": {},
   "source": [
    "Once you have run a simulation the first thing you want to do is have a look at the data. Most of the examples so far have made use of PyBaMM's handy QuickPlot function but there are other ways to access the data and this notebook will explore them. First off we will generate a standard SPMe model and use QuickPlot to view the default variables."
   ]
  },
  {
   "cell_type": "code",
   "execution_count": null,
   "metadata": {},
   "outputs": [],
   "source": [
    "%pip install \"pybamm[plot,cite]\" -q    # install PyBaMM if it is not installed\n",
    "import pybamm\n",
    "import numpy as np\n",
    "import os\n",
    "import matplotlib.pyplot as plt\n",
    "\n",
    "os.chdir(pybamm.__path__[0] + \"/..\")\n",
    "\n",
    "# load model\n",
    "model = pybamm.lithium_ion.SPMe()\n",
    "\n",
    "# set up and solve simulation\n",
    "simulation = pybamm.Simulation(model)\n",
    "dt = 90\n",
    "t_eval = np.arange(0, 3600, dt)  # time in seconds\n",
    "solution = simulation.solve(t_eval)\n",
    "\n",
    "quick_plot = pybamm.QuickPlot(solution)\n",
    "quick_plot.dynamic_plot();"
   ]
  },
  {
   "cell_type": "markdown",
   "metadata": {},
   "source": [
    "Behind the scenes the QuickPlot classed has created some processed variables which can interpolate the model variables for our solution and has also stored the results for the solution steps"
   ]
  },
  {
   "cell_type": "code",
   "execution_count": null,
   "metadata": {},
   "outputs": [],
   "source": [
    "solution.data.keys()"
   ]
  },
  {
   "cell_type": "code",
   "execution_count": null,
   "metadata": {},
   "outputs": [],
   "source": [
    "solution.data[\"Negative particle surface concentration [mol.m-3]\"].shape"
   ]
  },
  {
   "cell_type": "code",
   "execution_count": null,
   "metadata": {},
   "outputs": [],
   "source": [
    "solution.t.shape"
   ]
  },
  {
   "cell_type": "markdown",
   "metadata": {},
   "source": [
    "Notice that the dictionary keys are in the same order as the subplots in the QuickPlot figure. We can add new processed variables to the solution by simply using it like a dictionary. First let's find a few more variables to look at. As you will see there are quite a few:"
   ]
  },
  {
   "cell_type": "code",
   "execution_count": null,
   "metadata": {
    "tags": [
     "outputPrepend"
    ]
   },
   "outputs": [],
   "source": [
    "keys = list(model.variables.keys())\n",
    "keys.sort()\n",
    "print(keys)"
   ]
  },
  {
   "cell_type": "markdown",
   "metadata": {},
   "source": [
    "If you want to find a particular variable you can search the variables dictionary"
   ]
  },
  {
   "cell_type": "code",
   "execution_count": null,
   "metadata": {},
   "outputs": [],
   "source": [
    "model.variables.search(\"time\")"
   ]
  },
  {
   "cell_type": "markdown",
   "metadata": {},
   "source": [
    "We'll use the time in hours"
   ]
  },
  {
   "cell_type": "code",
   "execution_count": null,
   "metadata": {},
   "outputs": [],
   "source": [
    "solution[\"Time [h]\"]"
   ]
  },
  {
   "cell_type": "markdown",
   "metadata": {},
   "source": [
    "This created a new processed variable and stored it on the solution object"
   ]
  },
  {
   "cell_type": "code",
   "execution_count": null,
   "metadata": {},
   "outputs": [],
   "source": [
    "solution.data.keys()"
   ]
  },
  {
   "cell_type": "markdown",
   "metadata": {},
   "source": [
    "We can see the data by simply accessing the entries attribute of the processed variable"
   ]
  },
  {
   "cell_type": "code",
   "execution_count": null,
   "metadata": {},
   "outputs": [],
   "source": [
    "solution[\"Time [h]\"].entries"
   ]
  },
  {
   "cell_type": "markdown",
   "metadata": {},
   "source": [
    "We can also call the method with specified time(s) in SI units of seconds"
   ]
  },
  {
   "cell_type": "code",
   "execution_count": null,
   "metadata": {},
   "outputs": [],
   "source": [
    "time_in_seconds = np.array([0, 600, 900, 1700, 3000])"
   ]
  },
  {
   "cell_type": "code",
   "execution_count": null,
   "metadata": {},
   "outputs": [],
   "source": [
    "solution[\"Time [h]\"](time_in_seconds)"
   ]
  },
  {
   "cell_type": "markdown",
   "metadata": {},
   "source": [
    "If the variable has not already been processed it will be created behind the scenes"
   ]
  },
  {
   "cell_type": "code",
   "execution_count": null,
   "metadata": {},
   "outputs": [],
   "source": [
    "var = \"X-averaged negative electrode temperature [K]\"\n",
    "solution[var](time_in_seconds)"
   ]
  },
  {
   "cell_type": "markdown",
   "metadata": {},
   "source": [
    "In this example the simulation was isothermal, so the temperature remains unchanged."
   ]
  },
  {
   "cell_type": "markdown",
   "metadata": {},
   "source": [
    "## Saving the solution\n",
    "\n",
    "The solution can be saved in a number of ways:"
   ]
  },
  {
   "cell_type": "code",
   "execution_count": null,
   "metadata": {},
   "outputs": [],
   "source": [
    "# to a pickle file (default)\n",
    "solution.save_data(\n",
    "    \"outputs.pickle\",\n",
    "    [\"Time [h]\", \"Current [A]\", \"Voltage [V]\", \"Electrolyte concentration [mol.m-3]\"],\n",
    ")\n",
    "# to a matlab file\n",
    "# need to give variable names without space\n",
    "solution.save_data(\n",
    "    \"outputs.mat\",\n",
    "    [\"Time [h]\", \"Current [A]\", \"Voltage [V]\", \"Electrolyte concentration [mol.m-3]\"],\n",
    "    to_format=\"matlab\",\n",
    "    short_names={\n",
    "        \"Time [h]\": \"t\",\n",
    "        \"Current [A]\": \"I\",\n",
    "        \"Voltage [V]\": \"V\",\n",
    "        \"Electrolyte concentration [mol.m-3]\": \"c_e\",\n",
    "    },\n",
    ")\n",
    "# to a csv file (time-dependent outputs only, no spatial dependence allowed)\n",
    "solution.save_data(\n",
    "    \"outputs.csv\", [\"Time [h]\", \"Current [A]\", \"Voltage [V]\"], to_format=\"csv\"\n",
    ")"
   ]
  },
  {
   "cell_type": "markdown",
   "metadata": {},
   "source": [
    "## Stepping the solver\n",
    "\n",
    "The previous solution was created in one go with the solve method, but it is also possible to step the solution and look at the results as we go. In doing so, the results are automatically updated at each step."
   ]
  },
  {
   "cell_type": "code",
   "execution_count": null,
   "metadata": {},
   "outputs": [],
   "source": [
    "dt = 360\n",
    "time = 0\n",
    "end_time = solution[\"Time [s]\"].entries[-1]\n",
    "step_simulation = pybamm.Simulation(model)\n",
    "while time < end_time:\n",
    "    step_solution = step_simulation.step(dt)\n",
    "    print(\"Time\", time)\n",
    "    print(step_solution[\"Voltage [V]\"].entries)\n",
    "    time += dt"
   ]
  },
  {
   "cell_type": "markdown",
   "metadata": {},
   "source": [
    "We can plot the voltages and see that the solutions are the same"
   ]
  },
  {
   "cell_type": "code",
   "execution_count": null,
   "metadata": {},
   "outputs": [],
   "source": [
    "voltage = solution[\"Voltage [V]\"].entries\n",
    "step_voltage = step_solution[\"Voltage [V]\"].entries\n",
    "plt.figure()\n",
    "plt.plot(solution[\"Time [h]\"].entries, voltage, \"b-\", label=\"SPMe (continuous solve)\")\n",
    "plt.plot(\n",
    "    step_solution[\"Time [h]\"].entries, step_voltage, \"ro\", label=\"SPMe (stepped solve)\"\n",
    ")\n",
    "plt.legend()"
   ]
  },
  {
   "cell_type": "markdown",
   "metadata": {},
   "source": [
    "As a final step, we will clean up the output files created by this notebook:"
   ]
  },
  {
   "cell_type": "code",
   "execution_count": null,
   "metadata": {},
   "outputs": [],
   "source": [
    "os.remove(\"outputs.csv\")\n",
    "os.remove(\"outputs.mat\")\n",
    "os.remove(\"outputs.pickle\")"
   ]
  },
  {
   "cell_type": "markdown",
   "metadata": {},
   "source": [
    "## References\n",
    "\n",
    "The relevant papers for this notebook are:"
   ]
  },
  {
   "cell_type": "code",
   "execution_count": null,
   "metadata": {},
   "outputs": [],
   "source": [
    "pybamm.print_citations()"
   ]
  }
 ],
 "metadata": {
  "kernelspec": {
   "language": "python"
  },
  "language_info": {
   "codemirror_mode": {
    "name": "ipython",
    "version": 3
   },
   "file_extension": ".py",
   "mimetype": "text/x-python",
   "name": "python",
   "nbconvert_exporter": "python",
   "pygments_lexer": "ipython3"
  }
 },
 "nbformat": 4,
 "nbformat_minor": 2
}
