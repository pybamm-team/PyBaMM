{
 "cells": [
  {
   "cell_type": "markdown",
   "metadata": {},
   "source": [
    "# Comparisons using the BatchStudy class\n",
    "\n",
    "In this notebook, we will be going through the `BatchStudy` class and will be discussing how different models, experiments, chemistries, etc. can be compared with each other using the same."
   ]
  },
  {
   "cell_type": "markdown",
   "metadata": {},
   "source": [
    "## Comparing models\n",
    "We start by creating a simple script to compare `SPM`, `SPMe` and `DFN` model with the default parameters."
   ]
  },
  {
   "cell_type": "code",
   "execution_count": null,
   "metadata": {},
   "outputs": [],
   "source": [
    "%pip install \"pybamm[plot,cite]\" -q    # install PyBaMM if it is not installed\n",
    "import pybamm\n",
    "\n",
    "# loading up 3 models to compare\n",
    "dfn = pybamm.lithium_ion.DFN()\n",
    "spm = pybamm.lithium_ion.SPM()\n",
    "spme = pybamm.lithium_ion.SPMe()"
   ]
  },
  {
   "cell_type": "markdown",
   "metadata": {},
   "source": [
    "The `BatchStudy` class requires a dictionary of models, and all the default values for a given model are used if no additional parameter is passed in."
   ]
  },
  {
   "cell_type": "code",
   "execution_count": null,
   "metadata": {},
   "outputs": [],
   "source": [
    "models = {\n",
    "    \"dfn\": dfn,\n",
    "    \"spm\": spm,\n",
    "    \"spme\": spme,\n",
    "}\n",
    "\n",
    "# creating a BatchStudy object\n",
    "batch_study = pybamm.BatchStudy(models=models)\n",
    "\n",
    "# solving and plotting the comparison\n",
    "batch_study.solve(t_eval=[0, 3600])\n",
    "batch_study.plot()"
   ]
  },
  {
   "cell_type": "markdown",
   "metadata": {},
   "source": [
    "`BatchStudy` by default requires equal number of items in all the dictionaries passed, which can be changed by setting the value of `permutations` to `True`. When set `True`, a cartesian product of all the available items is taken.\n",
    "\n",
    "For example, here we pass 3 models but only 1 parameter value, hence it is necessary to set `permutations` to `True`. Here, the given parameter value is used for all the provided models."
   ]
  },
  {
   "cell_type": "code",
   "execution_count": null,
   "metadata": {},
   "outputs": [],
   "source": [
    "# passing parameter_values as a dictionary\n",
    "parameter_values = {\"Chen2020\": pybamm.ParameterValues(\"Chen2020\")}\n",
    "\n",
    "# creating a BatchStudy object and solving the simulation\n",
    "batch_study = pybamm.BatchStudy(\n",
    "    models=models, parameter_values=parameter_values, permutations=True\n",
    ")\n",
    "batch_study.solve(t_eval=[0, 3600])\n",
    "batch_study.plot()"
   ]
  },
  {
   "cell_type": "markdown",
   "metadata": {},
   "source": [
    "## Comparing parameters\n",
    "\n",
    "`BatchStudy` can also be used to compare different things (like affect of changing a parameter's value) on a single model.\n",
    "\n",
    "In the following cell, we compare different values of `\"Curent function [A]\"` using the `Single Paritcle Model with electrolyte`.\n"
   ]
  },
  {
   "cell_type": "code",
   "execution_count": null,
   "metadata": {},
   "outputs": [],
   "source": [
    "model = {\"spme\": spme}\n",
    "\n",
    "# populating a dictionary with 3 same parameter values\n",
    "parameter_values = {\n",
    "    \"Chen2020_1\": pybamm.ParameterValues(\"Chen2020\"),\n",
    "    \"Chen2020_2\": pybamm.ParameterValues(\"Chen2020\"),\n",
    "    \"Chen2020_3\": pybamm.ParameterValues(\"Chen2020\"),\n",
    "}\n",
    "\n",
    "# different values for \"Current function [A]\"\n",
    "current_values = [4.5, 4.75, 5]\n",
    "\n",
    "# changing the value of \"Current function [A]\" in all the parameter values present in the\n",
    "# parameter_values dictionary\n",
    "for _, v, current_value in zip(\n",
    "    parameter_values.keys(), parameter_values.values(), current_values\n",
    "):\n",
    "    v[\"Current function [A]\"] = current_value\n",
    "\n",
    "# creating a BatchStudy object with permutations set to True to create a cartesian product\n",
    "batch_study = pybamm.BatchStudy(\n",
    "    models=model, parameter_values=parameter_values, permutations=True\n",
    ")\n",
    "batch_study.solve(t_eval=[0, 3600])\n",
    "\n",
    "# generating the required labels and plotting\n",
    "labels = [f\"Current function [A]: {current}\" for current in current_values]\n",
    "batch_study.plot(labels=labels)"
   ]
  },
  {
   "cell_type": "markdown",
   "metadata": {},
   "source": [
    "`BatchStudy` also includes a `create_gif` method which can be used to create a GIF of the simulation."
   ]
  },
  {
   "cell_type": "code",
   "execution_count": null,
   "metadata": {},
   "outputs": [],
   "source": [
    "# using less number of images in the example\n",
    "# for a smoother GIF use more images\n",
    "batch_study.create_gif(number_of_images=5, duration=0.2, output_filename=\"batch.gif\")"
   ]
  },
  {
   "cell_type": "markdown",
   "metadata": {},
   "source": [
    "Displaying the GIF using markdown-\n",
    "\n",
    "![plot](https://user-images.githubusercontent.com/74055102/142717896-8152e816-71b1-47a7-b557-57cf6dbfc839.gif)"
   ]
  },
  {
   "cell_type": "markdown",
   "metadata": {},
   "source": [
    "## Using experiments\n",
    "\n",
    "Experiments can also be specified for comparisons, and they are also passed as a dictionary (a dictionary of `pybamm.Experiment`) in the `BatchStudy` class.\n",
    "\n",
    "In the next cell, we compare a single experiment, with a single model, but with a varied parameter value.\n"
   ]
  },
  {
   "cell_type": "code",
   "execution_count": null,
   "metadata": {
    "tags": []
   },
   "outputs": [],
   "source": [
    "pybamm.set_logging_level(\"NOTICE\")\n",
    "\n",
    "# using the cccv experiment with 10 cycles\n",
    "cccv = pybamm.Experiment(\n",
    "    [\n",
    "        (\n",
    "            \"Discharge at C/10 for 10 hours or until 3.3 V\",\n",
    "            \"Rest for 1 hour\",\n",
    "            \"Charge at 1 A until 4.1 V\",\n",
    "            \"Hold at 4.1 V until 50 mA\",\n",
    "            \"Rest for 1 hour\",\n",
    "        )\n",
    "    ]\n",
    "    * 10,\n",
    ")\n",
    "\n",
    "# creating the experiment dict\n",
    "experiment = {\"cccv\": cccv}\n",
    "\n",
    "# populating a dictionary with 3 same parameter values (Mohtat2020 chemistry)\n",
    "parameter_values = {\n",
    "    \"Mohtat2020_1\": pybamm.ParameterValues(\"Mohtat2020\"),\n",
    "    \"Mohtat2020_2\": pybamm.ParameterValues(\"Mohtat2020\"),\n",
    "    \"Mohtat2020_3\": pybamm.ParameterValues(\"Mohtat2020\"),\n",
    "}\n",
    "\n",
    "# different values for the parameter \"SEI open-circuit potential [V]\"\n",
    "sei_oc_v_values = [2.0e-4, 2.7e-4, 3.4e-4]\n",
    "\n",
    "# updating the value of \"SEI open-circuit potential [V]\" in all the dictionary items\n",
    "for _, v, sei_oc_v in zip(\n",
    "    parameter_values.keys(), parameter_values.values(), sei_oc_v_values\n",
    "):\n",
    "    v.update(\n",
    "        {\"SEI open-circuit potential [V]\": sei_oc_v},\n",
    "    )\n",
    "\n",
    "# creating a Single Particle Model with \"electron-mitigation limited\" SEI\n",
    "model = {\"spm\": pybamm.lithium_ion.SPM({\"SEI\": \"electron-migration limited\"})}\n",
    "\n",
    "# creating a BatchStudy object with the given experimen, model and parameter_values\n",
    "batch_study = pybamm.BatchStudy(\n",
    "    models=model,\n",
    "    experiments=experiment,\n",
    "    parameter_values=parameter_values,\n",
    "    permutations=True,\n",
    ")\n",
    "\n",
    "# solving and plotting the result\n",
    "batch_study.solve(initial_soc=1)\n",
    "\n",
    "labels = [\n",
    "    f\"SEI open-circuit potential [V]: {inner_sei_oc_v}\"\n",
    "    for inner_sei_oc_v in sei_oc_v_values\n",
    "]\n",
    "batch_study.plot(labels=labels)"
   ]
  },
  {
   "cell_type": "markdown",
   "metadata": {},
   "source": [
    "The difference in the individual plots is not very well visible in the above slider plot, but we can access all the simulations created by `BatchStudy` (`batch_study.sims`) and pass it to `pybamm.plot_summary_variables` to plot the summary variables (more details on \"summary variables\" are available in the [`simulating-long-experiments`](./simulations_and_experiments/simulating-long-experiments.ipynb) notebook).\n",
    "\n",
    "## Comparing summary variables"
   ]
  },
  {
   "cell_type": "code",
   "execution_count": null,
   "metadata": {},
   "outputs": [],
   "source": [
    "pybamm.plot_summary_variables([sim.solution for sim in batch_study.sims])"
   ]
  },
  {
   "cell_type": "markdown",
   "metadata": {},
   "source": [
    "Other than the above examples, the `BatchStudy` class can be used to compare a lot of different configurations, like models with different SEIs or a model with reversible and irreversible lithium plating, etc."
   ]
  },
  {
   "cell_type": "markdown",
   "metadata": {},
   "source": [
    "## References\n",
    "\n",
    "The relevant papers for this notebook are:"
   ]
  },
  {
   "cell_type": "code",
   "execution_count": null,
   "metadata": {},
   "outputs": [],
   "source": [
    "pybamm.print_citations()"
   ]
  }
 ],
 "metadata": {
  "kernelspec": {
   "display_name": "Python 3.8.12 ('conda_jl')",
   "language": "python",
   "name": "python3"
  },
  "language_info": {
   "codemirror_mode": {
    "name": "ipython",
    "version": 3
   },
   "file_extension": ".py",
   "mimetype": "text/x-python",
   "name": "python",
   "nbconvert_exporter": "python",
   "pygments_lexer": "ipython3",
   "version": "3.11.4"
  },
  "toc": {
   "base_numbering": 1,
   "nav_menu": {},
   "number_sections": true,
   "sideBar": true,
   "skip_h1_title": false,
   "title_cell": "Table of Contents",
   "title_sidebar": "Contents",
   "toc_cell": false,
   "toc_position": {},
   "toc_section_display": true,
   "toc_window_display": true
  },
  "vscode": {
   "interpreter": {
    "hash": "612adcc456652826e82b485a1edaef831aa6d5abc680d008e93d513dd8724f14"
   }
  }
 },
 "nbformat": 4,
 "nbformat_minor": 2
}
